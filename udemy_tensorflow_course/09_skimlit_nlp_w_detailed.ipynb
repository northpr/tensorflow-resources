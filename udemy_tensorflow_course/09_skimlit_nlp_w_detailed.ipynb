{
  "cells": [
    {
      "cell_type": "markdown",
      "metadata": {
        "id": "view-in-github",
        "colab_type": "text"
      },
      "source": [
        "<a href=\"https://colab.research.google.com/github/northpr/tensorflow-resources/blob/main/udemy_tensorflow_course/09_skimlit_nlp_w_detailed.ipynb\" target=\"_parent\"><img src=\"https://colab.research.google.com/assets/colab-badge.svg\" alt=\"Open In Colab\"/></a>"
      ]
    },
    {
      "cell_type": "markdown",
      "metadata": {
        "id": "ZboQ45h03Tu9"
      },
      "source": [
        "# Project 2: SkimLit\n",
        "\n",
        "The purpose of this notebook is to build an NLP model to make reading medical abstracts easier.\n",
        "\n",
        "The paper we're replicating (the source of the dataset that we'll be using https://arxiv.org/abs/1710.06071)"
      ]
    },
    {
      "cell_type": "code",
      "execution_count": null,
      "metadata": {
        "colab": {
          "base_uri": "https://localhost:8080/"
        },
        "id": "YlQ9wOYl3doK",
        "outputId": "e2222003-bc5b-4c16-e957-27ff37a5d62b"
      },
      "outputs": [
        {
          "output_type": "stream",
          "name": "stdout",
          "text": [
            "Tue Jul 19 23:11:24 2022       \n",
            "+-----------------------------------------------------------------------------+\n",
            "| NVIDIA-SMI 460.32.03    Driver Version: 460.32.03    CUDA Version: 11.2     |\n",
            "|-------------------------------+----------------------+----------------------+\n",
            "| GPU  Name        Persistence-M| Bus-Id        Disp.A | Volatile Uncorr. ECC |\n",
            "| Fan  Temp  Perf  Pwr:Usage/Cap|         Memory-Usage | GPU-Util  Compute M. |\n",
            "|                               |                      |               MIG M. |\n",
            "|===============================+======================+======================|\n",
            "|   0  Tesla P100-PCIE...  Off  | 00000000:00:04.0 Off |                    0 |\n",
            "| N/A   37C    P0    26W / 250W |      0MiB / 16280MiB |      0%      Default |\n",
            "|                               |                      |                  N/A |\n",
            "+-------------------------------+----------------------+----------------------+\n",
            "                                                                               \n",
            "+-----------------------------------------------------------------------------+\n",
            "| Processes:                                                                  |\n",
            "|  GPU   GI   CI        PID   Type   Process name                  GPU Memory |\n",
            "|        ID   ID                                                   Usage      |\n",
            "|=============================================================================|\n",
            "|  No running processes found                                                 |\n",
            "+-----------------------------------------------------------------------------+\n"
          ]
        }
      ],
      "source": [
        "!nvidia-smi"
      ]
    },
    {
      "cell_type": "markdown",
      "metadata": {
        "id": "YuWPYC0rku-r"
      },
      "source": [
        "# Preparing the Data"
      ]
    },
    {
      "cell_type": "markdown",
      "metadata": {
        "id": "hDpi6tsn-Nt9"
      },
      "source": [
        "## Getting the Data\n",
        "The data (PubMed 200k RCT) is on the [Github](https://github.com/Franck-Dernoncourt/pubmed-rct)"
      ]
    },
    {
      "cell_type": "code",
      "execution_count": null,
      "metadata": {
        "colab": {
          "base_uri": "https://localhost:8080/"
        },
        "id": "oo94kTvx-wSQ",
        "outputId": "1dccd596-dfc7-4119-fb86-b57a79e014f7"
      },
      "outputs": [
        {
          "output_type": "stream",
          "name": "stdout",
          "text": [
            "Cloning into 'pubmed-rct'...\n",
            "remote: Enumerating objects: 33, done.\u001b[K\n",
            "remote: Counting objects: 100% (8/8), done.\u001b[K\n",
            "remote: Compressing objects: 100% (3/3), done.\u001b[K\n",
            "remote: Total 33 (delta 5), reused 5 (delta 5), pack-reused 25\u001b[K\n",
            "Unpacking objects: 100% (33/33), done.\n",
            "Checking out files: 100% (13/13), done.\n",
            "PubMed_200k_RCT\n",
            "PubMed_200k_RCT_numbers_replaced_with_at_sign\n",
            "PubMed_20k_RCT\n",
            "PubMed_20k_RCT_numbers_replaced_with_at_sign\n",
            "README.md\n"
          ]
        }
      ],
      "source": [
        "!git clone https://github.com/Franck-Dernoncourt/pubmed-rct\n",
        "!ls pubmed-rct"
      ]
    },
    {
      "cell_type": "markdown",
      "metadata": {
        "id": "OP5i4WCBAWRc"
      },
      "source": [
        "Check what files are in the PubMed dataset"
      ]
    },
    {
      "cell_type": "code",
      "execution_count": null,
      "metadata": {
        "colab": {
          "base_uri": "https://localhost:8080/"
        },
        "id": "8wyY9JP--4oD",
        "outputId": "111989e3-5415-4d4d-8580-f1106655314d"
      },
      "outputs": [
        {
          "output_type": "stream",
          "name": "stdout",
          "text": [
            "dev.txt  test.txt  train.txt\n",
            "dev.txt  test.txt  train.txt\n"
          ]
        }
      ],
      "source": [
        "!ls pubmed-rct/PubMed_20k_RCT_numbers_replaced_with_at_sign/\n",
        "!ls pubmed-rct/PubMed_20k_RCT"
      ]
    },
    {
      "cell_type": "code",
      "execution_count": null,
      "metadata": {
        "id": "hBlKLMSyAhSi"
      },
      "outputs": [],
      "source": [
        "# Start our experiments uding the 20k dataset with numbers replaced by \"@\" sign\n",
        "data_dir = \"/content/pubmed-rct/PubMed_20k_RCT_numbers_replaced_with_at_sign/\""
      ]
    },
    {
      "cell_type": "code",
      "execution_count": null,
      "metadata": {
        "colab": {
          "base_uri": "https://localhost:8080/"
        },
        "id": "WgoRr5QKEPhw",
        "outputId": "38dc08c9-330e-470e-893d-2bcf111618ab"
      },
      "outputs": [
        {
          "output_type": "execute_result",
          "data": {
            "text/plain": [
              "['/content/pubmed-rct/PubMed_20k_RCT_numbers_replaced_with_at_sign/train.txt',\n",
              " '/content/pubmed-rct/PubMed_20k_RCT_numbers_replaced_with_at_sign/test.txt',\n",
              " '/content/pubmed-rct/PubMed_20k_RCT_numbers_replaced_with_at_sign/dev.txt']"
            ]
          },
          "metadata": {},
          "execution_count": 5
        }
      ],
      "source": [
        "import os\n",
        "filenames = [data_dir + filename for filename in os.listdir(data_dir)]\n",
        "filenames"
      ]
    },
    {
      "cell_type": "markdown",
      "metadata": {
        "id": "A5Iykd5vkLXA"
      },
      "source": [
        "## Preprocess data\n",
        "Understanding the data and one of the best option is visualize the data"
      ]
    },
    {
      "cell_type": "code",
      "execution_count": null,
      "metadata": {
        "id": "QdTxvkhQk-LI"
      },
      "outputs": [],
      "source": [
        "# Create function to read the lines of a document\n",
        "def get_lines(filename):\n",
        "  \"\"\"\n",
        "  Read filename (a text filename) and returns the lines of text as a list.\n",
        "\n",
        "  Args:\n",
        "    filename: a string containing the target filepath.\n",
        "\n",
        "  Returns:\n",
        "    A list of strings with one string per line from the target filename.\n",
        "  \"\"\"\n",
        "  with open(filename,\"r\") as f:\n",
        "    return f.readlines()"
      ]
    },
    {
      "cell_type": "code",
      "execution_count": null,
      "metadata": {
        "colab": {
          "base_uri": "https://localhost:8080/"
        },
        "id": "x9asGg7UlrCN",
        "outputId": "0a9d0a13-0736-4366-e979-9d2168227283"
      },
      "outputs": [
        {
          "output_type": "execute_result",
          "data": {
            "text/plain": [
              "['###24293578\\n',\n",
              " 'OBJECTIVE\\tTo investigate the efficacy of @ weeks of daily low-dose oral prednisolone in improving pain , mobility , and systemic low-grade inflammation in the short term and whether the effect would be sustained at @ weeks in older adults with moderate to severe knee osteoarthritis ( OA ) .\\n',\n",
              " 'METHODS\\tA total of @ patients with primary knee OA were randomized @:@ ; @ received @ mg/day of prednisolone and @ received placebo for @ weeks .\\n',\n",
              " 'METHODS\\tOutcome measures included pain reduction and improvement in function scores and systemic inflammation markers .\\n',\n",
              " 'METHODS\\tPain was assessed using the visual analog pain scale ( @-@ mm ) .\\n',\n",
              " 'METHODS\\tSecondary outcome measures included the Western Ontario and McMaster Universities Osteoarthritis Index scores , patient global assessment ( PGA ) of the severity of knee OA , and @-min walk distance ( @MWD ) .\\n',\n",
              " 'METHODS\\tSerum levels of interleukin @ ( IL-@ ) , IL-@ , tumor necrosis factor ( TNF ) - , and high-sensitivity C-reactive protein ( hsCRP ) were measured .\\n',\n",
              " 'RESULTS\\tThere was a clinically relevant reduction in the intervention group compared to the placebo group for knee pain , physical function , PGA , and @MWD at @ weeks .\\n',\n",
              " 'RESULTS\\tThe mean difference between treatment arms ( @ % CI ) was @ ( @-@ @ ) , p < @ ; @ ( @-@ @ ) , p < @ ; @ ( @-@ @ ) , p < @ ; and @ ( @-@ @ ) , p < @ , respectively .\\n',\n",
              " 'RESULTS\\tFurther , there was a clinically relevant reduction in the serum levels of IL-@ , IL-@ , TNF - , and hsCRP at @ weeks in the intervention group when compared to the placebo group .\\n']"
            ]
          },
          "metadata": {},
          "execution_count": 7
        }
      ],
      "source": [
        "train_lines = get_lines(data_dir+\"train.txt\")\n",
        "train_lines[:10]"
      ]
    },
    {
      "cell_type": "code",
      "execution_count": null,
      "metadata": {
        "colab": {
          "base_uri": "https://localhost:8080/"
        },
        "id": "JVLSxUfNmU_O",
        "outputId": "2069d0ee-f78b-4e5c-8749-9cd57d8fb276"
      },
      "outputs": [
        {
          "output_type": "execute_result",
          "data": {
            "text/plain": [
              "210040"
            ]
          },
          "metadata": {},
          "execution_count": 8
        }
      ],
      "source": [
        "len(train_lines)"
      ]
    },
    {
      "cell_type": "markdown",
      "metadata": {
        "id": "VEuQRufznXGK"
      },
      "source": [
        "### Planning how should our data look\n",
        "\n",
        "```\n",
        "[{\n",
        "  'line_number':0,\n",
        "  'target':'BACKGROUND',\n",
        "  'text':'To investigate the efficacy of @ weeks of daily low-dose oral prednisolone in improving pain , mobility , and systemic low-grade inflammation in the short term and whether the effect would be sustained at @ weeks in older adults with moderate to severe knee osteoarthritis ( OA ) .\\n'',\n",
        "  'total_lines': 11}],\n",
        "  .........\n",
        "```"
      ]
    },
    {
      "cell_type": "markdown",
      "metadata": {
        "id": "QsJdQrrbo95G"
      },
      "source": [
        "### Create preprocess text function\n",
        "\n",
        "Write a function which turns each of our datasets into the above format."
      ]
    },
    {
      "cell_type": "code",
      "execution_count": null,
      "metadata": {
        "id": "TZ_zvSsvnmOC"
      },
      "outputs": [],
      "source": [
        "def preprocess_text_with_line_numbers(filename):\n",
        "  \"\"\"\n",
        "  Returns a list of dictionaries of abstract line data.\n",
        "\n",
        "  Takes in filename, reads it contents and sorts through each line,\n",
        "  extracting things like the target label, the text of the sentence.\n",
        "  \"\"\"\n",
        "\n",
        "  input_lines = get_lines(filename) # get all lines from filename\n",
        "  abstract_lines = \"\" # create an empty abstract\n",
        "  abstract_samples = []\n",
        "\n",
        "  # Loop through each line in the target file\n",
        "  for line in input_lines:\n",
        "    if line.startswith(\"###\"):\n",
        "      abstract_id = line # getting the line number\n",
        "      abstract_lines = \"\" # reset the abstract string if the line is an ID line\n",
        "    elif line.isspace(): # checking to see if line is a new line (it could be \\n)\n",
        "      abstract_line_split = abstract_lines.splitlines() # sentece that split into a list\n",
        "\n",
        "      # Iterate through each line in a single abstract and count them\n",
        "      for abstract_line_number, abstract_line in enumerate(abstract_line_split):\n",
        "        line_data = {}\n",
        "        target_text_split = abstract_line.split(\"\\t\") # split target label from text\n",
        "        line_data[\"target\"] = target_text_split[0] # get target label\n",
        "        line_data[\"text\"] = target_text_split[1].lower() # get target text and lower it\n",
        "        line_data[\"line_number\"] = abstract_line_number # what number line does the line appear in the abstract\n",
        "        line_data[\"total_lines\"] = len(abstract_line_split) - 1 # how many total lines are in the target abstract\n",
        "        abstract_samples.append(line_data) # add line data to abstract samples list      \n",
        "\n",
        "\n",
        "    else: # if the above conditions aren't fullfilled, the line contains a labelled sentence\n",
        "      abstract_lines += line\n",
        "\n",
        "  return abstract_samples\n",
        "    "
      ]
    },
    {
      "cell_type": "markdown",
      "metadata": {
        "id": "K8s_SUCBsFyL"
      },
      "source": [
        "Get data from file and preprocess it"
      ]
    },
    {
      "cell_type": "code",
      "execution_count": null,
      "metadata": {
        "colab": {
          "base_uri": "https://localhost:8080/"
        },
        "id": "pF93g6LGpNdh",
        "outputId": "34faf2a2-69fd-48e5-c2fc-2cc63abe5ecc"
      },
      "outputs": [
        {
          "output_type": "stream",
          "name": "stdout",
          "text": [
            "CPU times: user 709 ms, sys: 124 ms, total: 833 ms\n",
            "Wall time: 2.07 s\n"
          ]
        }
      ],
      "source": [
        "%%time\n",
        "train_samples = preprocess_text_with_line_numbers(data_dir + \"train.txt\")\n",
        "val_samples = preprocess_text_with_line_numbers(data_dir + \"dev.txt\")\n",
        "test_samples = preprocess_text_with_line_numbers(data_dir + \"test.txt\")\n",
        "len(train_samples), len(val_samples), len(test_samples)"
      ]
    },
    {
      "cell_type": "code",
      "execution_count": null,
      "metadata": {
        "colab": {
          "base_uri": "https://localhost:8080/"
        },
        "id": "evxb5u3AsOMz",
        "outputId": "3a08c72a-da8f-4962-8de3-ac8a29b3dcbc"
      },
      "outputs": [
        {
          "output_type": "execute_result",
          "data": {
            "text/plain": [
              "[{'line_number': 0,\n",
              "  'target': 'OBJECTIVE',\n",
              "  'text': 'to investigate the efficacy of @ weeks of daily low-dose oral prednisolone in improving pain , mobility , and systemic low-grade inflammation in the short term and whether the effect would be sustained at @ weeks in older adults with moderate to severe knee osteoarthritis ( oa ) .',\n",
              "  'total_lines': 11},\n",
              " {'line_number': 1,\n",
              "  'target': 'METHODS',\n",
              "  'text': 'a total of @ patients with primary knee oa were randomized @:@ ; @ received @ mg/day of prednisolone and @ received placebo for @ weeks .',\n",
              "  'total_lines': 11},\n",
              " {'line_number': 2,\n",
              "  'target': 'METHODS',\n",
              "  'text': 'outcome measures included pain reduction and improvement in function scores and systemic inflammation markers .',\n",
              "  'total_lines': 11},\n",
              " {'line_number': 3,\n",
              "  'target': 'METHODS',\n",
              "  'text': 'pain was assessed using the visual analog pain scale ( @-@ mm ) .',\n",
              "  'total_lines': 11},\n",
              " {'line_number': 4,\n",
              "  'target': 'METHODS',\n",
              "  'text': 'secondary outcome measures included the western ontario and mcmaster universities osteoarthritis index scores , patient global assessment ( pga ) of the severity of knee oa , and @-min walk distance ( @mwd ) .',\n",
              "  'total_lines': 11},\n",
              " {'line_number': 5,\n",
              "  'target': 'METHODS',\n",
              "  'text': 'serum levels of interleukin @ ( il-@ ) , il-@ , tumor necrosis factor ( tnf ) - , and high-sensitivity c-reactive protein ( hscrp ) were measured .',\n",
              "  'total_lines': 11},\n",
              " {'line_number': 6,\n",
              "  'target': 'RESULTS',\n",
              "  'text': 'there was a clinically relevant reduction in the intervention group compared to the placebo group for knee pain , physical function , pga , and @mwd at @ weeks .',\n",
              "  'total_lines': 11},\n",
              " {'line_number': 7,\n",
              "  'target': 'RESULTS',\n",
              "  'text': 'the mean difference between treatment arms ( @ % ci ) was @ ( @-@ @ ) , p < @ ; @ ( @-@ @ ) , p < @ ; @ ( @-@ @ ) , p < @ ; and @ ( @-@ @ ) , p < @ , respectively .',\n",
              "  'total_lines': 11},\n",
              " {'line_number': 8,\n",
              "  'target': 'RESULTS',\n",
              "  'text': 'further , there was a clinically relevant reduction in the serum levels of il-@ , il-@ , tnf - , and hscrp at @ weeks in the intervention group when compared to the placebo group .',\n",
              "  'total_lines': 11},\n",
              " {'line_number': 9,\n",
              "  'target': 'RESULTS',\n",
              "  'text': 'these differences remained significant at @ weeks .',\n",
              "  'total_lines': 11}]"
            ]
          },
          "metadata": {},
          "execution_count": 11
        }
      ],
      "source": [
        "# Check the first abstract of our time data\n",
        "train_samples[:10]"
      ]
    },
    {
      "cell_type": "markdown",
      "metadata": {
        "id": "9r4i6aBNtUgo"
      },
      "source": [
        "## Create dataframe from preprocessed data\n",
        "Now that our data is the format of a list of dictionaries, now turn into a DataFrame"
      ]
    },
    {
      "cell_type": "code",
      "execution_count": null,
      "metadata": {
        "colab": {
          "base_uri": "https://localhost:8080/",
          "height": 476
        },
        "id": "N0Dy8B__vZtb",
        "outputId": "819ac78f-c211-4188-91cf-de364a90488e"
      },
      "outputs": [
        {
          "output_type": "execute_result",
          "data": {
            "text/plain": [
              "      target                                               text  line_number  \\\n",
              "0  OBJECTIVE  to investigate the efficacy of @ weeks of dail...            0   \n",
              "1    METHODS  a total of @ patients with primary knee oa wer...            1   \n",
              "2    METHODS  outcome measures included pain reduction and i...            2   \n",
              "3    METHODS  pain was assessed using the visual analog pain...            3   \n",
              "4    METHODS  secondary outcome measures included the wester...            4   \n",
              "5    METHODS  serum levels of interleukin @ ( il-@ ) , il-@ ...            5   \n",
              "6    RESULTS  there was a clinically relevant reduction in t...            6   \n",
              "7    RESULTS  the mean difference between treatment arms ( @...            7   \n",
              "8    RESULTS  further , there was a clinically relevant redu...            8   \n",
              "9    RESULTS  these differences remained significant at @ we...            9   \n",
              "\n",
              "   total_lines  \n",
              "0           11  \n",
              "1           11  \n",
              "2           11  \n",
              "3           11  \n",
              "4           11  \n",
              "5           11  \n",
              "6           11  \n",
              "7           11  \n",
              "8           11  \n",
              "9           11  "
            ],
            "text/html": [
              "\n",
              "  <div id=\"df-2e8805d5-be5d-46d6-8906-cefa68e7f099\">\n",
              "    <div class=\"colab-df-container\">\n",
              "      <div>\n",
              "<style scoped>\n",
              "    .dataframe tbody tr th:only-of-type {\n",
              "        vertical-align: middle;\n",
              "    }\n",
              "\n",
              "    .dataframe tbody tr th {\n",
              "        vertical-align: top;\n",
              "    }\n",
              "\n",
              "    .dataframe thead th {\n",
              "        text-align: right;\n",
              "    }\n",
              "</style>\n",
              "<table border=\"1\" class=\"dataframe\">\n",
              "  <thead>\n",
              "    <tr style=\"text-align: right;\">\n",
              "      <th></th>\n",
              "      <th>target</th>\n",
              "      <th>text</th>\n",
              "      <th>line_number</th>\n",
              "      <th>total_lines</th>\n",
              "    </tr>\n",
              "  </thead>\n",
              "  <tbody>\n",
              "    <tr>\n",
              "      <th>0</th>\n",
              "      <td>OBJECTIVE</td>\n",
              "      <td>to investigate the efficacy of @ weeks of dail...</td>\n",
              "      <td>0</td>\n",
              "      <td>11</td>\n",
              "    </tr>\n",
              "    <tr>\n",
              "      <th>1</th>\n",
              "      <td>METHODS</td>\n",
              "      <td>a total of @ patients with primary knee oa wer...</td>\n",
              "      <td>1</td>\n",
              "      <td>11</td>\n",
              "    </tr>\n",
              "    <tr>\n",
              "      <th>2</th>\n",
              "      <td>METHODS</td>\n",
              "      <td>outcome measures included pain reduction and i...</td>\n",
              "      <td>2</td>\n",
              "      <td>11</td>\n",
              "    </tr>\n",
              "    <tr>\n",
              "      <th>3</th>\n",
              "      <td>METHODS</td>\n",
              "      <td>pain was assessed using the visual analog pain...</td>\n",
              "      <td>3</td>\n",
              "      <td>11</td>\n",
              "    </tr>\n",
              "    <tr>\n",
              "      <th>4</th>\n",
              "      <td>METHODS</td>\n",
              "      <td>secondary outcome measures included the wester...</td>\n",
              "      <td>4</td>\n",
              "      <td>11</td>\n",
              "    </tr>\n",
              "    <tr>\n",
              "      <th>5</th>\n",
              "      <td>METHODS</td>\n",
              "      <td>serum levels of interleukin @ ( il-@ ) , il-@ ...</td>\n",
              "      <td>5</td>\n",
              "      <td>11</td>\n",
              "    </tr>\n",
              "    <tr>\n",
              "      <th>6</th>\n",
              "      <td>RESULTS</td>\n",
              "      <td>there was a clinically relevant reduction in t...</td>\n",
              "      <td>6</td>\n",
              "      <td>11</td>\n",
              "    </tr>\n",
              "    <tr>\n",
              "      <th>7</th>\n",
              "      <td>RESULTS</td>\n",
              "      <td>the mean difference between treatment arms ( @...</td>\n",
              "      <td>7</td>\n",
              "      <td>11</td>\n",
              "    </tr>\n",
              "    <tr>\n",
              "      <th>8</th>\n",
              "      <td>RESULTS</td>\n",
              "      <td>further , there was a clinically relevant redu...</td>\n",
              "      <td>8</td>\n",
              "      <td>11</td>\n",
              "    </tr>\n",
              "    <tr>\n",
              "      <th>9</th>\n",
              "      <td>RESULTS</td>\n",
              "      <td>these differences remained significant at @ we...</td>\n",
              "      <td>9</td>\n",
              "      <td>11</td>\n",
              "    </tr>\n",
              "  </tbody>\n",
              "</table>\n",
              "</div>\n",
              "      <button class=\"colab-df-convert\" onclick=\"convertToInteractive('df-2e8805d5-be5d-46d6-8906-cefa68e7f099')\"\n",
              "              title=\"Convert this dataframe to an interactive table.\"\n",
              "              style=\"display:none;\">\n",
              "        \n",
              "  <svg xmlns=\"http://www.w3.org/2000/svg\" height=\"24px\"viewBox=\"0 0 24 24\"\n",
              "       width=\"24px\">\n",
              "    <path d=\"M0 0h24v24H0V0z\" fill=\"none\"/>\n",
              "    <path d=\"M18.56 5.44l.94 2.06.94-2.06 2.06-.94-2.06-.94-.94-2.06-.94 2.06-2.06.94zm-11 1L8.5 8.5l.94-2.06 2.06-.94-2.06-.94L8.5 2.5l-.94 2.06-2.06.94zm10 10l.94 2.06.94-2.06 2.06-.94-2.06-.94-.94-2.06-.94 2.06-2.06.94z\"/><path d=\"M17.41 7.96l-1.37-1.37c-.4-.4-.92-.59-1.43-.59-.52 0-1.04.2-1.43.59L10.3 9.45l-7.72 7.72c-.78.78-.78 2.05 0 2.83L4 21.41c.39.39.9.59 1.41.59.51 0 1.02-.2 1.41-.59l7.78-7.78 2.81-2.81c.8-.78.8-2.07 0-2.86zM5.41 20L4 18.59l7.72-7.72 1.47 1.35L5.41 20z\"/>\n",
              "  </svg>\n",
              "      </button>\n",
              "      \n",
              "  <style>\n",
              "    .colab-df-container {\n",
              "      display:flex;\n",
              "      flex-wrap:wrap;\n",
              "      gap: 12px;\n",
              "    }\n",
              "\n",
              "    .colab-df-convert {\n",
              "      background-color: #E8F0FE;\n",
              "      border: none;\n",
              "      border-radius: 50%;\n",
              "      cursor: pointer;\n",
              "      display: none;\n",
              "      fill: #1967D2;\n",
              "      height: 32px;\n",
              "      padding: 0 0 0 0;\n",
              "      width: 32px;\n",
              "    }\n",
              "\n",
              "    .colab-df-convert:hover {\n",
              "      background-color: #E2EBFA;\n",
              "      box-shadow: 0px 1px 2px rgba(60, 64, 67, 0.3), 0px 1px 3px 1px rgba(60, 64, 67, 0.15);\n",
              "      fill: #174EA6;\n",
              "    }\n",
              "\n",
              "    [theme=dark] .colab-df-convert {\n",
              "      background-color: #3B4455;\n",
              "      fill: #D2E3FC;\n",
              "    }\n",
              "\n",
              "    [theme=dark] .colab-df-convert:hover {\n",
              "      background-color: #434B5C;\n",
              "      box-shadow: 0px 1px 3px 1px rgba(0, 0, 0, 0.15);\n",
              "      filter: drop-shadow(0px 1px 2px rgba(0, 0, 0, 0.3));\n",
              "      fill: #FFFFFF;\n",
              "    }\n",
              "  </style>\n",
              "\n",
              "      <script>\n",
              "        const buttonEl =\n",
              "          document.querySelector('#df-2e8805d5-be5d-46d6-8906-cefa68e7f099 button.colab-df-convert');\n",
              "        buttonEl.style.display =\n",
              "          google.colab.kernel.accessAllowed ? 'block' : 'none';\n",
              "\n",
              "        async function convertToInteractive(key) {\n",
              "          const element = document.querySelector('#df-2e8805d5-be5d-46d6-8906-cefa68e7f099');\n",
              "          const dataTable =\n",
              "            await google.colab.kernel.invokeFunction('convertToInteractive',\n",
              "                                                     [key], {});\n",
              "          if (!dataTable) return;\n",
              "\n",
              "          const docLinkHtml = 'Like what you see? Visit the ' +\n",
              "            '<a target=\"_blank\" href=https://colab.research.google.com/notebooks/data_table.ipynb>data table notebook</a>'\n",
              "            + ' to learn more about interactive tables.';\n",
              "          element.innerHTML = '';\n",
              "          dataTable['output_type'] = 'display_data';\n",
              "          await google.colab.output.renderOutput(dataTable, element);\n",
              "          const docLink = document.createElement('div');\n",
              "          docLink.innerHTML = docLinkHtml;\n",
              "          element.appendChild(docLink);\n",
              "        }\n",
              "      </script>\n",
              "    </div>\n",
              "  </div>\n",
              "  "
            ]
          },
          "metadata": {},
          "execution_count": 12
        }
      ],
      "source": [
        "import pandas as pd\n",
        "df_train = pd.DataFrame(train_samples)\n",
        "df_val = pd.DataFrame(val_samples)\n",
        "df_test = pd.DataFrame(test_samples)\n",
        "\n",
        "df_train.head(10)"
      ]
    },
    {
      "cell_type": "markdown",
      "metadata": {
        "id": "keA4isG5xnVn"
      },
      "source": [
        "Checking the distribution of labels in the training data"
      ]
    },
    {
      "cell_type": "code",
      "execution_count": null,
      "metadata": {
        "colab": {
          "base_uri": "https://localhost:8080/"
        },
        "id": "EEK3wvQ-vllN",
        "outputId": "6ade3f39-c075-43eb-ae11-1d79071d4873"
      },
      "outputs": [
        {
          "output_type": "execute_result",
          "data": {
            "text/plain": [
              "METHODS        59353\n",
              "RESULTS        57953\n",
              "CONCLUSIONS    27168\n",
              "BACKGROUND     21727\n",
              "OBJECTIVE      13839\n",
              "Name: target, dtype: int64"
            ]
          },
          "metadata": {},
          "execution_count": 13
        }
      ],
      "source": [
        "df_train[\"target\"].value_counts()"
      ]
    },
    {
      "cell_type": "code",
      "execution_count": null,
      "metadata": {
        "colab": {
          "base_uri": "https://localhost:8080/",
          "height": 284
        },
        "id": "6xz7sveWxrZu",
        "outputId": "64d65075-c840-40eb-a908-3d17cb4c9645"
      },
      "outputs": [
        {
          "output_type": "execute_result",
          "data": {
            "text/plain": [
              "<matplotlib.axes._subplots.AxesSubplot at 0x7f4bfd5e2210>"
            ]
          },
          "metadata": {},
          "execution_count": 14
        },
        {
          "output_type": "display_data",
          "data": {
            "text/plain": [
              "<Figure size 432x288 with 1 Axes>"
            ],
            "image/png": "[encoded data removed]"
          },
          "metadata": {
            "needs_background": "light"
          }
        }
      ],
      "source": [
        "# check the length of different lines\n",
        "df_train[\"total_lines\"].plot.hist()"
      ]
    },
    {
      "cell_type": "markdown",
      "metadata": {
        "id": "1YjhODOGyD99"
      },
      "source": [
        "Get lists of sentences"
      ]
    },
    {
      "cell_type": "code",
      "execution_count": null,
      "metadata": {
        "colab": {
          "base_uri": "https://localhost:8080/"
        },
        "id": "neb4ryL_x2A_",
        "outputId": "dce1c9c3-ff95-4bcf-891f-18cbbf55305d"
      },
      "outputs": [
        {
          "output_type": "execute_result",
          "data": {
            "text/plain": [
              "(180040, 30212, 30135)"
            ]
          },
          "metadata": {},
          "execution_count": 15
        }
      ],
      "source": [
        "# Convert abstract text lines into lists\n",
        "train_sentences = df_train[\"text\"].tolist()\n",
        "val_sentences = df_val[\"text\"].tolist()\n",
        "test_sentences = df_test[\"text\"].tolist()\n",
        "\n",
        "len(train_sentences),len(val_sentences),len(test_sentences)"
      ]
    },
    {
      "cell_type": "code",
      "execution_count": null,
      "metadata": {
        "colab": {
          "base_uri": "https://localhost:8080/"
        },
        "id": "QAxCAhbFyS98",
        "outputId": "a9467942-e786-41ca-89ea-1ea844d7faa2"
      },
      "outputs": [
        {
          "output_type": "execute_result",
          "data": {
            "text/plain": [
              "['to investigate the efficacy of @ weeks of daily low-dose oral prednisolone in improving pain , mobility , and systemic low-grade inflammation in the short term and whether the effect would be sustained at @ weeks in older adults with moderate to severe knee osteoarthritis ( oa ) .',\n",
              " 'a total of @ patients with primary knee oa were randomized @:@ ; @ received @ mg/day of prednisolone and @ received placebo for @ weeks .',\n",
              " 'outcome measures included pain reduction and improvement in function scores and systemic inflammation markers .',\n",
              " 'pain was assessed using the visual analog pain scale ( @-@ mm ) .',\n",
              " 'secondary outcome measures included the western ontario and mcmaster universities osteoarthritis index scores , patient global assessment ( pga ) of the severity of knee oa , and @-min walk distance ( @mwd ) .',\n",
              " 'serum levels of interleukin @ ( il-@ ) , il-@ , tumor necrosis factor ( tnf ) - , and high-sensitivity c-reactive protein ( hscrp ) were measured .',\n",
              " 'there was a clinically relevant reduction in the intervention group compared to the placebo group for knee pain , physical function , pga , and @mwd at @ weeks .',\n",
              " 'the mean difference between treatment arms ( @ % ci ) was @ ( @-@ @ ) , p < @ ; @ ( @-@ @ ) , p < @ ; @ ( @-@ @ ) , p < @ ; and @ ( @-@ @ ) , p < @ , respectively .',\n",
              " 'further , there was a clinically relevant reduction in the serum levels of il-@ , il-@ , tnf - , and hscrp at @ weeks in the intervention group when compared to the placebo group .',\n",
              " 'these differences remained significant at @ weeks .']"
            ]
          },
          "metadata": {},
          "execution_count": 16
        }
      ],
      "source": [
        "# View the first 10 lines of training sentences\n",
        "train_sentences[:10]"
      ]
    },
    {
      "cell_type": "markdown",
      "metadata": {
        "id": "Zjkv0-xZ2Q-O"
      },
      "source": [
        "## Make numeric labels and encode\n",
        "Because Machine Learning models require numeric labels"
      ]
    },
    {
      "cell_type": "code",
      "execution_count": null,
      "metadata": {
        "colab": {
          "base_uri": "https://localhost:8080/"
        },
        "id": "ry_KPDdEyb38",
        "outputId": "c4469869-aa1f-4c7d-8374-f2ffc6238f72"
      },
      "outputs": [
        {
          "output_type": "execute_result",
          "data": {
            "text/plain": [
              "<tf.Tensor: shape=(180040, 5), dtype=float64, numpy=\n",
              "array([[0., 0., 0., 1., 0.],\n",
              "       [0., 0., 1., 0., 0.],\n",
              "       [0., 0., 1., 0., 0.],\n",
              "       ...,\n",
              "       [0., 0., 0., 0., 1.],\n",
              "       [0., 1., 0., 0., 0.],\n",
              "       [0., 1., 0., 0., 0.]])>"
            ]
          },
          "metadata": {},
          "execution_count": 17
        }
      ],
      "source": [
        "# to clarify the Numpy reshape(-1,1) https://stackoverflow.com/questions/18691084/what-does-1-mean-in-numpy-reshape\n",
        "from sklearn.preprocessing import OneHotEncoder\n",
        "import tensorflow as tf\n",
        "\n",
        "one_hot_encoder = OneHotEncoder(sparse=False)\n",
        "train_labels_one_hot = one_hot_encoder.fit_transform(df_train[\"target\"].to_numpy().reshape(-1,1))\n",
        "\n",
        " # don't need to fit anymore because we already fit_transform on train df\n",
        "val_labels_one_hot = one_hot_encoder.transform(df_val[\"target\"].to_numpy().reshape(-1,1)) \n",
        "test_labels_one_hot = one_hot_encoder.transform(df_test[\"target\"].to_numpy().reshape(-1,1)) \n",
        "\n",
        "# Check what one hot encoded labels look like\n",
        "tf.constant(train_labels_one_hot)"
      ]
    },
    {
      "cell_type": "markdown",
      "metadata": {
        "id": "kdUtPJNsDlmr"
      },
      "source": [
        "Extract labels (\"target\" columns) and encode them into integers"
      ]
    },
    {
      "cell_type": "code",
      "execution_count": null,
      "metadata": {
        "colab": {
          "base_uri": "https://localhost:8080/"
        },
        "id": "bG_Dz07l2ODe",
        "outputId": "02223415-0705-44c9-81b1-84022719f511"
      },
      "outputs": [
        {
          "output_type": "execute_result",
          "data": {
            "text/plain": [
              "array([3, 2, 2, ..., 4, 1, 1])"
            ]
          },
          "metadata": {},
          "execution_count": 18
        }
      ],
      "source": [
        "# Using label encoder to use in `Naive Bayes` model\n",
        "from sklearn.preprocessing import LabelEncoder\n",
        "label_encoder = LabelEncoder()\n",
        "train_labels_encoded = label_encoder.fit_transform(df_train[\"target\"].to_numpy())\n",
        "val_labels_encoded = label_encoder.transform(df_val[\"target\"].to_numpy())\n",
        "test_labels_encoded = label_encoder.transform(df_test[\"target\"].to_numpy())\n",
        "\n",
        "train_labels_encoded"
      ]
    },
    {
      "cell_type": "markdown",
      "metadata": {
        "id": "Ml1M3Kr6Ep2D"
      },
      "source": [
        "Get class names and number of classes from LabelEncoded instance"
      ]
    },
    {
      "cell_type": "code",
      "execution_count": null,
      "metadata": {
        "colab": {
          "base_uri": "https://localhost:8080/"
        },
        "id": "2B5gpJHb4Tr6",
        "outputId": "cb6a2148-51ab-4ff6-b645-5eaa4dc13da5"
      },
      "outputs": [
        {
          "output_type": "execute_result",
          "data": {
            "text/plain": [
              "(5, array(['BACKGROUND', 'CONCLUSIONS', 'METHODS', 'OBJECTIVE', 'RESULTS'],\n",
              "       dtype=object))"
            ]
          },
          "metadata": {},
          "execution_count": 19
        }
      ],
      "source": [
        "num_classes = len(label_encoder.classes_)\n",
        "class_names = label_encoder.classes_\n",
        "\n",
        "num_classes, class_names"
      ]
    },
    {
      "cell_type": "markdown",
      "metadata": {
        "id": "ox7-bv2lFTbT"
      },
      "source": [
        "# Create a machine learning model experiments\n",
        "* Model 0: Naive Bayes with TF-IDF\n",
        "* Model 1: Cov1D with token embeddings\n",
        "* Model 2: TensorFlow Hub Pretrained Feature Extractor Mode\n",
        "* Model 4: Pretrained token embedding (same as 2) + chracter embeddings (same as 3)\n",
        "* Model 5: Pretrained token embeddings + character embeddings + positional embeddings\n"
      ]
    },
    {
      "cell_type": "markdown",
      "metadata": {
        "id": "oTCkpCD3EvjV"
      },
      "source": [
        "## Model 0: Naive Bayes with TF-IDF"
      ]
    },
    {
      "cell_type": "markdown",
      "metadata": {
        "id": "GfJyakGpNrjU"
      },
      "source": [
        "### Create a pipeline for the model"
      ]
    },
    {
      "cell_type": "code",
      "execution_count": null,
      "metadata": {
        "colab": {
          "base_uri": "https://localhost:8080/"
        },
        "id": "1WLcIJsMNhfb",
        "outputId": "98f3f7cf-294c-438a-e80e-0f786eadb413"
      },
      "outputs": [
        {
          "output_type": "execute_result",
          "data": {
            "text/plain": [
              "Pipeline(steps=[('tf-idf', TfidfVectorizer()), ('clf', MultinomialNB())])"
            ]
          },
          "metadata": {},
          "execution_count": 20
        }
      ],
      "source": [
        "from sklearn.feature_extraction.text import TfidfVectorizer\n",
        "from sklearn.naive_bayes import MultinomialNB\n",
        "from sklearn.pipeline import Pipeline\n",
        "\n",
        "# Create a pipeline\n",
        "model_0 = Pipeline([\n",
        "                    (\"tf-idf\", TfidfVectorizer()),\n",
        "                    (\"clf\", MultinomialNB())\n",
        "])\n",
        "\n",
        "# Fit the pipeline to the training data\n",
        "model_0.fit(train_sentences,train_labels_encoded)"
      ]
    },
    {
      "cell_type": "markdown",
      "metadata": {
        "id": "8L5p5FrLOQVL"
      },
      "source": [
        "### Evaluate baseline model on validation dataset"
      ]
    },
    {
      "cell_type": "code",
      "execution_count": null,
      "metadata": {
        "colab": {
          "base_uri": "https://localhost:8080/"
        },
        "id": "LRQYSjZzN_zu",
        "outputId": "ca31dce8-ca76-430f-c7e9-977f2fe7b44f"
      },
      "outputs": [
        {
          "output_type": "execute_result",
          "data": {
            "text/plain": [
              "0.7218323844829869"
            ]
          },
          "metadata": {},
          "execution_count": 21
        }
      ],
      "source": [
        "model_0.score(val_sentences,\n",
        "              val_labels_encoded)"
      ]
    },
    {
      "cell_type": "markdown",
      "metadata": {
        "id": "S7f-JK6ZObhF"
      },
      "source": [
        "Make predictions using our baseline model"
      ]
    },
    {
      "cell_type": "code",
      "execution_count": null,
      "metadata": {
        "colab": {
          "base_uri": "https://localhost:8080/"
        },
        "id": "ozQTagtROYrk",
        "outputId": "566f6722-3809-4c64-a306-5a785e40f0df"
      },
      "outputs": [
        {
          "output_type": "execute_result",
          "data": {
            "text/plain": [
              "array([4, 1, 3, 2, 2, 2, 2, 2, 4, 4])"
            ]
          },
          "metadata": {},
          "execution_count": 22
        }
      ],
      "source": [
        "baseline_preds = model_0.predict(val_sentences)\n",
        "baseline_preds[:10]"
      ]
    },
    {
      "cell_type": "code",
      "execution_count": null,
      "metadata": {
        "colab": {
          "base_uri": "https://localhost:8080/"
        },
        "id": "1Ltg7Z8lOhjw",
        "outputId": "17fa888e-9b1b-4bfd-f6ed-35457c668b95"
      },
      "outputs": [
        {
          "output_type": "execute_result",
          "data": {
            "text/plain": [
              "array([0, 0, 3, 2, 2, 4, 4, 4, 4, 1])"
            ]
          },
          "metadata": {},
          "execution_count": 23
        }
      ],
      "source": [
        "val_labels_encoded[:10]"
      ]
    },
    {
      "cell_type": "markdown",
      "metadata": {
        "id": "IXF0N1FBgLv-"
      },
      "source": [
        "# Tokenization and Embedding"
      ]
    },
    {
      "cell_type": "markdown",
      "metadata": {
        "id": "OrRHXALLgRLM"
      },
      "source": [
        "## Analyze and visualize the data"
      ]
    },
    {
      "cell_type": "code",
      "execution_count": null,
      "metadata": {
        "colab": {
          "base_uri": "https://localhost:8080/"
        },
        "id": "k6gu1PEvOyOb",
        "outputId": "5717680a-409f-4672-abfd-2f8f555737c8"
      },
      "outputs": [
        {
          "output_type": "stream",
          "name": "stdout",
          "text": [
            "--2022-07-19 23:12:22--  https://raw.githubusercontent.com/mrdbourke/tensorflow-deep-learning/main/extras/helper_functions.py\n",
            "Resolving raw.githubusercontent.com (raw.githubusercontent.com)... 185.199.108.133, 185.199.109.133, 185.199.110.133, ...\n",
            "Connecting to raw.githubusercontent.com (raw.githubusercontent.com)|185.199.108.133|:443... connected.\n",
            "HTTP request sent, awaiting response... 200 OK\n",
            "Length: 10246 (10K) [text/plain]\n",
            "Saving to: ‘helper_functions.py’\n",
            "\n",
            "\rhelper_functions.py   0%[                    ]       0  --.-KB/s               \rhelper_functions.py 100%[===================>]  10.01K  --.-KB/s    in 0s      \n",
            "\n",
            "2022-07-19 23:12:22 (48.4 MB/s) - ‘helper_functions.py’ saved [10246/10246]\n",
            "\n"
          ]
        }
      ],
      "source": [
        "# Download helper function script to evaluate the model easier\n",
        "\n",
        "!wget https://raw.githubusercontent.com/mrdbourke/tensorflow-deep-learning/main/extras/helper_functions.py\n"
      ]
    },
    {
      "cell_type": "code",
      "execution_count": null,
      "metadata": {
        "colab": {
          "base_uri": "https://localhost:8080/"
        },
        "id": "RxTpXyC0Okme",
        "outputId": "8ee3332b-0fee-490e-a677-5f4105cefa1b"
      },
      "outputs": [
        {
          "output_type": "execute_result",
          "data": {
            "text/plain": [
              "{'accuracy': 72.1832384482987,\n",
              " 'f1': 0.6989250353450294,\n",
              " 'precision': 0.7186466952323352,\n",
              " 'recall': 0.7218323844829869}"
            ]
          },
          "metadata": {},
          "execution_count": 25
        }
      ],
      "source": [
        "from helper_functions import calculate_results\n",
        "\n",
        "# Calculate baseline results\n",
        "model_0_results = calculate_results(y_true=val_labels_encoded,\n",
        "                                     y_pred=baseline_preds)\n",
        "model_0_results"
      ]
    },
    {
      "cell_type": "code",
      "execution_count": null,
      "metadata": {
        "colab": {
          "base_uri": "https://localhost:8080/"
        },
        "id": "JGjQgqrDPHJS",
        "outputId": "544ce7d5-b65c-4ee4-dc86-c4d3d1124056"
      },
      "outputs": [
        {
          "output_type": "stream",
          "name": "stdout",
          "text": [
            "Average sentence range: 26.338269273494777\n"
          ]
        }
      ],
      "source": [
        "# How long is each sentence on average?\n",
        "import numpy as np\n",
        "\n",
        "sent_lens = [len(sentence.split()) for sentence in train_sentences] # Split to the single word or special letter, find the length of it and put it in the list.\n",
        "avg_sent_len = np.mean(sent_lens)\n",
        "print(f\"Average sentence range: {avg_sent_len}\")"
      ]
    },
    {
      "cell_type": "code",
      "execution_count": null,
      "metadata": {
        "colab": {
          "base_uri": "https://localhost:8080/",
          "height": 265
        },
        "id": "KRnPlA7Fao0F",
        "outputId": "89915651-87c2-4924-dcde-1a3b9132bc00"
      },
      "outputs": [
        {
          "output_type": "display_data",
          "data": {
            "text/plain": [
              "<Figure size 432x288 with 1 Axes>"
            ],
            "image/png": "[encoded data removed]"
          },
          "metadata": {
            "needs_background": "light"
          }
        }
      ],
      "source": [
        "import matplotlib.pyplot as plt\n",
        "plt.hist(sent_lens, bins=30)\n",
        "plt.xlim(0,150);"
      ]
    },
    {
      "cell_type": "markdown",
      "metadata": {
        "id": "HF4zrgbJgbgz"
      },
      "source": [
        "How long gof a sentence length covers 95% of examples"
      ]
    },
    {
      "cell_type": "code",
      "execution_count": null,
      "metadata": {
        "colab": {
          "base_uri": "https://localhost:8080/"
        },
        "id": "BjGoNxcmbLGm",
        "outputId": "8bc0e1be-75a4-459b-b38e-419200225609"
      },
      "outputs": [
        {
          "output_type": "stream",
          "name": "stdout",
          "text": [
            "Calculate 95% of the sentence length by using percentile at 95 is: 55\n"
          ]
        }
      ],
      "source": [
        "output_seq_len = int(np.percentile(sent_lens, 95))\n",
        "print(f\"Calculate 95% of the sentence length by using percentile at 95 is: {output_seq_len}\")"
      ]
    },
    {
      "cell_type": "markdown",
      "metadata": {
        "id": "nYVCFfYtgouK"
      },
      "source": [
        "Maximum sequence length in the training set"
      ]
    },
    {
      "cell_type": "code",
      "execution_count": null,
      "metadata": {
        "colab": {
          "base_uri": "https://localhost:8080/"
        },
        "id": "YLJKtd1wga9S",
        "outputId": "c1da9278-5e66-47b6-f9e2-8979604b49b1"
      },
      "outputs": [
        {
          "output_type": "execute_result",
          "data": {
            "text/plain": [
              "296"
            ]
          },
          "metadata": {},
          "execution_count": 29
        }
      ],
      "source": [
        "max(sent_lens)"
      ]
    },
    {
      "cell_type": "markdown",
      "metadata": {
        "id": "mnZDcj0yi3JX"
      },
      "source": [
        "## Text Vectorization"
      ]
    },
    {
      "cell_type": "markdown",
      "metadata": {
        "id": "sf-CcsR0kKHN"
      },
      "source": [
        "### Create text vectorizer"
      ]
    },
    {
      "cell_type": "code",
      "execution_count": null,
      "metadata": {
        "id": "T2454-eeg8-M"
      },
      "outputs": [],
      "source": [
        "from tensorflow.keras.layers import TextVectorization\n",
        "\n",
        "# Setup text vectorization variables\n",
        "max_vocab_length = 68000 # max number of words, check in https://arxiv.org/pdf/1710.06071.pdf at 3.2\n",
        "\n",
        "text_vectorizer = TextVectorization(max_tokens=max_vocab_length,\n",
        "                                   output_mode='int',\n",
        "                                   output_sequence_length=output_seq_len) # max length our sequence will be"
      ]
    },
    {
      "cell_type": "markdown",
      "metadata": {
        "id": "2xP8uMpRkMz-"
      },
      "source": [
        "Adapt text vectorizer to training sentences."
      ]
    },
    {
      "cell_type": "code",
      "execution_count": null,
      "metadata": {
        "id": "opVRXus_i6qW"
      },
      "outputs": [],
      "source": [
        "text_vectorizer.adapt(train_sentences)"
      ]
    },
    {
      "cell_type": "code",
      "execution_count": null,
      "metadata": {
        "colab": {
          "base_uri": "https://localhost:8080/"
        },
        "id": "64pBz7m9kR3h",
        "outputId": "9c3a58db-9104-4a1e-9dce-17a25bb7137f"
      },
      "outputs": [
        {
          "output_type": "stream",
          "name": "stdout",
          "text": [
            "Text: \n",
            "despite their low cost , printed educational messages should not be routinely used in attempting to close evidence-practice gaps relating to diabetic retinopathy screening .\n",
            "\n",
            "Length of text: 25\n",
            "\n",
            "Vectorized text: [  643   120   220   608  7030   904  1958   406    31    36  3839    98\n",
            "     5  9232     6  3607 58290  6526  5408     6  1062  3007   387     0\n",
            "     0     0     0     0     0     0     0     0     0     0     0     0\n",
            "     0     0     0     0     0     0     0     0     0     0     0     0\n",
            "     0     0     0     0     0     0     0]\n"
          ]
        }
      ],
      "source": [
        "# Test our text vectorizer on random train sentences\n",
        "import random\n",
        "target_sentence = random.choice(train_sentences)\n",
        "print(f\"Text: \\n{target_sentence}\")\n",
        "print(f\"\\nLength of text: {len(target_sentence.split())}\")\n",
        "print(f\"\\nVectorized text: {text_vectorizer(target_sentence)}\")"
      ]
    },
    {
      "cell_type": "code",
      "execution_count": null,
      "metadata": {
        "colab": {
          "base_uri": "https://localhost:8080/"
        },
        "id": "5_prm3r6bo_Y",
        "outputId": "a3e6e3af-0b99-40aa-c593-25655e51c9b0"
      },
      "outputs": [
        {
          "output_type": "stream",
          "name": "stdout",
          "text": [
            "Text: \n",
            "despite the brief duration of treatment , aleglitazar induced favorable changes in glycosylated hemoglobin and blood lipids , similar for participants with t@d or prediabetes .\n",
            "\n",
            "Length of text: 26\n",
            "\n",
            "Vectorized text: [  643     2   960   282     4    19 11305   858  1599   146     5  5661\n",
            "  1088     3   107  2120   150    11    60     7  1990    16  5632     0\n",
            "     0     0     0     0     0     0     0     0     0     0     0     0\n",
            "     0     0     0     0     0     0     0     0     0     0     0     0\n",
            "     0     0     0     0     0     0     0]\n"
          ]
        }
      ],
      "source": [
        "# Test our text vectorizer on random val sentences\n",
        "random_val_sentence = random.choice(val_sentences)\n",
        "print(f\"Text: \\n{random_val_sentence}\")\n",
        "print(f\"\\nLength of text: {len(random_val_sentence.split())}\")\n",
        "print(f\"\\nVectorized text: {text_vectorizer(random_val_sentence)}\")"
      ]
    },
    {
      "cell_type": "markdown",
      "metadata": {
        "id": "QAYPjVmZlOAD"
      },
      "source": [
        "Finding how many words in our training vocabulary"
      ]
    },
    {
      "cell_type": "code",
      "execution_count": null,
      "metadata": {
        "colab": {
          "base_uri": "https://localhost:8080/"
        },
        "id": "a2O7rrEhkozp",
        "outputId": "9f86dd7a-11eb-42e8-ebc8-ada8c3fa3cbf"
      },
      "outputs": [
        {
          "output_type": "stream",
          "name": "stdout",
          "text": [
            "Number of words in vocab: 64841\n",
            "Most common words in the vocab: ['', '[UNK]', 'the', 'and', 'of', 'in', 'to', 'with', 'a', 'were']\n",
            "Most least words in the vocab: ['aainduced', 'aaigroup', 'aachener', 'aachen', 'aaacp']\n"
          ]
        }
      ],
      "source": [
        "rct_20k_text_vocab = text_vectorizer.get_vocabulary()\n",
        "print(f\"Number of words in vocab: {len(rct_20k_text_vocab)}\")\n",
        "print(f\"Most common words in the vocab: {rct_20k_text_vocab[:10]}\")\n",
        "print(f\"Most least words in the vocab: {rct_20k_text_vocab[-5:]}\")"
      ]
    },
    {
      "cell_type": "code",
      "execution_count": null,
      "metadata": {
        "colab": {
          "base_uri": "https://localhost:8080/"
        },
        "id": "l7jchxUGliPk",
        "outputId": "7814e77e-2f4d-4184-c260-51dcfbec316a"
      },
      "outputs": [
        {
          "output_type": "execute_result",
          "data": {
            "text/plain": [
              "{'batch_input_shape': (None,),\n",
              " 'dtype': 'string',\n",
              " 'idf_weights': None,\n",
              " 'max_tokens': 68000,\n",
              " 'name': 'text_vectorization',\n",
              " 'ngrams': None,\n",
              " 'output_mode': 'int',\n",
              " 'output_sequence_length': 55,\n",
              " 'pad_to_max_tokens': False,\n",
              " 'ragged': False,\n",
              " 'sparse': False,\n",
              " 'split': 'whitespace',\n",
              " 'standardize': 'lower_and_strip_punctuation',\n",
              " 'trainable': True,\n",
              " 'vocabulary': None}"
            ]
          },
          "metadata": {},
          "execution_count": 35
        }
      ],
      "source": [
        "text_vectorizer.get_config()"
      ]
    },
    {
      "cell_type": "markdown",
      "metadata": {
        "id": "q5eb1ihVm9NJ"
      },
      "source": [
        "## Text Embedding"
      ]
    },
    {
      "cell_type": "code",
      "execution_count": null,
      "metadata": {
        "id": "veo8MogolyN6"
      },
      "outputs": [],
      "source": [
        "### Create custom text embedding\n",
        "from tensorflow.keras.layers import Embedding\n",
        "embedding = tf.keras.layers.Embedding(input_dim=max_vocab_length, # set input shape\n",
        "                                     output_dim=128, # Note: different embedding size result in drastivcally different number of parameters\n",
        "                                     mask_zero=True, # use masking to help Tensorflow run faster when have a lot of zero\n",
        "                                     input_length=output_seq_len) # how long is each input"
      ]
    },
    {
      "cell_type": "code",
      "execution_count": null,
      "metadata": {
        "colab": {
          "base_uri": "https://localhost:8080/"
        },
        "id": "llD38ZhemzPk",
        "outputId": "4f2cc13e-8499-4bbd-cc77-357fb94cac30"
      },
      "outputs": [
        {
          "output_type": "stream",
          "name": "stdout",
          "text": [
            "Sentence before vectorization: \n",
            "despite their low cost , printed educational messages should not be routinely used in attempting to close evidence-practice gaps relating to diabetic retinopathy screening .\n",
            "\n",
            "Sentence after vectorization (before emvedding:\n",
            "[[  643   120   220   608  7030   904  1958   406    31    36  3839    98\n",
            "      5  9232     6  3607 58290  6526  5408     6  1062  3007   387     0\n",
            "      0     0     0     0     0     0     0     0     0     0     0     0\n",
            "      0     0     0     0     0     0     0     0     0     0     0     0\n",
            "      0     0     0     0     0     0     0]]\n",
            "Sentence after embedding:\n",
            "[[[-0.0003777   0.01603795  0.00986506 ... -0.04770368 -0.00121937\n",
            "   -0.02874452]\n",
            "  [ 0.0146139   0.00742967 -0.02558907 ...  0.0364063   0.0395853\n",
            "   -0.04071699]\n",
            "  [-0.02988691  0.00675461 -0.0388642  ...  0.001798    0.02873722\n",
            "   -0.03681352]\n",
            "  ...\n",
            "  [-0.03857499 -0.01549007  0.04650683 ... -0.04599699 -0.01453016\n",
            "    0.01689306]\n",
            "  [-0.03857499 -0.01549007  0.04650683 ... -0.04599699 -0.01453016\n",
            "    0.01689306]\n",
            "  [-0.03857499 -0.01549007  0.04650683 ... -0.04599699 -0.01453016\n",
            "    0.01689306]]]\n",
            "\n",
            "Embedded sentence shape: (1, 55, 128)\n"
          ]
        }
      ],
      "source": [
        "print(f\"Sentence before vectorization: \\n{target_sentence}\\n\")\n",
        "vectorized_sentence = text_vectorizer([target_sentence])\n",
        "print(f\"Sentence after vectorization (before emvedding:\\n{vectorized_sentence}\")\n",
        "embedded_sentence = embedding(vectorized_sentence)\n",
        "print(f\"Sentence after embedding:\\n{embedded_sentence}\\n\")\n",
        "print(f\"Embedded sentence shape: {embedded_sentence.shape}\")"
      ]
    },
    {
      "cell_type": "markdown",
      "metadata": {
        "id": "TWEztGqlqcvW"
      },
      "source": [
        "## Creating datasets (making sure our data loads as fast as possible)\n",
        "\n",
        "We're going to set up our data to run as fast as possible with tf.data API, many of the steps here are discuss in these two resources:\n",
        "* https://www.tensorflow.org/guide/data_performance\n",
        "* https://www.tensorflow.org/guide/data\n"
      ]
    },
    {
      "cell_type": "code",
      "execution_count": null,
      "metadata": {
        "id": "5CcJIYsZtUy1"
      },
      "outputs": [],
      "source": [
        "train_dataset = tf.data.Dataset.from_tensor_slices((train_sentences, train_labels_one_hot))\n",
        "valid_dataset = tf.data.Dataset.from_tensor_slices((val_sentences, val_labels_one_hot))\n",
        "test_dataset = tf.data.Dataset.from_tensor_slices((test_sentences, test_labels_one_hot))"
      ]
    },
    {
      "cell_type": "code",
      "execution_count": null,
      "metadata": {
        "colab": {
          "base_uri": "https://localhost:8080/"
        },
        "id": "B_zhCM9KSrfN",
        "outputId": "c6d056ca-c565-4993-fa9f-fda5788d014a"
      },
      "outputs": [
        {
          "output_type": "execute_result",
          "data": {
            "text/plain": [
              "(180040, (180040, 5), array([0., 0., 0., 1., 0.]))"
            ]
          },
          "metadata": {},
          "execution_count": 40
        }
      ],
      "source": [
        "len(train_sentences), train_labels_one_hot.shape, train_labels_one_hot[0]"
      ]
    },
    {
      "cell_type": "code",
      "execution_count": null,
      "metadata": {
        "colab": {
          "base_uri": "https://localhost:8080/"
        },
        "id": "QW5b4QTjS1fQ",
        "outputId": "a9604665-207f-4ba6-f710-26b8a33619b0"
      },
      "outputs": [
        {
          "data": {
            "text/plain": [
              "<TensorSliceDataset element_spec=(TensorSpec(shape=(), dtype=tf.string, name=None), TensorSpec(shape=(5,), dtype=tf.float64, name=None))>"
            ]
          },
          "execution_count": 40,
          "metadata": {},
          "output_type": "execute_result"
        }
      ],
      "source": [
        "train_dataset"
      ]
    },
    {
      "cell_type": "code",
      "execution_count": null,
      "metadata": {
        "colab": {
          "base_uri": "https://localhost:8080/"
        },
        "id": "PfrMIP8xt3XW",
        "outputId": "606a026c-bb3f-4ff9-be85-622e680187e1"
      },
      "outputs": [
        {
          "data": {
            "text/plain": [
              "<PrefetchDataset element_spec=(TensorSpec(shape=(None,), dtype=tf.string, name=None), TensorSpec(shape=(None, 5), dtype=tf.float64, name=None))>"
            ]
          },
          "execution_count": 41,
          "metadata": {},
          "output_type": "execute_result"
        }
      ],
      "source": [
        "# Take the TensorSliceDataset's and turn them into prefected datasets\n",
        "train_dataset = train_dataset.batch(32).prefetch(tf.data.AUTOTUNE)\n",
        "valid_dataset = valid_dataset.batch(32).prefetch(tf.data.AUTOTUNE)\n",
        "test_dataset = test_dataset.batch(32).prefetch(tf.data.AUTOTUNE)\n",
        "\n",
        "train_dataset"
      ]
    },
    {
      "cell_type": "markdown",
      "metadata": {
        "id": "n310km2NUHQD"
      },
      "source": [
        "Now data is set into Prefetch dataset so we could do further with faster performance."
      ]
    },
    {
      "cell_type": "markdown",
      "metadata": {
        "id": "WtruNV1eUFzk"
      },
      "source": [
        "# Continue create machine learning model with Neural Network"
      ]
    },
    {
      "cell_type": "markdown",
      "metadata": {
        "id": "e2gS73z9YPZk"
      },
      "source": [
        "## Model 1: Conv1D with token embeddings"
      ]
    },
    {
      "cell_type": "markdown",
      "metadata": {
        "id": "-J_2EYzTkE2m"
      },
      "source": [
        "### Building a Model"
      ]
    },
    {
      "cell_type": "code",
      "execution_count": null,
      "metadata": {
        "id": "5Jdg3Pj_YOV7"
      },
      "outputs": [],
      "source": [
        "from tensorflow.keras import layers\n",
        "\n",
        "inputs = layers.Input(shape=(1,), dtype=tf.string)\n",
        "text_vectors = text_vectorizer(inputs) # vectorize text inputs\n",
        "token_embeddings = embedding(text_vectors) # Create Embedding\n",
        "x = layers.Conv1D(64, kernel_size=5, padding=\"same\", activation=\"relu\")(token_embeddings) # kernel_size=5 is looking for 5 words as group\n",
        "x = layers.GlobalMaxPooling1D()(x) \n",
        "outputs = layers.Dense(num_classes, activation=\"softmax\")(x) # unit = length of the array of the traget\n",
        "\n",
        "model_1 =tf.keras.Model(inputs,outputs)\n"
      ]
    },
    {
      "cell_type": "code",
      "execution_count": null,
      "metadata": {
        "colab": {
          "base_uri": "https://localhost:8080/"
        },
        "id": "3j7VU1N-aEDN",
        "outputId": "6f22fe15-663a-4a8c-8aec-dacfe8a15a5d"
      },
      "outputs": [
        {
          "name": "stdout",
          "output_type": "stream",
          "text": [
            "Model: \"model\"\n",
            "_________________________________________________________________\n",
            " Layer (type)                Output Shape              Param #   \n",
            "=================================================================\n",
            " input_1 (InputLayer)        [(None, 1)]               0         \n",
            "                                                                 \n",
            " text_vectorization (TextVec  (None, 55)               0         \n",
            " torization)                                                     \n",
            "                                                                 \n",
            " embedding (Embedding)       (None, 55, 128)           8704000   \n",
            "                                                                 \n",
            " conv1d (Conv1D)             (None, 55, 64)            41024     \n",
            "                                                                 \n",
            " global_max_pooling1d (Globa  (None, 64)               0         \n",
            " lMaxPooling1D)                                                  \n",
            "                                                                 \n",
            " dense (Dense)               (None, 5)                 325       \n",
            "                                                                 \n",
            "=================================================================\n",
            "Total params: 8,745,349\n",
            "Trainable params: 8,745,349\n",
            "Non-trainable params: 0\n",
            "_________________________________________________________________\n"
          ]
        }
      ],
      "source": [
        "# Compile\n",
        "model_1.compile(loss=\"categorical_crossentropy\",\n",
        "                optimizer=tf.keras.optimizers.Adam(),\n",
        "                metrics=\"accuracy\")\n",
        "\n",
        "model_1.summary()"
      ]
    },
    {
      "cell_type": "code",
      "execution_count": null,
      "metadata": {
        "colab": {
          "base_uri": "https://localhost:8080/"
        },
        "id": "l2PYkRBpZ_sV",
        "outputId": "7ed76065-04c5-49f1-cbea-12b8af51b164"
      },
      "outputs": [
        {
          "name": "stdout",
          "output_type": "stream",
          "text": [
            "Epoch 1/5\n",
            "562/562 [==============================] - 15s 6ms/step - loss: 0.8420 - accuracy: 0.6814 - val_loss: 0.5912 - val_accuracy: 0.7822\n",
            "Epoch 2/5\n",
            "562/562 [==============================] - 3s 6ms/step - loss: 0.5806 - accuracy: 0.7884 - val_loss: 0.5374 - val_accuracy: 0.8039\n",
            "Epoch 3/5\n",
            "562/562 [==============================] - 3s 6ms/step - loss: 0.5459 - accuracy: 0.7995 - val_loss: 0.5188 - val_accuracy: 0.8165\n",
            "Epoch 4/5\n",
            "562/562 [==============================] - 3s 6ms/step - loss: 0.5274 - accuracy: 0.8079 - val_loss: 0.5165 - val_accuracy: 0.8055\n",
            "Epoch 5/5\n",
            "562/562 [==============================] - 3s 6ms/step - loss: 0.5318 - accuracy: 0.8055 - val_loss: 0.4934 - val_accuracy: 0.8195\n"
          ]
        }
      ],
      "source": [
        "# Fit the model\n",
        "history_1 = model_1.fit(train_dataset,\n",
        "                        steps_per_epoch=int(0.1*len(train_dataset)),\n",
        "                        epochs=5,\n",
        "                        validation_data=valid_dataset,\n",
        "                        validation_steps=int(0.1*len(valid_dataset)))"
      ]
    },
    {
      "cell_type": "markdown",
      "metadata": {
        "id": "JQ7HoBRZkIES"
      },
      "source": [
        "### Evaluate the model"
      ]
    },
    {
      "cell_type": "code",
      "execution_count": null,
      "metadata": {
        "colab": {
          "base_uri": "https://localhost:8080/"
        },
        "id": "6XvVc-FZbyPi",
        "outputId": "b08c4716-9632-4f60-9029-311f53d6d5be"
      },
      "outputs": [
        {
          "name": "stdout",
          "output_type": "stream",
          "text": [
            "945/945 [==============================] - 3s 3ms/step - loss: 0.4976 - accuracy: 0.8185\n"
          ]
        },
        {
          "data": {
            "text/plain": [
              "[0.4976295232772827, 0.8185489177703857]"
            ]
          },
          "execution_count": 45,
          "metadata": {},
          "output_type": "execute_result"
        }
      ],
      "source": [
        "# Evaluate on the validation dataset\n",
        "model_1.evaluate(valid_dataset)"
      ]
    },
    {
      "cell_type": "markdown",
      "metadata": {
        "id": "o0fX8mdAeHgi"
      },
      "source": [
        "### Probability as softmax version"
      ]
    },
    {
      "cell_type": "code",
      "execution_count": null,
      "metadata": {
        "colab": {
          "base_uri": "https://localhost:8080/"
        },
        "id": "Z6KxLLwEcUfX",
        "outputId": "36790731-fb35-40ac-c62b-4b8fa2004993"
      },
      "outputs": [
        {
          "data": {
            "text/plain": [
              "array([[3.5267785e-01, 4.9055499e-01, 5.0345794e-03, 1.0297673e-01,\n",
              "        4.8755858e-02],\n",
              "       [3.6225748e-01, 5.4615885e-01, 1.9093190e-03, 6.7742936e-02,\n",
              "        2.1931427e-02],\n",
              "       [2.4575555e-01, 8.6817309e-02, 5.1099040e-02, 6.1292511e-01,\n",
              "        3.4030273e-03],\n",
              "       ...,\n",
              "       [4.1000548e-04, 1.2985363e-03, 2.5706276e-02, 2.3456308e-04,\n",
              "        9.7235066e-01],\n",
              "       [2.0266004e-02, 6.0758239e-01, 2.9012254e-02, 1.1861283e-02,\n",
              "        3.3127809e-01],\n",
              "       [6.5174028e-02, 9.2463607e-01, 5.6829951e-03, 2.3879036e-03,\n",
              "        2.1190029e-03]], dtype=float32)"
            ]
          },
          "execution_count": 46,
          "metadata": {},
          "output_type": "execute_result"
        }
      ],
      "source": [
        "# Make predictions\n",
        "model_1_pred_probs = model_1.predict(valid_dataset)\n",
        "model_1_pred_probs"
      ]
    },
    {
      "cell_type": "code",
      "execution_count": null,
      "metadata": {
        "colab": {
          "base_uri": "https://localhost:8080/"
        },
        "id": "lZysoBCgcbrN",
        "outputId": "ee004104-0362-4710-9b40-19ea89dd2255"
      },
      "outputs": [
        {
          "data": {
            "text/plain": [
              "<tf.Tensor: shape=(30212,), dtype=int64, numpy=array([1, 1, 3, ..., 4, 1, 1])>"
            ]
          },
          "execution_count": 47,
          "metadata": {},
          "output_type": "execute_result"
        }
      ],
      "source": [
        "# Convert pred probs to classes\n",
        "model_1_preds = tf.argmax(model_1_pred_probs, axis=1)\n",
        "model_1_preds"
      ]
    },
    {
      "cell_type": "code",
      "execution_count": null,
      "metadata": {
        "colab": {
          "base_uri": "https://localhost:8080/"
        },
        "id": "QdJLxESyeCUW",
        "outputId": "3bd50f57-3c4e-4c4c-c5ca-a2e66859b54a"
      },
      "outputs": [
        {
          "data": {
            "text/plain": [
              "{'accuracy': 81.85489209585594,\n",
              " 'f1': 0.8157046887038292,\n",
              " 'precision': 0.8202281931684678,\n",
              " 'recall': 0.8185489209585595}"
            ]
          },
          "execution_count": 48,
          "metadata": {},
          "output_type": "execute_result"
        }
      ],
      "source": [
        "# Calculate model_1 results\n",
        "model_1_results = calculate_results(val_labels_encoded, model_1_preds)\n",
        "model_1_results"
      ]
    },
    {
      "cell_type": "code",
      "execution_count": null,
      "metadata": {
        "colab": {
          "base_uri": "https://localhost:8080/"
        },
        "id": "cJPcpxIieYqx",
        "outputId": "85430854-4f80-423a-ce9c-0a8644e8a0d7"
      },
      "outputs": [
        {
          "data": {
            "text/plain": [
              "{'accuracy': 72.1832384482987,\n",
              " 'f1': 0.6989250353450294,\n",
              " 'precision': 0.7186466952323352,\n",
              " 'recall': 0.7218323844829869}"
            ]
          },
          "execution_count": 49,
          "metadata": {},
          "output_type": "execute_result"
        }
      ],
      "source": [
        "model_0_results"
      ]
    },
    {
      "cell_type": "markdown",
      "metadata": {
        "id": "OTRJW8NKefNJ"
      },
      "source": [
        "## Model 2: Feature extraction with pre-trained word embeddings\n",
        "Use pretrained word embedding from Tensorflow Hub, more specifically the universal sentence encoder.\n",
        "\n",
        "Now lets use pretrained word embeddings from TensorFlow Hub: https://tfhub.dev/google/universal-sentence-encoder/4\n",
        "\n",
        "The paper originally used GloVe embeddings, however, we're going to stick with the later created USE pretrained embeddings"
      ]
    },
    {
      "cell_type": "code",
      "execution_count": null,
      "metadata": {
        "id": "A6Z7Oaffga7q"
      },
      "outputs": [],
      "source": [
        "# Download pretrained TensorFlow Hub USE\n",
        "import tensorflow_hub as hub\n",
        "tf_hub_embedding_layer = hub.KerasLayer(\"https://tfhub.dev/google/universal-sentence-encoder/4\",\n",
        "                                        name=\"universal_sentence_encoder\")"
      ]
    },
    {
      "cell_type": "code",
      "execution_count": null,
      "metadata": {
        "colab": {
          "base_uri": "https://localhost:8080/"
        },
        "id": "Wnd7edbMl0cO",
        "outputId": "3a918f7c-c07a-4774-d1ba-1b4ab8a53c97"
      },
      "outputs": [
        {
          "name": "stdout",
          "output_type": "stream",
          "text": [
            "Random sentence:\n",
            " all clinical event rates were markedly lower in russia/georgia , and there was no detectable impact of spironolactone on any outcomes .\n",
            "Sentence after embedding:\n",
            " [[-3.55132595e-02 -7.44889909e-03 -2.13611475e-03 -5.12686074e-02\n",
            "   3.91081534e-02  2.52534728e-02  7.41506070e-02 -3.19857374e-02\n",
            "   2.04309542e-02  7.74944499e-02  8.88233855e-02 -7.89862312e-03\n",
            "   5.54991551e-02  4.02069986e-02  4.49381359e-02  2.04728581e-02\n",
            "  -8.96262154e-02  1.93761960e-02  4.74778488e-02 -2.65257750e-02\n",
            "   3.04916501e-02  7.61814415e-02 -5.27542233e-02  5.20701222e-02\n",
            "  -6.57896847e-02 -3.22540924e-02  3.34457867e-02  2.01899335e-02\n",
            "  -3.07721440e-02  6.67269006e-02 -8.04884546e-03  9.33497995e-02\n",
            "   7.35818967e-02  5.07948399e-02 -3.45608182e-02 -3.57077941e-02\n",
            "  -6.92559928e-02 -1.30655700e-02  3.95556949e-02  2.62660198e-02\n",
            "  -6.18859082e-02  7.42152780e-02  3.04501341e-03 -2.04851385e-02\n",
            "   7.41237625e-02 -5.76350605e-04  3.44627723e-02  5.06222956e-02\n",
            "   2.07416601e-02  3.18844840e-02 -4.71601970e-02 -3.89246568e-02\n",
            "  -7.66997933e-02  3.50966416e-02  4.22543362e-02 -2.28769537e-02\n",
            "   2.71478388e-02  2.59158369e-02  4.83024493e-02 -2.91185901e-02\n",
            "  -4.26405817e-02  1.73659399e-02  6.11644834e-02 -1.48293748e-02\n",
            "  -1.99601594e-02  7.26273051e-03 -5.59289530e-02  5.15961573e-02\n",
            "   4.73754257e-02  2.83535402e-02 -4.44728369e-03  6.29517362e-02\n",
            "  -6.06544949e-02  6.65450767e-02  4.83451933e-02  4.29601111e-02\n",
            "  -5.17913364e-02  4.10613529e-02 -6.96257949e-02 -3.30778621e-02\n",
            "  -5.20938225e-02  5.01847602e-02  4.51246882e-03  1.73297245e-02\n",
            "   3.36967297e-02  8.92740488e-02  6.42873198e-02  6.09709509e-02\n",
            "  -2.04255003e-02 -1.37345837e-02  6.21808879e-02  7.37830028e-02\n",
            "  -1.41274156e-02 -4.67135198e-02  4.06483887e-03 -1.25383502e-02\n",
            "   1.30709289e-02  3.60802300e-02 -4.34178971e-02 -2.66496986e-02\n",
            "  -2.23842319e-02 -5.34337424e-02 -4.42690663e-02  2.53450386e-02\n",
            "  -1.41430981e-02  1.52662601e-02 -4.24409099e-02 -2.74243485e-02\n",
            "  -2.11002547e-02 -3.11242174e-02  2.34575085e-02  2.17114086e-03\n",
            "  -6.45623133e-02  1.17913019e-02  3.50795425e-02 -5.24850423e-03\n",
            "   1.79805607e-02 -5.58936410e-02  7.55434409e-02  3.82358991e-02\n",
            "   3.12035363e-02  8.06941371e-03 -5.81300817e-02  4.08118330e-02\n",
            "  -4.79275845e-02 -5.97708710e-02 -4.50069942e-02 -4.02175151e-02\n",
            "   3.22627760e-02 -3.07076294e-02  8.51150136e-03  9.27645415e-02\n",
            "   2.24896241e-02 -6.91301599e-02 -4.56685424e-02 -7.01583549e-02\n",
            "   8.24536383e-02  4.75951433e-02  4.47197594e-02 -2.11066697e-02\n",
            "   6.58316761e-02  3.30424570e-02 -4.30167615e-02  8.43344536e-03\n",
            "   3.15413848e-02  2.60375571e-02  6.30443869e-03 -6.43361360e-02\n",
            "   4.28975187e-02 -3.50518972e-02  4.54659313e-02  4.08728234e-02\n",
            "   2.70505156e-02 -3.69522423e-02  7.56119341e-02  3.16196494e-02\n",
            "  -5.60644604e-02 -7.29901390e-03 -6.10301085e-02 -3.75121757e-02\n",
            "  -3.06515768e-02 -1.91287939e-02 -5.99024966e-02  5.87188005e-02\n",
            "   5.40606817e-03 -5.07813245e-02 -2.31844038e-02 -4.89686755e-03\n",
            "   8.63634329e-03  2.80328691e-02 -1.64764952e-02 -9.18015167e-02\n",
            "  -3.85652035e-02  5.06255999e-02 -6.33575767e-02  1.34069789e-02\n",
            "   4.50867554e-03 -2.59462837e-02 -1.07906824e-02 -7.24480972e-02\n",
            "  -3.94041352e-02  5.53586781e-02 -1.49908550e-02  2.52567846e-02\n",
            "   2.28913762e-02  8.45497567e-03  1.09201530e-02 -5.86263165e-02\n",
            "  -6.20005699e-03  7.53945112e-02  3.88209894e-02 -6.58073053e-02\n",
            "   4.79133427e-02  5.47483675e-02  6.26839921e-02  2.04329751e-02\n",
            "  -4.48480435e-02 -5.63927330e-02  2.15955451e-02 -7.90400878e-02\n",
            "   3.48429643e-02  3.72334314e-03 -4.37611416e-02  5.34312762e-02\n",
            "  -2.73281708e-02  1.68270394e-02 -3.06856856e-02 -1.20246354e-02\n",
            "  -8.00458342e-03 -1.05878077e-02  1.14187761e-03 -5.03299609e-02\n",
            "  -7.09117204e-02 -2.71955319e-02 -4.52846475e-02 -5.26392385e-02\n",
            "   3.29423323e-02  2.00700518e-02 -1.01845274e-02  9.97671951e-03\n",
            "  -1.56578496e-02 -2.10353862e-02 -3.28844110e-03  5.75647242e-02\n",
            "  -3.37213539e-02  5.26234582e-02 -3.05231549e-02 -7.69454017e-02\n",
            "   2.18868479e-02  4.09839228e-02  6.20594062e-02  8.60002711e-02\n",
            "   6.93554431e-02 -2.62022857e-02  1.41388858e-02 -2.66586915e-02\n",
            "   3.40827703e-02  6.48023412e-02 -4.53498140e-02 -1.96437035e-02\n",
            "   2.34896336e-02  2.89873015e-02 -5.55970930e-02  4.13622558e-02\n",
            "   2.07337341e-03 -5.90874627e-02 -4.66427244e-02  2.58917212e-02\n",
            "   1.05018020e-02 -8.86212215e-02  7.52951503e-02 -5.22668473e-02\n",
            "  -8.72095861e-03  1.20541069e-03  3.09815593e-02  4.29009972e-03\n",
            "  -6.47522509e-02  6.45732880e-02 -3.81452404e-02 -6.35470599e-02\n",
            "   1.93157084e-02 -4.95927744e-02 -6.57295287e-02 -4.27482910e-02\n",
            "  -1.41289458e-02 -8.23335722e-02 -4.88808863e-02  7.10206032e-02\n",
            "  -6.55465052e-02  5.64545058e-02 -6.11953028e-02 -6.95243943e-03\n",
            "   4.09610644e-02 -4.54331115e-02  5.57729378e-02 -3.76087576e-02\n",
            "  -1.65184941e-02 -1.61464252e-02 -1.55438157e-02  2.51041856e-02\n",
            "  -4.16421592e-02  5.79394773e-02  3.39799398e-03  7.05877542e-02\n",
            "  -7.80960126e-03  2.05208289e-05 -3.98922525e-03  2.91868076e-02\n",
            "   5.92276454e-03 -2.82332045e-03  4.92977537e-02 -3.96945551e-02\n",
            "  -1.66963376e-02 -5.09951673e-02 -7.98356906e-02 -3.92573215e-02\n",
            "  -7.21733272e-03 -7.40136132e-02  5.52395098e-02 -3.96705084e-02\n",
            "  -3.91941220e-02 -3.26309875e-02 -4.41264268e-03 -3.64045091e-02\n",
            "  -4.99609038e-02 -4.46596108e-02  3.63322571e-02  3.63319404e-02\n",
            "   5.17249480e-02 -5.18280640e-02 -1.52618485e-02 -2.54113711e-02\n",
            "  -4.37789336e-02  2.37576514e-02  1.21097537e-02 -4.60087620e-02\n",
            "  -5.77225201e-02  1.89369470e-02 -7.95472320e-03 -6.95185661e-02\n",
            "  -8.41600895e-02 -2.52393186e-02  7.15635642e-02  3.95574421e-02\n",
            "  -5.30939214e-02 -4.91831973e-02 -5.79598919e-03 -6.67603314e-02\n",
            "  -7.09239021e-02 -9.00463108e-03  1.08637232e-02 -2.08346918e-02\n",
            "   6.05123192e-02  1.34046767e-02  3.70723121e-02 -4.37069871e-02\n",
            "  -1.21949697e-02  6.61813014e-04 -5.99547774e-02  2.81856079e-02\n",
            "   2.78519578e-02 -6.84006431e-04  5.37952855e-02  4.95609641e-03\n",
            "   2.04240326e-02  1.60914380e-02 -9.67784133e-03  3.04544996e-02\n",
            "   8.68912693e-03 -1.10787917e-02 -2.75633298e-02 -1.74919590e-02\n",
            "   1.65937876e-03  5.71255432e-03  5.57141490e-02  3.40846106e-02\n",
            "   3.37340799e-03  3.03070452e-02 -4.03920785e-02 -2.95262337e-02\n",
            "   6.20451681e-02 -6.75075948e-02 -6.18803501e-03 -1.29822106e-03\n",
            "  -1.36879878e-02 -1.16281852e-03  1.18191559e-02  8.97761434e-02\n",
            "  -6.72119409e-02 -8.30389652e-03  1.62514336e-02  2.66001932e-02\n",
            "  -2.51895934e-02  1.10815484e-02 -1.00919809e-02  1.38716437e-02\n",
            "   2.34993920e-02 -2.49092057e-02 -6.38583209e-03 -3.14685963e-02\n",
            "   5.34376828e-03  4.89511080e-02  5.02420142e-02 -2.65102144e-02\n",
            "   9.19773579e-02  3.42544392e-02  8.50559697e-02  2.43770331e-02\n",
            "  -7.92820286e-03 -2.01500393e-03  4.22920361e-02 -1.74433067e-02\n",
            "  -3.44680399e-02 -4.66870852e-02 -8.27660412e-02  6.03166446e-02\n",
            "   7.09434822e-02 -4.08547297e-02 -4.57312278e-02 -9.37029645e-02\n",
            "   7.08723962e-02  1.58880129e-02  1.41991745e-03  1.74645763e-02\n",
            "   4.07968350e-02 -5.96252047e-02  4.25173789e-02  7.31838942e-02\n",
            "   8.71154945e-03 -1.03983385e-02 -6.41310290e-02  2.94096358e-02\n",
            "   6.82909563e-02 -1.77278165e-02 -1.39949825e-02 -3.46206650e-02\n",
            "  -6.60408735e-02 -1.39899235e-02  9.45831463e-03 -3.70355323e-02\n",
            "  -9.20829363e-03 -3.01287845e-02  6.66722795e-03 -1.74210612e-02\n",
            "   2.45925356e-02 -4.83392812e-02  3.19407582e-02  1.41192079e-02\n",
            "  -1.54011054e-02  3.04868910e-02 -4.41386476e-02  4.25327616e-03\n",
            "   1.42099857e-02 -2.20060069e-03 -6.16129264e-02 -6.29041344e-02\n",
            "  -4.43699174e-02 -4.80045974e-02  2.29608379e-02 -8.13360885e-02\n",
            "  -4.49832603e-02  7.88688138e-02 -6.01631142e-02  7.56423920e-02\n",
            "  -2.91745178e-02 -3.98110114e-02 -3.30206305e-02 -6.65619746e-02\n",
            "   9.86048952e-03 -4.98874262e-02  2.32384913e-03  3.91532332e-02\n",
            "   1.75885074e-02  4.77851406e-02 -3.14726010e-02 -2.37432253e-02\n",
            "   7.29458183e-02 -5.91449179e-02 -5.42209595e-02  4.41832691e-02\n",
            "   5.04662842e-02  2.91056223e-02 -8.09132233e-02  6.15834782e-04\n",
            "   6.06118527e-04 -2.72827083e-03 -6.10972159e-02 -7.99991637e-02\n",
            "   5.95045388e-02 -2.59341262e-02  2.70026363e-03  7.29486495e-02\n",
            "   2.40310952e-02  3.22075076e-02 -2.89431703e-03 -8.01400095e-03\n",
            "  -3.39786634e-02  2.01739687e-02  6.45921826e-02  6.68309331e-02\n",
            "  -5.10838777e-02  6.87033981e-02 -4.13568504e-02 -4.37370222e-03\n",
            "   6.73153251e-02 -2.36060638e-02 -6.79179728e-02 -6.67080730e-02\n",
            "   1.34113552e-02  4.81247976e-02  4.33926508e-02  5.22269793e-02\n",
            "   5.82332201e-02 -4.35171537e-02 -5.15089147e-02  1.06867915e-03\n",
            "  -2.13528499e-02 -4.72738259e-02  6.99376762e-02 -5.97770996e-02\n",
            "   2.99576279e-02  5.58835082e-02 -2.34000050e-02 -1.16366083e-02\n",
            "   1.25173209e-02 -9.38037038e-02  7.01620355e-02  6.38908371e-02\n",
            "   6.36909604e-02 -2.36563794e-02 -3.22199203e-02 -5.53898476e-02]]\n",
            "Length of sentence embedding: 512\n"
          ]
        }
      ],
      "source": [
        "# Test our pretrained model\n",
        "random_train_sentence = random.choice(train_sentences)\n",
        "print(f\"Random sentence:\\n {random_train_sentence}\")\n",
        "use_embedded_sentence = tf_hub_embedding_layer([random_train_sentence])\n",
        "print(f\"Sentence after embedding:\\n {use_embedded_sentence}\")\n",
        "print(f\"Length of sentence embedding: {len(use_embedded_sentence[0])}\")"
      ]
    },
    {
      "cell_type": "markdown",
      "metadata": {
        "id": "h2Ez1I8NmN7p"
      },
      "source": [
        "### Building a model."
      ]
    },
    {
      "cell_type": "code",
      "execution_count": null,
      "metadata": {
        "colab": {
          "base_uri": "https://localhost:8080/"
        },
        "id": "dW8F_r0akPFW",
        "outputId": "9e61a03b-1294-450e-c1a5-27ddc69beda1"
      },
      "outputs": [
        {
          "name": "stdout",
          "output_type": "stream",
          "text": [
            "Model: \"model_2_USE_feature_extractor\"\n",
            "_________________________________________________________________\n",
            " Layer (type)                Output Shape              Param #   \n",
            "=================================================================\n",
            " input_2 (InputLayer)        [(None,)]                 0         \n",
            "                                                                 \n",
            " universal_sentence_encoder   (None, 512)              256797824 \n",
            " (KerasLayer)                                                    \n",
            "                                                                 \n",
            " dense_1 (Dense)             (None, 64)                32832     \n",
            "                                                                 \n",
            " dense_2 (Dense)             (None, 5)                 325       \n",
            "                                                                 \n",
            "=================================================================\n",
            "Total params: 256,830,981\n",
            "Trainable params: 33,157\n",
            "Non-trainable params: 256,797,824\n",
            "_________________________________________________________________\n"
          ]
        }
      ],
      "source": [
        "inputs = layers.Input(shape=[], dtype=tf.string) # need to use empty list for shape due to the tensorflow hub\n",
        "embedded_layer = tf_hub_embedding_layer(inputs)\n",
        "x = layers.Dense(64, activation=\"relu\")(embedded_layer)\n",
        "\n",
        "# Note: you could add more layers if you wanated\n",
        "outputs = layers.Dense(num_classes, activation=\"softmax\")(x)\n",
        "model_2 = tf.keras.Model(inputs=inputs,\n",
        "                         outputs=outputs,\n",
        "                         name=\"model_2_USE_feature_extractor\")\n",
        "\n",
        "model_2.summary()"
      ]
    },
    {
      "cell_type": "code",
      "execution_count": null,
      "metadata": {
        "id": "YdRb2mJHk1Oa"
      },
      "outputs": [],
      "source": [
        "model_2.compile(loss=\"categorical_crossentropy\",\n",
        "                metrics=[\"accuracy\"],\n",
        "                optimizer=tf.keras.optimizers.Adam())"
      ]
    },
    {
      "cell_type": "code",
      "execution_count": null,
      "metadata": {
        "colab": {
          "base_uri": "https://localhost:8080/"
        },
        "id": "WjgbOkGFlDn8",
        "outputId": "9ee80b08-14e9-42eb-967d-1bcf29d26169"
      },
      "outputs": [
        {
          "name": "stdout",
          "output_type": "stream",
          "text": [
            "Epoch 1/5\n",
            "562/562 [==============================] - 11s 15ms/step - loss: 0.9582 - accuracy: 0.6378 - val_loss: 0.8077 - val_accuracy: 0.6822\n",
            "Epoch 2/5\n",
            "562/562 [==============================] - 7s 12ms/step - loss: 0.7803 - accuracy: 0.6962 - val_loss: 0.7666 - val_accuracy: 0.7001\n",
            "Epoch 3/5\n",
            "562/562 [==============================] - 6s 12ms/step - loss: 0.7666 - accuracy: 0.7065 - val_loss: 0.7550 - val_accuracy: 0.7094\n",
            "Epoch 4/5\n",
            "562/562 [==============================] - 12s 21ms/step - loss: 0.7349 - accuracy: 0.7170 - val_loss: 0.7328 - val_accuracy: 0.7181\n",
            "Epoch 5/5\n",
            "562/562 [==============================] - 9s 17ms/step - loss: 0.7467 - accuracy: 0.7128 - val_loss: 0.7123 - val_accuracy: 0.7214\n"
          ]
        }
      ],
      "source": [
        "history_2 = model_2.fit(train_dataset,\n",
        "                        epochs=5,\n",
        "                        steps_per_epoch=int(0.1*len(train_dataset)),\n",
        "                        validation_data=valid_dataset,\n",
        "                        validation_steps=int(0.1*len(valid_dataset)))"
      ]
    },
    {
      "cell_type": "markdown",
      "metadata": {
        "id": "n23RRLE1lbRS"
      },
      "source": [
        "### Evaluate Model"
      ]
    },
    {
      "cell_type": "code",
      "execution_count": null,
      "metadata": {
        "colab": {
          "base_uri": "https://localhost:8080/"
        },
        "id": "8A1RLozTlerx",
        "outputId": "d6f19630-b2d1-41fa-ebd7-ae9d7066a575"
      },
      "outputs": [
        {
          "name": "stdout",
          "output_type": "stream",
          "text": [
            "945/945 [==============================] - 9s 10ms/step - loss: 0.7180 - accuracy: 0.7258\n"
          ]
        },
        {
          "data": {
            "text/plain": [
              "[0.7179844975471497, 0.7258374094963074]"
            ]
          },
          "execution_count": 55,
          "metadata": {},
          "output_type": "execute_result"
        }
      ],
      "source": [
        "model_2.evaluate(valid_dataset)"
      ]
    },
    {
      "cell_type": "code",
      "execution_count": null,
      "metadata": {
        "colab": {
          "base_uri": "https://localhost:8080/"
        },
        "id": "N2TO_0v0lmZC",
        "outputId": "d295b395-db7a-4409-b2fd-fb2cb401cc8a"
      },
      "outputs": [
        {
          "data": {
            "text/plain": [
              "array([[0.59871614, 0.26850334, 0.00407729, 0.11784363, 0.01085964],\n",
              "       [0.4106371 , 0.49285945, 0.00512897, 0.0883146 , 0.00305993],\n",
              "       [0.3474609 , 0.0865142 , 0.03373582, 0.48109493, 0.05119417],\n",
              "       ...,\n",
              "       [0.00259736, 0.0027661 , 0.12039094, 0.00102926, 0.8732164 ],\n",
              "       [0.00254128, 0.01993473, 0.50311595, 0.00096104, 0.473447  ],\n",
              "       [0.15550403, 0.22749655, 0.57578564, 0.00280938, 0.0384044 ]],\n",
              "      dtype=float32)"
            ]
          },
          "execution_count": 56,
          "metadata": {},
          "output_type": "execute_result"
        }
      ],
      "source": [
        "# Make predictions\n",
        "model_2_pred_probs = model_2.predict(valid_dataset)\n",
        "model_2_pred_probs"
      ]
    },
    {
      "cell_type": "code",
      "execution_count": null,
      "metadata": {
        "colab": {
          "base_uri": "https://localhost:8080/"
        },
        "id": "9jOrHX1nloTB",
        "outputId": "3f0c605b-f7bd-4546-c5d6-61e9d54a56f5"
      },
      "outputs": [
        {
          "data": {
            "text/plain": [
              "<tf.Tensor: shape=(30212,), dtype=int64, numpy=array([0, 1, 3, ..., 4, 2, 2])>"
            ]
          },
          "execution_count": 57,
          "metadata": {},
          "output_type": "execute_result"
        }
      ],
      "source": [
        "# Convert pred probs to classes\n",
        "model_2_preds = tf.argmax(model_2_pred_probs, axis=1)\n",
        "model_2_preds"
      ]
    },
    {
      "cell_type": "code",
      "execution_count": null,
      "metadata": {
        "colab": {
          "base_uri": "https://localhost:8080/"
        },
        "id": "L4-9Mtv_lvuV",
        "outputId": "8721df5f-341c-435c-c87b-d4405d3e58b6"
      },
      "outputs": [
        {
          "data": {
            "text/plain": [
              "{'accuracy': 72.58374155964518,\n",
              " 'f1': 0.7202778594041731,\n",
              " 'precision': 0.721693871736448,\n",
              " 'recall': 0.7258374155964518}"
            ]
          },
          "execution_count": 58,
          "metadata": {},
          "output_type": "execute_result"
        }
      ],
      "source": [
        "# Calculate the results from TF Hub pretrained embeddings results\n",
        "model_2_results = calculate_results(y_true=val_labels_encoded,\n",
        "                                    y_pred=model_2_preds)\n",
        "\n",
        "model_2_results"
      ]
    },
    {
      "cell_type": "markdown",
      "metadata": {
        "id": "yCgkGAO8n3Zg"
      },
      "source": [
        "## Model 3:Conv1D with character embeddings"
      ]
    },
    {
      "cell_type": "markdown",
      "metadata": {
        "id": "zAerePS5qtBV"
      },
      "source": [
        "### Creating a character-level tokenizer"
      ]
    },
    {
      "cell_type": "code",
      "execution_count": null,
      "metadata": {
        "colab": {
          "base_uri": "https://localhost:8080/"
        },
        "id": "AJBo03JOqxdL",
        "outputId": "19937925-4f65-4030-feb5-b5e5dc1fe899"
      },
      "outputs": [
        {
          "data": {
            "text/plain": [
              "['to investigate the efficacy of @ weeks of daily low-dose oral prednisolone in improving pain , mobility , and systemic low-grade inflammation in the short term and whether the effect would be sustained at @ weeks in older adults with moderate to severe knee osteoarthritis ( oa ) .',\n",
              " 'a total of @ patients with primary knee oa were randomized @:@ ; @ received @ mg/day of prednisolone and @ received placebo for @ weeks .',\n",
              " 'outcome measures included pain reduction and improvement in function scores and systemic inflammation markers .',\n",
              " 'pain was assessed using the visual analog pain scale ( @-@ mm ) .',\n",
              " 'secondary outcome measures included the western ontario and mcmaster universities osteoarthritis index scores , patient global assessment ( pga ) of the severity of knee oa , and @-min walk distance ( @mwd ) .']"
            ]
          },
          "execution_count": 59,
          "metadata": {},
          "output_type": "execute_result"
        }
      ],
      "source": [
        "train_sentences[:5]"
      ]
    },
    {
      "cell_type": "code",
      "execution_count": null,
      "metadata": {
        "colab": {
          "base_uri": "https://localhost:8080/",
          "height": 160
        },
        "id": "GJjCbqjSrTpy",
        "outputId": "fdefe60b-4620-44a8-ce30-0cbad8948da3"
      },
      "outputs": [
        {
          "data": {
            "application/vnd.google.colaboratory.intrinsic+json": {
              "type": "string"
            },
            "text/plain": [
              "'t o   i n v e s t i g a t e   t h e   e f f i c a c y   o f   @   w e e k s   o f   d a i l y   l o w - d o s e   o r a l   p r e d n i s o l o n e   i n   i m p r o v i n g   p a i n   ,   m o b i l i t y   ,   a n d   s y s t e m i c   l o w - g r a d e   i n f l a m m a t i o n   i n   t h e   s h o r t   t e r m   a n d   w h e t h e r   t h e   e f f e c t   w o u l d   b e   s u s t a i n e d   a t   @   w e e k s   i n   o l d e r   a d u l t s   w i t h   m o d e r a t e   t o   s e v e r e   k n e e   o s t e o a r t h r i t i s   (   o a   )   .'"
            ]
          },
          "execution_count": 60,
          "metadata": {},
          "output_type": "execute_result"
        }
      ],
      "source": [
        "\" \".join(list(train_sentences[0]))"
      ]
    },
    {
      "cell_type": "code",
      "execution_count": null,
      "metadata": {
        "id": "nB2tv6bYq_Gp"
      },
      "outputs": [],
      "source": [
        "# Create a function to split sentences into characters\n",
        "def split_chars(text):\n",
        "  return \" \".join(list(text))"
      ]
    },
    {
      "cell_type": "code",
      "execution_count": null,
      "metadata": {
        "colab": {
          "base_uri": "https://localhost:8080/",
          "height": 89
        },
        "id": "qyf-ugKhrHY6",
        "outputId": "def96715-e311-47aa-e13b-9e237e53b906"
      },
      "outputs": [
        {
          "data": {
            "application/vnd.google.colaboratory.intrinsic+json": {
              "type": "string"
            },
            "text/plain": [
              "'a l l   c l i n i c a l   e v e n t   r a t e s   w e r e   m a r k e d l y   l o w e r   i n   r u s s i a / g e o r g i a   ,   a n d   t h e r e   w a s   n o   d e t e c t a b l e   i m p a c t   o f   s p i r o n o l a c t o n e   o n   a n y   o u t c o m e s   .'"
            ]
          },
          "execution_count": 62,
          "metadata": {},
          "output_type": "execute_result"
        }
      ],
      "source": [
        "# Text spliting non-character-level sequence into characters\n",
        "split_chars(random_train_sentence)"
      ]
    },
    {
      "cell_type": "code",
      "execution_count": null,
      "metadata": {
        "colab": {
          "base_uri": "https://localhost:8080/"
        },
        "id": "WWJ7MgKVrKJE",
        "outputId": "2354f9f8-74b5-487c-b3d1-5aadf47b62ca"
      },
      "outputs": [
        {
          "data": {
            "text/plain": [
              "['t o   i n v e s t i g a t e   t h e   e f f i c a c y   o f   @   w e e k s   o f   d a i l y   l o w - d o s e   o r a l   p r e d n i s o l o n e   i n   i m p r o v i n g   p a i n   ,   m o b i l i t y   ,   a n d   s y s t e m i c   l o w - g r a d e   i n f l a m m a t i o n   i n   t h e   s h o r t   t e r m   a n d   w h e t h e r   t h e   e f f e c t   w o u l d   b e   s u s t a i n e d   a t   @   w e e k s   i n   o l d e r   a d u l t s   w i t h   m o d e r a t e   t o   s e v e r e   k n e e   o s t e o a r t h r i t i s   (   o a   )   .',\n",
              " 'a   t o t a l   o f   @   p a t i e n t s   w i t h   p r i m a r y   k n e e   o a   w e r e   r a n d o m i z e d   @ : @   ;   @   r e c e i v e d   @   m g / d a y   o f   p r e d n i s o l o n e   a n d   @   r e c e i v e d   p l a c e b o   f o r   @   w e e k s   .',\n",
              " 'o u t c o m e   m e a s u r e s   i n c l u d e d   p a i n   r e d u c t i o n   a n d   i m p r o v e m e n t   i n   f u n c t i o n   s c o r e s   a n d   s y s t e m i c   i n f l a m m a t i o n   m a r k e r s   .',\n",
              " 'p a i n   w a s   a s s e s s e d   u s i n g   t h e   v i s u a l   a n a l o g   p a i n   s c a l e   (   @ - @   m m   )   .',\n",
              " 's e c o n d a r y   o u t c o m e   m e a s u r e s   i n c l u d e d   t h e   w e s t e r n   o n t a r i o   a n d   m c m a s t e r   u n i v e r s i t i e s   o s t e o a r t h r i t i s   i n d e x   s c o r e s   ,   p a t i e n t   g l o b a l   a s s e s s m e n t   (   p g a   )   o f   t h e   s e v e r i t y   o f   k n e e   o a   ,   a n d   @ - m i n   w a l k   d i s t a n c e   (   @ m w d   )   .']"
            ]
          },
          "execution_count": 63,
          "metadata": {},
          "output_type": "execute_result"
        }
      ],
      "source": [
        "# Split sequence-level data splits into character-level data splits\n",
        "train_chars = [split_chars(sentence) for sentence in train_sentences]\n",
        "val_chars = [split_chars(sentence) for sentence in val_sentences]\n",
        "test_chars = [split_chars(sentence) for sentence in test_sentences]\n",
        "\n",
        "train_chars[:5]"
      ]
    },
    {
      "cell_type": "code",
      "execution_count": null,
      "metadata": {
        "colab": {
          "base_uri": "https://localhost:8080/"
        },
        "id": "jcTNXXFWsEmQ",
        "outputId": "bf3946aa-b933-4899-92eb-662e6b714211"
      },
      "outputs": [
        {
          "data": {
            "text/plain": [
              "149.3662574983337"
            ]
          },
          "execution_count": 64,
          "metadata": {},
          "output_type": "execute_result"
        }
      ],
      "source": [
        "# What's the average character length\n",
        "chars_len = [len(sentence) for sentence in train_sentences]\n",
        "mean_char_len = np.mean(chars_len)\n",
        "mean_char_len"
      ]
    },
    {
      "cell_type": "code",
      "execution_count": null,
      "metadata": {
        "colab": {
          "base_uri": "https://localhost:8080/",
          "height": 283
        },
        "id": "6lYrEBctsnBs",
        "outputId": "4467a7a0-3ee8-489d-90ad-5431a5129535"
      },
      "outputs": [
        {
          "data": {
            "text/plain": [
              "(0.0, 800.0)"
            ]
          },
          "execution_count": 65,
          "metadata": {},
          "output_type": "execute_result"
        },
        {
          "data": {
            "image/png": "[encoded data removed]",
            "text/plain": [
              "<Figure size 432x288 with 1 Axes>"
            ]
          },
          "metadata": {},
          "output_type": "display_data"
        }
      ],
      "source": [
        "# Check the distribution of our sequences at a character-levle\n",
        "plt.hist(chars_len,bins=20)\n",
        "plt.xlim(0,800)"
      ]
    },
    {
      "cell_type": "code",
      "execution_count": null,
      "metadata": {
        "colab": {
          "base_uri": "https://localhost:8080/"
        },
        "id": "avbDOYHstNrh",
        "outputId": "7e088fa3-3512-4a30-a0eb-3cdab1fb2576"
      },
      "outputs": [
        {
          "data": {
            "text/plain": [
              "290"
            ]
          },
          "execution_count": 66,
          "metadata": {},
          "output_type": "execute_result"
        }
      ],
      "source": [
        "# Find what character length covers 95% of sequences\n",
        "output_seq_char_len = int(np.percentile(chars_len, 95))\n",
        "output_seq_char_len"
      ]
    },
    {
      "cell_type": "code",
      "execution_count": null,
      "metadata": {
        "colab": {
          "base_uri": "https://localhost:8080/",
          "height": 35
        },
        "id": "CDWrrgaHuCyY",
        "outputId": "8bdb387d-de50-464e-92b9-ad87d16f8477"
      },
      "outputs": [
        {
          "data": {
            "application/vnd.google.colaboratory.intrinsic+json": {
              "type": "string"
            },
            "text/plain": [
              "'abcdefghijklmnopqrstuvwxyz0123456789!\"#$%&\\'()*+,-./:;<=>?@[\\\\]^_`{|}~'"
            ]
          },
          "execution_count": 67,
          "metadata": {},
          "output_type": "execute_result"
        }
      ],
      "source": [
        "# Get all keyboard characters\n",
        "import string\n",
        "alphabet = string.ascii_lowercase + string.digits + string.punctuation\n",
        "alphabet"
      ]
    },
    {
      "cell_type": "code",
      "execution_count": null,
      "metadata": {
        "colab": {
          "base_uri": "https://localhost:8080/"
        },
        "id": "2b2v9v_8uebd",
        "outputId": "010129cd-ba8d-4ef8-936f-e27d0c4ed184"
      },
      "outputs": [
        {
          "data": {
            "text/plain": [
              "70"
            ]
          },
          "execution_count": 68,
          "metadata": {},
          "output_type": "execute_result"
        }
      ],
      "source": [
        "NUM_CHAR_TOKENS = len(alphabet) + 2 # add 2 spacee and OOV (Out of vocab token)\n",
        "NUM_CHAR_TOKENS"
      ]
    },
    {
      "cell_type": "code",
      "execution_count": null,
      "metadata": {
        "id": "SU9GvnUB0VFO"
      },
      "outputs": [],
      "source": [
        "# Create char-level token vectorizer instance\n",
        "# https://www.tensorflow.org/api_docs/python/tf/keras/layers/TextVectorization\n",
        "char_vectorizer = TextVectorization(max_tokens=NUM_CHAR_TOKENS, #70\n",
        "                                    output_sequence_length=output_seq_char_len, #290\n",
        "                                    standardize=None,\n",
        "                                    name='char_vectorizer') \n",
        "                                    "
      ]
    },
    {
      "cell_type": "code",
      "execution_count": null,
      "metadata": {
        "id": "uNwOIAJ88_b1"
      },
      "outputs": [],
      "source": [
        "# Adapt character vectorizer to training character\n",
        "char_vectorizer.adapt(train_chars)"
      ]
    },
    {
      "cell_type": "code",
      "execution_count": null,
      "metadata": {
        "colab": {
          "base_uri": "https://localhost:8080/"
        },
        "id": "tzFZxyF39grJ",
        "outputId": "7d4ae85c-fa83-4f51-e4a9-7435981eb7f5"
      },
      "outputs": [
        {
          "name": "stdout",
          "output_type": "stream",
          "text": [
            "Number of different characters in character vocab: 57\n",
            "10 most common characters: ['', '[UNK]', 'e', 't', 'i', 'a', 'n', 'o', 'r', 's']\n",
            "5 least common characters: ['|', '\"', ']', '\\\\', '[']\n"
          ]
        }
      ],
      "source": [
        "# Check character vocab stats\n",
        "char_vocab = char_vectorizer.get_vocabulary()\n",
        "print(f\"Number of different characters in character vocab: {len(char_vocab)}\")\n",
        "print(f\"10 most common characters: {char_vocab[:10]}\")\n",
        "print(f\"5 least common characters: {char_vocab[-5:]}\")"
      ]
    },
    {
      "cell_type": "code",
      "execution_count": null,
      "metadata": {
        "colab": {
          "base_uri": "https://localhost:8080/"
        },
        "id": "9L9Dtzhk-CIl",
        "outputId": "ff42e9bc-51de-4385-cf26-386f5a49ded3"
      },
      "outputs": [
        {
          "name": "stdout",
          "output_type": "stream",
          "text": [
            "Charified text:\n",
            " f u r t h e r   s t u d i e s   u s i n g   v o i d i n g   d i a r i e s   a n d   e x c l u d i n g   p a t i e n t s   w i t h   n o c t u r n a l   p o l y u r i a   w o u l d   b e   n e e d e d   t o   m o r e   p r e c i s e l y   e s t i m a t e   t h e   i m p a c t   o f   t a d a l a f i l   o n   n o c t u r i a   a s s o c i a t e d   w i t h   l u t s / b p h   .\n",
            "\n",
            " Length of random_train_chars: 379\n",
            "\n",
            " Vectorized chars:\n",
            " [[17 16  8  3 13  2  8  9  3 16 10  4  2  9 16  9  4  6 18 22  7  4 10  4\n",
            "   6 18 10  4  5  8  4  2  9  5  6 10  2 30 11 12 16 10  4  6 18 14  5  3\n",
            "   4  2  6  3  9 21  4  3 13  6  7 11  3 16  8  6  5 12 14  7 12 20 16  8\n",
            "   4  5 21  7 16 12 10 23  2  6  2  2 10  2 10  3  7 15  7  8  2 14  8  2\n",
            "  11  4  9  2 12 20  2  9  3  4 15  5  3  2  3 13  2  4 15 14  5 11  3  7\n",
            "  17  3  5 10  5 12  5 17  4 12  7  6  6  7 11  3 16  8  4  5  5  9  9  7\n",
            "  11  4  5  3  2 10 21  4  3 13 12 16  3  9 35 23 14 13 25  0  0  0  0  0\n",
            "   0  0  0  0  0  0  0  0  0  0  0  0  0  0  0  0  0  0  0  0  0  0  0  0\n",
            "   0  0  0  0  0  0  0  0  0  0  0  0  0  0  0  0  0  0  0  0  0  0  0  0\n",
            "   0  0  0  0  0  0  0  0  0  0  0  0  0  0  0  0  0  0  0  0  0  0  0  0\n",
            "   0  0  0  0  0  0  0  0  0  0  0  0  0  0  0  0  0  0  0  0  0  0  0  0\n",
            "   0  0  0  0  0  0  0  0  0  0  0  0  0  0  0  0  0  0  0  0  0  0  0  0\n",
            "   0  0]]\n",
            "\n",
            " Length of vectorzied chars: 290\n"
          ]
        }
      ],
      "source": [
        "# Test our character vectorizer\n",
        "random_train_chars = random.choice(train_chars)\n",
        "print(f\"Charified text:\\n {random_train_chars}\")\n",
        "print(f\"\\n Length of random_train_chars: {len(random_train_chars)}\")\n",
        "vectorized_chars = char_vectorizer([random_train_chars])\n",
        "print(f\"\\n Vectorized chars:\\n {vectorized_chars}\")\n",
        "print(f\"\\n Length of vectorzied chars: {len(vectorized_chars[0])}\")"
      ]
    },
    {
      "cell_type": "markdown",
      "metadata": {
        "id": "0E3cwT2LBYL2"
      },
      "source": [
        "### Creating a character-level embedding"
      ]
    },
    {
      "cell_type": "code",
      "execution_count": null,
      "metadata": {
        "id": "Pa20S5QDAJi5"
      },
      "outputs": [],
      "source": [
        "# Creating a character-level embedding\n",
        "# https://arxiv.org/pdf/1612.05251.pdf\n",
        "char_embed = layers.Embedding(input_dim=len(char_vocab), # number of different characters.\n",
        "                              output_dim=25, # size of the char embedding in the paper.\n",
        "                              mask_zero=True,\n",
        "                              name=\"char_embed\")"
      ]
    },
    {
      "cell_type": "code",
      "execution_count": null,
      "metadata": {
        "colab": {
          "base_uri": "https://localhost:8080/"
        },
        "id": "UuyRj-nYCUQu",
        "outputId": "12f4d335-31d8-480c-d22e-277dc2a22e79"
      },
      "outputs": [
        {
          "name": "stdout",
          "output_type": "stream",
          "text": [
            "Charified text:\n",
            " f u r t h e r   s t u d i e s   u s i n g   v o i d i n g   d i a r i e s   a n d   e x c l u d i n g   p a t i e n t s   w i t h   n o c t u r n a l   p o l y u r i a   w o u l d   b e   n e e d e d   t o   m o r e   p r e c i s e l y   e s t i m a t e   t h e   i m p a c t   o f   t a d a l a f i l   o n   n o c t u r i a   a s s o c i a t e d   w i t h   l u t s / b p h   .\n",
            "\n",
            "Leghth of random train chars: 379\n",
            "\n",
            "Embedded chars (after vectorization and embedding):\n",
            " [[[-0.0066114   0.01414538 -0.02013879 ...  0.02699535  0.03430355\n",
            "    0.00240944]\n",
            "  [-0.04470313 -0.00572906 -0.02991126 ...  0.01512322  0.02405175\n",
            "    0.03703859]\n",
            "  [-0.02820447  0.04575152  0.04024763 ...  0.04695096  0.04995391\n",
            "    0.04563396]\n",
            "  ...\n",
            "  [ 0.03578981 -0.01478906  0.0484083  ... -0.04249112  0.01320999\n",
            "   -0.0379091 ]\n",
            "  [ 0.03578981 -0.01478906  0.0484083  ... -0.04249112  0.01320999\n",
            "   -0.0379091 ]\n",
            "  [ 0.03578981 -0.01478906  0.0484083  ... -0.04249112  0.01320999\n",
            "   -0.0379091 ]]]\n",
            "Cjaracted embedding shape: (1, 290, 25)\n"
          ]
        }
      ],
      "source": [
        "# Test our character embedding layer\n",
        "print(f\"Charified text:\\n {random_train_chars}\\n\")\n",
        "print(f\"Leghth of random train chars: {len(random_train_chars)}\")\n",
        "char_embed_example = char_embed(char_vectorizer([random_train_chars]))\n",
        "print(f\"\\nEmbedded chars (after vectorization and embedding):\\n {char_embed_example}\")\n",
        "print(f\"Cjaracted embedding shape: {char_embed_example.shape}\")"
      ]
    },
    {
      "cell_type": "markdown",
      "metadata": {
        "id": "ReXjsp9yDDY1"
      },
      "source": [
        "### Build a model"
      ]
    },
    {
      "cell_type": "code",
      "execution_count": null,
      "metadata": {
        "colab": {
          "base_uri": "https://localhost:8080/"
        },
        "id": "DoOMklzZMGEK",
        "outputId": "8be04500-6762-462e-942e-e73a6bcc4f89"
      },
      "outputs": [
        {
          "name": "stdout",
          "output_type": "stream",
          "text": [
            "Model: \"model_3_Conv1D_char_embeddings\"\n",
            "_________________________________________________________________\n",
            " Layer (type)                Output Shape              Param #   \n",
            "=================================================================\n",
            " input_3 (InputLayer)        [(None, 1)]               0         \n",
            "                                                                 \n",
            " char_vectorizer (TextVector  (None, 290)              0         \n",
            " ization)                                                        \n",
            "                                                                 \n",
            " char_embed (Embedding)      (None, 290, 25)           1425      \n",
            "                                                                 \n",
            " conv1d_1 (Conv1D)           (None, 290, 64)           8064      \n",
            "                                                                 \n",
            " global_max_pooling1d_1 (Glo  (None, 64)               0         \n",
            " balMaxPooling1D)                                                \n",
            "                                                                 \n",
            " dense_3 (Dense)             (None, 5)                 325       \n",
            "                                                                 \n",
            "=================================================================\n",
            "Total params: 9,814\n",
            "Trainable params: 9,814\n",
            "Non-trainable params: 0\n",
            "_________________________________________________________________\n"
          ]
        }
      ],
      "source": [
        "inputs = layers.Input(shape=(1,), dtype='string')\n",
        "char_vectors = char_vectorizer(inputs)\n",
        "char_embedded = char_embed(char_vectors)\n",
        "x = layers.Conv1D(64, kernel_size=5, padding=\"same\", activation=\"relu\")(char_embedded)\n",
        "x = layers.GlobalMaxPooling1D()(x)\n",
        "outputs = layers.Dense(num_classes, activation=\"softmax\")(x)\n",
        "model_3 = tf.keras.Model(inputs=inputs, outputs=outputs ,name=\"model_3_Conv1D_char_embeddings\")\n",
        "\n",
        "model_3.summary()"
      ]
    },
    {
      "cell_type": "code",
      "execution_count": null,
      "metadata": {
        "id": "M6JuewCkNGYJ"
      },
      "outputs": [],
      "source": [
        "model_3.compile(loss='categorical_crossentropy',\n",
        "                optimizer=tf.keras.optimizers.Adam(),\n",
        "                metrics=[\"accuracy\"])"
      ]
    },
    {
      "cell_type": "markdown",
      "metadata": {
        "id": "hgNidOXTTECU"
      },
      "source": [
        "Code below will run with less accuracy because we have create datasets for words only not character for this model.\n"
      ]
    },
    {
      "cell_type": "code",
      "execution_count": null,
      "metadata": {
        "id": "zRZ7FjwMNrs1"
      },
      "outputs": [],
      "source": [
        "# history_3 = model_3.fit(train_dataset,\n",
        "#                         epochs=5,\n",
        "#                         steps_per_epoch=int(0.1*len(train_dataset)),\n",
        "#                         validation_data=valid_dataset,\n",
        "#                         validation_steps=int(0.1*len(valid_dataset)))"
      ]
    },
    {
      "cell_type": "markdown",
      "metadata": {
        "id": "Doqb4RNqSjSJ"
      },
      "source": [
        "## Create char level datasets\n"
      ]
    },
    {
      "cell_type": "code",
      "execution_count": null,
      "metadata": {
        "colab": {
          "base_uri": "https://localhost:8080/"
        },
        "id": "m4V8Q9AhTbnP",
        "outputId": "5b621550-fdac-412a-8618-e7105b137852"
      },
      "outputs": [
        {
          "data": {
            "text/plain": [
              "<PrefetchDataset element_spec=(TensorSpec(shape=(None,), dtype=tf.string, name=None), TensorSpec(shape=(None, 5), dtype=tf.float64, name=None))>"
            ]
          },
          "execution_count": 78,
          "metadata": {},
          "output_type": "execute_result"
        }
      ],
      "source": [
        "train_char_dataset = tf.data.Dataset.from_tensor_slices((train_chars, train_labels_one_hot)).batch(32).prefetch(tf.data.AUTOTUNE)\n",
        "val_char_dataset = tf.data.Dataset.from_tensor_slices((val_chars, val_labels_one_hot)).batch(32).prefetch(tf.data.AUTOTUNE)\n",
        "test_char_dataset = tf.data.Dataset.from_tensor_slices((test_chars, test_labels_one_hot)).batch(32).prefetch(tf.data.AUTOTUNE)\n",
        "\n",
        "# Checking dataset\n",
        "train_char_dataset"
      ]
    },
    {
      "cell_type": "markdown",
      "metadata": {
        "id": "pKemJL3mTrBx"
      },
      "source": [
        "### Build a model with char datasets"
      ]
    },
    {
      "cell_type": "code",
      "execution_count": null,
      "metadata": {
        "colab": {
          "base_uri": "https://localhost:8080/"
        },
        "id": "lFnAc4ZDT41O",
        "outputId": "09b0fdd0-4063-4fbc-da28-9d8a1e4b99c6"
      },
      "outputs": [
        {
          "name": "stdout",
          "output_type": "stream",
          "text": [
            "Epoch 1/5\n",
            "562/562 [==============================] - 4s 5ms/step - loss: 1.1667 - accuracy: 0.5323 - val_loss: 0.9323 - val_accuracy: 0.6313\n",
            "Epoch 2/5\n",
            "562/562 [==============================] - 3s 5ms/step - loss: 0.8888 - accuracy: 0.6472 - val_loss: 0.8401 - val_accuracy: 0.6695\n",
            "Epoch 3/5\n",
            "562/562 [==============================] - 3s 5ms/step - loss: 0.8199 - accuracy: 0.6810 - val_loss: 0.7774 - val_accuracy: 0.6985\n",
            "Epoch 4/5\n",
            "562/562 [==============================] - 3s 5ms/step - loss: 0.7748 - accuracy: 0.7045 - val_loss: 0.7567 - val_accuracy: 0.7035\n",
            "Epoch 5/5\n",
            "562/562 [==============================] - 3s 5ms/step - loss: 0.7648 - accuracy: 0.7067 - val_loss: 0.7233 - val_accuracy: 0.7207\n"
          ]
        }
      ],
      "source": [
        "history_3 = model_3.fit(train_char_dataset,\n",
        "                        epochs=5,\n",
        "                        steps_per_epoch=int(0.1*len(train_char_dataset)),\n",
        "                        validation_data=val_char_dataset,\n",
        "                        validation_steps=int(0.1*len(val_char_dataset)))"
      ]
    },
    {
      "cell_type": "markdown",
      "metadata": {
        "id": "9LMpVh9IXmmL"
      },
      "source": [
        "### Evaluate the model"
      ]
    },
    {
      "cell_type": "code",
      "execution_count": null,
      "metadata": {
        "colab": {
          "base_uri": "https://localhost:8080/"
        },
        "id": "16gJpbN6UAD7",
        "outputId": "8ca0afed-d995-4dcd-e49c-a5f3fcb19e0a"
      },
      "outputs": [
        {
          "name": "stdout",
          "output_type": "stream",
          "text": [
            "945/945 [==============================] - 3s 3ms/step - loss: 0.7323 - accuracy: 0.7168\n"
          ]
        },
        {
          "data": {
            "text/plain": [
              "[0.732313334941864, 0.7167681455612183]"
            ]
          },
          "execution_count": 80,
          "metadata": {},
          "output_type": "execute_result"
        }
      ],
      "source": [
        "model_3.evaluate(val_char_dataset)"
      ]
    },
    {
      "cell_type": "code",
      "execution_count": null,
      "metadata": {
        "colab": {
          "base_uri": "https://localhost:8080/"
        },
        "id": "uVR8SCTJXmFF",
        "outputId": "3cb0c0e5-d9ab-4488-a219-068cf355f4f4"
      },
      "outputs": [
        {
          "data": {
            "text/plain": [
              "array([[0.22613712, 0.61782944, 0.01970198, 0.12933749, 0.00699398],\n",
              "       [0.26806894, 0.62367463, 0.0057991 , 0.0700276 , 0.03242974],\n",
              "       [0.06640345, 0.5097481 , 0.13994001, 0.23451184, 0.04939665],\n",
              "       ...,\n",
              "       [0.00225137, 0.0024503 , 0.04246683, 0.00282702, 0.95000446],\n",
              "       [0.01825335, 0.37082934, 0.2207045 , 0.01492592, 0.3752869 ],\n",
              "       [0.43635848, 0.4000927 , 0.09503103, 0.052873  , 0.01564484]],\n",
              "      dtype=float32)"
            ]
          },
          "execution_count": 81,
          "metadata": {},
          "output_type": "execute_result"
        }
      ],
      "source": [
        "# Make predictions\n",
        "model_3_pred_probs = model_3.predict(val_char_dataset)\n",
        "model_3_pred_probs"
      ]
    },
    {
      "cell_type": "code",
      "execution_count": null,
      "metadata": {
        "colab": {
          "base_uri": "https://localhost:8080/"
        },
        "id": "Af4MKeILXtbh",
        "outputId": "f389efae-59e2-4f35-f00b-1d54f3c3d579"
      },
      "outputs": [
        {
          "data": {
            "text/plain": [
              "<tf.Tensor: shape=(30212,), dtype=int64, numpy=array([1, 1, 1, ..., 4, 4, 0])>"
            ]
          },
          "execution_count": 82,
          "metadata": {},
          "output_type": "execute_result"
        }
      ],
      "source": [
        "# Convert pred probs to class\n",
        "model_3_preds = tf.argmax(model_3_pred_probs, axis=1)\n",
        "model_3_preds"
      ]
    },
    {
      "cell_type": "code",
      "execution_count": null,
      "metadata": {
        "colab": {
          "base_uri": "https://localhost:8080/"
        },
        "id": "0YcV4bKkYG7W",
        "outputId": "8e85f626-8380-4089-bd9b-7eda91db9296"
      },
      "outputs": [
        {
          "data": {
            "text/plain": [
              "{'accuracy': 71.67681715874487,\n",
              " 'f1': 0.7109595235086337,\n",
              " 'precision': 0.7187454543215217,\n",
              " 'recall': 0.7167681715874487}"
            ]
          },
          "execution_count": 83,
          "metadata": {},
          "output_type": "execute_result"
        }
      ],
      "source": [
        "# Calculate the results for Conv1D model\n",
        "model_3_results = calculate_results(y_true=val_labels_encoded,\n",
        "                                    y_pred=model_3_preds)\n",
        "model_3_results"
      ]
    },
    {
      "cell_type": "markdown",
      "metadata": {
        "id": "29sVDFsXYVgo"
      },
      "source": [
        "## Model 4: Combining pretrained token embeddings + characters embedding\n",
        "\n",
        "Combining Model 2 and Model 3 together"
      ]
    },
    {
      "cell_type": "markdown",
      "metadata": {
        "id": "V8pQfdrmcWmi"
      },
      "source": [
        "### Build a model\n",
        "1. Create a token-level embedding model (similar `model_1`)\n",
        "2. Create a character-level model (similar to `model_3` with slight modification)\n",
        "3. Combine 1&2 with concatenate (`layers.Concatenate`)\n",
        "4. Build a series of output layers on top of 3 similar to Figure 1 and section 4.2 of https://arxiv.org/pdf/1612.05251.pdf\n",
        "5. Construct a model which takes token and character-level sequences as input and produces sequence label probabilities as output."
      ]
    },
    {
      "cell_type": "code",
      "execution_count": null,
      "metadata": {
        "id": "194LXrIVZpOY"
      },
      "outputs": [],
      "source": [
        "# 1. Setup token inputs/model\n",
        "token_inputs = layers.Input(shape=[], dtype=tf.string, name=\"token_input\")\n",
        "token_embeddings = tf_hub_embedding_layer(token_inputs)\n",
        "token_outputs = layers.Dense(128, activation=\"relu\")(token_embeddings)\n",
        "token_model = tf.keras.Model(inputs=token_inputs,\n",
        "                             outputs=token_outputs)\n",
        "\n",
        "# 2. Setup char inputs/model\n",
        "char_inputs = layers.Input(shape=(1,), dtype=tf.string, name=\"char_input\")\n",
        "char_vectors = char_vectorizer(char_inputs)\n",
        "char_embeddings = char_embed(char_vectors)\n",
        "char_bi_lstm = layers.Bidirectional(layers.LSTM(24))(char_embeddings)\n",
        "char_model = tf.keras.Model(inputs=char_inputs, \n",
        "                            outputs=char_bi_lstm)\n",
        "\n",
        "# 3. Concatenate token and char inputs (create hybrid token embedding)\n",
        "token_char_concat = layers.Concatenate(name=\"token_char_bybrid\")([token_model.output,\n",
        "                                                                  char_model.output])\n",
        "\n",
        "# 4. Create output layers - adding in Dropout, discussed in section 4.2: https://arxiv.org/pdf/1612.05251.pdf\n",
        "combined_dropout = layers.Dropout(0.5)(token_char_concat)\n",
        "combined_dense = layers.Dense(128, activation=\"relu\")(combined_dropout)\n",
        "final_dropout = layers.Dropout(0.5)(combined_dense)\n",
        "output_layer = layers.Dense(num_classes, activation=\"softmax\")(final_dropout)\n",
        "\n",
        "# 5. Construct model with char and token inputs\n",
        "model_4 = tf.keras.Model(inputs=[token_model.input,char_model.input],\n",
        "                         outputs=output_layer,\n",
        "                         name=\"model_4_token_and_char_embeddings\")"
      ]
    },
    {
      "cell_type": "code",
      "execution_count": null,
      "metadata": {
        "colab": {
          "base_uri": "https://localhost:8080/"
        },
        "id": "YasgxSrKfNUe",
        "outputId": "f8031a94-528f-48ca-fbd8-a0772529fbec"
      },
      "outputs": [
        {
          "name": "stdout",
          "output_type": "stream",
          "text": [
            "Model: \"model_4_token_and_char_embeddings\"\n",
            "__________________________________________________________________________________________________\n",
            " Layer (type)                   Output Shape         Param #     Connected to                     \n",
            "==================================================================================================\n",
            " char_input (InputLayer)        [(None, 1)]          0           []                               \n",
            "                                                                                                  \n",
            " token_input (InputLayer)       [(None,)]            0           []                               \n",
            "                                                                                                  \n",
            " char_vectorizer (TextVectoriza  (None, 290)         0           ['char_input[0][0]']             \n",
            " tion)                                                                                            \n",
            "                                                                                                  \n",
            " universal_sentence_encoder (Ke  (None, 512)         256797824   ['token_input[0][0]']            \n",
            " rasLayer)                                                                                        \n",
            "                                                                                                  \n",
            " char_embed (Embedding)         (None, 290, 25)      1425        ['char_vectorizer[1][0]']        \n",
            "                                                                                                  \n",
            " dense_4 (Dense)                (None, 128)          65664       ['universal_sentence_encoder[1][0\n",
            "                                                                 ]']                              \n",
            "                                                                                                  \n",
            " bidirectional (Bidirectional)  (None, 48)           9600        ['char_embed[1][0]']             \n",
            "                                                                                                  \n",
            " token_char_bybrid (Concatenate  (None, 176)         0           ['dense_4[0][0]',                \n",
            " )                                                                'bidirectional[0][0]']          \n",
            "                                                                                                  \n",
            " dropout (Dropout)              (None, 176)          0           ['token_char_bybrid[0][0]']      \n",
            "                                                                                                  \n",
            " dense_5 (Dense)                (None, 128)          22656       ['dropout[0][0]']                \n",
            "                                                                                                  \n",
            " dropout_1 (Dropout)            (None, 128)          0           ['dense_5[0][0]']                \n",
            "                                                                                                  \n",
            " dense_6 (Dense)                (None, 5)            645         ['dropout_1[0][0]']              \n",
            "                                                                                                  \n",
            "==================================================================================================\n",
            "Total params: 256,897,814\n",
            "Trainable params: 99,990\n",
            "Non-trainable params: 256,797,824\n",
            "__________________________________________________________________________________________________\n"
          ]
        }
      ],
      "source": [
        "model_4.summary()"
      ]
    },
    {
      "cell_type": "code",
      "execution_count": null,
      "metadata": {
        "colab": {
          "base_uri": "https://localhost:8080/",
          "height": 793
        },
        "id": "ca9MZJj-6gTI",
        "outputId": "90f2aebb-de75-4730-b9a1-38593c9c5a76"
      },
      "outputs": [
        {
          "data": {
            "image/png": "[encoded data removed]",
            "text/plain": [
              "<IPython.core.display.Image object>"
            ]
          },
          "execution_count": 86,
          "metadata": {},
          "output_type": "execute_result"
        }
      ],
      "source": [
        "# Plot hybrid token and character model\n",
        "import keras\n",
        "from keras.utils.vis_utils import plot_model\n",
        "plot_model(model_4,show_shapes=True,show_dtype=True)"
      ]
    },
    {
      "cell_type": "code",
      "execution_count": null,
      "metadata": {
        "id": "qIy-bWM05rjq"
      },
      "outputs": [],
      "source": [
        "model_4.compile(loss=\"categorical_crossentropy\",\n",
        "                optimizer=tf.keras.optimizers.Adam(),\n",
        "                metrics=[\"accuracy\"])"
      ]
    },
    {
      "cell_type": "markdown",
      "metadata": {
        "id": "q5CJzmmJQ59p"
      },
      "source": [
        "### Combining token and character data into a tf.data Dataset"
      ]
    },
    {
      "cell_type": "code",
      "execution_count": null,
      "metadata": {
        "colab": {
          "base_uri": "https://localhost:8080/"
        },
        "id": "bye48vk1Q94a",
        "outputId": "ad3f4752-47d5-4c30-f02a-12ee8e42f553"
      },
      "outputs": [
        {
          "data": {
            "text/plain": [
              "<PrefetchDataset element_spec=((TensorSpec(shape=(None,), dtype=tf.string, name=None), TensorSpec(shape=(None,), dtype=tf.string, name=None)), TensorSpec(shape=(None, 5), dtype=tf.float64, name=None))>"
            ]
          },
          "execution_count": 88,
          "metadata": {},
          "output_type": "execute_result"
        }
      ],
      "source": [
        "# Combine chars and tokens into a dataset\n",
        "train_char_token_data = tf.data.Dataset.from_tensor_slices((train_sentences, train_chars)) # make data\n",
        "train_char_token_labels = tf.data.Dataset.from_tensor_slices(train_labels_one_hot) # make labels\n",
        "train_char_token_dataset = tf.data.Dataset.zip((train_char_token_data, train_char_token_labels)) # combie data and labels\n",
        "\n",
        "# Prefetch and batch train data\n",
        "train_char_token_dataset = train_char_token_dataset.batch(32).prefetch(tf.data.AUTOTUNE)\n",
        "train_char_token_dataset\n"
      ]
    },
    {
      "cell_type": "code",
      "execution_count": null,
      "metadata": {
        "colab": {
          "base_uri": "https://localhost:8080/"
        },
        "id": "mq2r2exaSJn6",
        "outputId": "4d7236ab-3183-42b7-857b-07bea83ad005"
      },
      "outputs": [
        {
          "data": {
            "text/plain": [
              "<PrefetchDataset element_spec=((TensorSpec(shape=(None,), dtype=tf.string, name=None), TensorSpec(shape=(None,), dtype=tf.string, name=None)), TensorSpec(shape=(None, 5), dtype=tf.float64, name=None))>"
            ]
          },
          "execution_count": 89,
          "metadata": {},
          "output_type": "execute_result"
        }
      ],
      "source": [
        "# Combine chars and tokens into a dataset\n",
        "val_char_token_data = tf.data.Dataset.from_tensor_slices((val_sentences, val_chars)) # make data\n",
        "val_char_token_labels = tf.data.Dataset.from_tensor_slices(val_labels_one_hot) # make labels\n",
        "val_char_token_dataset = tf.data.Dataset.zip((val_char_token_data, val_char_token_labels)) # combie data and labels\n",
        "\n",
        "# Prefetch and batch train data\n",
        "val_char_token_dataset = val_char_token_dataset.batch(32).prefetch(tf.data.AUTOTUNE)\n",
        "val_char_token_dataset"
      ]
    },
    {
      "cell_type": "markdown",
      "metadata": {
        "id": "Sy_BIiGl6AuA"
      },
      "source": [
        "### Fit the model"
      ]
    },
    {
      "cell_type": "code",
      "execution_count": null,
      "metadata": {
        "colab": {
          "base_uri": "https://localhost:8080/"
        },
        "id": "0pVGqMh3TI58",
        "outputId": "50fd5d6c-c9de-4b12-cd0f-b48585dc6bd2"
      },
      "outputs": [
        {
          "name": "stdout",
          "output_type": "stream",
          "text": [
            "Epoch 1/5\n",
            "562/562 [==============================] - 33s 45ms/step - loss: 0.9743 - accuracy: 0.6139 - val_loss: 0.7566 - val_accuracy: 0.7131\n",
            "Epoch 2/5\n",
            "562/562 [==============================] - 20s 36ms/step - loss: 0.7878 - accuracy: 0.6989 - val_loss: 0.7009 - val_accuracy: 0.7364\n",
            "Epoch 3/5\n",
            "562/562 [==============================] - 21s 38ms/step - loss: 0.7525 - accuracy: 0.7164 - val_loss: 0.6797 - val_accuracy: 0.7394\n",
            "Epoch 4/5\n",
            "562/562 [==============================] - 20s 36ms/step - loss: 0.7324 - accuracy: 0.7277 - val_loss: 0.6656 - val_accuracy: 0.7493\n",
            "Epoch 5/5\n",
            "562/562 [==============================] - 20s 36ms/step - loss: 0.7258 - accuracy: 0.7305 - val_loss: 0.6377 - val_accuracy: 0.7510\n"
          ]
        }
      ],
      "source": [
        "# Fit the model on tokens and chars\n",
        "history_4 = model_4.fit(train_char_token_dataset,\n",
        "                        steps_per_epoch=int(0.1*len(train_char_token_dataset)),\n",
        "                        epochs=5,\n",
        "                        validation_data=val_char_token_dataset,\n",
        "                        validation_steps=int(0.1*len(val_char_token_dataset)))\n"
      ]
    },
    {
      "cell_type": "markdown",
      "metadata": {
        "id": "tv5UuX_aTiDB"
      },
      "source": [
        "### Evaluate the model"
      ]
    },
    {
      "cell_type": "code",
      "execution_count": null,
      "metadata": {
        "colab": {
          "base_uri": "https://localhost:8080/"
        },
        "id": "BS37gVrVUlUt",
        "outputId": "f99a6f2f-40a3-4d5f-b078-825752388040"
      },
      "outputs": [
        {
          "name": "stdout",
          "output_type": "stream",
          "text": [
            "945/945 [==============================] - 19s 20ms/step - loss: 0.6364 - accuracy: 0.7573\n"
          ]
        },
        {
          "data": {
            "text/plain": [
              "[0.636441171169281, 0.7573480606079102]"
            ]
          },
          "execution_count": 91,
          "metadata": {},
          "output_type": "execute_result"
        }
      ],
      "source": [
        "model_4.evaluate(val_char_token_dataset)"
      ]
    },
    {
      "cell_type": "code",
      "execution_count": null,
      "metadata": {
        "colab": {
          "base_uri": "https://localhost:8080/"
        },
        "id": "_xhqvfdeUnZU",
        "outputId": "cc306bc9-923c-4a81-888e-5c22bd6aa767"
      },
      "outputs": [
        {
          "data": {
            "text/plain": [
              "array([[6.5356129e-01, 1.8221402e-01, 4.1203438e-03, 1.5406476e-01,\n",
              "        6.0395957e-03],\n",
              "       [4.7348741e-01, 3.8357404e-01, 5.0422540e-03, 1.3328184e-01,\n",
              "        4.6145287e-03],\n",
              "       [3.7941331e-01, 9.6559159e-02, 8.4992431e-02, 4.0369132e-01,\n",
              "        3.5343751e-02],\n",
              "       ...,\n",
              "       [1.5659851e-04, 9.6921722e-04, 2.2882387e-02, 3.8329443e-05,\n",
              "        9.7595346e-01],\n",
              "       [1.0421131e-02, 6.1383922e-02, 3.8237405e-01, 4.8747160e-03,\n",
              "        5.4094625e-01],\n",
              "       [2.3500566e-01, 5.7805461e-01, 1.3489679e-01, 1.2936568e-02,\n",
              "        3.9106309e-02]], dtype=float32)"
            ]
          },
          "execution_count": 92,
          "metadata": {},
          "output_type": "execute_result"
        }
      ],
      "source": [
        "# Predict the model using the token-character model hybrid\n",
        "model_4_pred_probs = model_4.predict(val_char_token_dataset)\n",
        "model_4_pred_probs"
      ]
    },
    {
      "cell_type": "code",
      "execution_count": null,
      "metadata": {
        "colab": {
          "base_uri": "https://localhost:8080/"
        },
        "id": "Wc1Ma7WKUw6u",
        "outputId": "99d3dedc-7499-4c09-f1f0-4daebf9f9534"
      },
      "outputs": [
        {
          "data": {
            "text/plain": [
              "<tf.Tensor: shape=(10,), dtype=int64, numpy=array([0, 0, 3, 2, 2, 2, 2, 2, 4, 1])>"
            ]
          },
          "execution_count": 93,
          "metadata": {},
          "output_type": "execute_result"
        }
      ],
      "source": [
        "# Format pred probs into pred labels\n",
        "model_4_preds = tf.argmax(model_4_pred_probs,axis=1)\n",
        "model_4_preds[0:10]"
      ]
    },
    {
      "cell_type": "code",
      "execution_count": null,
      "metadata": {
        "colab": {
          "base_uri": "https://localhost:8080/"
        },
        "id": "acjNzCviU8El",
        "outputId": "fcb5c95f-df45-4914-98bb-fc101846cd89"
      },
      "outputs": [
        {
          "data": {
            "text/plain": [
              "{'accuracy': 75.73480736131339,\n",
              " 'f1': 0.7524309060259404,\n",
              " 'precision': 0.7550154584458142,\n",
              " 'recall': 0.7573480736131338}"
            ]
          },
          "execution_count": 94,
          "metadata": {},
          "output_type": "execute_result"
        }
      ],
      "source": [
        "# Get results of token-char-hybrid model\n",
        "model_4_results = calculate_results(y_true=val_labels_encoded,\n",
        "                                    y_pred=model_4_preds)\n",
        "model_4_results"
      ]
    },
    {
      "cell_type": "code",
      "execution_count": null,
      "metadata": {
        "colab": {
          "base_uri": "https://localhost:8080/"
        },
        "id": "wKvSJYdDVQfw",
        "outputId": "b2a55d06-772a-4957-a0e1-f8b3ab7da303"
      },
      "outputs": [
        {
          "data": {
            "text/plain": [
              "{'accuracy': 72.1832384482987,\n",
              " 'f1': 0.6989250353450294,\n",
              " 'precision': 0.7186466952323352,\n",
              " 'recall': 0.7218323844829869}"
            ]
          },
          "execution_count": 95,
          "metadata": {},
          "output_type": "execute_result"
        }
      ],
      "source": [
        "model_0_results"
      ]
    },
    {
      "cell_type": "markdown",
      "metadata": {
        "id": "wcV783-WVcvo"
      },
      "source": [
        "## Model 5\n",
        "Pretrained token embeddings + Character embeddings + Positional embeddings\n",
        "\n",
        "1. Create a token-level model\n",
        "2. Chreate a character-level model\n",
        "3. Create a model for the \"line_number\" feature\n",
        "4. Create a model for the \"total_lines\" feature\n",
        "5. Combine the outputs of 1&2 using tf.keras.layers.Concatenate\n",
        "6. Combine the outputs of 3,4,5 using tf.keras.layers.Concatenate\n",
        "7. Create an output layer to accept the tribried embedding and output label probabilities\n",
        "8. COmbine the inputs of 1,2,3,4 and outputs of the 7"
      ]
    },
    {
      "cell_type": "code",
      "execution_count": null,
      "metadata": {
        "colab": {
          "base_uri": "https://localhost:8080/",
          "height": 320
        },
        "id": "DKnV1u3msQG_",
        "outputId": "447c807d-8c5d-4162-9bf9-f95d9013770a"
      },
      "outputs": [
        {
          "data": {
            "text/html": [
              "\n",
              "  <div id=\"df-824bb459-5071-4fdc-9110-42a3b324622d\">\n",
              "    <div class=\"colab-df-container\">\n",
              "      <div>\n",
              "<style scoped>\n",
              "    .dataframe tbody tr th:only-of-type {\n",
              "        vertical-align: middle;\n",
              "    }\n",
              "\n",
              "    .dataframe tbody tr th {\n",
              "        vertical-align: top;\n",
              "    }\n",
              "\n",
              "    .dataframe thead th {\n",
              "        text-align: right;\n",
              "    }\n",
              "</style>\n",
              "<table border=\"1\" class=\"dataframe\">\n",
              "  <thead>\n",
              "    <tr style=\"text-align: right;\">\n",
              "      <th></th>\n",
              "      <th>target</th>\n",
              "      <th>text</th>\n",
              "      <th>line_number</th>\n",
              "      <th>total_lines</th>\n",
              "    </tr>\n",
              "  </thead>\n",
              "  <tbody>\n",
              "    <tr>\n",
              "      <th>0</th>\n",
              "      <td>OBJECTIVE</td>\n",
              "      <td>to investigate the efficacy of @ weeks of dail...</td>\n",
              "      <td>0</td>\n",
              "      <td>11</td>\n",
              "    </tr>\n",
              "    <tr>\n",
              "      <th>1</th>\n",
              "      <td>METHODS</td>\n",
              "      <td>a total of @ patients with primary knee oa wer...</td>\n",
              "      <td>1</td>\n",
              "      <td>11</td>\n",
              "    </tr>\n",
              "    <tr>\n",
              "      <th>2</th>\n",
              "      <td>METHODS</td>\n",
              "      <td>outcome measures included pain reduction and i...</td>\n",
              "      <td>2</td>\n",
              "      <td>11</td>\n",
              "    </tr>\n",
              "    <tr>\n",
              "      <th>3</th>\n",
              "      <td>METHODS</td>\n",
              "      <td>pain was assessed using the visual analog pain...</td>\n",
              "      <td>3</td>\n",
              "      <td>11</td>\n",
              "    </tr>\n",
              "    <tr>\n",
              "      <th>4</th>\n",
              "      <td>METHODS</td>\n",
              "      <td>secondary outcome measures included the wester...</td>\n",
              "      <td>4</td>\n",
              "      <td>11</td>\n",
              "    </tr>\n",
              "  </tbody>\n",
              "</table>\n",
              "</div>\n",
              "      <button class=\"colab-df-convert\" onclick=\"convertToInteractive('df-824bb459-5071-4fdc-9110-42a3b324622d')\"\n",
              "              title=\"Convert this dataframe to an interactive table.\"\n",
              "              style=\"display:none;\">\n",
              "        \n",
              "  <svg xmlns=\"http://www.w3.org/2000/svg\" height=\"24px\"viewBox=\"0 0 24 24\"\n",
              "       width=\"24px\">\n",
              "    <path d=\"M0 0h24v24H0V0z\" fill=\"none\"/>\n",
              "    <path d=\"M18.56 5.44l.94 2.06.94-2.06 2.06-.94-2.06-.94-.94-2.06-.94 2.06-2.06.94zm-11 1L8.5 8.5l.94-2.06 2.06-.94-2.06-.94L8.5 2.5l-.94 2.06-2.06.94zm10 10l.94 2.06.94-2.06 2.06-.94-2.06-.94-.94-2.06-.94 2.06-2.06.94z\"/><path d=\"M17.41 7.96l-1.37-1.37c-.4-.4-.92-.59-1.43-.59-.52 0-1.04.2-1.43.59L10.3 9.45l-7.72 7.72c-.78.78-.78 2.05 0 2.83L4 21.41c.39.39.9.59 1.41.59.51 0 1.02-.2 1.41-.59l7.78-7.78 2.81-2.81c.8-.78.8-2.07 0-2.86zM5.41 20L4 18.59l7.72-7.72 1.47 1.35L5.41 20z\"/>\n",
              "  </svg>\n",
              "      </button>\n",
              "      \n",
              "  <style>\n",
              "    .colab-df-container {\n",
              "      display:flex;\n",
              "      flex-wrap:wrap;\n",
              "      gap: 12px;\n",
              "    }\n",
              "\n",
              "    .colab-df-convert {\n",
              "      background-color: #E8F0FE;\n",
              "      border: none;\n",
              "      border-radius: 50%;\n",
              "      cursor: pointer;\n",
              "      display: none;\n",
              "      fill: #1967D2;\n",
              "      height: 32px;\n",
              "      padding: 0 0 0 0;\n",
              "      width: 32px;\n",
              "    }\n",
              "\n",
              "    .colab-df-convert:hover {\n",
              "      background-color: #E2EBFA;\n",
              "      box-shadow: 0px 1px 2px rgba(60, 64, 67, 0.3), 0px 1px 3px 1px rgba(60, 64, 67, 0.15);\n",
              "      fill: #174EA6;\n",
              "    }\n",
              "\n",
              "    [theme=dark] .colab-df-convert {\n",
              "      background-color: #3B4455;\n",
              "      fill: #D2E3FC;\n",
              "    }\n",
              "\n",
              "    [theme=dark] .colab-df-convert:hover {\n",
              "      background-color: #434B5C;\n",
              "      box-shadow: 0px 1px 3px 1px rgba(0, 0, 0, 0.15);\n",
              "      filter: drop-shadow(0px 1px 2px rgba(0, 0, 0, 0.3));\n",
              "      fill: #FFFFFF;\n",
              "    }\n",
              "  </style>\n",
              "\n",
              "      <script>\n",
              "        const buttonEl =\n",
              "          document.querySelector('#df-824bb459-5071-4fdc-9110-42a3b324622d button.colab-df-convert');\n",
              "        buttonEl.style.display =\n",
              "          google.colab.kernel.accessAllowed ? 'block' : 'none';\n",
              "\n",
              "        async function convertToInteractive(key) {\n",
              "          const element = document.querySelector('#df-824bb459-5071-4fdc-9110-42a3b324622d');\n",
              "          const dataTable =\n",
              "            await google.colab.kernel.invokeFunction('convertToInteractive',\n",
              "                                                     [key], {});\n",
              "          if (!dataTable) return;\n",
              "\n",
              "          const docLinkHtml = 'Like what you see? Visit the ' +\n",
              "            '<a target=\"_blank\" href=https://colab.research.google.com/notebooks/data_table.ipynb>data table notebook</a>'\n",
              "            + ' to learn more about interactive tables.';\n",
              "          element.innerHTML = '';\n",
              "          dataTable['output_type'] = 'display_data';\n",
              "          await google.colab.output.renderOutput(dataTable, element);\n",
              "          const docLink = document.createElement('div');\n",
              "          docLink.innerHTML = docLinkHtml;\n",
              "          element.appendChild(docLink);\n",
              "        }\n",
              "      </script>\n",
              "    </div>\n",
              "  </div>\n",
              "  "
            ],
            "text/plain": [
              "      target                                               text  line_number  \\\n",
              "0  OBJECTIVE  to investigate the efficacy of @ weeks of dail...            0   \n",
              "1    METHODS  a total of @ patients with primary knee oa wer...            1   \n",
              "2    METHODS  outcome measures included pain reduction and i...            2   \n",
              "3    METHODS  pain was assessed using the visual analog pain...            3   \n",
              "4    METHODS  secondary outcome measures included the wester...            4   \n",
              "\n",
              "   total_lines  \n",
              "0           11  \n",
              "1           11  \n",
              "2           11  \n",
              "3           11  \n",
              "4           11  "
            ]
          },
          "execution_count": 96,
          "metadata": {},
          "output_type": "execute_result"
        }
      ],
      "source": [
        "df_train.head()"
      ]
    },
    {
      "cell_type": "markdown",
      "metadata": {
        "id": "3pSPgPTUt9KP"
      },
      "source": [
        "🔑 Note: Any engineered features used to train a model need to be avaliable at test time. In our case, line numbers and total lines are available"
      ]
    },
    {
      "cell_type": "markdown",
      "metadata": {
        "id": "dxP340zH1SY6"
      },
      "source": [
        "### Create positional embeddings by using Tensorflow One-Hot-Encoded"
      ]
    },
    {
      "cell_type": "markdown",
      "metadata": {
        "id": "6wK4XOhx7X5G"
      },
      "source": [
        "### Encoded our `line_number` features"
      ]
    },
    {
      "cell_type": "code",
      "execution_count": null,
      "metadata": {
        "colab": {
          "base_uri": "https://localhost:8080/"
        },
        "id": "X9tstpdN1jlY",
        "outputId": "eb8fa6af-7d01-4bb5-d08b-b55924808d76"
      },
      "outputs": [
        {
          "data": {
            "text/plain": [
              "0     15000\n",
              "1     15000\n",
              "2     15000\n",
              "3     15000\n",
              "4     14992\n",
              "5     14949\n",
              "6     14758\n",
              "7     14279\n",
              "8     13346\n",
              "9     11981\n",
              "10    10041\n",
              "11     7892\n",
              "12     5853\n",
              "13     4152\n",
              "14     2835\n",
              "15     1861\n",
              "16     1188\n",
              "17      751\n",
              "18      462\n",
              "19      286\n",
              "20      162\n",
              "21      101\n",
              "22       66\n",
              "23       33\n",
              "24       22\n",
              "25       14\n",
              "26        7\n",
              "27        4\n",
              "28        3\n",
              "29        1\n",
              "30        1\n",
              "Name: line_number, dtype: int64"
            ]
          },
          "execution_count": 97,
          "metadata": {},
          "output_type": "execute_result"
        }
      ],
      "source": [
        "df_train[\"line_number\"].value_counts()"
      ]
    },
    {
      "cell_type": "code",
      "execution_count": null,
      "metadata": {
        "colab": {
          "base_uri": "https://localhost:8080/",
          "height": 446
        },
        "id": "tPGenHeE1lts",
        "outputId": "b000a942-14e9-4e98-93d7-1eb6391d69f1"
      },
      "outputs": [
        {
          "data": {
            "text/plain": [
              "<matplotlib.axes._subplots.AxesSubplot at 0x7faaf41d2090>"
            ]
          },
          "execution_count": 98,
          "metadata": {},
          "output_type": "execute_result"
        },
        {
          "data": {
            "image/png": "[encoded data removed]",
            "text/plain": [
              "<Figure size 504x504 with 1 Axes>"
            ]
          },
          "metadata": {},
          "output_type": "display_data"
        }
      ],
      "source": [
        "# Check the distribution of \"line_number\" column\n",
        "plt.figure(figsize=(7,7))\n",
        "df_train[\"line_number\"].plot.hist()"
      ]
    },
    {
      "cell_type": "code",
      "execution_count": null,
      "metadata": {
        "colab": {
          "base_uri": "https://localhost:8080/"
        },
        "id": "1mcDLVuu7a3l",
        "outputId": "dc6b558f-70a4-4182-f262-4039541dba45"
      },
      "outputs": [
        {
          "data": {
            "text/plain": [
              "13.0"
            ]
          },
          "execution_count": 99,
          "metadata": {},
          "output_type": "execute_result"
        }
      ],
      "source": [
        "np.percentile(df_train[\"line_number\"], 95)"
      ]
    },
    {
      "cell_type": "markdown",
      "metadata": {
        "id": "_COpsVk_4WBV"
      },
      "source": [
        "We choose only depth=15 because most of the `line_number` is around 15"
      ]
    },
    {
      "cell_type": "code",
      "execution_count": null,
      "metadata": {
        "colab": {
          "base_uri": "https://localhost:8080/"
        },
        "id": "MFJ4nI4_2ANo",
        "outputId": "295332a5-33d3-4675-f645-cce76e62c368"
      },
      "outputs": [
        {
          "data": {
            "text/plain": [
              "(<tf.Tensor: shape=(10, 15), dtype=float32, numpy=\n",
              " array([[1., 0., 0., 0., 0., 0., 0., 0., 0., 0., 0., 0., 0., 0., 0.],\n",
              "        [0., 1., 0., 0., 0., 0., 0., 0., 0., 0., 0., 0., 0., 0., 0.],\n",
              "        [0., 0., 1., 0., 0., 0., 0., 0., 0., 0., 0., 0., 0., 0., 0.],\n",
              "        [0., 0., 0., 1., 0., 0., 0., 0., 0., 0., 0., 0., 0., 0., 0.],\n",
              "        [0., 0., 0., 0., 1., 0., 0., 0., 0., 0., 0., 0., 0., 0., 0.],\n",
              "        [0., 0., 0., 0., 0., 1., 0., 0., 0., 0., 0., 0., 0., 0., 0.],\n",
              "        [0., 0., 0., 0., 0., 0., 1., 0., 0., 0., 0., 0., 0., 0., 0.],\n",
              "        [0., 0., 0., 0., 0., 0., 0., 1., 0., 0., 0., 0., 0., 0., 0.],\n",
              "        [0., 0., 0., 0., 0., 0., 0., 0., 1., 0., 0., 0., 0., 0., 0.],\n",
              "        [0., 0., 0., 0., 0., 0., 0., 0., 0., 1., 0., 0., 0., 0., 0.]],\n",
              "       dtype=float32)>, TensorShape([180040, 15]))"
            ]
          },
          "execution_count": 100,
          "metadata": {},
          "output_type": "execute_result"
        }
      ],
      "source": [
        "# Use TensorFlow to crate one-hot-encoded tensors of our \"line_number\" column\n",
        "train_line_numbers_one_hot = tf.one_hot(df_train[\"line_number\"].to_numpy(), depth=15)\n",
        "val_line_numbers_one_hot = tf.one_hot(df_val[\"line_number\"].to_numpy(), depth=15)\n",
        "test_line_numbers_one_hot = tf.one_hot(df_test[\"line_number\"].to_numpy(), depth=15)\n",
        "\n",
        "train_line_numbers_one_hot[:10], train_line_numbers_one_hot.shape"
      ]
    },
    {
      "cell_type": "code",
      "execution_count": null,
      "metadata": {
        "colab": {
          "base_uri": "https://localhost:8080/"
        },
        "id": "b5WdSlE32k-_",
        "outputId": "5a8d7a55-7b36-41f7-cfef-373b34ca42a8"
      },
      "outputs": [
        {
          "data": {
            "text/plain": [
              "11    24468\n",
              "10    23639\n",
              "12    22113\n",
              "9     19400\n",
              "13    18438\n",
              "14    14610\n",
              "8     12285\n",
              "15    10768\n",
              "7      7464\n",
              "16     7429\n",
              "17     5202\n",
              "6      3353\n",
              "18     3344\n",
              "19     2480\n",
              "20     1281\n",
              "5      1146\n",
              "21      770\n",
              "22      759\n",
              "23      264\n",
              "4       215\n",
              "24      200\n",
              "25      182\n",
              "26       81\n",
              "28       58\n",
              "3        32\n",
              "30       31\n",
              "27       28\n",
              "Name: total_lines, dtype: int64"
            ]
          },
          "execution_count": 101,
          "metadata": {},
          "output_type": "execute_result"
        }
      ],
      "source": [
        "df_train[\"total_lines\"].value_counts()"
      ]
    },
    {
      "cell_type": "code",
      "execution_count": null,
      "metadata": {
        "colab": {
          "base_uri": "https://localhost:8080/",
          "height": 446
        },
        "id": "EMq84WbJ5Awc",
        "outputId": "b1b7880e-a5e0-40b0-a476-f1fa94c2986d"
      },
      "outputs": [
        {
          "data": {
            "text/plain": [
              "<matplotlib.axes._subplots.AxesSubplot at 0x7faa709a1c90>"
            ]
          },
          "execution_count": 102,
          "metadata": {},
          "output_type": "execute_result"
        },
        {
          "data": {
            "image/png": "[encoded data removed]",
            "text/plain": [
              "<Figure size 504x504 with 1 Axes>"
            ]
          },
          "metadata": {},
          "output_type": "display_data"
        }
      ],
      "source": [
        "# Check the distributions of total lines\n",
        "plt.figure(figsize=(7,7))\n",
        "df_train[\"total_lines\"].plot.hist()"
      ]
    },
    {
      "cell_type": "code",
      "execution_count": null,
      "metadata": {
        "colab": {
          "base_uri": "https://localhost:8080/"
        },
        "id": "zoUzLSrE6o3S",
        "outputId": "4b415e73-298a-4831-f458-e6ceac887540"
      },
      "outputs": [
        {
          "data": {
            "text/plain": [
              "18.0"
            ]
          },
          "execution_count": 103,
          "metadata": {},
          "output_type": "execute_result"
        }
      ],
      "source": [
        "# Check the total_lines percentile\n",
        "np.percentile(df_train[\"total_lines\"],95)"
      ]
    },
    {
      "cell_type": "code",
      "execution_count": null,
      "metadata": {
        "colab": {
          "base_uri": "https://localhost:8080/"
        },
        "id": "cS_jm5QC7mOS",
        "outputId": "7cec2e67-577f-441a-9353-bf978931f83a"
      },
      "outputs": [
        {
          "data": {
            "text/plain": [
              "(<tf.Tensor: shape=(10, 18), dtype=float32, numpy=\n",
              " array([[0., 0., 0., 0., 0., 0., 0., 0., 0., 0., 0., 1., 0., 0., 0., 0.,\n",
              "         0., 0.],\n",
              "        [0., 0., 0., 0., 0., 0., 0., 0., 0., 0., 0., 1., 0., 0., 0., 0.,\n",
              "         0., 0.],\n",
              "        [0., 0., 0., 0., 0., 0., 0., 0., 0., 0., 0., 1., 0., 0., 0., 0.,\n",
              "         0., 0.],\n",
              "        [0., 0., 0., 0., 0., 0., 0., 0., 0., 0., 0., 1., 0., 0., 0., 0.,\n",
              "         0., 0.],\n",
              "        [0., 0., 0., 0., 0., 0., 0., 0., 0., 0., 0., 1., 0., 0., 0., 0.,\n",
              "         0., 0.],\n",
              "        [0., 0., 0., 0., 0., 0., 0., 0., 0., 0., 0., 1., 0., 0., 0., 0.,\n",
              "         0., 0.],\n",
              "        [0., 0., 0., 0., 0., 0., 0., 0., 0., 0., 0., 1., 0., 0., 0., 0.,\n",
              "         0., 0.],\n",
              "        [0., 0., 0., 0., 0., 0., 0., 0., 0., 0., 0., 1., 0., 0., 0., 0.,\n",
              "         0., 0.],\n",
              "        [0., 0., 0., 0., 0., 0., 0., 0., 0., 0., 0., 1., 0., 0., 0., 0.,\n",
              "         0., 0.],\n",
              "        [0., 0., 0., 0., 0., 0., 0., 0., 0., 0., 0., 1., 0., 0., 0., 0.,\n",
              "         0., 0.]], dtype=float32)>, TensorShape([180040, 18]))"
            ]
          },
          "execution_count": 104,
          "metadata": {},
          "output_type": "execute_result"
        }
      ],
      "source": [
        "# Use Tensorflow to create one-hot-encoded tensors of our \"total_lines\" feature\n",
        "train_total_lines_one_hot = tf.one_hot(df_train[\"total_lines\"].to_numpy(),depth=18)\n",
        "val_total_lines_one_hot = tf.one_hot(df_val[\"total_lines\"].to_numpy(),depth=18)\n",
        "test_total_lines_one_hot = tf.one_hot(df_test[\"total_lines\"].to_numpy(), depth=18)\n",
        "\n",
        "train_total_lines_one_hot[:10], train_total_lines_one_hot.shape"
      ]
    },
    {
      "cell_type": "markdown",
      "metadata": {
        "id": "BVvpfgw9A3Hj"
      },
      "source": [
        "### Build the model\n",
        "5. Combine the outputs of 1&2 using tf.keras.layers.Concatenate\n",
        "6. Combine the outputs of 3,4,5 using tf.keras.layers.Concatenate\n",
        "7. Create an output layer to accept the tribried embedding and output label probabilities\n",
        "8. COmbine the inputs of 1,2,3,4 and outputs of the 7"
      ]
    },
    {
      "cell_type": "code",
      "execution_count": null,
      "metadata": {
        "colab": {
          "base_uri": "https://localhost:8080/"
        },
        "id": "3wOhe6MQB7m3",
        "outputId": "fc11ae56-31eb-4fe3-925f-a963c2a0537d"
      },
      "outputs": [
        {
          "name": "stdout",
          "output_type": "stream",
          "text": [
            "Train line numbers shape: (15,)\n",
            "Train line numbers dtype: <dtype: 'float32'>\n"
          ]
        }
      ],
      "source": [
        "# Check the line numbers shape for the shape of line numbers model\n",
        "print(f\"Train line numbers shape: {train_line_numbers_one_hot[0].shape}\")\n",
        "print(f\"Train line numbers dtype: {train_line_numbers_one_hot.dtype}\")"
      ]
    },
    {
      "cell_type": "code",
      "execution_count": null,
      "metadata": {
        "colab": {
          "base_uri": "https://localhost:8080/"
        },
        "id": "m1dyVPz2Ctmw",
        "outputId": "fca6f3da-a1f1-474e-ca28-4900810288f3"
      },
      "outputs": [
        {
          "name": "stdout",
          "output_type": "stream",
          "text": [
            "Train total lines shape: (18,)\n",
            "Train total lines dtype: <dtype: 'float32'>\n"
          ]
        }
      ],
      "source": [
        "# Check the total lines shape for the shape of total lines model\n",
        "print(f\"Train total lines shape: {train_total_lines_one_hot[0].shape}\")\n",
        "print(f\"Train total lines dtype: {train_total_lines_one_hot.dtype}\")"
      ]
    },
    {
      "cell_type": "code",
      "execution_count": null,
      "metadata": {
        "colab": {
          "base_uri": "https://localhost:8080/"
        },
        "id": "mROOcGW3A4i4",
        "outputId": "f5983ecc-eaf5-4721-b7b6-cdc0549066c8"
      },
      "outputs": [
        {
          "name": "stdout",
          "output_type": "stream",
          "text": [
            "Model: \"model_7\"\n",
            "__________________________________________________________________________________________________\n",
            " Layer (type)                   Output Shape         Param #     Connected to                     \n",
            "==================================================================================================\n",
            " char_inputs (InputLayer)       [(None, 1)]          0           []                               \n",
            "                                                                                                  \n",
            " token_inputs (InputLayer)      [(None,)]            0           []                               \n",
            "                                                                                                  \n",
            " char_vectorizer (TextVectoriza  (None, 290)         0           ['char_inputs[0][0]']            \n",
            " tion)                                                                                            \n",
            "                                                                                                  \n",
            " universal_sentence_encoder (Ke  (None, 512)         256797824   ['token_inputs[0][0]']           \n",
            " rasLayer)                                                                                        \n",
            "                                                                                                  \n",
            " char_embed (Embedding)         (None, 290, 25)      1425        ['char_vectorizer[2][0]']        \n",
            "                                                                                                  \n",
            " dense_7 (Dense)                (None, 128)          65664       ['universal_sentence_encoder[2][0\n",
            "                                                                 ]']                              \n",
            "                                                                                                  \n",
            " bidirectional_1 (Bidirectional  (None, 48)          9600        ['char_embed[2][0]']             \n",
            " )                                                                                                \n",
            "                                                                                                  \n",
            " char_token_hybrid_embedding (C  (None, 176)         0           ['dense_7[0][0]',                \n",
            " oncatenate)                                                      'bidirectional_1[0][0]']        \n",
            "                                                                                                  \n",
            " line_number_input (InputLayer)  [(None, 15)]        0           []                               \n",
            "                                                                                                  \n",
            " total_lines_input (InputLayer)  [(None, 18)]        0           []                               \n",
            "                                                                                                  \n",
            " dense_10 (Dense)               (None, 256)          45312       ['char_token_hybrid_embedding[0][\n",
            "                                                                 0]']                             \n",
            "                                                                                                  \n",
            " dense_8 (Dense)                (None, 32)           512         ['line_number_input[0][0]']      \n",
            "                                                                                                  \n",
            " dense_9 (Dense)                (None, 32)           608         ['total_lines_input[0][0]']      \n",
            "                                                                                                  \n",
            " dropout_2 (Dropout)            (None, 256)          0           ['dense_10[0][0]']               \n",
            "                                                                                                  \n",
            " char_token_positional_embeddin  (None, 320)         0           ['dense_8[0][0]',                \n",
            " g (Concatenate)                                                  'dense_9[0][0]',                \n",
            "                                                                  'dropout_2[0][0]']              \n",
            "                                                                                                  \n",
            " output_layer (Dense)           (None, 5)            1605        ['char_token_positional_embedding\n",
            "                                                                 [0][0]']                         \n",
            "                                                                                                  \n",
            "==================================================================================================\n",
            "Total params: 256,922,550\n",
            "Trainable params: 124,726\n",
            "Non-trainable params: 256,797,824\n",
            "__________________________________________________________________________________________________\n"
          ]
        }
      ],
      "source": [
        "# 1. Token inputs\n",
        "token_inputs = layers.Input(shape=[], dtype=\"string\", name=\"token_inputs\")\n",
        "token_embeddings = tf_hub_embedding_layer(token_inputs)\n",
        "token_outputs = layers.Dense(128, activation=\"relu\")(token_embeddings)\n",
        "token_model = tf.keras.Model(inputs=token_inputs,\n",
        "                             outputs=token_outputs)\n",
        "\n",
        "# 2. Char inputs\n",
        "char_inputs = layers.Input(shape=(1,), dtype=\"string\", name=\"char_inputs\")\n",
        "char_vectors = char_vectorizer(char_inputs)\n",
        "char_embeddings = char_embed(char_vectors)\n",
        "char_bi_lstm = layers.Bidirectional(layers.LSTM(24))(char_embeddings)\n",
        "char_model = tf.keras.Model(inputs=char_inputs,\n",
        "                            outputs=char_bi_lstm)\n",
        "\n",
        "# 3. Line numbers model\n",
        "line_number_inputs = layers.Input(shape=(15,),dtype=tf.float32, name=\"line_number_input\")\n",
        "x = layers.Dense(32, activation=\"relu\")(line_number_inputs)\n",
        "line_number_model = tf.keras.Model(inputs=line_number_inputs,\n",
        "                                   outputs=x)\n",
        "\n",
        "# 4. Total lines model\n",
        "total_line_inputs = layers.Input(shape=(18,), dtype=tf.float32, name=\"total_lines_input\")\n",
        "y = layers.Dense(32, activation=\"relu\")(total_line_inputs)\n",
        "total_line_model = tf.keras.Model(inputs=total_line_inputs,\n",
        "                                  outputs = y)\n",
        "\n",
        "# 5.Combine token and char embeddings into a hybrid embedding\n",
        "combined_embeddings = layers.Concatenate(name=\"char_token_hybrid_embedding\")([token_model.output,\n",
        "                                                                             char_model.output])\n",
        "z = layers.Dense(256, activation=\"relu\")(combined_embeddings) # Due to the paper use Dropout so we will create it\n",
        "z = layers.Dropout(0.5)(z) # paper use Dropout at 0.5\n",
        "\n",
        "# 6. Combine positional embedding with combined token and char embeddings\n",
        "tribrid_embeddings = layers.Concatenate(name=\"char_token_positional_embedding\")([line_number_model.output,\n",
        "                                                                                 total_line_model.output,\n",
        "                                                                                 z])\n",
        "\n",
        "# 7. Create output layer\n",
        "output_layer = layers.Dense(5, activation=\"softmax\", name=\"output_layer\")(tribrid_embeddings)\n",
        "\n",
        "# 8. Put together model with all kinds of inputs\n",
        "model_5 = tf.keras.Model(inputs=[token_model.input,\n",
        "                                 char_model.input,\n",
        "                                 line_number_model.input,\n",
        "                                 total_line_model.input],\n",
        "                         outputs=[output_layer])\n",
        "\n",
        "\n",
        "model_5.summary()"
      ]
    },
    {
      "cell_type": "code",
      "execution_count": null,
      "metadata": {
        "colab": {
          "base_uri": "https://localhost:8080/",
          "height": 469
        },
        "id": "_Bq4pSPcGgNh",
        "outputId": "cd5f57e5-aae5-47c2-eb73-71d4d0a57a58"
      },
      "outputs": [
        {
          "data": {
            "image/png": "[encoded data removed]",
            "text/plain": [
              "<IPython.core.display.Image object>"
            ]
          },
          "execution_count": 108,
          "metadata": {},
          "output_type": "execute_result"
        }
      ],
      "source": [
        "# Plot the model\n",
        "plot_model(model_5, show_shapes=True, show_dtype=True)"
      ]
    },
    {
      "cell_type": "markdown",
      "metadata": {
        "id": "9OovvdwKaMan"
      },
      "source": [
        "❓ What is label smoothing?\n",
        "\n",
        "For example, if our model gets too confident on a single class (e.g. its prediction probability is really high), it may get stuck on that class and not consider other classes....\n",
        "\n",
        "Really Confident Predictions: `[0.0, 0.0, 1.0, 0.0, 0.0]`\n",
        "\n",
        "What label smoothing does is it assigns some of the value from the highest pred prob to other classe, in turn, hopefully improving generalization: `[0.01, 0.01, 0.96, 0.01, 0.01]`\n",
        "\n",
        "Resource: https://pyimagesearch.com/2019/12/30/label-smoothing-with-keras-tensorflow-and-deep-learning/"
      ]
    },
    {
      "cell_type": "code",
      "execution_count": null,
      "metadata": {
        "id": "YN1UlhVjH6bL"
      },
      "outputs": [],
      "source": [
        "# Compile the model\n",
        "model_5.compile(optimizer=tf.keras.optimizers.Adam(),\n",
        "                metrics=['accuracy'],\n",
        "                loss=tf.keras.losses.CategoricalCrossentropy(label_smoothing=0.2))"
      ]
    },
    {
      "cell_type": "markdown",
      "metadata": {
        "id": "Z3ktj05AcAjd"
      },
      "source": [
        "### Create tribrid embedding datasets using tf.data\n",
        "\n",
        "The order has to be followed by the order of the `model_5` which is\n",
        "```\n",
        "inputs=[token_model.input,\n",
        "     char_model.input,\n",
        "     line_number_model.input,\n",
        "     total_line_model.input]\n",
        "```"
      ]
    },
    {
      "cell_type": "code",
      "execution_count": null,
      "metadata": {
        "colab": {
          "base_uri": "https://localhost:8080/"
        },
        "id": "8BpHh-gUcEAG",
        "outputId": "70362f04-7cd7-4545-bbcb-0410029f1e1c"
      },
      "outputs": [
        {
          "data": {
            "text/plain": [
              "<PrefetchDataset element_spec=((TensorSpec(shape=(None,), dtype=tf.string, name=None), TensorSpec(shape=(None,), dtype=tf.string, name=None), TensorSpec(shape=(None, 15), dtype=tf.float32, name=None), TensorSpec(shape=(None, 18), dtype=tf.float32, name=None)), TensorSpec(shape=(None, 5), dtype=tf.float64, name=None))>"
            ]
          },
          "execution_count": 110,
          "metadata": {},
          "output_type": "execute_result"
        }
      ],
      "source": [
        "# Create training and validation datasets (with all four kinds of input data)\n",
        "train_char_token_pos_data = tf.data.Dataset.from_tensor_slices((train_sentences,\n",
        "                                    train_chars,\n",
        "                                    train_line_numbers_one_hot,\n",
        "                                    train_total_lines_one_hot))\n",
        "\n",
        "train_char_token_pos_labels = tf.data.Dataset.from_tensor_slices(train_labels_one_hot)\n",
        "train_char_token_pos_dataset = tf.data.Dataset.zip((train_char_token_pos_data, train_char_token_pos_labels))\n",
        "train_char_token_pos_dataset = train_char_token_pos_dataset.batch(32).prefetch(tf.data.AUTOTUNE)\n",
        "\n",
        "train_char_token_pos_dataset"
      ]
    },
    {
      "cell_type": "code",
      "execution_count": null,
      "metadata": {
        "colab": {
          "base_uri": "https://localhost:8080/"
        },
        "id": "bHN9_gpEd7hV",
        "outputId": "22e99522-204d-41d2-c92c-2d46be55596e"
      },
      "outputs": [
        {
          "data": {
            "text/plain": [
              "<PrefetchDataset element_spec=((TensorSpec(shape=(None,), dtype=tf.string, name=None), TensorSpec(shape=(None,), dtype=tf.string, name=None), TensorSpec(shape=(None, 15), dtype=tf.float32, name=None), TensorSpec(shape=(None, 18), dtype=tf.float32, name=None)), TensorSpec(shape=(None, 5), dtype=tf.float64, name=None))>"
            ]
          },
          "execution_count": 111,
          "metadata": {},
          "output_type": "execute_result"
        }
      ],
      "source": [
        "val_char_token_pos_data = tf.data.Dataset.from_tensor_slices((val_sentences,\n",
        "                               val_chars,\n",
        "                               val_line_numbers_one_hot,\n",
        "                               val_total_lines_one_hot))\n",
        "\n",
        "val_char_token_pos_labels = tf.data.Dataset.from_tensor_slices(val_labels_one_hot)\n",
        "val_char_token_pos_dataset = tf.data.Dataset.zip((val_char_token_pos_data, val_char_token_pos_labels))\n",
        "val_char_token_pos_dataset = val_char_token_pos_dataset.batch(32).prefetch(tf.data.AUTOTUNE)\n",
        "\n",
        "val_char_token_pos_dataset"
      ]
    },
    {
      "cell_type": "markdown",
      "metadata": {
        "id": "mlr17adXgcqD"
      },
      "source": [
        "### Fit our tribrid embedding model"
      ]
    },
    {
      "cell_type": "code",
      "execution_count": null,
      "metadata": {
        "colab": {
          "background_save": true,
          "base_uri": "https://localhost:8080/"
        },
        "id": "-uRcbJMDen5g",
        "outputId": "9401e481-43cf-4ba0-ec3f-2aa63b80b98d"
      },
      "outputs": [
        {
          "name": "stdout",
          "output_type": "stream",
          "text": [
            "Epoch 1/5\n",
            "562/562 [==============================] - 32s 43ms/step - loss: 1.0909 - accuracy: 0.7313 - val_loss: 0.9802 - val_accuracy: 0.8045\n",
            "Epoch 2/5\n",
            "562/562 [==============================] - 22s 39ms/step - loss: 0.9606 - accuracy: 0.8204 - val_loss: 0.9436 - val_accuracy: 0.8321\n",
            "Epoch 3/5\n",
            "562/562 [==============================] - 21s 38ms/step - loss: 0.9411 - accuracy: 0.8300 - val_loss: 0.9337 - val_accuracy: 0.8388\n",
            "Epoch 4/5\n",
            "562/562 [==============================] - 21s 37ms/step - loss: 0.9368 - accuracy: 0.8386 - val_loss: 0.9281 - val_accuracy: 0.8351\n",
            "Epoch 5/5\n",
            "562/562 [==============================] - 21s 38ms/step - loss: 0.9293 - accuracy: 0.8421 - val_loss: 0.9201 - val_accuracy: 0.8474\n"
          ]
        }
      ],
      "source": [
        "history_5 = model_5.fit(train_char_token_pos_dataset,\n",
        "                        steps_per_epoch=int(0.1*len(train_char_token_pos_dataset)),\n",
        "                        epochs=5,\n",
        "                        validation_data=val_char_token_pos_dataset,\n",
        "                        validation_steps=int(0.1*len(val_char_token_pos_dataset)))"
      ]
    },
    {
      "cell_type": "markdown",
      "metadata": {
        "id": "e1N7DV6Dg9LD"
      },
      "source": [
        "### Evaluate the model"
      ]
    },
    {
      "cell_type": "code",
      "execution_count": null,
      "metadata": {
        "colab": {
          "background_save": true
        },
        "id": "xCJhqlW0g4rX",
        "outputId": "c2ab9fad-2b2b-4df0-8206-69ee88e39888"
      },
      "outputs": [
        {
          "name": "stdout",
          "output_type": "stream",
          "text": [
            "945/945 [==============================] - 19s 20ms/step - loss: 0.9160 - accuracy: 0.8483\n"
          ]
        },
        {
          "data": {
            "text/plain": [
              "[0.9159770011901855, 0.8483052849769592]"
            ]
          },
          "execution_count": null,
          "metadata": {},
          "output_type": "execute_result"
        }
      ],
      "source": [
        "model_5.evaluate(val_char_token_pos_dataset)"
      ]
    },
    {
      "cell_type": "code",
      "execution_count": null,
      "metadata": {
        "colab": {
          "background_save": true
        },
        "id": "tWQq0l82hCab",
        "outputId": "be96c3e0-cb5e-4484-e772-43e78df01b8b"
      },
      "outputs": [
        {
          "name": "stdout",
          "output_type": "stream",
          "text": [
            "945/945 [==============================] - 20s 19ms/step\n"
          ]
        },
        {
          "data": {
            "text/plain": [
              "array([[0.6266964 , 0.08973648, 0.01659808, 0.24435809, 0.02261091],\n",
              "       [0.6285051 , 0.07875916, 0.09541061, 0.18198451, 0.01534064],\n",
              "       [0.39452666, 0.11534446, 0.14762232, 0.28695062, 0.05555599],\n",
              "       ...,\n",
              "       [0.03356262, 0.08382943, 0.0491436 , 0.03265953, 0.8008048 ],\n",
              "       [0.02274638, 0.2574905 , 0.11222942, 0.02143745, 0.5860962 ],\n",
              "       [0.09584285, 0.702431  , 0.09984364, 0.02878629, 0.07309621]],\n",
              "      dtype=float32)"
            ]
          },
          "execution_count": null,
          "metadata": {},
          "output_type": "execute_result"
        }
      ],
      "source": [
        "model_5_pred_probs = model_5.predict(val_char_token_pos_dataset, verbose=1)\n",
        "model_5_pred_probs"
      ]
    },
    {
      "cell_type": "code",
      "execution_count": null,
      "metadata": {
        "colab": {
          "background_save": true
        },
        "id": "zFvxOdiyhIav",
        "outputId": "a797c85a-a4bb-427b-ce3c-4d68260560ed"
      },
      "outputs": [
        {
          "data": {
            "text/plain": [
              "<tf.Tensor: shape=(30212,), dtype=int64, numpy=array([0, 0, 0, ..., 4, 4, 1])>"
            ]
          },
          "execution_count": null,
          "metadata": {},
          "output_type": "execute_result"
        }
      ],
      "source": [
        "model_5_preds = tf.argmax(model_5_pred_probs, axis=1)\n",
        "model_5_preds"
      ]
    },
    {
      "cell_type": "code",
      "execution_count": null,
      "metadata": {
        "colab": {
          "background_save": true
        },
        "id": "HuTHuzTNhOXe",
        "outputId": "b1cad605-0624-41f0-8dac-a0466e99b213"
      },
      "outputs": [
        {
          "data": {
            "text/plain": [
              "{'accuracy': 84.83053091486826,\n",
              " 'f1': 0.8441201056136544,\n",
              " 'precision': 0.8522998375482093,\n",
              " 'recall': 0.8483053091486826}"
            ]
          },
          "execution_count": null,
          "metadata": {},
          "output_type": "execute_result"
        }
      ],
      "source": [
        "model_5_results = calculate_results(y_true=val_labels_encoded,\n",
        "                                    y_pred=model_5_preds)\n",
        "model_5_results"
      ]
    },
    {
      "cell_type": "markdown",
      "metadata": {
        "id": "QkHMp9WJole-"
      },
      "source": [
        "# Compare all the model results"
      ]
    },
    {
      "cell_type": "code",
      "execution_count": null,
      "metadata": {
        "colab": {
          "background_save": true
        },
        "id": "OFnTjrZghmSu",
        "outputId": "455718e0-19c3-4aaf-c86a-3aa0c8bdf301"
      },
      "outputs": [
        {
          "data": {
            "text/html": [
              "\n",
              "  <div id=\"df-e4d32aaa-a2fd-4f8e-9e0c-31109854efe3\">\n",
              "    <div class=\"colab-df-container\">\n",
              "      <div>\n",
              "<style scoped>\n",
              "    .dataframe tbody tr th:only-of-type {\n",
              "        vertical-align: middle;\n",
              "    }\n",
              "\n",
              "    .dataframe tbody tr th {\n",
              "        vertical-align: top;\n",
              "    }\n",
              "\n",
              "    .dataframe thead th {\n",
              "        text-align: right;\n",
              "    }\n",
              "</style>\n",
              "<table border=\"1\" class=\"dataframe\">\n",
              "  <thead>\n",
              "    <tr style=\"text-align: right;\">\n",
              "      <th></th>\n",
              "      <th>accuracy</th>\n",
              "      <th>precision</th>\n",
              "      <th>recall</th>\n",
              "      <th>f1</th>\n",
              "    </tr>\n",
              "  </thead>\n",
              "  <tbody>\n",
              "    <tr>\n",
              "      <th>model_0_Naive_Bayes</th>\n",
              "      <td>0.721832</td>\n",
              "      <td>0.718647</td>\n",
              "      <td>0.721832</td>\n",
              "      <td>0.698925</td>\n",
              "    </tr>\n",
              "    <tr>\n",
              "      <th>model_1_Conv1D</th>\n",
              "      <td>0.818549</td>\n",
              "      <td>0.820228</td>\n",
              "      <td>0.818549</td>\n",
              "      <td>0.815705</td>\n",
              "    </tr>\n",
              "    <tr>\n",
              "      <th>model_2_Pretrained</th>\n",
              "      <td>0.725837</td>\n",
              "      <td>0.721694</td>\n",
              "      <td>0.725837</td>\n",
              "      <td>0.720278</td>\n",
              "    </tr>\n",
              "    <tr>\n",
              "      <th>model_3_Conv1D_Chars_Embedding</th>\n",
              "      <td>0.716768</td>\n",
              "      <td>0.718745</td>\n",
              "      <td>0.716768</td>\n",
              "      <td>0.710960</td>\n",
              "    </tr>\n",
              "    <tr>\n",
              "      <th>model_4_TokenChars_Embedding</th>\n",
              "      <td>0.757348</td>\n",
              "      <td>0.755015</td>\n",
              "      <td>0.757348</td>\n",
              "      <td>0.752431</td>\n",
              "    </tr>\n",
              "    <tr>\n",
              "      <th>model_5_TokenCharsPos_Embedding</th>\n",
              "      <td>0.848305</td>\n",
              "      <td>0.852300</td>\n",
              "      <td>0.848305</td>\n",
              "      <td>0.844120</td>\n",
              "    </tr>\n",
              "  </tbody>\n",
              "</table>\n",
              "</div>\n",
              "      <button class=\"colab-df-convert\" onclick=\"convertToInteractive('df-e4d32aaa-a2fd-4f8e-9e0c-31109854efe3')\"\n",
              "              title=\"Convert this dataframe to an interactive table.\"\n",
              "              style=\"display:none;\">\n",
              "        \n",
              "  <svg xmlns=\"http://www.w3.org/2000/svg\" height=\"24px\"viewBox=\"0 0 24 24\"\n",
              "       width=\"24px\">\n",
              "    <path d=\"M0 0h24v24H0V0z\" fill=\"none\"/>\n",
              "    <path d=\"M18.56 5.44l.94 2.06.94-2.06 2.06-.94-2.06-.94-.94-2.06-.94 2.06-2.06.94zm-11 1L8.5 8.5l.94-2.06 2.06-.94-2.06-.94L8.5 2.5l-.94 2.06-2.06.94zm10 10l.94 2.06.94-2.06 2.06-.94-2.06-.94-.94-2.06-.94 2.06-2.06.94z\"/><path d=\"M17.41 7.96l-1.37-1.37c-.4-.4-.92-.59-1.43-.59-.52 0-1.04.2-1.43.59L10.3 9.45l-7.72 7.72c-.78.78-.78 2.05 0 2.83L4 21.41c.39.39.9.59 1.41.59.51 0 1.02-.2 1.41-.59l7.78-7.78 2.81-2.81c.8-.78.8-2.07 0-2.86zM5.41 20L4 18.59l7.72-7.72 1.47 1.35L5.41 20z\"/>\n",
              "  </svg>\n",
              "      </button>\n",
              "      \n",
              "  <style>\n",
              "    .colab-df-container {\n",
              "      display:flex;\n",
              "      flex-wrap:wrap;\n",
              "      gap: 12px;\n",
              "    }\n",
              "\n",
              "    .colab-df-convert {\n",
              "      background-color: #E8F0FE;\n",
              "      border: none;\n",
              "      border-radius: 50%;\n",
              "      cursor: pointer;\n",
              "      display: none;\n",
              "      fill: #1967D2;\n",
              "      height: 32px;\n",
              "      padding: 0 0 0 0;\n",
              "      width: 32px;\n",
              "    }\n",
              "\n",
              "    .colab-df-convert:hover {\n",
              "      background-color: #E2EBFA;\n",
              "      box-shadow: 0px 1px 2px rgba(60, 64, 67, 0.3), 0px 1px 3px 1px rgba(60, 64, 67, 0.15);\n",
              "      fill: #174EA6;\n",
              "    }\n",
              "\n",
              "    [theme=dark] .colab-df-convert {\n",
              "      background-color: #3B4455;\n",
              "      fill: #D2E3FC;\n",
              "    }\n",
              "\n",
              "    [theme=dark] .colab-df-convert:hover {\n",
              "      background-color: #434B5C;\n",
              "      box-shadow: 0px 1px 3px 1px rgba(0, 0, 0, 0.15);\n",
              "      filter: drop-shadow(0px 1px 2px rgba(0, 0, 0, 0.3));\n",
              "      fill: #FFFFFF;\n",
              "    }\n",
              "  </style>\n",
              "\n",
              "      <script>\n",
              "        const buttonEl =\n",
              "          document.querySelector('#df-e4d32aaa-a2fd-4f8e-9e0c-31109854efe3 button.colab-df-convert');\n",
              "        buttonEl.style.display =\n",
              "          google.colab.kernel.accessAllowed ? 'block' : 'none';\n",
              "\n",
              "        async function convertToInteractive(key) {\n",
              "          const element = document.querySelector('#df-e4d32aaa-a2fd-4f8e-9e0c-31109854efe3');\n",
              "          const dataTable =\n",
              "            await google.colab.kernel.invokeFunction('convertToInteractive',\n",
              "                                                     [key], {});\n",
              "          if (!dataTable) return;\n",
              "\n",
              "          const docLinkHtml = 'Like what you see? Visit the ' +\n",
              "            '<a target=\"_blank\" href=https://colab.research.google.com/notebooks/data_table.ipynb>data table notebook</a>'\n",
              "            + ' to learn more about interactive tables.';\n",
              "          element.innerHTML = '';\n",
              "          dataTable['output_type'] = 'display_data';\n",
              "          await google.colab.output.renderOutput(dataTable, element);\n",
              "          const docLink = document.createElement('div');\n",
              "          docLink.innerHTML = docLinkHtml;\n",
              "          element.appendChild(docLink);\n",
              "        }\n",
              "      </script>\n",
              "    </div>\n",
              "  </div>\n",
              "  "
            ],
            "text/plain": [
              "                                 accuracy  precision    recall        f1\n",
              "model_0_Naive_Bayes              0.721832   0.718647  0.721832  0.698925\n",
              "model_1_Conv1D                   0.818549   0.820228  0.818549  0.815705\n",
              "model_2_Pretrained               0.725837   0.721694  0.725837  0.720278\n",
              "model_3_Conv1D_Chars_Embedding   0.716768   0.718745  0.716768  0.710960\n",
              "model_4_TokenChars_Embedding     0.757348   0.755015  0.757348  0.752431\n",
              "model_5_TokenCharsPos_Embedding  0.848305   0.852300  0.848305  0.844120"
            ]
          },
          "execution_count": null,
          "metadata": {},
          "output_type": "execute_result"
        }
      ],
      "source": [
        "import pandas as pd\n",
        "all_model_results = pd.DataFrame({\"model_0_Naive_Bayes\": model_0_results, \n",
        "              \"model_1_Conv1D\": model_1_results,\n",
        "              \"model_2_Pretrained\": model_2_results,\n",
        "              \"model_3_Conv1D_Chars_Embedding\": model_3_results,\n",
        "              \"model_4_TokenChars_Embedding\": model_4_results,\n",
        "              \"model_5_TokenCharsPos_Embedding\": model_5_results})\n",
        "\n",
        "all_model_results = all_model_results.transpose()\n",
        "\n",
        "# Reduce the accuracy to same scale as other metrics\n",
        "all_model_results[\"accuracy\"] = all_model_results[\"accuracy\"]/100\n",
        "all_model_results"
      ]
    },
    {
      "cell_type": "code",
      "execution_count": null,
      "metadata": {
        "colab": {
          "background_save": true
        },
        "id": "SDknK4ogo5qy",
        "outputId": "67068ab6-c8c1-4ddb-a68e-0948b4ca7767"
      },
      "outputs": [
        {
          "data": {
            "text/plain": [
              "<matplotlib.axes._subplots.AxesSubplot at 0x7faa7096c190>"
            ]
          },
          "execution_count": null,
          "metadata": {},
          "output_type": "execute_result"
        },
        {
          "data": {
            "image/png": "[encoded data removed]",
            "text/plain": [
              "<Figure size 720x504 with 1 Axes>"
            ]
          },
          "metadata": {},
          "output_type": "display_data"
        }
      ],
      "source": [
        "# {lot and compare all model results}\n",
        "all_model_results.plot(kind=\"bar\",figsize=(10,7))"
      ]
    },
    {
      "cell_type": "code",
      "execution_count": null,
      "metadata": {
        "colab": {
          "background_save": true
        },
        "id": "XcxLRpXApq3m",
        "outputId": "de727ee9-733d-4c69-dbad-c46da3603e34"
      },
      "outputs": [
        {
          "data": {
            "text/plain": [
              "<matplotlib.axes._subplots.AxesSubplot at 0x7faa5f400e50>"
            ]
          },
          "execution_count": null,
          "metadata": {},
          "output_type": "execute_result"
        },
        {
          "data": {
            "image/png": "[encoded data removed]",
            "text/plain": [
              "<Figure size 720x504 with 1 Axes>"
            ]
          },
          "metadata": {},
          "output_type": "display_data"
        }
      ],
      "source": [
        "all_model_results.sort_values(\"f1\",ascending=True).plot(kind=\"bar\",figsize=(10,7))"
      ]
    },
    {
      "cell_type": "code",
      "execution_count": null,
      "metadata": {
        "colab": {
          "background_save": true
        },
        "id": "W0g0kqjXYnDd",
        "outputId": "2542e309-0b57-4a4f-cd11-a2060a98daa1"
      },
      "outputs": [
        {
          "data": {
            "text/plain": [
              "<matplotlib.axes._subplots.AxesSubplot at 0x7faa701a0a90>"
            ]
          },
          "execution_count": null,
          "metadata": {},
          "output_type": "execute_result"
        },
        {
          "data": {
            "image/png": "[encoded data removed]",
            "text/plain": [
              "<Figure size 720x504 with 1 Axes>"
            ]
          },
          "metadata": {},
          "output_type": "display_data"
        }
      ],
      "source": [
        "all_model_results.sort_values(\"f1\", ascending=False)[\"f1\"].plot(kind=\"bar\", figsize=(10,7))"
      ]
    },
    {
      "cell_type": "markdown",
      "metadata": {
        "id": "bSE5Gx1GsZgH"
      },
      "source": [
        "# Save and load model"
      ]
    },
    {
      "cell_type": "code",
      "execution_count": null,
      "metadata": {
        "colab": {
          "background_save": true
        },
        "id": "jMo5qBikreVq",
        "outputId": "5024a440-5a7e-4f3d-f4a4-bdf78d9915d9"
      },
      "outputs": [
        {
          "name": "stderr",
          "output_type": "stream",
          "text": [
            "WARNING:absl:Found untraced functions such as lstm_cell_4_layer_call_fn, lstm_cell_4_layer_call_and_return_conditional_losses, lstm_cell_5_layer_call_fn, lstm_cell_5_layer_call_and_return_conditional_losses while saving (showing 4 of 4). These functions will not be directly callable after loading.\n"
          ]
        },
        {
          "name": "stdout",
          "output_type": "stream",
          "text": [
            "INFO:tensorflow:Assets written to: skimlit_tribrid_model/assets\n"
          ]
        },
        {
          "name": "stderr",
          "output_type": "stream",
          "text": [
            "INFO:tensorflow:Assets written to: skimlit_tribrid_model/assets\n",
            "WARNING:absl:<keras.layers.recurrent.LSTMCell object at 0x7faa708a8950> has the same name 'LSTMCell' as a built-in Keras object. Consider renaming <class 'keras.layers.recurrent.LSTMCell'> to avoid naming conflicts when loading with `tf.keras.models.load_model`. If renaming is not possible, pass the object in the `custom_objects` parameter of the load function.\n",
            "WARNING:absl:<keras.layers.recurrent.LSTMCell object at 0x7faa70832c50> has the same name 'LSTMCell' as a built-in Keras object. Consider renaming <class 'keras.layers.recurrent.LSTMCell'> to avoid naming conflicts when loading with `tf.keras.models.load_model`. If renaming is not possible, pass the object in the `custom_objects` parameter of the load function.\n"
          ]
        }
      ],
      "source": [
        "# Save the best performing model to SaveModel format\n",
        "model_5.save(\"skimlit_tribrid_model\")"
      ]
    },
    {
      "cell_type": "code",
      "execution_count": null,
      "metadata": {
        "colab": {
          "background_save": true
        },
        "id": "xU4lnBDOshLN"
      },
      "outputs": [],
      "source": [
        "# Load in best performing model\n",
        "loaded_model = tf.keras.models.load_model(\"skimlit_tribrid_model\")"
      ]
    },
    {
      "cell_type": "code",
      "execution_count": null,
      "metadata": {
        "colab": {
          "background_save": true
        },
        "id": "eRWULM-gsz0t",
        "outputId": "98f39ef6-9215-409d-85bc-ebc5a1b98e14"
      },
      "outputs": [
        {
          "name": "stdout",
          "output_type": "stream",
          "text": [
            "945/945 [==============================] - 21s 20ms/step\n"
          ]
        },
        {
          "data": {
            "text/plain": [
              "<tf.Tensor: shape=(10,), dtype=int64, numpy=array([0, 0, 0, 2, 2, 2, 4, 4, 4, 1])>"
            ]
          },
          "execution_count": null,
          "metadata": {},
          "output_type": "execute_result"
        }
      ],
      "source": [
        "# Make predictions with the loaded model on the validation dataset\n",
        "loaded_pred_probs = loaded_model.predict(val_char_token_pos_dataset, verbose=1)\n",
        "loaded_preds = tf.argmax(loaded_pred_probs, axis=1)\n",
        "loaded_preds[:10]"
      ]
    },
    {
      "cell_type": "code",
      "execution_count": null,
      "metadata": {
        "colab": {
          "background_save": true
        },
        "id": "xa6XAXTks_Se",
        "outputId": "f735175c-1a27-48df-8729-57a79ca40ffd"
      },
      "outputs": [
        {
          "data": {
            "text/plain": [
              "{'accuracy': 84.83053091486826,\n",
              " 'f1': 0.8441201056136544,\n",
              " 'precision': 0.8522998375482093,\n",
              " 'recall': 0.8483053091486826}"
            ]
          },
          "execution_count": null,
          "metadata": {},
          "output_type": "execute_result"
        }
      ],
      "source": [
        "# Calculate the results of our loaded model\n",
        "loaded_model_results = calculate_results(y_true=val_labels_encoded,\n",
        "                                         y_pred=loaded_preds)\n",
        "loaded_model_results"
      ]
    },
    {
      "cell_type": "code",
      "execution_count": null,
      "metadata": {
        "colab": {
          "background_save": true
        },
        "id": "DYbD3o67tNng",
        "outputId": "df8df153-19a6-4458-bb61-c45300660d42"
      },
      "outputs": [
        {
          "data": {
            "text/plain": [
              "{'accuracy': 84.83053091486826,\n",
              " 'f1': 0.8441201056136544,\n",
              " 'precision': 0.8522998375482093,\n",
              " 'recall': 0.8483053091486826}"
            ]
          },
          "execution_count": null,
          "metadata": {},
          "output_type": "execute_result"
        }
      ],
      "source": [
        "model_5_results"
      ]
    },
    {
      "cell_type": "code",
      "execution_count": null,
      "metadata": {
        "colab": {
          "background_save": true
        },
        "id": "idCcH0RCtJbd",
        "outputId": "b40ccd3d-c650-4e85-fad4-7144d7604167"
      },
      "outputs": [
        {
          "name": "stdout",
          "output_type": "stream",
          "text": [
            "Model: \"model_7\"\n",
            "__________________________________________________________________________________________________\n",
            " Layer (type)                   Output Shape         Param #     Connected to                     \n",
            "==================================================================================================\n",
            " char_inputs (InputLayer)       [(None, 1)]          0           []                               \n",
            "                                                                                                  \n",
            " token_inputs (InputLayer)      [(None,)]            0           []                               \n",
            "                                                                                                  \n",
            " char_vectorizer (TextVectoriza  (None, 290)         0           ['char_inputs[0][0]']            \n",
            " tion)                                                                                            \n",
            "                                                                                                  \n",
            " universal_sentence_encoder (Ke  (None, 512)         256797824   ['token_inputs[0][0]']           \n",
            " rasLayer)                                                                                        \n",
            "                                                                                                  \n",
            " char_embed (Embedding)         (None, 290, 25)      1425        ['char_vectorizer[0][0]']        \n",
            "                                                                                                  \n",
            " dense_7 (Dense)                (None, 128)          65664       ['universal_sentence_encoder[0][0\n",
            "                                                                 ]']                              \n",
            "                                                                                                  \n",
            " bidirectional_1 (Bidirectional  (None, 48)          9600        ['char_embed[0][0]']             \n",
            " )                                                                                                \n",
            "                                                                                                  \n",
            " char_token_hybrid_embedding (C  (None, 176)         0           ['dense_7[0][0]',                \n",
            " oncatenate)                                                      'bidirectional_1[0][0]']        \n",
            "                                                                                                  \n",
            " line_number_input (InputLayer)  [(None, 15)]        0           []                               \n",
            "                                                                                                  \n",
            " total_lines_input (InputLayer)  [(None, 18)]        0           []                               \n",
            "                                                                                                  \n",
            " dense_10 (Dense)               (None, 256)          45312       ['char_token_hybrid_embedding[0][\n",
            "                                                                 0]']                             \n",
            "                                                                                                  \n",
            " dense_8 (Dense)                (None, 32)           512         ['line_number_input[0][0]']      \n",
            "                                                                                                  \n",
            " dense_9 (Dense)                (None, 32)           608         ['total_lines_input[0][0]']      \n",
            "                                                                                                  \n",
            " dropout_2 (Dropout)            (None, 256)          0           ['dense_10[0][0]']               \n",
            "                                                                                                  \n",
            " char_token_positional_embeddin  (None, 320)         0           ['dense_8[0][0]',                \n",
            " g (Concatenate)                                                  'dense_9[0][0]',                \n",
            "                                                                  'dropout_2[0][0]']              \n",
            "                                                                                                  \n",
            " output_layer (Dense)           (None, 5)            1605        ['char_token_positional_embedding\n",
            "                                                                 [0][0]']                         \n",
            "                                                                                                  \n",
            "==================================================================================================\n",
            "Total params: 256,922,550\n",
            "Trainable params: 124,726\n",
            "Non-trainable params: 256,797,824\n",
            "__________________________________________________________________________________________________\n"
          ]
        }
      ],
      "source": [
        "loaded_model.summary()"
      ]
    },
    {
      "cell_type": "code",
      "execution_count": null,
      "metadata": {
        "colab": {
          "background_save": true
        },
        "id": "Uw0FspxTGJnW",
        "outputId": "20de9911-b238-414e-f2c1-12ee13001f02"
      },
      "outputs": [
        {
          "data": {
            "text/html": [
              "\n",
              "  <div id=\"df-4dfad115-5abd-41ee-9cfb-948eb531d747\">\n",
              "    <div class=\"colab-df-container\">\n",
              "      <div>\n",
              "<style scoped>\n",
              "    .dataframe tbody tr th:only-of-type {\n",
              "        vertical-align: middle;\n",
              "    }\n",
              "\n",
              "    .dataframe tbody tr th {\n",
              "        vertical-align: top;\n",
              "    }\n",
              "\n",
              "    .dataframe thead th {\n",
              "        text-align: right;\n",
              "    }\n",
              "</style>\n",
              "<table border=\"1\" class=\"dataframe\">\n",
              "  <thead>\n",
              "    <tr style=\"text-align: right;\">\n",
              "      <th></th>\n",
              "      <th>target</th>\n",
              "      <th>text</th>\n",
              "      <th>line_number</th>\n",
              "      <th>total_lines</th>\n",
              "    </tr>\n",
              "  </thead>\n",
              "  <tbody>\n",
              "    <tr>\n",
              "      <th>0</th>\n",
              "      <td>BACKGROUND</td>\n",
              "      <td>this study analyzed liver function abnormaliti...</td>\n",
              "      <td>0</td>\n",
              "      <td>8</td>\n",
              "    </tr>\n",
              "    <tr>\n",
              "      <th>1</th>\n",
              "      <td>RESULTS</td>\n",
              "      <td>a post hoc analysis was conducted with the use...</td>\n",
              "      <td>1</td>\n",
              "      <td>8</td>\n",
              "    </tr>\n",
              "    <tr>\n",
              "      <th>2</th>\n",
              "      <td>RESULTS</td>\n",
              "      <td>liver function tests ( lfts ) were measured at...</td>\n",
              "      <td>2</td>\n",
              "      <td>8</td>\n",
              "    </tr>\n",
              "    <tr>\n",
              "      <th>3</th>\n",
              "      <td>RESULTS</td>\n",
              "      <td>survival analyses were used to assess the asso...</td>\n",
              "      <td>3</td>\n",
              "      <td>8</td>\n",
              "    </tr>\n",
              "    <tr>\n",
              "      <th>4</th>\n",
              "      <td>RESULTS</td>\n",
              "      <td>the percentage of patients with abnormal lfts ...</td>\n",
              "      <td>4</td>\n",
              "      <td>8</td>\n",
              "    </tr>\n",
              "    <tr>\n",
              "      <th>...</th>\n",
              "      <td>...</td>\n",
              "      <td>...</td>\n",
              "      <td>...</td>\n",
              "      <td>...</td>\n",
              "    </tr>\n",
              "    <tr>\n",
              "      <th>30130</th>\n",
              "      <td>RESULTS</td>\n",
              "      <td>there was a statistically significant between-...</td>\n",
              "      <td>13</td>\n",
              "      <td>17</td>\n",
              "    </tr>\n",
              "    <tr>\n",
              "      <th>30131</th>\n",
              "      <td>RESULTS</td>\n",
              "      <td>there were no statistically significant betwee...</td>\n",
              "      <td>14</td>\n",
              "      <td>17</td>\n",
              "    </tr>\n",
              "    <tr>\n",
              "      <th>30132</th>\n",
              "      <td>RESULTS</td>\n",
              "      <td>there was no significant association between s...</td>\n",
              "      <td>15</td>\n",
              "      <td>17</td>\n",
              "    </tr>\n",
              "    <tr>\n",
              "      <th>30133</th>\n",
              "      <td>RESULTS</td>\n",
              "      <td>no adverse effects were reported .</td>\n",
              "      <td>16</td>\n",
              "      <td>17</td>\n",
              "    </tr>\n",
              "    <tr>\n",
              "      <th>30134</th>\n",
              "      <td>CONCLUSIONS</td>\n",
              "      <td>performing a @-week do-as-tolerated program of...</td>\n",
              "      <td>17</td>\n",
              "      <td>17</td>\n",
              "    </tr>\n",
              "  </tbody>\n",
              "</table>\n",
              "<p>30135 rows × 4 columns</p>\n",
              "</div>\n",
              "      <button class=\"colab-df-convert\" onclick=\"convertToInteractive('df-4dfad115-5abd-41ee-9cfb-948eb531d747')\"\n",
              "              title=\"Convert this dataframe to an interactive table.\"\n",
              "              style=\"display:none;\">\n",
              "        \n",
              "  <svg xmlns=\"http://www.w3.org/2000/svg\" height=\"24px\"viewBox=\"0 0 24 24\"\n",
              "       width=\"24px\">\n",
              "    <path d=\"M0 0h24v24H0V0z\" fill=\"none\"/>\n",
              "    <path d=\"M18.56 5.44l.94 2.06.94-2.06 2.06-.94-2.06-.94-.94-2.06-.94 2.06-2.06.94zm-11 1L8.5 8.5l.94-2.06 2.06-.94-2.06-.94L8.5 2.5l-.94 2.06-2.06.94zm10 10l.94 2.06.94-2.06 2.06-.94-2.06-.94-.94-2.06-.94 2.06-2.06.94z\"/><path d=\"M17.41 7.96l-1.37-1.37c-.4-.4-.92-.59-1.43-.59-.52 0-1.04.2-1.43.59L10.3 9.45l-7.72 7.72c-.78.78-.78 2.05 0 2.83L4 21.41c.39.39.9.59 1.41.59.51 0 1.02-.2 1.41-.59l7.78-7.78 2.81-2.81c.8-.78.8-2.07 0-2.86zM5.41 20L4 18.59l7.72-7.72 1.47 1.35L5.41 20z\"/>\n",
              "  </svg>\n",
              "      </button>\n",
              "      \n",
              "  <style>\n",
              "    .colab-df-container {\n",
              "      display:flex;\n",
              "      flex-wrap:wrap;\n",
              "      gap: 12px;\n",
              "    }\n",
              "\n",
              "    .colab-df-convert {\n",
              "      background-color: #E8F0FE;\n",
              "      border: none;\n",
              "      border-radius: 50%;\n",
              "      cursor: pointer;\n",
              "      display: none;\n",
              "      fill: #1967D2;\n",
              "      height: 32px;\n",
              "      padding: 0 0 0 0;\n",
              "      width: 32px;\n",
              "    }\n",
              "\n",
              "    .colab-df-convert:hover {\n",
              "      background-color: #E2EBFA;\n",
              "      box-shadow: 0px 1px 2px rgba(60, 64, 67, 0.3), 0px 1px 3px 1px rgba(60, 64, 67, 0.15);\n",
              "      fill: #174EA6;\n",
              "    }\n",
              "\n",
              "    [theme=dark] .colab-df-convert {\n",
              "      background-color: #3B4455;\n",
              "      fill: #D2E3FC;\n",
              "    }\n",
              "\n",
              "    [theme=dark] .colab-df-convert:hover {\n",
              "      background-color: #434B5C;\n",
              "      box-shadow: 0px 1px 3px 1px rgba(0, 0, 0, 0.15);\n",
              "      filter: drop-shadow(0px 1px 2px rgba(0, 0, 0, 0.3));\n",
              "      fill: #FFFFFF;\n",
              "    }\n",
              "  </style>\n",
              "\n",
              "      <script>\n",
              "        const buttonEl =\n",
              "          document.querySelector('#df-4dfad115-5abd-41ee-9cfb-948eb531d747 button.colab-df-convert');\n",
              "        buttonEl.style.display =\n",
              "          google.colab.kernel.accessAllowed ? 'block' : 'none';\n",
              "\n",
              "        async function convertToInteractive(key) {\n",
              "          const element = document.querySelector('#df-4dfad115-5abd-41ee-9cfb-948eb531d747');\n",
              "          const dataTable =\n",
              "            await google.colab.kernel.invokeFunction('convertToInteractive',\n",
              "                                                     [key], {});\n",
              "          if (!dataTable) return;\n",
              "\n",
              "          const docLinkHtml = 'Like what you see? Visit the ' +\n",
              "            '<a target=\"_blank\" href=https://colab.research.google.com/notebooks/data_table.ipynb>data table notebook</a>'\n",
              "            + ' to learn more about interactive tables.';\n",
              "          element.innerHTML = '';\n",
              "          dataTable['output_type'] = 'display_data';\n",
              "          await google.colab.output.renderOutput(dataTable, element);\n",
              "          const docLink = document.createElement('div');\n",
              "          docLink.innerHTML = docLinkHtml;\n",
              "          element.appendChild(docLink);\n",
              "        }\n",
              "      </script>\n",
              "    </div>\n",
              "  </div>\n",
              "  "
            ],
            "text/plain": [
              "            target                                               text  \\\n",
              "0       BACKGROUND  this study analyzed liver function abnormaliti...   \n",
              "1          RESULTS  a post hoc analysis was conducted with the use...   \n",
              "2          RESULTS  liver function tests ( lfts ) were measured at...   \n",
              "3          RESULTS  survival analyses were used to assess the asso...   \n",
              "4          RESULTS  the percentage of patients with abnormal lfts ...   \n",
              "...            ...                                                ...   \n",
              "30130      RESULTS  there was a statistically significant between-...   \n",
              "30131      RESULTS  there were no statistically significant betwee...   \n",
              "30132      RESULTS  there was no significant association between s...   \n",
              "30133      RESULTS                 no adverse effects were reported .   \n",
              "30134  CONCLUSIONS  performing a @-week do-as-tolerated program of...   \n",
              "\n",
              "       line_number  total_lines  \n",
              "0                0            8  \n",
              "1                1            8  \n",
              "2                2            8  \n",
              "3                3            8  \n",
              "4                4            8  \n",
              "...            ...          ...  \n",
              "30130           13           17  \n",
              "30131           14           17  \n",
              "30132           15           17  \n",
              "30133           16           17  \n",
              "30134           17           17  \n",
              "\n",
              "[30135 rows x 4 columns]"
            ]
          },
          "execution_count": null,
          "metadata": {},
          "output_type": "execute_result"
        }
      ],
      "source": [
        "df_test"
      ]
    },
    {
      "cell_type": "markdown",
      "metadata": {
        "id": "0yfFnVxYZqg1"
      },
      "source": [
        "# Evaluate model on test dataset"
      ]
    },
    {
      "cell_type": "code",
      "execution_count": null,
      "metadata": {
        "colab": {
          "background_save": true
        },
        "id": "Ttb7z1o8ZRHM",
        "outputId": "2efee8a5-4c6e-46b1-9714-1dec5e41c729"
      },
      "outputs": [
        {
          "data": {
            "text/plain": [
              "<PrefetchDataset element_spec=((TensorSpec(shape=(None,), dtype=tf.string, name=None), TensorSpec(shape=(None,), dtype=tf.string, name=None), TensorSpec(shape=(None, 15), dtype=tf.float32, name=None), TensorSpec(shape=(None, 18), dtype=tf.float32, name=None)), TensorSpec(shape=(None, 5), dtype=tf.float64, name=None))>"
            ]
          },
          "execution_count": null,
          "metadata": {},
          "output_type": "execute_result"
        }
      ],
      "source": [
        "test_char_token_pos_data = tf.data.Dataset.from_tensor_slices((test_sentences,\n",
        "                                                               test_chars,\n",
        "                                                               test_line_numbers_one_hot,\n",
        "                                                               test_total_lines_one_hot))\n",
        "\n",
        "test_char_token_pos_labels = tf.data.Dataset.from_tensor_slices(test_labels_one_hot)\n",
        "test_char_token_pos_dataset = tf.data.Dataset.zip((test_char_token_pos_data, test_char_token_pos_labels))\n",
        "test_char_token_pos_dataset = test_char_token_pos_dataset.batch(32).prefetch(tf.data.AUTOTUNE)\n",
        "\n",
        "test_char_token_pos_dataset"
      ]
    },
    {
      "cell_type": "code",
      "execution_count": null,
      "metadata": {
        "colab": {
          "background_save": true
        },
        "id": "hxE0ZX2TbONU",
        "outputId": "35986926-58f9-4e8c-b8e5-86292e1a99d3"
      },
      "outputs": [
        {
          "name": "stdout",
          "output_type": "stream",
          "text": [
            "942/942 [==============================] - 18s 19ms/step\n"
          ]
        },
        {
          "data": {
            "text/plain": [
              "array([[0.28082445, 0.07768787, 0.17939165, 0.35449916, 0.10759687],\n",
              "       [0.23817736, 0.04416263, 0.47945818, 0.19042432, 0.04777753],\n",
              "       [0.05952172, 0.02105312, 0.8322895 , 0.06003486, 0.02710077],\n",
              "       [0.02094428, 0.02076654, 0.8514652 , 0.02628629, 0.08053766],\n",
              "       [0.04454224, 0.06257376, 0.2065333 , 0.04713367, 0.6392171 ],\n",
              "       [0.02707141, 0.02124152, 0.06440474, 0.0290527 , 0.8582297 ],\n",
              "       [0.01386089, 0.0861496 , 0.4769185 , 0.02375407, 0.39931694],\n",
              "       [0.07930366, 0.54094666, 0.15715699, 0.03720111, 0.18539159],\n",
              "       [0.0259505 , 0.5329156 , 0.05085504, 0.02359509, 0.36668378],\n",
              "       [0.6230107 , 0.03294683, 0.05953629, 0.26056775, 0.02393844]],\n",
              "      dtype=float32)"
            ]
          },
          "execution_count": null,
          "metadata": {},
          "output_type": "execute_result"
        }
      ],
      "source": [
        "# Make predictions on the dataset\n",
        "test_pred_probs = loaded_model.predict(test_char_token_pos_dataset, verbose=1)\n",
        "test_pred_probs[:10]"
      ]
    },
    {
      "cell_type": "code",
      "execution_count": null,
      "metadata": {
        "colab": {
          "background_save": true
        },
        "id": "UGDHytYMbfy5",
        "outputId": "375897fe-30d0-4bf1-e9bc-1e80bcaf6ca6"
      },
      "outputs": [
        {
          "data": {
            "text/plain": [
              "<tf.Tensor: shape=(10,), dtype=int64, numpy=array([3, 2, 2, 2, 4, 4, 2, 1, 1, 0])>"
            ]
          },
          "execution_count": null,
          "metadata": {},
          "output_type": "execute_result"
        }
      ],
      "source": [
        "# Put into argmax and see the first 10 results\n",
        "test_preds = tf.argmax(test_pred_probs, axis=1)\n",
        "test_preds[0:10]"
      ]
    },
    {
      "cell_type": "code",
      "execution_count": null,
      "metadata": {
        "colab": {
          "background_save": true
        },
        "id": "jVT-vcEHb9vU",
        "outputId": "7a6f1896-f46b-4041-e2b1-5981e24ad969"
      },
      "outputs": [
        {
          "data": {
            "text/plain": [
              "{'accuracy': 84.4632487141198,\n",
              " 'f1': 0.8404597309561059,\n",
              " 'precision': 0.8480114304575052,\n",
              " 'recall': 0.844632487141198}"
            ]
          },
          "execution_count": null,
          "metadata": {},
          "output_type": "execute_result"
        }
      ],
      "source": [
        "# Calculate the results\n",
        "calculate_results(test_labels_encoded, test_preds)"
      ]
    },
    {
      "cell_type": "markdown",
      "metadata": {
        "id": "qhoslCm7hh-J"
      },
      "source": [
        "# Find the most wrong"
      ]
    },
    {
      "cell_type": "markdown",
      "metadata": {
        "id": "v2L42iPfhlMf"
      },
      "source": [
        "## Convert all of our inter-base to string-based"
      ]
    },
    {
      "cell_type": "code",
      "execution_count": null,
      "metadata": {
        "colab": {
          "background_save": true
        },
        "id": "1X-HDjW2cSxw",
        "outputId": "d93c615a-ec26-4289-f28b-eeed692f0b44"
      },
      "outputs": [
        {
          "name": "stdout",
          "output_type": "stream",
          "text": [
            "CPU times: user 11.3 s, sys: 904 ms, total: 12.2 s\n",
            "Wall time: 10.4 s\n"
          ]
        }
      ],
      "source": [
        "%%time\n",
        "# Get list of class names of test predictions\n",
        "test_pred_classes = [label_encoder.classes_[pred] for pred in test_preds]\n",
        "test_pred_classes"
      ]
    },
    {
      "cell_type": "code",
      "execution_count": null,
      "metadata": {
        "colab": {
          "background_save": true
        },
        "id": "_KHrRAH7eCCE",
        "outputId": "f49fc623-14eb-42f9-92af-a9343e47749f"
      },
      "outputs": [
        {
          "name": "stdout",
          "output_type": "stream",
          "text": [
            "Shape of 'test_pred_classes' 30135\n"
          ]
        },
        {
          "data": {
            "text/plain": [
              "['OBJECTIVE',\n",
              " 'METHODS',\n",
              " 'METHODS',\n",
              " 'METHODS',\n",
              " 'RESULTS',\n",
              " 'RESULTS',\n",
              " 'METHODS',\n",
              " 'CONCLUSIONS',\n",
              " 'CONCLUSIONS',\n",
              " 'BACKGROUND']"
            ]
          },
          "execution_count": null,
          "metadata": {},
          "output_type": "execute_result"
        }
      ],
      "source": [
        "print(f\"Shape of 'test_pred_classes' {len(test_pred_classes)}\")\n",
        "test_pred_classes[0:10]"
      ]
    },
    {
      "cell_type": "markdown",
      "metadata": {
        "id": "sR4o0siVhxRP"
      },
      "source": [
        "## Create prediction test dataframe"
      ]
    },
    {
      "cell_type": "code",
      "execution_count": null,
      "metadata": {
        "colab": {
          "background_save": true
        },
        "id": "lL9lYY85g-Ih"
      },
      "outputs": [],
      "source": [
        "df_test[\"prediction\"] = test_pred_classes # Create column with test prediction class names\n",
        "df_test[\"pred_prob\"] = tf.reduce_max(test_pred_probs, axis=1).numpy() # Get the maximum prediction probability https://www.tensorflow.org/api_docs/python/tf/math/reduce_max\n",
        "df_test[\"correction\"] = df_test[\"prediction\"] == df_test[\"target\"]"
      ]
    },
    {
      "cell_type": "markdown",
      "metadata": {
        "id": "jkUHH1gKjwa1"
      },
      "source": [
        "### Inspect the DataFrame table"
      ]
    },
    {
      "cell_type": "code",
      "execution_count": null,
      "metadata": {
        "colab": {
          "background_save": true
        },
        "id": "d4odyCQphLKZ",
        "outputId": "dc35220d-d315-4d6d-d82b-1878cbcd95fc"
      },
      "outputs": [
        {
          "data": {
            "text/html": [
              "\n",
              "  <div id=\"df-010a9681-ceba-417f-8f29-8faccc999a29\">\n",
              "    <div class=\"colab-df-container\">\n",
              "      <div>\n",
              "<style scoped>\n",
              "    .dataframe tbody tr th:only-of-type {\n",
              "        vertical-align: middle;\n",
              "    }\n",
              "\n",
              "    .dataframe tbody tr th {\n",
              "        vertical-align: top;\n",
              "    }\n",
              "\n",
              "    .dataframe thead th {\n",
              "        text-align: right;\n",
              "    }\n",
              "</style>\n",
              "<table border=\"1\" class=\"dataframe\">\n",
              "  <thead>\n",
              "    <tr style=\"text-align: right;\">\n",
              "      <th></th>\n",
              "      <th>target</th>\n",
              "      <th>text</th>\n",
              "      <th>line_number</th>\n",
              "      <th>total_lines</th>\n",
              "      <th>prediction</th>\n",
              "      <th>pred_prob</th>\n",
              "      <th>correction</th>\n",
              "    </tr>\n",
              "  </thead>\n",
              "  <tbody>\n",
              "    <tr>\n",
              "      <th>0</th>\n",
              "      <td>BACKGROUND</td>\n",
              "      <td>this study analyzed liver function abnormaliti...</td>\n",
              "      <td>0</td>\n",
              "      <td>8</td>\n",
              "      <td>OBJECTIVE</td>\n",
              "      <td>0.354499</td>\n",
              "      <td>False</td>\n",
              "    </tr>\n",
              "    <tr>\n",
              "      <th>1</th>\n",
              "      <td>RESULTS</td>\n",
              "      <td>a post hoc analysis was conducted with the use...</td>\n",
              "      <td>1</td>\n",
              "      <td>8</td>\n",
              "      <td>METHODS</td>\n",
              "      <td>0.479458</td>\n",
              "      <td>False</td>\n",
              "    </tr>\n",
              "    <tr>\n",
              "      <th>2</th>\n",
              "      <td>RESULTS</td>\n",
              "      <td>liver function tests ( lfts ) were measured at...</td>\n",
              "      <td>2</td>\n",
              "      <td>8</td>\n",
              "      <td>METHODS</td>\n",
              "      <td>0.832290</td>\n",
              "      <td>False</td>\n",
              "    </tr>\n",
              "    <tr>\n",
              "      <th>3</th>\n",
              "      <td>RESULTS</td>\n",
              "      <td>survival analyses were used to assess the asso...</td>\n",
              "      <td>3</td>\n",
              "      <td>8</td>\n",
              "      <td>METHODS</td>\n",
              "      <td>0.851465</td>\n",
              "      <td>False</td>\n",
              "    </tr>\n",
              "    <tr>\n",
              "      <th>4</th>\n",
              "      <td>RESULTS</td>\n",
              "      <td>the percentage of patients with abnormal lfts ...</td>\n",
              "      <td>4</td>\n",
              "      <td>8</td>\n",
              "      <td>RESULTS</td>\n",
              "      <td>0.639217</td>\n",
              "      <td>True</td>\n",
              "    </tr>\n",
              "    <tr>\n",
              "      <th>5</th>\n",
              "      <td>RESULTS</td>\n",
              "      <td>when mean hemodynamic profiles were compared i...</td>\n",
              "      <td>5</td>\n",
              "      <td>8</td>\n",
              "      <td>RESULTS</td>\n",
              "      <td>0.858230</td>\n",
              "      <td>True</td>\n",
              "    </tr>\n",
              "    <tr>\n",
              "      <th>6</th>\n",
              "      <td>RESULTS</td>\n",
              "      <td>multivariable analyses revealed that patients ...</td>\n",
              "      <td>6</td>\n",
              "      <td>8</td>\n",
              "      <td>METHODS</td>\n",
              "      <td>0.476918</td>\n",
              "      <td>False</td>\n",
              "    </tr>\n",
              "    <tr>\n",
              "      <th>7</th>\n",
              "      <td>CONCLUSIONS</td>\n",
              "      <td>abnormal lfts are common in the adhf populatio...</td>\n",
              "      <td>7</td>\n",
              "      <td>8</td>\n",
              "      <td>CONCLUSIONS</td>\n",
              "      <td>0.540947</td>\n",
              "      <td>True</td>\n",
              "    </tr>\n",
              "    <tr>\n",
              "      <th>8</th>\n",
              "      <td>CONCLUSIONS</td>\n",
              "      <td>elevated meld-xi scores are associated with po...</td>\n",
              "      <td>8</td>\n",
              "      <td>8</td>\n",
              "      <td>CONCLUSIONS</td>\n",
              "      <td>0.532916</td>\n",
              "      <td>True</td>\n",
              "    </tr>\n",
              "    <tr>\n",
              "      <th>9</th>\n",
              "      <td>BACKGROUND</td>\n",
              "      <td>minimally invasive endovascular aneurysm repai...</td>\n",
              "      <td>0</td>\n",
              "      <td>12</td>\n",
              "      <td>BACKGROUND</td>\n",
              "      <td>0.623011</td>\n",
              "      <td>True</td>\n",
              "    </tr>\n",
              "    <tr>\n",
              "      <th>10</th>\n",
              "      <td>BACKGROUND</td>\n",
              "      <td>the aim of this study was to analyse the cost-...</td>\n",
              "      <td>1</td>\n",
              "      <td>12</td>\n",
              "      <td>BACKGROUND</td>\n",
              "      <td>0.473501</td>\n",
              "      <td>True</td>\n",
              "    </tr>\n",
              "    <tr>\n",
              "      <th>11</th>\n",
              "      <td>METHODS</td>\n",
              "      <td>resource use was determined from the amsterdam...</td>\n",
              "      <td>2</td>\n",
              "      <td>12</td>\n",
              "      <td>METHODS</td>\n",
              "      <td>0.835358</td>\n",
              "      <td>True</td>\n",
              "    </tr>\n",
              "    <tr>\n",
              "      <th>12</th>\n",
              "      <td>METHODS</td>\n",
              "      <td>the analysis was performed from a provider per...</td>\n",
              "      <td>3</td>\n",
              "      <td>12</td>\n",
              "      <td>METHODS</td>\n",
              "      <td>0.906482</td>\n",
              "      <td>True</td>\n",
              "    </tr>\n",
              "    <tr>\n",
              "      <th>13</th>\n",
              "      <td>METHODS</td>\n",
              "      <td>all costs were calculated as if all patients h...</td>\n",
              "      <td>4</td>\n",
              "      <td>12</td>\n",
              "      <td>METHODS</td>\n",
              "      <td>0.686317</td>\n",
              "      <td>True</td>\n",
              "    </tr>\n",
              "    <tr>\n",
              "      <th>14</th>\n",
              "      <td>RESULTS</td>\n",
              "      <td>a total of @ patients were randomized .</td>\n",
              "      <td>5</td>\n",
              "      <td>12</td>\n",
              "      <td>RESULTS</td>\n",
              "      <td>0.575928</td>\n",
              "      <td>True</td>\n",
              "    </tr>\n",
              "    <tr>\n",
              "      <th>15</th>\n",
              "      <td>RESULTS</td>\n",
              "      <td>the @-day mortality rate was @ per cent after ...</td>\n",
              "      <td>6</td>\n",
              "      <td>12</td>\n",
              "      <td>RESULTS</td>\n",
              "      <td>0.692502</td>\n",
              "      <td>True</td>\n",
              "    </tr>\n",
              "    <tr>\n",
              "      <th>16</th>\n",
              "      <td>RESULTS</td>\n",
              "      <td>at @months , the total mortality rate for evar...</td>\n",
              "      <td>7</td>\n",
              "      <td>12</td>\n",
              "      <td>RESULTS</td>\n",
              "      <td>0.884756</td>\n",
              "      <td>True</td>\n",
              "    </tr>\n",
              "    <tr>\n",
              "      <th>17</th>\n",
              "      <td>RESULTS</td>\n",
              "      <td>the mean cost difference between evar and or w...</td>\n",
              "      <td>8</td>\n",
              "      <td>12</td>\n",
              "      <td>RESULTS</td>\n",
              "      <td>0.858913</td>\n",
              "      <td>True</td>\n",
              "    </tr>\n",
              "    <tr>\n",
              "      <th>18</th>\n",
              "      <td>RESULTS</td>\n",
              "      <td>the incremental cost-effectiveness ratio per p...</td>\n",
              "      <td>9</td>\n",
              "      <td>12</td>\n",
              "      <td>RESULTS</td>\n",
              "      <td>0.858415</td>\n",
              "      <td>True</td>\n",
              "    </tr>\n",
              "    <tr>\n",
              "      <th>19</th>\n",
              "      <td>RESULTS</td>\n",
              "      <td>there was no significant difference in quality...</td>\n",
              "      <td>10</td>\n",
              "      <td>12</td>\n",
              "      <td>RESULTS</td>\n",
              "      <td>0.729482</td>\n",
              "      <td>True</td>\n",
              "    </tr>\n",
              "  </tbody>\n",
              "</table>\n",
              "</div>\n",
              "      <button class=\"colab-df-convert\" onclick=\"convertToInteractive('df-010a9681-ceba-417f-8f29-8faccc999a29')\"\n",
              "              title=\"Convert this dataframe to an interactive table.\"\n",
              "              style=\"display:none;\">\n",
              "        \n",
              "  <svg xmlns=\"http://www.w3.org/2000/svg\" height=\"24px\"viewBox=\"0 0 24 24\"\n",
              "       width=\"24px\">\n",
              "    <path d=\"M0 0h24v24H0V0z\" fill=\"none\"/>\n",
              "    <path d=\"M18.56 5.44l.94 2.06.94-2.06 2.06-.94-2.06-.94-.94-2.06-.94 2.06-2.06.94zm-11 1L8.5 8.5l.94-2.06 2.06-.94-2.06-.94L8.5 2.5l-.94 2.06-2.06.94zm10 10l.94 2.06.94-2.06 2.06-.94-2.06-.94-.94-2.06-.94 2.06-2.06.94z\"/><path d=\"M17.41 7.96l-1.37-1.37c-.4-.4-.92-.59-1.43-.59-.52 0-1.04.2-1.43.59L10.3 9.45l-7.72 7.72c-.78.78-.78 2.05 0 2.83L4 21.41c.39.39.9.59 1.41.59.51 0 1.02-.2 1.41-.59l7.78-7.78 2.81-2.81c.8-.78.8-2.07 0-2.86zM5.41 20L4 18.59l7.72-7.72 1.47 1.35L5.41 20z\"/>\n",
              "  </svg>\n",
              "      </button>\n",
              "      \n",
              "  <style>\n",
              "    .colab-df-container {\n",
              "      display:flex;\n",
              "      flex-wrap:wrap;\n",
              "      gap: 12px;\n",
              "    }\n",
              "\n",
              "    .colab-df-convert {\n",
              "      background-color: #E8F0FE;\n",
              "      border: none;\n",
              "      border-radius: 50%;\n",
              "      cursor: pointer;\n",
              "      display: none;\n",
              "      fill: #1967D2;\n",
              "      height: 32px;\n",
              "      padding: 0 0 0 0;\n",
              "      width: 32px;\n",
              "    }\n",
              "\n",
              "    .colab-df-convert:hover {\n",
              "      background-color: #E2EBFA;\n",
              "      box-shadow: 0px 1px 2px rgba(60, 64, 67, 0.3), 0px 1px 3px 1px rgba(60, 64, 67, 0.15);\n",
              "      fill: #174EA6;\n",
              "    }\n",
              "\n",
              "    [theme=dark] .colab-df-convert {\n",
              "      background-color: #3B4455;\n",
              "      fill: #D2E3FC;\n",
              "    }\n",
              "\n",
              "    [theme=dark] .colab-df-convert:hover {\n",
              "      background-color: #434B5C;\n",
              "      box-shadow: 0px 1px 3px 1px rgba(0, 0, 0, 0.15);\n",
              "      filter: drop-shadow(0px 1px 2px rgba(0, 0, 0, 0.3));\n",
              "      fill: #FFFFFF;\n",
              "    }\n",
              "  </style>\n",
              "\n",
              "      <script>\n",
              "        const buttonEl =\n",
              "          document.querySelector('#df-010a9681-ceba-417f-8f29-8faccc999a29 button.colab-df-convert');\n",
              "        buttonEl.style.display =\n",
              "          google.colab.kernel.accessAllowed ? 'block' : 'none';\n",
              "\n",
              "        async function convertToInteractive(key) {\n",
              "          const element = document.querySelector('#df-010a9681-ceba-417f-8f29-8faccc999a29');\n",
              "          const dataTable =\n",
              "            await google.colab.kernel.invokeFunction('convertToInteractive',\n",
              "                                                     [key], {});\n",
              "          if (!dataTable) return;\n",
              "\n",
              "          const docLinkHtml = 'Like what you see? Visit the ' +\n",
              "            '<a target=\"_blank\" href=https://colab.research.google.com/notebooks/data_table.ipynb>data table notebook</a>'\n",
              "            + ' to learn more about interactive tables.';\n",
              "          element.innerHTML = '';\n",
              "          dataTable['output_type'] = 'display_data';\n",
              "          await google.colab.output.renderOutput(dataTable, element);\n",
              "          const docLink = document.createElement('div');\n",
              "          docLink.innerHTML = docLinkHtml;\n",
              "          element.appendChild(docLink);\n",
              "        }\n",
              "      </script>\n",
              "    </div>\n",
              "  </div>\n",
              "  "
            ],
            "text/plain": [
              "         target                                               text  \\\n",
              "0    BACKGROUND  this study analyzed liver function abnormaliti...   \n",
              "1       RESULTS  a post hoc analysis was conducted with the use...   \n",
              "2       RESULTS  liver function tests ( lfts ) were measured at...   \n",
              "3       RESULTS  survival analyses were used to assess the asso...   \n",
              "4       RESULTS  the percentage of patients with abnormal lfts ...   \n",
              "5       RESULTS  when mean hemodynamic profiles were compared i...   \n",
              "6       RESULTS  multivariable analyses revealed that patients ...   \n",
              "7   CONCLUSIONS  abnormal lfts are common in the adhf populatio...   \n",
              "8   CONCLUSIONS  elevated meld-xi scores are associated with po...   \n",
              "9    BACKGROUND  minimally invasive endovascular aneurysm repai...   \n",
              "10   BACKGROUND  the aim of this study was to analyse the cost-...   \n",
              "11      METHODS  resource use was determined from the amsterdam...   \n",
              "12      METHODS  the analysis was performed from a provider per...   \n",
              "13      METHODS  all costs were calculated as if all patients h...   \n",
              "14      RESULTS            a total of @ patients were randomized .   \n",
              "15      RESULTS  the @-day mortality rate was @ per cent after ...   \n",
              "16      RESULTS  at @months , the total mortality rate for evar...   \n",
              "17      RESULTS  the mean cost difference between evar and or w...   \n",
              "18      RESULTS  the incremental cost-effectiveness ratio per p...   \n",
              "19      RESULTS  there was no significant difference in quality...   \n",
              "\n",
              "    line_number  total_lines   prediction  pred_prob  correction  \n",
              "0             0            8    OBJECTIVE   0.354499       False  \n",
              "1             1            8      METHODS   0.479458       False  \n",
              "2             2            8      METHODS   0.832290       False  \n",
              "3             3            8      METHODS   0.851465       False  \n",
              "4             4            8      RESULTS   0.639217        True  \n",
              "5             5            8      RESULTS   0.858230        True  \n",
              "6             6            8      METHODS   0.476918       False  \n",
              "7             7            8  CONCLUSIONS   0.540947        True  \n",
              "8             8            8  CONCLUSIONS   0.532916        True  \n",
              "9             0           12   BACKGROUND   0.623011        True  \n",
              "10            1           12   BACKGROUND   0.473501        True  \n",
              "11            2           12      METHODS   0.835358        True  \n",
              "12            3           12      METHODS   0.906482        True  \n",
              "13            4           12      METHODS   0.686317        True  \n",
              "14            5           12      RESULTS   0.575928        True  \n",
              "15            6           12      RESULTS   0.692502        True  \n",
              "16            7           12      RESULTS   0.884756        True  \n",
              "17            8           12      RESULTS   0.858913        True  \n",
              "18            9           12      RESULTS   0.858415        True  \n",
              "19           10           12      RESULTS   0.729482        True  "
            ]
          },
          "execution_count": null,
          "metadata": {},
          "output_type": "execute_result"
        }
      ],
      "source": [
        "df_test.head(20)"
      ]
    },
    {
      "cell_type": "code",
      "execution_count": null,
      "metadata": {
        "colab": {
          "background_save": true
        },
        "id": "oGdb13tkiRxa",
        "outputId": "31a8d5e7-a547-43fc-9962-8d6c1637a6a1"
      },
      "outputs": [
        {
          "data": {
            "text/plain": [
              "True     25453\n",
              "False     4682\n",
              "Name: correction, dtype: int64"
            ]
          },
          "execution_count": null,
          "metadata": {},
          "output_type": "execute_result"
        }
      ],
      "source": [
        "# Find how many % that our model predict is correct\n",
        "df_test[\"correction\"].value_counts()"
      ]
    },
    {
      "cell_type": "code",
      "execution_count": null,
      "metadata": {
        "colab": {
          "background_save": true
        },
        "id": "8lidltRajWNM",
        "outputId": "52dd4b4d-e787-423e-981c-5412f1519d27"
      },
      "outputs": [
        {
          "name": "stdout",
          "output_type": "stream",
          "text": [
            " Precentage that the prediction is correct: 0.845\n"
          ]
        }
      ],
      "source": [
        "correct_percent = round(df_test[\"correction\"].value_counts()[True] / df_test.shape[0],3)\n",
        "print(f\" Precentage that the prediction is correct: {correct_percent}\")"
      ]
    },
    {
      "cell_type": "markdown",
      "metadata": {
        "id": "knr7VqNZlAst"
      },
      "source": [
        "## Find the most wrong"
      ]
    },
    {
      "cell_type": "markdown",
      "metadata": {
        "id": "3fkPc2HMk8rt"
      },
      "source": [
        "We might want to see what's the most wrong by creating the new table and see what's target is that contain the highest \"pred_prob\" and the prediction is still wrong"
      ]
    },
    {
      "cell_type": "markdown",
      "metadata": {
        "id": "FrNvX7SOlu4c"
      },
      "source": [
        "### Create the top 100 most wrong"
      ]
    },
    {
      "cell_type": "code",
      "execution_count": null,
      "metadata": {
        "colab": {
          "background_save": true
        },
        "id": "1hDMUgDikdSc",
        "outputId": "fe8333ea-826a-47ce-8fe7-ff2c0d5c0730"
      },
      "outputs": [
        {
          "data": {
            "text/html": [
              "\n",
              "  <div id=\"df-857df291-dae4-4515-ae5b-2489e0bc54b9\">\n",
              "    <div class=\"colab-df-container\">\n",
              "      <div>\n",
              "<style scoped>\n",
              "    .dataframe tbody tr th:only-of-type {\n",
              "        vertical-align: middle;\n",
              "    }\n",
              "\n",
              "    .dataframe tbody tr th {\n",
              "        vertical-align: top;\n",
              "    }\n",
              "\n",
              "    .dataframe thead th {\n",
              "        text-align: right;\n",
              "    }\n",
              "</style>\n",
              "<table border=\"1\" class=\"dataframe\">\n",
              "  <thead>\n",
              "    <tr style=\"text-align: right;\">\n",
              "      <th></th>\n",
              "      <th>target</th>\n",
              "      <th>text</th>\n",
              "      <th>line_number</th>\n",
              "      <th>total_lines</th>\n",
              "      <th>prediction</th>\n",
              "      <th>pred_prob</th>\n",
              "      <th>correction</th>\n",
              "    </tr>\n",
              "  </thead>\n",
              "  <tbody>\n",
              "    <tr>\n",
              "      <th>13874</th>\n",
              "      <td>CONCLUSIONS</td>\n",
              "      <td>symptom outcomes will be assessed and estimate...</td>\n",
              "      <td>4</td>\n",
              "      <td>6</td>\n",
              "      <td>METHODS</td>\n",
              "      <td>0.967970</td>\n",
              "      <td>False</td>\n",
              "    </tr>\n",
              "    <tr>\n",
              "      <th>6027</th>\n",
              "      <td>RESULTS</td>\n",
              "      <td>patients were randomized in a bayesian respons...</td>\n",
              "      <td>4</td>\n",
              "      <td>15</td>\n",
              "      <td>METHODS</td>\n",
              "      <td>0.955290</td>\n",
              "      <td>False</td>\n",
              "    </tr>\n",
              "    <tr>\n",
              "      <th>8545</th>\n",
              "      <td>METHODS</td>\n",
              "      <td>pretest-posttest .</td>\n",
              "      <td>1</td>\n",
              "      <td>11</td>\n",
              "      <td>BACKGROUND</td>\n",
              "      <td>0.947987</td>\n",
              "      <td>False</td>\n",
              "    </tr>\n",
              "    <tr>\n",
              "      <th>18720</th>\n",
              "      <td>RESULTS</td>\n",
              "      <td>non-diffuse-trickling '' ) .</td>\n",
              "      <td>8</td>\n",
              "      <td>15</td>\n",
              "      <td>BACKGROUND</td>\n",
              "      <td>0.945957</td>\n",
              "      <td>False</td>\n",
              "    </tr>\n",
              "    <tr>\n",
              "      <th>22375</th>\n",
              "      <td>RESULTS</td>\n",
              "      <td>patients were randomly assigned to receive eit...</td>\n",
              "      <td>4</td>\n",
              "      <td>12</td>\n",
              "      <td>METHODS</td>\n",
              "      <td>0.945128</td>\n",
              "      <td>False</td>\n",
              "    </tr>\n",
              "    <tr>\n",
              "      <th>3573</th>\n",
              "      <td>RESULTS</td>\n",
              "      <td>a cluster randomised trial was implemented wit...</td>\n",
              "      <td>3</td>\n",
              "      <td>16</td>\n",
              "      <td>METHODS</td>\n",
              "      <td>0.940472</td>\n",
              "      <td>False</td>\n",
              "    </tr>\n",
              "    <tr>\n",
              "      <th>20040</th>\n",
              "      <td>CONCLUSIONS</td>\n",
              "      <td>chictr.org .</td>\n",
              "      <td>11</td>\n",
              "      <td>12</td>\n",
              "      <td>BACKGROUND</td>\n",
              "      <td>0.927668</td>\n",
              "      <td>False</td>\n",
              "    </tr>\n",
              "    <tr>\n",
              "      <th>13598</th>\n",
              "      <td>METHODS</td>\n",
              "      <td>-@ % vs. fish : -@ % vs. fish + s : -@ % ; p &lt;...</td>\n",
              "      <td>6</td>\n",
              "      <td>9</td>\n",
              "      <td>RESULTS</td>\n",
              "      <td>0.925869</td>\n",
              "      <td>False</td>\n",
              "    </tr>\n",
              "    <tr>\n",
              "      <th>16580</th>\n",
              "      <td>OBJECTIVE</td>\n",
              "      <td>second , we collected patient-reported outcome...</td>\n",
              "      <td>4</td>\n",
              "      <td>27</td>\n",
              "      <td>METHODS</td>\n",
              "      <td>0.921852</td>\n",
              "      <td>False</td>\n",
              "    </tr>\n",
              "    <tr>\n",
              "      <th>21382</th>\n",
              "      <td>OBJECTIVE</td>\n",
              "      <td>design , settings , participants , and interve...</td>\n",
              "      <td>3</td>\n",
              "      <td>13</td>\n",
              "      <td>METHODS</td>\n",
              "      <td>0.920205</td>\n",
              "      <td>False</td>\n",
              "    </tr>\n",
              "    <tr>\n",
              "      <th>29692</th>\n",
              "      <td>RESULTS</td>\n",
              "      <td>repeated measures analysis of variance ( anova...</td>\n",
              "      <td>3</td>\n",
              "      <td>6</td>\n",
              "      <td>METHODS</td>\n",
              "      <td>0.919073</td>\n",
              "      <td>False</td>\n",
              "    </tr>\n",
              "    <tr>\n",
              "      <th>18190</th>\n",
              "      <td>RESULTS</td>\n",
              "      <td>providers were randomized into @ groups : se c...</td>\n",
              "      <td>4</td>\n",
              "      <td>17</td>\n",
              "      <td>METHODS</td>\n",
              "      <td>0.917325</td>\n",
              "      <td>False</td>\n",
              "    </tr>\n",
              "    <tr>\n",
              "      <th>2388</th>\n",
              "      <td>RESULTS</td>\n",
              "      <td>the primary endpoint is the cumulative three-y...</td>\n",
              "      <td>4</td>\n",
              "      <td>13</td>\n",
              "      <td>METHODS</td>\n",
              "      <td>0.916388</td>\n",
              "      <td>False</td>\n",
              "    </tr>\n",
              "    <tr>\n",
              "      <th>8527</th>\n",
              "      <td>OBJECTIVE</td>\n",
              "      <td>participants were randomly allocated to a trea...</td>\n",
              "      <td>2</td>\n",
              "      <td>10</td>\n",
              "      <td>METHODS</td>\n",
              "      <td>0.915721</td>\n",
              "      <td>False</td>\n",
              "    </tr>\n",
              "    <tr>\n",
              "      <th>29294</th>\n",
              "      <td>RESULTS</td>\n",
              "      <td>baseline measures included sociodemographics ,...</td>\n",
              "      <td>4</td>\n",
              "      <td>13</td>\n",
              "      <td>METHODS</td>\n",
              "      <td>0.913539</td>\n",
              "      <td>False</td>\n",
              "    </tr>\n",
              "    <tr>\n",
              "      <th>5394</th>\n",
              "      <td>RESULTS</td>\n",
              "      <td>a randomized , double-blind , crossover study ...</td>\n",
              "      <td>3</td>\n",
              "      <td>12</td>\n",
              "      <td>METHODS</td>\n",
              "      <td>0.912345</td>\n",
              "      <td>False</td>\n",
              "    </tr>\n",
              "    <tr>\n",
              "      <th>13490</th>\n",
              "      <td>RESULTS</td>\n",
              "      <td>data were analyzed at baseline and longitudina...</td>\n",
              "      <td>4</td>\n",
              "      <td>14</td>\n",
              "      <td>METHODS</td>\n",
              "      <td>0.911773</td>\n",
              "      <td>False</td>\n",
              "    </tr>\n",
              "    <tr>\n",
              "      <th>5286</th>\n",
              "      <td>RESULTS</td>\n",
              "      <td>analysis was by linear mixed model .</td>\n",
              "      <td>6</td>\n",
              "      <td>15</td>\n",
              "      <td>METHODS</td>\n",
              "      <td>0.909913</td>\n",
              "      <td>False</td>\n",
              "    </tr>\n",
              "    <tr>\n",
              "      <th>12135</th>\n",
              "      <td>RESULTS</td>\n",
              "      <td>patients who were enrolled as cases were ontar...</td>\n",
              "      <td>3</td>\n",
              "      <td>16</td>\n",
              "      <td>METHODS</td>\n",
              "      <td>0.908905</td>\n",
              "      <td>False</td>\n",
              "    </tr>\n",
              "    <tr>\n",
              "      <th>18191</th>\n",
              "      <td>RESULTS</td>\n",
              "      <td>se game clinicians were e-mailed @ question ev...</td>\n",
              "      <td>5</td>\n",
              "      <td>17</td>\n",
              "      <td>METHODS</td>\n",
              "      <td>0.908315</td>\n",
              "      <td>False</td>\n",
              "    </tr>\n",
              "  </tbody>\n",
              "</table>\n",
              "</div>\n",
              "      <button class=\"colab-df-convert\" onclick=\"convertToInteractive('df-857df291-dae4-4515-ae5b-2489e0bc54b9')\"\n",
              "              title=\"Convert this dataframe to an interactive table.\"\n",
              "              style=\"display:none;\">\n",
              "        \n",
              "  <svg xmlns=\"http://www.w3.org/2000/svg\" height=\"24px\"viewBox=\"0 0 24 24\"\n",
              "       width=\"24px\">\n",
              "    <path d=\"M0 0h24v24H0V0z\" fill=\"none\"/>\n",
              "    <path d=\"M18.56 5.44l.94 2.06.94-2.06 2.06-.94-2.06-.94-.94-2.06-.94 2.06-2.06.94zm-11 1L8.5 8.5l.94-2.06 2.06-.94-2.06-.94L8.5 2.5l-.94 2.06-2.06.94zm10 10l.94 2.06.94-2.06 2.06-.94-2.06-.94-.94-2.06-.94 2.06-2.06.94z\"/><path d=\"M17.41 7.96l-1.37-1.37c-.4-.4-.92-.59-1.43-.59-.52 0-1.04.2-1.43.59L10.3 9.45l-7.72 7.72c-.78.78-.78 2.05 0 2.83L4 21.41c.39.39.9.59 1.41.59.51 0 1.02-.2 1.41-.59l7.78-7.78 2.81-2.81c.8-.78.8-2.07 0-2.86zM5.41 20L4 18.59l7.72-7.72 1.47 1.35L5.41 20z\"/>\n",
              "  </svg>\n",
              "      </button>\n",
              "      \n",
              "  <style>\n",
              "    .colab-df-container {\n",
              "      display:flex;\n",
              "      flex-wrap:wrap;\n",
              "      gap: 12px;\n",
              "    }\n",
              "\n",
              "    .colab-df-convert {\n",
              "      background-color: #E8F0FE;\n",
              "      border: none;\n",
              "      border-radius: 50%;\n",
              "      cursor: pointer;\n",
              "      display: none;\n",
              "      fill: #1967D2;\n",
              "      height: 32px;\n",
              "      padding: 0 0 0 0;\n",
              "      width: 32px;\n",
              "    }\n",
              "\n",
              "    .colab-df-convert:hover {\n",
              "      background-color: #E2EBFA;\n",
              "      box-shadow: 0px 1px 2px rgba(60, 64, 67, 0.3), 0px 1px 3px 1px rgba(60, 64, 67, 0.15);\n",
              "      fill: #174EA6;\n",
              "    }\n",
              "\n",
              "    [theme=dark] .colab-df-convert {\n",
              "      background-color: #3B4455;\n",
              "      fill: #D2E3FC;\n",
              "    }\n",
              "\n",
              "    [theme=dark] .colab-df-convert:hover {\n",
              "      background-color: #434B5C;\n",
              "      box-shadow: 0px 1px 3px 1px rgba(0, 0, 0, 0.15);\n",
              "      filter: drop-shadow(0px 1px 2px rgba(0, 0, 0, 0.3));\n",
              "      fill: #FFFFFF;\n",
              "    }\n",
              "  </style>\n",
              "\n",
              "      <script>\n",
              "        const buttonEl =\n",
              "          document.querySelector('#df-857df291-dae4-4515-ae5b-2489e0bc54b9 button.colab-df-convert');\n",
              "        buttonEl.style.display =\n",
              "          google.colab.kernel.accessAllowed ? 'block' : 'none';\n",
              "\n",
              "        async function convertToInteractive(key) {\n",
              "          const element = document.querySelector('#df-857df291-dae4-4515-ae5b-2489e0bc54b9');\n",
              "          const dataTable =\n",
              "            await google.colab.kernel.invokeFunction('convertToInteractive',\n",
              "                                                     [key], {});\n",
              "          if (!dataTable) return;\n",
              "\n",
              "          const docLinkHtml = 'Like what you see? Visit the ' +\n",
              "            '<a target=\"_blank\" href=https://colab.research.google.com/notebooks/data_table.ipynb>data table notebook</a>'\n",
              "            + ' to learn more about interactive tables.';\n",
              "          element.innerHTML = '';\n",
              "          dataTable['output_type'] = 'display_data';\n",
              "          await google.colab.output.renderOutput(dataTable, element);\n",
              "          const docLink = document.createElement('div');\n",
              "          docLink.innerHTML = docLinkHtml;\n",
              "          element.appendChild(docLink);\n",
              "        }\n",
              "      </script>\n",
              "    </div>\n",
              "  </div>\n",
              "  "
            ],
            "text/plain": [
              "            target                                               text  \\\n",
              "13874  CONCLUSIONS  symptom outcomes will be assessed and estimate...   \n",
              "6027       RESULTS  patients were randomized in a bayesian respons...   \n",
              "8545       METHODS                                 pretest-posttest .   \n",
              "18720      RESULTS                       non-diffuse-trickling '' ) .   \n",
              "22375      RESULTS  patients were randomly assigned to receive eit...   \n",
              "3573       RESULTS  a cluster randomised trial was implemented wit...   \n",
              "20040  CONCLUSIONS                                       chictr.org .   \n",
              "13598      METHODS  -@ % vs. fish : -@ % vs. fish + s : -@ % ; p <...   \n",
              "16580    OBJECTIVE  second , we collected patient-reported outcome...   \n",
              "21382    OBJECTIVE  design , settings , participants , and interve...   \n",
              "29692      RESULTS  repeated measures analysis of variance ( anova...   \n",
              "18190      RESULTS  providers were randomized into @ groups : se c...   \n",
              "2388       RESULTS  the primary endpoint is the cumulative three-y...   \n",
              "8527     OBJECTIVE  participants were randomly allocated to a trea...   \n",
              "29294      RESULTS  baseline measures included sociodemographics ,...   \n",
              "5394       RESULTS  a randomized , double-blind , crossover study ...   \n",
              "13490      RESULTS  data were analyzed at baseline and longitudina...   \n",
              "5286       RESULTS               analysis was by linear mixed model .   \n",
              "12135      RESULTS  patients who were enrolled as cases were ontar...   \n",
              "18191      RESULTS  se game clinicians were e-mailed @ question ev...   \n",
              "\n",
              "       line_number  total_lines  prediction  pred_prob  correction  \n",
              "13874            4            6     METHODS   0.967970       False  \n",
              "6027             4           15     METHODS   0.955290       False  \n",
              "8545             1           11  BACKGROUND   0.947987       False  \n",
              "18720            8           15  BACKGROUND   0.945957       False  \n",
              "22375            4           12     METHODS   0.945128       False  \n",
              "3573             3           16     METHODS   0.940472       False  \n",
              "20040           11           12  BACKGROUND   0.927668       False  \n",
              "13598            6            9     RESULTS   0.925869       False  \n",
              "16580            4           27     METHODS   0.921852       False  \n",
              "21382            3           13     METHODS   0.920205       False  \n",
              "29692            3            6     METHODS   0.919073       False  \n",
              "18190            4           17     METHODS   0.917325       False  \n",
              "2388             4           13     METHODS   0.916388       False  \n",
              "8527             2           10     METHODS   0.915721       False  \n",
              "29294            4           13     METHODS   0.913539       False  \n",
              "5394             3           12     METHODS   0.912345       False  \n",
              "13490            4           14     METHODS   0.911773       False  \n",
              "5286             6           15     METHODS   0.909913       False  \n",
              "12135            3           16     METHODS   0.908905       False  \n",
              "18191            5           17     METHODS   0.908315       False  "
            ]
          },
          "execution_count": null,
          "metadata": {},
          "output_type": "execute_result"
        }
      ],
      "source": [
        "# Find 100 most wrong\n",
        "top_100_wrong = df_test[df_test[\"correction\"] == False].sort_values(\"pred_prob\", ascending = False)[0:100]\n",
        "top_100_wrong.head(20)"
      ]
    },
    {
      "cell_type": "code",
      "execution_count": null,
      "metadata": {
        "colab": {
          "background_save": true
        },
        "id": "Ac2adRoFlXVg",
        "outputId": "b7b58214-6d7c-460c-e409-1c9647baf39e"
      },
      "outputs": [
        {
          "name": "stdout",
          "output_type": "stream",
          "text": [
            "Target: CONCLUSIONS, Pred: METHODS, Prob: 0.9679703116416931, Line number: 4, Total lines: 6\n",
            "\n",
            "Text:\n",
            "symptom outcomes will be assessed and estimates of cost-effectiveness made .\n",
            "\n",
            "-----\n",
            "\n",
            "Target: RESULTS, Pred: METHODS, Prob: 0.9552901387214661, Line number: 4, Total lines: 15\n",
            "\n",
            "Text:\n",
            "patients were randomized in a bayesian response-adaptive design to receive intravenous decitabine @ mg/m ( @ ) daily for @ days or decitabine plus oral valproic acid @ mg/kg daily for @ days .\n",
            "\n",
            "-----\n",
            "\n",
            "Target: METHODS, Pred: BACKGROUND, Prob: 0.9479867815971375, Line number: 1, Total lines: 11\n",
            "\n",
            "Text:\n",
            "pretest-posttest .\n",
            "\n",
            "-----\n",
            "\n",
            "Target: RESULTS, Pred: BACKGROUND, Prob: 0.9459565281867981, Line number: 8, Total lines: 15\n",
            "\n",
            "Text:\n",
            "non-diffuse-trickling '' ) .\n",
            "\n",
            "-----\n",
            "\n",
            "Target: RESULTS, Pred: METHODS, Prob: 0.945127546787262, Line number: 4, Total lines: 12\n",
            "\n",
            "Text:\n",
            "patients were randomly assigned to receive either moxonidine ( @-@ @ mg daily ) or placebo , along with standard antihypertensive treatment .\n",
            "\n",
            "-----\n",
            "\n",
            "Target: RESULTS, Pred: METHODS, Prob: 0.9404723644256592, Line number: 3, Total lines: 16\n",
            "\n",
            "Text:\n",
            "a cluster randomised trial was implemented with @,@ children in @ government primary schools on the south coast of kenya in @-@ .\n",
            "\n",
            "-----\n",
            "\n",
            "Target: CONCLUSIONS, Pred: BACKGROUND, Prob: 0.9276681542396545, Line number: 11, Total lines: 12\n",
            "\n",
            "Text:\n",
            "chictr.org .\n",
            "\n",
            "-----\n",
            "\n",
            "Target: METHODS, Pred: RESULTS, Prob: 0.9258688688278198, Line number: 6, Total lines: 9\n",
            "\n",
            "Text:\n",
            "-@ % vs. fish : -@ % vs. fish + s : -@ % ; p < @ ) but there were no significant differences between groups .\n",
            "\n",
            "-----\n",
            "\n",
            "Target: OBJECTIVE, Pred: METHODS, Prob: 0.9218522310256958, Line number: 4, Total lines: 27\n",
            "\n",
            "Text:\n",
            "second , we collected patient-reported outcomes for balance confidence and falls control .\n",
            "\n",
            "-----\n",
            "\n",
            "Target: OBJECTIVE, Pred: METHODS, Prob: 0.9202054142951965, Line number: 3, Total lines: 13\n",
            "\n",
            "Text:\n",
            "design , settings , participants , and intervention : ten healthy , normal-weight men were studied in randomized , double-blind fashion , each receiving a @-minute intraduodenal infusion of l-trp at @ ( total @ kcal ) or @ ( total @ kcal ) kcal/min or saline ( control ) .\n",
            "\n",
            "-----\n",
            "\n"
          ]
        }
      ],
      "source": [
        "for row in top_100_wrong[0:10].itertuples():\n",
        "  _, target, text, line_number, total_lines, prediction, pred_prob, _ = row\n",
        "  print(f\"Target: {target}, Pred: {prediction}, Prob: {pred_prob}, Line number: {line_number}, Total lines: {total_lines}\\n\")\n",
        "  print(f\"Text:\\n{text}\\n\")\n",
        "  print(\"-----\\n\")"
      ]
    },
    {
      "cell_type": "code",
      "execution_count": null,
      "metadata": {
        "colab": {
          "background_save": true
        },
        "id": "AVOXwAevmM8j",
        "outputId": "f699f16e-c61f-4802-ffa5-a6b33ff3f338"
      },
      "outputs": [
        {
          "data": {
            "text/plain": [
              "<matplotlib.axes._subplots.AxesSubplot at 0x7faa5d850690>"
            ]
          },
          "execution_count": null,
          "metadata": {},
          "output_type": "execute_result"
        },
        {
          "data": {
            "image/png": "[encoded data removed]",
            "text/plain": [
              "<Figure size 432x288 with 1 Axes>"
            ]
          },
          "metadata": {},
          "output_type": "display_data"
        }
      ],
      "source": [
        "top_100_wrong[\"target\"].value_counts().plot(kind=\"bar\")"
      ]
    },
    {
      "cell_type": "code",
      "execution_count": null,
      "metadata": {
        "colab": {
          "background_save": true
        },
        "id": "4dYLwETCmaqo"
      },
      "outputs": [],
      "source": []
    }
  ],
  "metadata": {
    "accelerator": "GPU",
    "colab": {
      "collapsed_sections": [],
      "provenance": [],
      "authorship_tag": "ABX9TyPwHnoEmAiQVZUy9VtO2AmL",
      "include_colab_link": true
    },
    "gpuClass": "standard",
    "kernelspec": {
      "display_name": "Python 3",
      "name": "python3"
    },
    "language_info": {
      "name": "python"
    }
  },
  "nbformat": 4,
  "nbformat_minor": 0
}