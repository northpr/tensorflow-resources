{
  "nbformat": 4,
  "nbformat_minor": 0,
  "metadata": {
    "colab": {
      "provenance": [],
      "authorship_tag": "ABX9TyMRnVaTSJjJBtiVt52ZYbFH",
      "include_colab_link": true
    },
    "kernelspec": {
      "name": "python3",
      "display_name": "Python 3"
    },
    "language_info": {
      "name": "python"
    },
    "accelerator": "GPU"
  },
  "cells": [
    {
      "cell_type": "markdown",
      "metadata": {
        "id": "view-in-github",
        "colab_type": "text"
      },
      "source": [
        "<a href=\"https://colab.research.google.com/github/northpr/tensorflow-resources/blob/main/udemy_tensorflow_course/05_fine_tuning.ipynb\" target=\"_parent\"><img src=\"https://colab.research.google.com/assets/colab-badge.svg\" alt=\"Open In Colab\"/></a>"
      ]
    },
    {
      "cell_type": "code",
      "execution_count": null,
      "metadata": {
        "colab": {
          "base_uri": "https://localhost:8080/"
        },
        "id": "ja2BLNhxN4Xu",
        "outputId": "bbabe627-8c73-459a-f09a-f014f95164a9"
      },
      "outputs": [
        {
          "output_type": "stream",
          "name": "stdout",
          "text": [
            "--2022-09-18 11:20:29--  https://raw.githubusercontent.com/northpr/helper_function/master/tensorflow/helper_tensorflow.py\n",
            "Resolving raw.githubusercontent.com (raw.githubusercontent.com)... 185.199.108.133, 185.199.110.133, 185.199.111.133, ...\n",
            "Connecting to raw.githubusercontent.com (raw.githubusercontent.com)|185.199.108.133|:443... connected.\n",
            "HTTP request sent, awaiting response... 200 OK\n",
            "Length: 3457 (3.4K) [text/plain]\n",
            "Saving to: ‘helper_tensorflow.py’\n",
            "\n",
            "\rhelper_tensorflow.p   0%[                    ]       0  --.-KB/s               \rhelper_tensorflow.p 100%[===================>]   3.38K  --.-KB/s    in 0s      \n",
            "\n",
            "2022-09-18 11:20:29 (52.8 MB/s) - ‘helper_tensorflow.py’ saved [3457/3457]\n",
            "\n",
            "--2022-09-18 11:20:29--  https://storage.googleapis.com/ztm_tf_course/food_vision/10_food_classes_10_percent.zip\n",
            "Resolving storage.googleapis.com (storage.googleapis.com)... 142.251.12.128, 74.125.200.128, 74.125.68.128, ...\n",
            "Connecting to storage.googleapis.com (storage.googleapis.com)|142.251.12.128|:443... connected.\n",
            "HTTP request sent, awaiting response... 200 OK\n",
            "Length: 168546183 (161M) [application/zip]\n",
            "Saving to: ‘10_food_classes_10_percent.zip’\n",
            "\n",
            "10_food_classes_10_ 100%[===================>] 160.74M   292MB/s    in 0.6s    \n",
            "\n",
            "2022-09-18 11:20:30 (292 MB/s) - ‘10_food_classes_10_percent.zip’ saved [168546183/168546183]\n",
            "\n"
          ]
        }
      ],
      "source": [
        "!wget https://raw.githubusercontent.com/northpr/helper_function/master/tensorflow/helper_tensorflow.py\n",
        "!wget https://storage.googleapis.com/ztm_tf_course/food_vision/10_food_classes_10_percent.zip "
      ]
    },
    {
      "cell_type": "code",
      "source": [
        "import zipfile\n",
        "\n",
        "zip_ref = zipfile.ZipFile(\"10_food_classes_10_percent.zip\", \"r\")\n",
        "zip_ref.extractall()\n",
        "zip_ref.close()"
      ],
      "metadata": {
        "id": "CLQH1XbxQYp5"
      },
      "execution_count": null,
      "outputs": []
    },
    {
      "cell_type": "code",
      "source": [
        "from helper_tensorflow import *\n",
        "\n",
        "train_dir = \"10_food_classes_10_percent/train/\"\n",
        "test_dir = \"10_food_classes_10_percent/test/\""
      ],
      "metadata": {
        "id": "zWg8p9frQkSM"
      },
      "execution_count": null,
      "outputs": []
    },
    {
      "cell_type": "code",
      "source": [
        "import tensorflow as tf\n",
        "IMG_SIZE = (224,224)\n",
        "train_data_10_percent = tf.keras.preprocessing.image_dataset_from_directory(directory=train_dir,\n",
        "                                                                            image_size=(224,224),\n",
        "                                                                            label_mode=\"categorical\",\n",
        "                                                                            batch_size=32)\n",
        "\n",
        "test_data_10_percent = tf.keras.preprocessing.image_dataset_from_directory(directory=test_dir,\n",
        "                                                                           image_size=(224,224),\n",
        "                                                                           label_mode=\"categorical\")"
      ],
      "metadata": {
        "colab": {
          "base_uri": "https://localhost:8080/"
        },
        "id": "TvEgRGAaQzOL",
        "outputId": "251464c9-2ebf-42bb-b7cb-07c4e7b57298"
      },
      "execution_count": null,
      "outputs": [
        {
          "output_type": "stream",
          "name": "stdout",
          "text": [
            "Found 750 files belonging to 10 classes.\n",
            "Found 2500 files belonging to 10 classes.\n"
          ]
        }
      ]
    },
    {
      "cell_type": "code",
      "source": [
        "train_data_10_percent.class_names, train_data_10_percent"
      ],
      "metadata": {
        "colab": {
          "base_uri": "https://localhost:8080/"
        },
        "id": "xJ40AtIXRrHt",
        "outputId": "4fa0f154-0695-43df-c489-0e9e016568e3"
      },
      "execution_count": null,
      "outputs": [
        {
          "output_type": "execute_result",
          "data": {
            "text/plain": [
              "(['chicken_curry',\n",
              "  'chicken_wings',\n",
              "  'fried_rice',\n",
              "  'grilled_salmon',\n",
              "  'hamburger',\n",
              "  'ice_cream',\n",
              "  'pizza',\n",
              "  'ramen',\n",
              "  'steak',\n",
              "  'sushi'],\n",
              " <BatchDataset element_spec=(TensorSpec(shape=(None, 224, 224, 3), dtype=tf.float32, name=None), TensorSpec(shape=(None, 10), dtype=tf.float32, name=None))>)"
            ]
          },
          "metadata": {},
          "execution_count": 5
        }
      ]
    },
    {
      "cell_type": "code",
      "source": [
        "test_data_10_percent"
      ],
      "metadata": {
        "colab": {
          "base_uri": "https://localhost:8080/"
        },
        "id": "15OLUQugjZHM",
        "outputId": "721ee1be-b1d8-4c4e-81a7-affabd562a48"
      },
      "execution_count": null,
      "outputs": [
        {
          "output_type": "execute_result",
          "data": {
            "text/plain": [
              "<BatchDataset element_spec=(TensorSpec(shape=(None, 224, 224, 3), dtype=tf.float32, name=None), TensorSpec(shape=(None, 10), dtype=tf.float32, name=None))>"
            ]
          },
          "metadata": {},
          "execution_count": 6
        }
      ]
    },
    {
      "cell_type": "markdown",
      "source": [
        "## Build model 0 with augmentation layer"
      ],
      "metadata": {
        "id": "dTEVi5JQte5Y"
      }
    },
    {
      "cell_type": "code",
      "source": [
        "import tensorflow as tf\n",
        "from tensorflow import keras\n",
        "from tensorflow.keras import layers\n",
        "from tensorflow.keras.layers.experimental import preprocessing\n",
        "from helper_tensorflow import *\n",
        "\n",
        "data_augmentation = keras.Sequential([\n",
        "  preprocessing.RandomFlip(\"horizontal\"),\n",
        "  preprocessing.RandomRotation(0.2),\n",
        "  preprocessing.RandomZoom(0.2),\n",
        "  preprocessing.RandomHeight(0.2),\n",
        "  preprocessing.RandomWidth(0.2),\n",
        "  # preprocessing.Rescaling(1./255) # keep for ResNet50V2, remove for EfficientNetB0\n",
        "], name =\"data_augmentation\")"
      ],
      "metadata": {
        "id": "d3NhwnWlR1xq"
      },
      "execution_count": null,
      "outputs": []
    },
    {
      "cell_type": "code",
      "source": [
        "input_shape = (224,224,3)\n",
        "\n",
        "# 1. Create base model with tf.keras.applications\n",
        "base_model_resnet = tf.keras.applications.ResNet50V2(include_top=False)\n",
        "\n",
        "# 2. Freeze the base model (so the pre-learned patterns remain)\n",
        "base_model_resnet.trainable = False\n",
        "\n",
        "# 3. Create input layer\n",
        "inputs = tf.keras.layers.Input(shape=input_shape, name=\"input_layer\")\n",
        "\n",
        "# 4. Using ResNet50V2, add this to speed up convergence, remove from EfficientNet\n",
        "x = tf.keras.layers.experimental.preprocessing.Rescaling(1./255.)(inputs)\n",
        "\n",
        "# 5. Pass the inputs to the base_model (note:  using tf.keras.applications, EfficientNet inputs don't have to be normalized)\n",
        "x = base_model_resnet(inputs)\n",
        "# Check data shape after passing it to base_model:\n",
        "print(f\"Shape after base_model: {x.shape}\")\n",
        "\n",
        "# 6. Average pool the outputs of the base model\n",
        "x = tf.keras.layers.GlobalAveragePooling2D(name=\"global_average_pooling_layer\")(x)\n",
        "\n",
        "# 7. Create the output activation layer\n",
        "outputs = tf.keras.layers.Dense(10, activation=\"softmax\", name=\"output_layer\")(x)\n",
        "\n",
        "# 8. Combine the inputs with the outputs into a model\n",
        "model_0 = tf.keras.Model(inputs, outputs)\n",
        "\n",
        "# 9. Compile the model\n",
        "model_0.compile(loss=\"categorical_crossentropy\",\n",
        "                optimizer=tf.keras.optimizers.Adam(),\n",
        "                metrics=[\"accuracy\"])\n",
        "\n",
        "# 10. Fit the model\n",
        "history_0 = model_0.fit(train_data_10_percent,\n",
        "                        epochs=5,\n",
        "                        steps_per_epoch=len(train_data_10_percent),\n",
        "                        validation_data=test_data_10_percent,\n",
        "                        validation_steps=int(0.25*len(test_data_10_percent)),\n",
        "                        callbacks=[callback_create_tensorboard(dir_name=\"tensorflow_hub\",\n",
        "                                                               experiment_name=\"ResNet50V2\")])"
      ],
      "metadata": {
        "id": "VDiXSTMCvo1z"
      },
      "execution_count": null,
      "outputs": []
    },
    {
      "cell_type": "code",
      "source": [
        "for layer_number, layer in enumerate(base_model_resnet.layers):\n",
        "  print(layer_number, layer.name)"
      ],
      "metadata": {
        "id": "MM8OO-rMn_Z3"
      },
      "execution_count": null,
      "outputs": []
    },
    {
      "cell_type": "code",
      "source": [
        "model_0.summary()"
      ],
      "metadata": {
        "id": "b1_PVq1AokHb"
      },
      "execution_count": null,
      "outputs": []
    },
    {
      "cell_type": "code",
      "source": [
        "plot_loss_curves(history_0)"
      ],
      "metadata": {
        "id": "DorjIZaJoo6z"
      },
      "execution_count": null,
      "outputs": []
    },
    {
      "cell_type": "markdown",
      "source": [
        "## Model 1"
      ],
      "metadata": {
        "id": "M0f6dutGg_V8"
      }
    },
    {
      "cell_type": "code",
      "source": [
        "# 1. Create base model with tf.keras.applications\n",
        "base_model = tf.keras.applications.EfficientNetV2B0(include_top=False)\n",
        "\n",
        "# 2. Freeze the base model\n",
        "base_model.trainable = False\n",
        "\n",
        "# 3. Create inputs into the base model\n",
        "inputs = tf.keras.layers.Input(shape=(224,224,3), name=\"input_layer\")\n",
        "\n",
        "# 5. Pass the inputs to the base model\n",
        "x = base_model(inputs)\n",
        "\n",
        "# 6. Average pool the outputs of the base model\n",
        "x = tf.keras.layers.GlobalAveragePooling2D(name=\"global_average__pooling_layer\")(x)\n",
        "\n",
        "# 7. Create the output activation layer\n",
        "outputs = tf.keras.layers.Dense(10, activation=\"softmax\", name=\"output_layer\")(x)\n",
        "\n",
        "# 8. Combine the inputs with the outputs into a model\n",
        "model_1 = tf.keras.Model(inputs, outputs)\n",
        "\n",
        "# 9. Compile the model\n",
        "model_1.compile(loss=\"categorical_crossentropy\",\n",
        "                optimizer=tf.keras.optimizers.Adam(),\n",
        "                metrics=[\"accuracy\"])\n",
        "\n",
        "history_1 = model_1.fit(train_data_10_percent,\n",
        "                        epochs=5,\n",
        "                        steps_per_epoch=len(train_data_10_percent),\n",
        "                        validation_data=test_data_10_percent,\n",
        "                        validation_steps=int(0.25*len(test_data_10_percent)),\n",
        "                        callbacks=[callback_create_tensorboard(\"tensorflow_hub\",\"EfficientNetV2\")])"
      ],
      "metadata": {
        "id": "9-7ibxVzkrku"
      },
      "execution_count": null,
      "outputs": []
    },
    {
      "cell_type": "markdown",
      "source": [
        "## Model 2"
      ],
      "metadata": {
        "id": "AWNVVaTdpO15"
      }
    },
    {
      "cell_type": "code",
      "source": [
        "# 1. Create base model with tf.keras.applications\n",
        "base_model_efficient_v2 = tf.keras.applications.EfficientNetV2B0(include_top=False)\n",
        "\n",
        "# 2. Freeze the base model\n",
        "base_model_efficient_v2.trainable = False\n",
        "\n",
        "# 3. Create inputs into the base model\n",
        "inputs = tf.keras.layers.Input(shape=(224,224,3), name=\"input_layer\")\n",
        "\n",
        "# 5. Pass the inputs to the base model\n",
        "x = base_model_efficient_v2(inputs)\n",
        "\n",
        "# 6. Average pool the outputs of the base model\n",
        "x = tf.keras.layers.GlobalMaxPooling2D(name=\"global_max_pooling_layer\")(x)\n",
        "\n",
        "# 7. Create the output activation layer\n",
        "outputs = tf.keras.layers.Dense(10, activation=\"softmax\", name=\"output_layer\")(x)\n",
        "\n",
        "# 8. Combine the inputs with the outputs into a model\n",
        "model_2 = tf.keras.Model(inputs, outputs)\n",
        "\n",
        "# 9. Compile the model\n",
        "model_2.compile(loss=\"categorical_crossentropy\",\n",
        "                optimizer=tf.keras.optimizers.Adam(),\n",
        "                metrics=[\"accuracy\"])\n",
        "\n",
        "history_2 = model_2.fit(train_data_10_percent,\n",
        "                        epochs=5,\n",
        "                        steps_per_epoch=len(train_data_10_percent),\n",
        "                        validation_data=test_data_10_percent,\n",
        "                        validation_steps=int(0.25*len(test_data_10_percent)),\n",
        "                        callbacks=[callback_create_tensorboard(\"tensorflow_hub\",\"EfficientNetV2_2\")])"
      ],
      "metadata": {
        "id": "Vq-iZzshmQ6I"
      },
      "execution_count": null,
      "outputs": []
    },
    {
      "cell_type": "markdown",
      "source": [
        "## Model 3 "
      ],
      "metadata": {
        "id": "ZzxQ2o_Bvj5T"
      }
    },
    {
      "cell_type": "code",
      "source": [
        "checkpoint_path = \"ten_percent_model_checkpoints_weights/checkpoint.ckpt\"\n",
        "\n",
        "checkpoint_callback = tf.keras.callbacks.ModelCheckpoint(filepath=checkpoint_path,\n",
        "                                                         save_weights_only=True,\n",
        "                                                         save_best_only=False,\n",
        "                                                         save_freq=\"epoch\",\n",
        "                                                         verbose=1)"
      ],
      "metadata": {
        "id": "X-DnPRG5Jb--"
      },
      "execution_count": null,
      "outputs": []
    },
    {
      "cell_type": "code",
      "source": [
        "base_model_3 = tf.keras.applications.EfficientNetV2B0(include_top=False)\n",
        "base_model_3.trainable = False"
      ],
      "metadata": {
        "colab": {
          "base_uri": "https://localhost:8080/"
        },
        "id": "XyxQnTSivdBV",
        "outputId": "f0048b1a-1cc1-4615-9666-83d9b95a60e5"
      },
      "execution_count": null,
      "outputs": [
        {
          "output_type": "stream",
          "name": "stdout",
          "text": [
            "Downloading data from https://storage.googleapis.com/tensorflow/keras-applications/efficientnet_v2/efficientnetv2-b0_notop.h5\n",
            "24281088/24274472 [==============================] - 1s 0us/step\n",
            "24289280/24274472 [==============================] - 1s 0us/step\n"
          ]
        }
      ]
    },
    {
      "cell_type": "code",
      "source": [
        "# 3. Create inputs into the base model\n",
        "inputs = tf.keras.layers.Input(shape=(224,224,3), name=\"input_layer\")\n",
        "\n",
        "# 4. Data data_augmentation\n",
        "x = data_augmentation(inputs)\n",
        "\n",
        "# 5. Pass the inputs to the base model\n",
        "x = base_model_3(x)\n",
        "\n",
        "# 6. Average pool the outputs of the base model\n",
        "x = tf.keras.layers.GlobalAveragePooling2D(name=\"global_max_pooling_layer\")(x)\n",
        "\n",
        "# 7. Create the output activation layer\n",
        "outputs = tf.keras.layers.Dense(10, activation=\"softmax\", name=\"output_layer\")(x)\n",
        "\n",
        "# 8. Combine the inputs with the outputs into a model\n",
        "model_3 = tf.keras.Model(inputs, outputs)\n",
        "\n",
        "# 9. Compile the model\n",
        "model_3.compile(loss=\"categorical_crossentropy\",\n",
        "                optimizer=tf.keras.optimizers.Adam(),\n",
        "                metrics=[\"accuracy\"])\n",
        "\n",
        "history_3 = model_3.fit(train_data_10_percent,\n",
        "                        epochs=5,\n",
        "                        steps_per_epoch=len(train_data_10_percent),\n",
        "                        validation_data=test_data_10_percent,\n",
        "                        validation_steps=int(0.25*len(test_data_10_percent)),\n",
        "                        callbacks=[callback_create_tensorboard(\"tensorflow_hub\",\"EfficientNetV2_3\"),\n",
        "                                   checkpoint_callback])"
      ],
      "metadata": {
        "colab": {
          "base_uri": "https://localhost:8080/"
        },
        "id": "ZDN4L_8t0J6a",
        "outputId": "8fb3d965-1fe2-49b0-f632-824c9c9b2fae"
      },
      "execution_count": null,
      "outputs": [
        {
          "output_type": "stream",
          "name": "stdout",
          "text": [
            "Saving TensorBoard log files to: tensorflow_hub/EfficientNetV2_3/20220918-112043\n",
            "Epoch 1/5\n",
            "24/24 [==============================] - ETA: 0s - loss: 2.0293 - accuracy: 0.3360\n",
            "Epoch 1: saving model to ten_percent_model_checkpoints_weights/checkpoint.ckpt\n",
            "24/24 [==============================] - 32s 651ms/step - loss: 2.0293 - accuracy: 0.3360 - val_loss: 1.4891 - val_accuracy: 0.6891\n",
            "Epoch 2/5\n",
            "24/24 [==============================] - ETA: 0s - loss: 1.3930 - accuracy: 0.6640\n",
            "Epoch 2: saving model to ten_percent_model_checkpoints_weights/checkpoint.ckpt\n",
            "24/24 [==============================] - 13s 523ms/step - loss: 1.3930 - accuracy: 0.6640 - val_loss: 1.0692 - val_accuracy: 0.7418\n",
            "Epoch 3/5\n",
            "24/24 [==============================] - ETA: 0s - loss: 1.0994 - accuracy: 0.7413\n",
            "Epoch 3: saving model to ten_percent_model_checkpoints_weights/checkpoint.ckpt\n",
            "24/24 [==============================] - 11s 419ms/step - loss: 1.0994 - accuracy: 0.7413 - val_loss: 0.8558 - val_accuracy: 0.7895\n",
            "Epoch 4/5\n",
            "24/24 [==============================] - ETA: 0s - loss: 0.9335 - accuracy: 0.7720\n",
            "Epoch 4: saving model to ten_percent_model_checkpoints_weights/checkpoint.ckpt\n",
            "24/24 [==============================] - 9s 387ms/step - loss: 0.9335 - accuracy: 0.7720 - val_loss: 0.7347 - val_accuracy: 0.7993\n",
            "Epoch 5/5\n",
            "24/24 [==============================] - ETA: 0s - loss: 0.8373 - accuracy: 0.7947\n",
            "Epoch 5: saving model to ten_percent_model_checkpoints_weights/checkpoint.ckpt\n",
            "24/24 [==============================] - 11s 445ms/step - loss: 0.8373 - accuracy: 0.7947 - val_loss: 0.6561 - val_accuracy: 0.8224\n"
          ]
        }
      ]
    },
    {
      "cell_type": "code",
      "source": [
        "plot_loss_curves(history_3)"
      ],
      "metadata": {
        "colab": {
          "base_uri": "https://localhost:8080/",
          "height": 736
        },
        "id": "lQ3AYPr704dJ",
        "outputId": "5ec5da14-6e48-42d3-d509-54758eb67286"
      },
      "execution_count": null,
      "outputs": [
        {
          "output_type": "display_data",
          "data": {
            "text/plain": [
              "<Figure size 504x504 with 1 Axes>"
            ],
            "image/png": "[encoded data removed]"
          },
          "metadata": {
            "needs_background": "light"
          }
        },
        {
          "output_type": "display_data",
          "data": {
            "text/plain": [
              "<Figure size 432x288 with 1 Axes>"
            ],
            "image/png": "[encoded data removed]"
          },
          "metadata": {
            "needs_background": "light"
          }
        }
      ]
    },
    {
      "cell_type": "code",
      "source": [
        "model_3.load_weights(checkpoint_path)\n",
        "loaded_weights_model_results = model_3.evaluate(test_data_10_percent)"
      ],
      "metadata": {
        "colab": {
          "base_uri": "https://localhost:8080/"
        },
        "id": "5vN9yrRpIv4k",
        "outputId": "8ae04109-13d2-46f8-e4a9-f0e3d6b500c6"
      },
      "execution_count": null,
      "outputs": [
        {
          "output_type": "stream",
          "name": "stdout",
          "text": [
            "79/79 [==============================] - 6s 72ms/step - loss: 0.6670 - accuracy: 0.8208\n"
          ]
        }
      ]
    },
    {
      "cell_type": "markdown",
      "source": [
        "## Model 3_v2 Unfreeze 10 layers"
      ],
      "metadata": {
        "id": "hH74LRVbMYqo"
      }
    },
    {
      "cell_type": "code",
      "source": [
        "for layer in base_model_3.layers[-10:]:\n",
        "  layer.trainable=True\n",
        "\n",
        "model_3.compile(loss=\"categorical_crossentropy\",\n",
        "                optimizer=tf.keras.optimizers.Adam(lr=0.0001),\n",
        "                metrics=[\"accuracy\"])\n"
      ],
      "metadata": {
        "colab": {
          "base_uri": "https://localhost:8080/"
        },
        "id": "1bHNbwlCMzRi",
        "outputId": "71271b95-4be5-4985-abb1-c513b8708448"
      },
      "execution_count": null,
      "outputs": [
        {
          "output_type": "stream",
          "name": "stderr",
          "text": [
            "/usr/local/lib/python3.7/dist-packages/keras/optimizer_v2/adam.py:105: UserWarning: The `lr` argument is deprecated, use `learning_rate` instead.\n",
            "  super(Adam, self).__init__(name, **kwargs)\n"
          ]
        }
      ]
    },
    {
      "cell_type": "code",
      "source": [
        "for number, layer in enumerate(base_model_3.layers[-30:]):\n",
        "  print(number, layer.name, layer.trainable)"
      ],
      "metadata": {
        "colab": {
          "base_uri": "https://localhost:8080/"
        },
        "id": "wp1Vis31NKXF",
        "outputId": "f8b79409-5a47-4d8a-b0bb-45999406b265"
      },
      "execution_count": null,
      "outputs": [
        {
          "output_type": "stream",
          "name": "stdout",
          "text": [
            "0 block6g_expand_bn False\n",
            "1 block6g_expand_activation False\n",
            "2 block6g_dwconv2 False\n",
            "3 block6g_bn False\n",
            "4 block6g_activation False\n",
            "5 block6g_se_squeeze False\n",
            "6 block6g_se_reshape False\n",
            "7 block6g_se_reduce False\n",
            "8 block6g_se_expand False\n",
            "9 block6g_se_excite False\n",
            "10 block6g_project_conv False\n",
            "11 block6g_project_bn False\n",
            "12 block6g_add False\n",
            "13 block6h_expand_conv False\n",
            "14 block6h_expand_bn False\n",
            "15 block6h_expand_activation False\n",
            "16 block6h_dwconv2 False\n",
            "17 block6h_bn False\n",
            "18 block6h_activation False\n",
            "19 block6h_se_squeeze False\n",
            "20 block6h_se_reshape True\n",
            "21 block6h_se_reduce True\n",
            "22 block6h_se_expand True\n",
            "23 block6h_se_excite True\n",
            "24 block6h_project_conv True\n",
            "25 block6h_project_bn True\n",
            "26 block6h_add True\n",
            "27 top_conv True\n",
            "28 top_bn True\n",
            "29 top_activation True\n"
          ]
        }
      ]
    },
    {
      "cell_type": "code",
      "source": [
        "history_fine_10_percent = model_3.fit(train_data_10_percent,\n",
        "                                      epochs=10,\n",
        "                                      validation_data=test_data_10_percent,\n",
        "                                      initial_epoch=history_3.epoch[-1],\n",
        "                                      validation_steps=int(0.25*len(test_data_10_percent)),\n",
        "                                      callbacks=[callback_create_tensorboard(\"tensorflow_hub\",\"fine_tuning\")])\n",
        "                                      "
      ],
      "metadata": {
        "colab": {
          "base_uri": "https://localhost:8080/"
        },
        "id": "WxDe0rj8OAcp",
        "outputId": "4b434eeb-3859-4328-f5b5-9013ef14bec4"
      },
      "execution_count": null,
      "outputs": [
        {
          "output_type": "stream",
          "name": "stdout",
          "text": [
            "Saving TensorBoard log files to: tensorflow_hub/fine_tuning/20220918-112224\n",
            "Epoch 5/10\n",
            "24/24 [==============================] - 18s 499ms/step - loss: 0.9823 - accuracy: 0.7560 - val_loss: 0.7720 - val_accuracy: 0.8043\n",
            "Epoch 6/10\n",
            "24/24 [==============================] - 9s 354ms/step - loss: 0.9336 - accuracy: 0.7853 - val_loss: 0.7669 - val_accuracy: 0.8059\n",
            "Epoch 7/10\n",
            "24/24 [==============================] - 11s 449ms/step - loss: 0.9358 - accuracy: 0.7787 - val_loss: 0.7345 - val_accuracy: 0.8092\n",
            "Epoch 8/10\n",
            "24/24 [==============================] - 10s 392ms/step - loss: 0.8943 - accuracy: 0.7707 - val_loss: 0.7430 - val_accuracy: 0.8026\n",
            "Epoch 9/10\n",
            "24/24 [==============================] - 9s 346ms/step - loss: 0.8898 - accuracy: 0.7960 - val_loss: 0.7213 - val_accuracy: 0.8076\n",
            "Epoch 10/10\n",
            "24/24 [==============================] - 8s 323ms/step - loss: 0.8853 - accuracy: 0.7773 - val_loss: 0.7090 - val_accuracy: 0.8109\n"
          ]
        }
      ]
    },
    {
      "cell_type": "markdown",
      "source": [
        "## Model_3 v3 Fine tuning all data"
      ],
      "metadata": {
        "id": "A_F3MeqNOzCO"
      }
    },
    {
      "cell_type": "code",
      "source": [
        "!wget https://storage.googleapis.com/ztm_tf_course/food_vision/10_food_classes_all_data.zip \n",
        "\n",
        "zip_ref = zipfile.ZipFile(\"10_food_classes_all_data.zip\")\n",
        "zip_ref.extractall()\n",
        "zip_ref.close()"
      ],
      "metadata": {
        "colab": {
          "base_uri": "https://localhost:8080/"
        },
        "id": "g5zS_9t2QYZg",
        "outputId": "c28dfe57-af2e-41c7-f71c-6f37dae4a228"
      },
      "execution_count": null,
      "outputs": [
        {
          "output_type": "stream",
          "name": "stdout",
          "text": [
            "--2022-09-18 11:23:32--  https://storage.googleapis.com/ztm_tf_course/food_vision/10_food_classes_all_data.zip\n",
            "Resolving storage.googleapis.com (storage.googleapis.com)... 142.251.12.128, 74.125.200.128, 74.125.68.128, ...\n",
            "Connecting to storage.googleapis.com (storage.googleapis.com)|142.251.12.128|:443... connected.\n",
            "HTTP request sent, awaiting response... 200 OK\n",
            "Length: 519183241 (495M) [application/zip]\n",
            "Saving to: ‘10_food_classes_all_data.zip’\n",
            "\n",
            "10_food_classes_all 100%[===================>] 495.13M  79.6MB/s    in 6.8s    \n",
            "\n",
            "2022-09-18 11:23:40 (73.0 MB/s) - ‘10_food_classes_all_data.zip’ saved [519183241/519183241]\n",
            "\n"
          ]
        }
      ]
    },
    {
      "cell_type": "code",
      "source": [
        "train_dir = \"10_food_classes_all_data/train/\"\n",
        "test_dir = \"10_food_classes_all_data/test/\"\n",
        "\n",
        "train_data_10_classes_full = tf.keras.preprocessing.image_dataset_from_directory(train_dir,\n",
        "                                                                                 label_mode=\"categorical\",\n",
        "                                                                                 image_size=(224,224))\n",
        "\n",
        "test_data = tf.keras.preprocessing.image_dataset_from_directory(test_dir,\n",
        "                                                                label_mode=\"categorical\",\n",
        "                                                                image_size=(224,224))"
      ],
      "metadata": {
        "colab": {
          "base_uri": "https://localhost:8080/"
        },
        "id": "Mjj2kp0VQ9BA",
        "outputId": "7428931e-71ab-41a8-e262-0a535455971e"
      },
      "execution_count": null,
      "outputs": [
        {
          "output_type": "stream",
          "name": "stdout",
          "text": [
            "Found 7500 files belonging to 10 classes.\n",
            "Found 2500 files belonging to 10 classes.\n"
          ]
        }
      ]
    },
    {
      "cell_type": "code",
      "source": [
        "# Load weight\n",
        "model_3.load_weights(checkpoint_path)\n",
        "model_3.evaluate(test_data)"
      ],
      "metadata": {
        "colab": {
          "base_uri": "https://localhost:8080/"
        },
        "id": "XtvUSMS2TPtv",
        "outputId": "99d1c3e9-8980-45b8-84d9-f27d20a76b0e"
      },
      "execution_count": null,
      "outputs": [
        {
          "output_type": "stream",
          "name": "stdout",
          "text": [
            "79/79 [==============================] - 8s 93ms/step - loss: 0.6670 - accuracy: 0.8208\n"
          ]
        },
        {
          "output_type": "execute_result",
          "data": {
            "text/plain": [
              "[0.6669556498527527, 0.8208000063896179]"
            ]
          },
          "metadata": {},
          "execution_count": 18
        }
      ]
    },
    {
      "cell_type": "code",
      "source": [
        "for layer_number, layer in enumerate(model_3.layers):\n",
        "  print(layer_number, layer.name, layer.trainable)"
      ],
      "metadata": {
        "colab": {
          "base_uri": "https://localhost:8080/"
        },
        "id": "CgNCOeNTTuWO",
        "outputId": "392cc1b0-4370-4bac-a646-f70ff1cda0bc"
      },
      "execution_count": null,
      "outputs": [
        {
          "output_type": "stream",
          "name": "stdout",
          "text": [
            "0 input_layer True\n",
            "1 data_augmentation True\n",
            "2 efficientnetv2-b0 False\n",
            "3 global_max_pooling_layer True\n",
            "4 output_layer True\n"
          ]
        }
      ]
    },
    {
      "cell_type": "code",
      "source": [
        "for layer_number, layer in enumerate(base_model_3.layers):\n",
        "  print(layer.name, layer.trainable)"
      ],
      "metadata": {
        "colab": {
          "base_uri": "https://localhost:8080/"
        },
        "id": "0YwXy15OV5Ny",
        "outputId": "1cd45a61-01c4-471d-9bf7-07474bd20d9c"
      },
      "execution_count": null,
      "outputs": [
        {
          "output_type": "stream",
          "name": "stdout",
          "text": [
            "input_1 False\n",
            "rescaling False\n",
            "normalization False\n",
            "stem_conv False\n",
            "stem_bn False\n",
            "stem_activation False\n",
            "block1a_project_conv False\n",
            "block1a_project_bn False\n",
            "block1a_project_activation False\n",
            "block2a_expand_conv False\n",
            "block2a_expand_bn False\n",
            "block2a_expand_activation False\n",
            "block2a_project_conv False\n",
            "block2a_project_bn False\n",
            "block2b_expand_conv False\n",
            "block2b_expand_bn False\n",
            "block2b_expand_activation False\n",
            "block2b_project_conv False\n",
            "block2b_project_bn False\n",
            "block2b_add False\n",
            "block3a_expand_conv False\n",
            "block3a_expand_bn False\n",
            "block3a_expand_activation False\n",
            "block3a_project_conv False\n",
            "block3a_project_bn False\n",
            "block3b_expand_conv False\n",
            "block3b_expand_bn False\n",
            "block3b_expand_activation False\n",
            "block3b_project_conv False\n",
            "block3b_project_bn False\n",
            "block3b_add False\n",
            "block4a_expand_conv False\n",
            "block4a_expand_bn False\n",
            "block4a_expand_activation False\n",
            "block4a_dwconv2 False\n",
            "block4a_bn False\n",
            "block4a_activation False\n",
            "block4a_se_squeeze False\n",
            "block4a_se_reshape False\n",
            "block4a_se_reduce False\n",
            "block4a_se_expand False\n",
            "block4a_se_excite False\n",
            "block4a_project_conv False\n",
            "block4a_project_bn False\n",
            "block4b_expand_conv False\n",
            "block4b_expand_bn False\n",
            "block4b_expand_activation False\n",
            "block4b_dwconv2 False\n",
            "block4b_bn False\n",
            "block4b_activation False\n",
            "block4b_se_squeeze False\n",
            "block4b_se_reshape False\n",
            "block4b_se_reduce False\n",
            "block4b_se_expand False\n",
            "block4b_se_excite False\n",
            "block4b_project_conv False\n",
            "block4b_project_bn False\n",
            "block4b_add False\n",
            "block4c_expand_conv False\n",
            "block4c_expand_bn False\n",
            "block4c_expand_activation False\n",
            "block4c_dwconv2 False\n",
            "block4c_bn False\n",
            "block4c_activation False\n",
            "block4c_se_squeeze False\n",
            "block4c_se_reshape False\n",
            "block4c_se_reduce False\n",
            "block4c_se_expand False\n",
            "block4c_se_excite False\n",
            "block4c_project_conv False\n",
            "block4c_project_bn False\n",
            "block4c_add False\n",
            "block5a_expand_conv False\n",
            "block5a_expand_bn False\n",
            "block5a_expand_activation False\n",
            "block5a_dwconv2 False\n",
            "block5a_bn False\n",
            "block5a_activation False\n",
            "block5a_se_squeeze False\n",
            "block5a_se_reshape False\n",
            "block5a_se_reduce False\n",
            "block5a_se_expand False\n",
            "block5a_se_excite False\n",
            "block5a_project_conv False\n",
            "block5a_project_bn False\n",
            "block5b_expand_conv False\n",
            "block5b_expand_bn False\n",
            "block5b_expand_activation False\n",
            "block5b_dwconv2 False\n",
            "block5b_bn False\n",
            "block5b_activation False\n",
            "block5b_se_squeeze False\n",
            "block5b_se_reshape False\n",
            "block5b_se_reduce False\n",
            "block5b_se_expand False\n",
            "block5b_se_excite False\n",
            "block5b_project_conv False\n",
            "block5b_project_bn False\n",
            "block5b_add False\n",
            "block5c_expand_conv False\n",
            "block5c_expand_bn False\n",
            "block5c_expand_activation False\n",
            "block5c_dwconv2 False\n",
            "block5c_bn False\n",
            "block5c_activation False\n",
            "block5c_se_squeeze False\n",
            "block5c_se_reshape False\n",
            "block5c_se_reduce False\n",
            "block5c_se_expand False\n",
            "block5c_se_excite False\n",
            "block5c_project_conv False\n",
            "block5c_project_bn False\n",
            "block5c_add False\n",
            "block5d_expand_conv False\n",
            "block5d_expand_bn False\n",
            "block5d_expand_activation False\n",
            "block5d_dwconv2 False\n",
            "block5d_bn False\n",
            "block5d_activation False\n",
            "block5d_se_squeeze False\n",
            "block5d_se_reshape False\n",
            "block5d_se_reduce False\n",
            "block5d_se_expand False\n",
            "block5d_se_excite False\n",
            "block5d_project_conv False\n",
            "block5d_project_bn False\n",
            "block5d_add False\n",
            "block5e_expand_conv False\n",
            "block5e_expand_bn False\n",
            "block5e_expand_activation False\n",
            "block5e_dwconv2 False\n",
            "block5e_bn False\n",
            "block5e_activation False\n",
            "block5e_se_squeeze False\n",
            "block5e_se_reshape False\n",
            "block5e_se_reduce False\n",
            "block5e_se_expand False\n",
            "block5e_se_excite False\n",
            "block5e_project_conv False\n",
            "block5e_project_bn False\n",
            "block5e_add False\n",
            "block6a_expand_conv False\n",
            "block6a_expand_bn False\n",
            "block6a_expand_activation False\n",
            "block6a_dwconv2 False\n",
            "block6a_bn False\n",
            "block6a_activation False\n",
            "block6a_se_squeeze False\n",
            "block6a_se_reshape False\n",
            "block6a_se_reduce False\n",
            "block6a_se_expand False\n",
            "block6a_se_excite False\n",
            "block6a_project_conv False\n",
            "block6a_project_bn False\n",
            "block6b_expand_conv False\n",
            "block6b_expand_bn False\n",
            "block6b_expand_activation False\n",
            "block6b_dwconv2 False\n",
            "block6b_bn False\n",
            "block6b_activation False\n",
            "block6b_se_squeeze False\n",
            "block6b_se_reshape False\n",
            "block6b_se_reduce False\n",
            "block6b_se_expand False\n",
            "block6b_se_excite False\n",
            "block6b_project_conv False\n",
            "block6b_project_bn False\n",
            "block6b_add False\n",
            "block6c_expand_conv False\n",
            "block6c_expand_bn False\n",
            "block6c_expand_activation False\n",
            "block6c_dwconv2 False\n",
            "block6c_bn False\n",
            "block6c_activation False\n",
            "block6c_se_squeeze False\n",
            "block6c_se_reshape False\n",
            "block6c_se_reduce False\n",
            "block6c_se_expand False\n",
            "block6c_se_excite False\n",
            "block6c_project_conv False\n",
            "block6c_project_bn False\n",
            "block6c_add False\n",
            "block6d_expand_conv False\n",
            "block6d_expand_bn False\n",
            "block6d_expand_activation False\n",
            "block6d_dwconv2 False\n",
            "block6d_bn False\n",
            "block6d_activation False\n",
            "block6d_se_squeeze False\n",
            "block6d_se_reshape False\n",
            "block6d_se_reduce False\n",
            "block6d_se_expand False\n",
            "block6d_se_excite False\n",
            "block6d_project_conv False\n",
            "block6d_project_bn False\n",
            "block6d_add False\n",
            "block6e_expand_conv False\n",
            "block6e_expand_bn False\n",
            "block6e_expand_activation False\n",
            "block6e_dwconv2 False\n",
            "block6e_bn False\n",
            "block6e_activation False\n",
            "block6e_se_squeeze False\n",
            "block6e_se_reshape False\n",
            "block6e_se_reduce False\n",
            "block6e_se_expand False\n",
            "block6e_se_excite False\n",
            "block6e_project_conv False\n",
            "block6e_project_bn False\n",
            "block6e_add False\n",
            "block6f_expand_conv False\n",
            "block6f_expand_bn False\n",
            "block6f_expand_activation False\n",
            "block6f_dwconv2 False\n",
            "block6f_bn False\n",
            "block6f_activation False\n",
            "block6f_se_squeeze False\n",
            "block6f_se_reshape False\n",
            "block6f_se_reduce False\n",
            "block6f_se_expand False\n",
            "block6f_se_excite False\n",
            "block6f_project_conv False\n",
            "block6f_project_bn False\n",
            "block6f_add False\n",
            "block6g_expand_conv False\n",
            "block6g_expand_bn False\n",
            "block6g_expand_activation False\n",
            "block6g_dwconv2 False\n",
            "block6g_bn False\n",
            "block6g_activation False\n",
            "block6g_se_squeeze False\n",
            "block6g_se_reshape False\n",
            "block6g_se_reduce False\n",
            "block6g_se_expand False\n",
            "block6g_se_excite False\n",
            "block6g_project_conv False\n",
            "block6g_project_bn False\n",
            "block6g_add False\n",
            "block6h_expand_conv False\n",
            "block6h_expand_bn False\n",
            "block6h_expand_activation False\n",
            "block6h_dwconv2 False\n",
            "block6h_bn False\n",
            "block6h_activation False\n",
            "block6h_se_squeeze False\n",
            "block6h_se_reshape True\n",
            "block6h_se_reduce True\n",
            "block6h_se_expand True\n",
            "block6h_se_excite True\n",
            "block6h_project_conv True\n",
            "block6h_project_bn True\n",
            "block6h_add True\n",
            "top_conv True\n",
            "top_bn True\n",
            "top_activation True\n"
          ]
        }
      ]
    },
    {
      "cell_type": "code",
      "source": [
        "model_3.compile(loss=\"categorical_crossentropy\",\n",
        "                optimizer=tf.keras.optimizers.Adam(lr=0.0001),\n",
        "                metrics=\"accuracy\")\n",
        "\n",
        "history_3_10_classes_full = model_3.fit(train_data_10_classes_full,\n",
        "                                        epochs=10,\n",
        "                                        initial_epoch=history_3.epoch[-1],\n",
        "                                        validation_data=test_data,\n",
        "                                        validation_steps=int(0.25*len(test_data)),\n",
        "                                        callbacks=[callback_create_tensorboard(\"transfer_learning\", \"full_10_classes_fine_tune_last_10\")])"
      ],
      "metadata": {
        "colab": {
          "base_uri": "https://localhost:8080/"
        },
        "id": "LvSr3GQcT-rx",
        "outputId": "2809491c-06e7-49b0-95d3-8cb2a8050cbd"
      },
      "execution_count": null,
      "outputs": [
        {
          "output_type": "stream",
          "name": "stdout",
          "text": [
            "Saving TensorBoard log files to: transfer_learning/full_10_classes_fine_tune_last_10/20220918-112837\n",
            "Epoch 5/10\n",
            "235/235 [==============================] - 66s 256ms/step - loss: 1.0281 - accuracy: 0.7256 - val_loss: 0.6936 - val_accuracy: 0.8240\n",
            "Epoch 6/10\n",
            "235/235 [==============================] - 48s 205ms/step - loss: 0.9339 - accuracy: 0.7496 - val_loss: 0.5874 - val_accuracy: 0.8553\n",
            "Epoch 7/10\n",
            "235/235 [==============================] - 42s 175ms/step - loss: 0.8707 - accuracy: 0.7628 - val_loss: 0.5503 - val_accuracy: 0.8586\n",
            "Epoch 8/10\n",
            "235/235 [==============================] - 38s 160ms/step - loss: 0.8242 - accuracy: 0.7664 - val_loss: 0.5047 - val_accuracy: 0.8684\n",
            "Epoch 9/10\n",
            "235/235 [==============================] - 37s 153ms/step - loss: 0.7970 - accuracy: 0.7728 - val_loss: 0.4940 - val_accuracy: 0.8536\n",
            "Epoch 10/10\n",
            "235/235 [==============================] - 34s 141ms/step - loss: 0.7628 - accuracy: 0.7869 - val_loss: 0.4591 - val_accuracy: 0.8734\n"
          ]
        }
      ]
    },
    {
      "cell_type": "code",
      "source": [
        "plot_loss_curves(history_3_10_classes_full)"
      ],
      "metadata": {
        "colab": {
          "base_uri": "https://localhost:8080/",
          "height": 736
        },
        "id": "Hp0EdYslW0SD",
        "outputId": "bc93aa52-b949-4664-9725-44cf0209098b"
      },
      "execution_count": null,
      "outputs": [
        {
          "output_type": "display_data",
          "data": {
            "text/plain": [
              "<Figure size 504x504 with 1 Axes>"
            ],
            "image/png": "[encoded data removed]"
          },
          "metadata": {
            "needs_background": "light"
          }
        },
        {
          "output_type": "display_data",
          "data": {
            "text/plain": [
              "<Figure size 432x288 with 1 Axes>"
            ],
            "image/png": "[encoded data removed]"
          },
          "metadata": {
            "needs_background": "light"
          }
        }
      ]
    },
    {
      "cell_type": "code",
      "source": [],
      "metadata": {
        "id": "sAU1wqkYY3S0"
      },
      "execution_count": null,
      "outputs": []
    }
  ]
}