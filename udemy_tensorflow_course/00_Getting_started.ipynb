{
  "nbformat": 4,
  "nbformat_minor": 0,
  "metadata": {
    "colab": {
      "provenance": [],
      "toc_visible": true,
      "collapsed_sections": [
        "nHC15OkgfMak",
        "ittiYGgOfVVh",
        "NXuGpVgsftGG",
        "PhzrGl9EiPKU",
        "7n_GhVqBiG9H",
        "EzgRyAdnuS2J",
        "zjl72WuKulTu",
        "cbKx0zuauzMA",
        "fuXLIxAIw_6H",
        "LH1ym7RExQL6",
        "8Te063i15Go0",
        "8u4ZdjsK5SUP",
        "VCbcAdzM5l7u",
        "vDdkfmF91yEw",
        "469M4raONBbY",
        "5tXJBoRgOT72",
        "owpmVcf8RocT"
      ],
      "authorship_tag": "ABX9TyOmLzks2gERyCxIcU8iWbpm",
      "include_colab_link": true
    },
    "kernelspec": {
      "name": "python3",
      "display_name": "Python 3"
    },
    "language_info": {
      "name": "python"
    }
  },
  "cells": [
    {
      "cell_type": "markdown",
      "metadata": {
        "id": "view-in-github",
        "colab_type": "text"
      },
      "source": [
        "<a href=\"https://colab.research.google.com/github/northpr/tensorflow-resources/blob/main/udemy_tensorflow_course/00_Getting_started.ipynb\" target=\"_parent\"><img src=\"https://colab.research.google.com/assets/colab-badge.svg\" alt=\"Open In Colab\"/></a>"
      ]
    },
    {
      "cell_type": "code",
      "execution_count": null,
      "metadata": {
        "colab": {
          "base_uri": "https://localhost:8080/"
        },
        "id": "GtTZ6YqgaA3J",
        "outputId": "157e21ba-87df-4622-c5a5-dbd497dea232"
      },
      "outputs": [
        {
          "output_type": "stream",
          "name": "stdout",
          "text": [
            "2.8.2\n"
          ]
        }
      ],
      "source": [
        "import tensorflow as tf\n",
        "print(tf.__version__)"
      ]
    },
    {
      "cell_type": "code",
      "source": [
        "scalar = tf.constant(7)\n",
        "scalar"
      ],
      "metadata": {
        "colab": {
          "base_uri": "https://localhost:8080/"
        },
        "id": "JXB-fl8UaOGh",
        "outputId": "645a7837-9c06-48bc-c8a0-758019ac031a"
      },
      "execution_count": null,
      "outputs": [
        {
          "output_type": "execute_result",
          "data": {
            "text/plain": [
              "<tf.Tensor: shape=(), dtype=int32, numpy=7>"
            ]
          },
          "metadata": {},
          "execution_count": 2
        }
      ]
    },
    {
      "cell_type": "code",
      "source": [
        "scalar.ndim"
      ],
      "metadata": {
        "colab": {
          "base_uri": "https://localhost:8080/"
        },
        "id": "Hc0pJH6VaQ1S",
        "outputId": "2558c9ac-d276-4c6c-f0f6-a135b839d3a7"
      },
      "execution_count": null,
      "outputs": [
        {
          "output_type": "execute_result",
          "data": {
            "text/plain": [
              "0"
            ]
          },
          "metadata": {},
          "execution_count": 3
        }
      ]
    },
    {
      "cell_type": "code",
      "source": [
        "vector = tf.constant([10,10])\n",
        "vector"
      ],
      "metadata": {
        "colab": {
          "base_uri": "https://localhost:8080/"
        },
        "id": "fTe1ouvaaS8j",
        "outputId": "4633e44c-dae1-4e0d-972b-ad0d4e96e616"
      },
      "execution_count": null,
      "outputs": [
        {
          "output_type": "execute_result",
          "data": {
            "text/plain": [
              "<tf.Tensor: shape=(2,), dtype=int32, numpy=array([10, 10], dtype=int32)>"
            ]
          },
          "metadata": {},
          "execution_count": 6
        }
      ]
    },
    {
      "cell_type": "code",
      "source": [
        "vector.ndim"
      ],
      "metadata": {
        "colab": {
          "base_uri": "https://localhost:8080/"
        },
        "id": "lGeswGKHaVIu",
        "outputId": "08fff718-2686-4e03-ac75-9e385a54f78a"
      },
      "execution_count": null,
      "outputs": [
        {
          "output_type": "execute_result",
          "data": {
            "text/plain": [
              "1"
            ]
          },
          "metadata": {},
          "execution_count": 7
        }
      ]
    },
    {
      "cell_type": "code",
      "source": [
        "matrix = tf.constant([[10,7],[5,2]])\n",
        "matrix"
      ],
      "metadata": {
        "colab": {
          "base_uri": "https://localhost:8080/"
        },
        "id": "g_TAhvcHaZsX",
        "outputId": "1fd5b217-9f75-455b-e333-d7c7643c42fc"
      },
      "execution_count": null,
      "outputs": [
        {
          "output_type": "execute_result",
          "data": {
            "text/plain": [
              "<tf.Tensor: shape=(2, 2), dtype=int32, numpy=\n",
              "array([[10,  7],\n",
              "       [ 5,  2]], dtype=int32)>"
            ]
          },
          "metadata": {},
          "execution_count": 8
        }
      ]
    },
    {
      "cell_type": "code",
      "source": [
        "matrix.ndim"
      ],
      "metadata": {
        "colab": {
          "base_uri": "https://localhost:8080/"
        },
        "id": "uWVvpsVOauLV",
        "outputId": "a1b4274f-3440-400d-fc98-bf95fbb5c3d0"
      },
      "execution_count": null,
      "outputs": [
        {
          "output_type": "execute_result",
          "data": {
            "text/plain": [
              "2"
            ]
          },
          "metadata": {},
          "execution_count": 9
        }
      ]
    },
    {
      "cell_type": "code",
      "source": [
        "matrix_2 = tf.constant([[1,2],\n",
        "                        [3,4],\n",
        "                        [5,6]])\n",
        "matrix_2[0]"
      ],
      "metadata": {
        "colab": {
          "base_uri": "https://localhost:8080/"
        },
        "id": "BVk1FyZaavEu",
        "outputId": "8c32ecb3-fc7a-475a-84e3-483e4e208a79"
      },
      "execution_count": null,
      "outputs": [
        {
          "output_type": "execute_result",
          "data": {
            "text/plain": [
              "<tf.Tensor: shape=(2,), dtype=int32, numpy=array([1, 2], dtype=int32)>"
            ]
          },
          "metadata": {},
          "execution_count": 11
        }
      ]
    },
    {
      "cell_type": "code",
      "source": [
        "tensor = tf.constant([[[1,2,3],[4,5,6]],[[7,8,9],[10,11,12]],[[13,14,15],[16,17,18]]])\n",
        "tensor"
      ],
      "metadata": {
        "colab": {
          "base_uri": "https://localhost:8080/"
        },
        "id": "bCqGa3mOa2QF",
        "outputId": "66c29d20-13de-47ad-bb02-94abfa16cd86"
      },
      "execution_count": null,
      "outputs": [
        {
          "output_type": "execute_result",
          "data": {
            "text/plain": [
              "<tf.Tensor: shape=(3, 2, 3), dtype=int32, numpy=\n",
              "array([[[ 1,  2,  3],\n",
              "        [ 4,  5,  6]],\n",
              "\n",
              "       [[ 7,  8,  9],\n",
              "        [10, 11, 12]],\n",
              "\n",
              "       [[13, 14, 15],\n",
              "        [16, 17, 18]]], dtype=int32)>"
            ]
          },
          "metadata": {},
          "execution_count": 15
        }
      ]
    },
    {
      "cell_type": "code",
      "source": [
        "tensor.ndim"
      ],
      "metadata": {
        "colab": {
          "base_uri": "https://localhost:8080/"
        },
        "id": "JO4XSMYWbAZa",
        "outputId": "eea408cf-de7c-4a64-f3cb-a4d3e77d52d2"
      },
      "execution_count": null,
      "outputs": [
        {
          "output_type": "execute_result",
          "data": {
            "text/plain": [
              "3"
            ]
          },
          "metadata": {},
          "execution_count": 16
        }
      ]
    },
    {
      "cell_type": "code",
      "source": [
        "changeable_tensor = tf.Variable([10,7])\n",
        "unchageable_tensor = tf.constant([2,34])\n",
        "changeable_tensor, unchageable_tensor"
      ],
      "metadata": {
        "colab": {
          "base_uri": "https://localhost:8080/"
        },
        "id": "RXImu-V2bawl",
        "outputId": "99b8f972-b6a4-490e-b761-34bc108ad775"
      },
      "execution_count": null,
      "outputs": [
        {
          "output_type": "execute_result",
          "data": {
            "text/plain": [
              "(<tf.Variable 'Variable:0' shape=(2,) dtype=int32, numpy=array([10,  7], dtype=int32)>,\n",
              " <tf.Tensor: shape=(2,), dtype=int32, numpy=array([ 2, 34], dtype=int32)>)"
            ]
          },
          "metadata": {},
          "execution_count": 18
        }
      ]
    },
    {
      "cell_type": "code",
      "source": [
        "# # Will error (requires the .assign() method)\n",
        "# changeable_tensor[0] = 7\n",
        "# changeable_tensor"
      ],
      "metadata": {
        "colab": {
          "base_uri": "https://localhost:8080/",
          "height": 201
        },
        "id": "SOOkqk2Tbpji",
        "outputId": "2db437e0-cc62-4e55-93bc-e5fe86497902"
      },
      "execution_count": null,
      "outputs": [
        {
          "output_type": "error",
          "ename": "TypeError",
          "evalue": "ignored",
          "traceback": [
            "\u001b[0;31m---------------------------------------------------------------------------\u001b[0m",
            "\u001b[0;31mTypeError\u001b[0m                                 Traceback (most recent call last)",
            "\u001b[0;32m<ipython-input-19-daecfbad2415>\u001b[0m in \u001b[0;36m<module>\u001b[0;34m\u001b[0m\n\u001b[1;32m      1\u001b[0m \u001b[0;31m# Will error (requires the .assign() method)\u001b[0m\u001b[0;34m\u001b[0m\u001b[0;34m\u001b[0m\u001b[0;34m\u001b[0m\u001b[0m\n\u001b[0;32m----> 2\u001b[0;31m \u001b[0mchangeable_tensor\u001b[0m\u001b[0;34m[\u001b[0m\u001b[0;36m0\u001b[0m\u001b[0;34m]\u001b[0m \u001b[0;34m=\u001b[0m \u001b[0;36m7\u001b[0m\u001b[0;34m\u001b[0m\u001b[0;34m\u001b[0m\u001b[0m\n\u001b[0m\u001b[1;32m      3\u001b[0m \u001b[0mchangeable_tensor\u001b[0m\u001b[0;34m\u001b[0m\u001b[0;34m\u001b[0m\u001b[0m\n",
            "\u001b[0;31mTypeError\u001b[0m: 'ResourceVariable' object does not support item assignment"
          ]
        }
      ]
    },
    {
      "cell_type": "code",
      "source": [
        "changeable_tensor[0].assign(4)\n",
        "changeable_tensor"
      ],
      "metadata": {
        "colab": {
          "base_uri": "https://localhost:8080/"
        },
        "id": "wt7mbABVcR6w",
        "outputId": "beac9637-3269-4a23-ef63-0bcef68b0feb"
      },
      "execution_count": null,
      "outputs": [
        {
          "output_type": "execute_result",
          "data": {
            "text/plain": [
              "<tf.Variable 'Variable:0' shape=(2,) dtype=int32, numpy=array([4, 7], dtype=int32)>"
            ]
          },
          "metadata": {},
          "execution_count": 21
        }
      ]
    },
    {
      "cell_type": "markdown",
      "source": [
        "## Create random tensors"
      ],
      "metadata": {
        "id": "JyIRRqkXeaEO"
      }
    },
    {
      "cell_type": "code",
      "source": [
        "# Create random tensors\n",
        "random_1 = tf.random.Generator.from_seed(42)\n",
        "random_1 = random_1.normal(shape=(3,2))\n",
        "random_2 = tf.random.Generator.from_seed(42)\n",
        "random_2 = random_2.normal(shape=(3,2))\n",
        "\n",
        "random_1, random_2, random_1==random_2"
      ],
      "metadata": {
        "colab": {
          "base_uri": "https://localhost:8080/"
        },
        "id": "yR9fl_LKcPCG",
        "outputId": "c1d1b4f4-735e-4f94-df8b-94fbb7df7e53"
      },
      "execution_count": null,
      "outputs": [
        {
          "output_type": "execute_result",
          "data": {
            "text/plain": [
              "(<tf.Tensor: shape=(3, 2), dtype=float32, numpy=\n",
              " array([[-0.7565803 , -0.06854702],\n",
              "        [ 0.07595026, -1.2573844 ],\n",
              "        [-0.23193763, -1.8107855 ]], dtype=float32)>,\n",
              " <tf.Tensor: shape=(3, 2), dtype=float32, numpy=\n",
              " array([[-0.7565803 , -0.06854702],\n",
              "        [ 0.07595026, -1.2573844 ],\n",
              "        [-0.23193763, -1.8107855 ]], dtype=float32)>,\n",
              " <tf.Tensor: shape=(3, 2), dtype=bool, numpy=\n",
              " array([[ True,  True],\n",
              "        [ True,  True],\n",
              "        [ True,  True]])>)"
            ]
          },
          "metadata": {},
          "execution_count": 25
        }
      ]
    },
    {
      "cell_type": "code",
      "source": [
        "## Shuffle a tensor\n",
        "not_shuffled = tf.constant([[10,7],\n",
        "                            [3,4],\n",
        "                           [2,5]])\n",
        "\n",
        "tf.random.shuffle(not_shuffled)"
      ],
      "metadata": {
        "colab": {
          "base_uri": "https://localhost:8080/"
        },
        "id": "m2N3SHDzeArv",
        "outputId": "2b8d6b29-51bb-4483-c7b1-3f4257160c31"
      },
      "execution_count": null,
      "outputs": [
        {
          "output_type": "execute_result",
          "data": {
            "text/plain": [
              "<tf.Tensor: shape=(3, 2), dtype=int32, numpy=\n",
              "array([[ 3,  4],\n",
              "       [ 2,  5],\n",
              "       [10,  7]], dtype=int32)>"
            ]
          },
          "metadata": {},
          "execution_count": 28
        }
      ]
    },
    {
      "cell_type": "code",
      "source": [
        "tf.random.shuffle(not_shuffled, seed=32)"
      ],
      "metadata": {
        "colab": {
          "base_uri": "https://localhost:8080/"
        },
        "id": "OrtNsYYGencT",
        "outputId": "d09173b7-da01-410e-9f2f-71d458d4706d"
      },
      "execution_count": null,
      "outputs": [
        {
          "output_type": "execute_result",
          "data": {
            "text/plain": [
              "<tf.Tensor: shape=(3, 2), dtype=int32, numpy=\n",
              "array([[10,  7],\n",
              "       [ 2,  5],\n",
              "       [ 3,  4]], dtype=int32)>"
            ]
          },
          "metadata": {},
          "execution_count": 29
        }
      ]
    },
    {
      "cell_type": "markdown",
      "source": [
        "## Make tensors of all ones"
      ],
      "metadata": {
        "id": "nHC15OkgfMak"
      }
    },
    {
      "cell_type": "code",
      "source": [
        "tf.ones(shape=(3,2))"
      ],
      "metadata": {
        "colab": {
          "base_uri": "https://localhost:8080/"
        },
        "id": "f6v9GsSjfF9V",
        "outputId": "c6765ffc-6259-4331-c6ed-02eabf07b73f"
      },
      "execution_count": null,
      "outputs": [
        {
          "output_type": "execute_result",
          "data": {
            "text/plain": [
              "<tf.Tensor: shape=(3, 2), dtype=float32, numpy=\n",
              "array([[1., 1.],\n",
              "       [1., 1.],\n",
              "       [1., 1.]], dtype=float32)>"
            ]
          },
          "metadata": {},
          "execution_count": 31
        }
      ]
    },
    {
      "cell_type": "code",
      "source": [
        "tf.zeros(shape=(3,2))"
      ],
      "metadata": {
        "colab": {
          "base_uri": "https://localhost:8080/"
        },
        "id": "wqi3N1AXfSPo",
        "outputId": "acbf4074-2b32-4e8d-a532-bde3074fa0b0"
      },
      "execution_count": null,
      "outputs": [
        {
          "output_type": "execute_result",
          "data": {
            "text/plain": [
              "<tf.Tensor: shape=(3, 2), dtype=float32, numpy=\n",
              "array([[0., 0.],\n",
              "       [0., 0.],\n",
              "       [0., 0.]], dtype=float32)>"
            ]
          },
          "metadata": {},
          "execution_count": 33
        }
      ]
    },
    {
      "cell_type": "markdown",
      "source": [
        "## Turn Numpy into tensor"
      ],
      "metadata": {
        "id": "ittiYGgOfVVh"
      }
    },
    {
      "cell_type": "code",
      "source": [
        "import numpy as np\n",
        "numpy = np.arange(1, 25, dtype=np.int32)\n",
        "numpy"
      ],
      "metadata": {
        "colab": {
          "base_uri": "https://localhost:8080/"
        },
        "id": "Fe-hoKxVfb8h",
        "outputId": "3790dce9-4281-42cb-a694-8f9b1180b554"
      },
      "execution_count": null,
      "outputs": [
        {
          "output_type": "execute_result",
          "data": {
            "text/plain": [
              "array([ 1,  2,  3,  4,  5,  6,  7,  8,  9, 10, 11, 12, 13, 14, 15, 16, 17,\n",
              "       18, 19, 20, 21, 22, 23, 24], dtype=int32)"
            ]
          },
          "metadata": {},
          "execution_count": 36
        }
      ]
    },
    {
      "cell_type": "code",
      "source": [
        "a = tf.constant(numpy, shape=(2,4,3))\n",
        "a"
      ],
      "metadata": {
        "colab": {
          "base_uri": "https://localhost:8080/"
        },
        "id": "6TpJrdwyfkFy",
        "outputId": "0af0e982-3123-43e6-f1d7-b8a52ecf407a"
      },
      "execution_count": null,
      "outputs": [
        {
          "output_type": "execute_result",
          "data": {
            "text/plain": [
              "<tf.Tensor: shape=(2, 4, 3), dtype=int32, numpy=\n",
              "array([[[ 1,  2,  3],\n",
              "        [ 4,  5,  6],\n",
              "        [ 7,  8,  9],\n",
              "        [10, 11, 12]],\n",
              "\n",
              "       [[13, 14, 15],\n",
              "        [16, 17, 18],\n",
              "        [19, 20, 21],\n",
              "        [22, 23, 24]]], dtype=int32)>"
            ]
          },
          "metadata": {},
          "execution_count": 41
        }
      ]
    },
    {
      "cell_type": "markdown",
      "source": [
        "## Getting information from Tensors (shape, rank, size)"
      ],
      "metadata": {
        "id": "NXuGpVgsftGG"
      }
    },
    {
      "cell_type": "code",
      "source": [
        "rank_4_tensor = tf.zeros([2, 3, 4, 5])\n",
        "rank_4_tensor"
      ],
      "metadata": {
        "colab": {
          "base_uri": "https://localhost:8080/"
        },
        "id": "9cpsc6VygkhJ",
        "outputId": "c4b05c18-a809-4e8d-b72a-7deaf38be2f2"
      },
      "execution_count": null,
      "outputs": [
        {
          "output_type": "execute_result",
          "data": {
            "text/plain": [
              "<tf.Tensor: shape=(2, 3, 4, 5), dtype=float32, numpy=\n",
              "array([[[[0., 0., 0., 0., 0.],\n",
              "         [0., 0., 0., 0., 0.],\n",
              "         [0., 0., 0., 0., 0.],\n",
              "         [0., 0., 0., 0., 0.]],\n",
              "\n",
              "        [[0., 0., 0., 0., 0.],\n",
              "         [0., 0., 0., 0., 0.],\n",
              "         [0., 0., 0., 0., 0.],\n",
              "         [0., 0., 0., 0., 0.]],\n",
              "\n",
              "        [[0., 0., 0., 0., 0.],\n",
              "         [0., 0., 0., 0., 0.],\n",
              "         [0., 0., 0., 0., 0.],\n",
              "         [0., 0., 0., 0., 0.]]],\n",
              "\n",
              "\n",
              "       [[[0., 0., 0., 0., 0.],\n",
              "         [0., 0., 0., 0., 0.],\n",
              "         [0., 0., 0., 0., 0.],\n",
              "         [0., 0., 0., 0., 0.]],\n",
              "\n",
              "        [[0., 0., 0., 0., 0.],\n",
              "         [0., 0., 0., 0., 0.],\n",
              "         [0., 0., 0., 0., 0.],\n",
              "         [0., 0., 0., 0., 0.]],\n",
              "\n",
              "        [[0., 0., 0., 0., 0.],\n",
              "         [0., 0., 0., 0., 0.],\n",
              "         [0., 0., 0., 0., 0.],\n",
              "         [0., 0., 0., 0., 0.]]]], dtype=float32)>"
            ]
          },
          "metadata": {},
          "execution_count": 43
        }
      ]
    },
    {
      "cell_type": "code",
      "source": [
        "print(f'.Shape: {rank_4_tensor.shape},\\nndim: {rank_4_tensor.ndim},\\nsize: {tf.size(rank_4_tensor)}')"
      ],
      "metadata": {
        "colab": {
          "base_uri": "https://localhost:8080/"
        },
        "id": "jfhaSX-nglUN",
        "outputId": "fe745916-e562-44ee-af43-562bccc740e7"
      },
      "execution_count": null,
      "outputs": [
        {
          "output_type": "stream",
          "name": "stdout",
          "text": [
            ".Shape: (2, 3, 4, 5),\n",
            "ndim: 4,\n",
            "size: 120\n"
          ]
        }
      ]
    },
    {
      "cell_type": "code",
      "source": [
        "# Get various attributes of tensor\n",
        "print(\"Datatype of every element:\", rank_4_tensor.dtype)\n",
        "print(\"Number of dimensions (rank):\", rank_4_tensor.ndim)\n",
        "print(\"Shape of tensor:\", rank_4_tensor.shape)\n",
        "print(\"Elements along axis 0 of tensor:\", rank_4_tensor.shape[0])\n",
        "print(\"Elements along last axis of tensor:\", rank_4_tensor.shape[-1])\n",
        "print(\"Total number of elements (2*3*4*5):\", tf.size(rank_4_tensor).numpy()) # .numpy() converts to NumPy array"
      ],
      "metadata": {
        "colab": {
          "base_uri": "https://localhost:8080/"
        },
        "id": "67obDhzfgp2F",
        "outputId": "c090be4b-cdb2-4fa7-91b6-b5d24f5feeea"
      },
      "execution_count": null,
      "outputs": [
        {
          "output_type": "stream",
          "name": "stdout",
          "text": [
            "Datatype of every element: <dtype: 'float32'>\n",
            "Number of dimensions (rank): 4\n",
            "Shape of tensor: (2, 3, 4, 5)\n",
            "Elements along axis 0 of tensor: 2\n",
            "Elements along last axis of tensor: 5\n",
            "Total number of elements (2*3*4*5): 120\n"
          ]
        }
      ]
    },
    {
      "cell_type": "code",
      "source": [
        "rank_2_tensor = tf.Variable([[10, 7],\n",
        "                             [2, 3]])\n",
        "rank_2_tensor"
      ],
      "metadata": {
        "colab": {
          "base_uri": "https://localhost:8080/"
        },
        "id": "REjwBwqghtpV",
        "outputId": "154d9b50-9a89-40f4-c7fd-669baf9fd1eb"
      },
      "execution_count": null,
      "outputs": [
        {
          "output_type": "execute_result",
          "data": {
            "text/plain": [
              "<tf.Variable 'Variable:0' shape=(2, 2) dtype=int32, numpy=\n",
              "array([[10,  7],\n",
              "       [ 2,  3]], dtype=int32)>"
            ]
          },
          "metadata": {},
          "execution_count": 51
        }
      ]
    },
    {
      "cell_type": "markdown",
      "source": [
        "### expand_dims"
      ],
      "metadata": {
        "id": "PhzrGl9EiPKU"
      }
    },
    {
      "cell_type": "code",
      "source": [
        "tf.expand_dims(rank_2_tensor,axis=1)"
      ],
      "metadata": {
        "colab": {
          "base_uri": "https://localhost:8080/"
        },
        "id": "YGRKUyhLhLOP",
        "outputId": "1b0ae36c-b031-4b78-9d57-8751853f0914"
      },
      "execution_count": null,
      "outputs": [
        {
          "output_type": "execute_result",
          "data": {
            "text/plain": [
              "<tf.Tensor: shape=(2, 1, 2), dtype=int32, numpy=\n",
              "array([[[10,  7]],\n",
              "\n",
              "       [[ 2,  3]]], dtype=int32)>"
            ]
          },
          "metadata": {},
          "execution_count": 54
        }
      ]
    },
    {
      "cell_type": "markdown",
      "source": [
        "## Basic operations"
      ],
      "metadata": {
        "id": "7n_GhVqBiG9H"
      }
    },
    {
      "cell_type": "code",
      "source": [
        "tensor = tf.constant([[10, 7],[3, 4]])\n",
        "tensor = tensor + 10\n",
        "\n",
        "tensor"
      ],
      "metadata": {
        "colab": {
          "base_uri": "https://localhost:8080/"
        },
        "id": "rVAl0qaus_VT",
        "outputId": "259ef9d8-9196-4c5a-926c-df2e4d48eabb"
      },
      "execution_count": null,
      "outputs": [
        {
          "output_type": "execute_result",
          "data": {
            "text/plain": [
              "<tf.Tensor: shape=(2, 2), dtype=int32, numpy=\n",
              "array([[20, 17],\n",
              "       [13, 14]], dtype=int32)>"
            ]
          },
          "metadata": {},
          "execution_count": 58
        }
      ]
    },
    {
      "cell_type": "code",
      "source": [
        "tensor_variable = tf.Variable([[2,5],[1,3]])\n",
        "tensor_variable = tensor + 10\n",
        "\n",
        "tensor"
      ],
      "metadata": {
        "colab": {
          "base_uri": "https://localhost:8080/"
        },
        "id": "PYgtncPWtFnf",
        "outputId": "71cdf2b2-96f1-4979-eb63-a81eeba20340"
      },
      "execution_count": null,
      "outputs": [
        {
          "output_type": "execute_result",
          "data": {
            "text/plain": [
              "<tf.Tensor: shape=(2, 2), dtype=int32, numpy=\n",
              "array([[20, 17],\n",
              "       [13, 14]], dtype=int32)>"
            ]
          },
          "metadata": {},
          "execution_count": 57
        }
      ]
    },
    {
      "cell_type": "code",
      "source": [
        "tf.multiply(tensor, 2)"
      ],
      "metadata": {
        "colab": {
          "base_uri": "https://localhost:8080/"
        },
        "id": "f8MXUuv5tGCc",
        "outputId": "6b2488bf-dac6-4045-9823-384ab8ec77ff"
      },
      "execution_count": null,
      "outputs": [
        {
          "output_type": "execute_result",
          "data": {
            "text/plain": [
              "<tf.Tensor: shape=(2, 2), dtype=int32, numpy=\n",
              "array([[ 2,  4],\n",
              "       [ 6, 10]], dtype=int32)>"
            ]
          },
          "metadata": {},
          "execution_count": 64
        }
      ]
    },
    {
      "cell_type": "markdown",
      "source": [
        "### Matrix multiplication"
      ],
      "metadata": {
        "id": "EzgRyAdnuS2J"
      }
    },
    {
      "cell_type": "code",
      "source": [
        "# Matrix multiplication\n",
        "tensor = tf.constant([[1,2],[3,5]])\n",
        "tf.matmul(tensor, tensor)"
      ],
      "metadata": {
        "colab": {
          "base_uri": "https://localhost:8080/"
        },
        "id": "xSPBEujgtbfc",
        "outputId": "ccd9802e-e04e-44aa-ec68-ad51bbbc47ba"
      },
      "execution_count": null,
      "outputs": [
        {
          "output_type": "execute_result",
          "data": {
            "text/plain": [
              "<tf.Tensor: shape=(2, 2), dtype=int32, numpy=\n",
              "array([[ 7, 12],\n",
              "       [18, 31]], dtype=int32)>"
            ]
          },
          "metadata": {},
          "execution_count": 61
        }
      ]
    },
    {
      "cell_type": "code",
      "source": [
        "# Create (3, 2) tensor\n",
        "X = tf.constant([[1, 2],\n",
        "                 [3, 4],\n",
        "                 [5, 6]])\n",
        "\n",
        "# Create another (3, 2) tensor\n",
        "Y = tf.constant([[7, 8],\n",
        "                 [9, 10],\n",
        "                 [11, 12]])\n",
        "X, Y"
      ],
      "metadata": {
        "colab": {
          "base_uri": "https://localhost:8080/"
        },
        "id": "v3gO7SWNtnpo",
        "outputId": "183d601a-d014-43d2-c2d3-82156396e282"
      },
      "execution_count": null,
      "outputs": [
        {
          "output_type": "execute_result",
          "data": {
            "text/plain": [
              "(<tf.Tensor: shape=(3, 2), dtype=int32, numpy=\n",
              " array([[1, 2],\n",
              "        [3, 4],\n",
              "        [5, 6]], dtype=int32)>, <tf.Tensor: shape=(3, 2), dtype=int32, numpy=\n",
              " array([[ 7,  8],\n",
              "        [ 9, 10],\n",
              "        [11, 12]], dtype=int32)>)"
            ]
          },
          "metadata": {},
          "execution_count": 62
        }
      ]
    },
    {
      "cell_type": "code",
      "source": [
        "# tf.reshape\n",
        "\n",
        "X = tf.reshape(X, shape=(2,3))"
      ],
      "metadata": {
        "id": "HuEPzWsAt16q"
      },
      "execution_count": null,
      "outputs": []
    },
    {
      "cell_type": "code",
      "source": [
        "tf.matmul(X, Y)"
      ],
      "metadata": {
        "colab": {
          "base_uri": "https://localhost:8080/"
        },
        "id": "KUjhv4cQucB5",
        "outputId": "7d4c21fd-44a5-4c30-ef0b-9bda463a320e"
      },
      "execution_count": null,
      "outputs": [
        {
          "output_type": "execute_result",
          "data": {
            "text/plain": [
              "<tf.Tensor: shape=(2, 2), dtype=int32, numpy=\n",
              "array([[ 58,  64],\n",
              "       [139, 154]], dtype=int32)>"
            ]
          },
          "metadata": {},
          "execution_count": 69
        }
      ]
    },
    {
      "cell_type": "code",
      "source": [
        "tf.transpose(X)"
      ],
      "metadata": {
        "colab": {
          "base_uri": "https://localhost:8080/"
        },
        "id": "5eJ3Tz8Mue4I",
        "outputId": "0c3a059c-30e2-4ba5-b8bb-957fe5eeb16f"
      },
      "execution_count": null,
      "outputs": [
        {
          "output_type": "execute_result",
          "data": {
            "text/plain": [
              "<tf.Tensor: shape=(3, 2), dtype=int32, numpy=\n",
              "array([[1, 4],\n",
              "       [2, 5],\n",
              "       [3, 6]], dtype=int32)>"
            ]
          },
          "metadata": {},
          "execution_count": 70
        }
      ]
    },
    {
      "cell_type": "markdown",
      "source": [
        "### Dot product"
      ],
      "metadata": {
        "id": "zjl72WuKulTu"
      }
    },
    {
      "cell_type": "code",
      "source": [
        "X, Y"
      ],
      "metadata": {
        "colab": {
          "base_uri": "https://localhost:8080/"
        },
        "id": "beGYETYwwAXe",
        "outputId": "03680116-4e1b-4a6b-d35d-473842012fb9"
      },
      "execution_count": null,
      "outputs": [
        {
          "output_type": "execute_result",
          "data": {
            "text/plain": [
              "(<tf.Tensor: shape=(2, 3), dtype=int32, numpy=\n",
              " array([[1, 2, 3],\n",
              "        [4, 5, 6]], dtype=int32)>,\n",
              " <tf.Tensor: shape=(3, 2), dtype=int32, numpy=\n",
              " array([[ 7,  8],\n",
              "        [ 9, 10],\n",
              "        [11, 12]], dtype=int32)>)"
            ]
          },
          "metadata": {},
          "execution_count": 92
        }
      ]
    },
    {
      "cell_type": "code",
      "source": [
        "tf.tensordot(X,Y, axes=1)"
      ],
      "metadata": {
        "colab": {
          "base_uri": "https://localhost:8080/"
        },
        "id": "tJRs06HFutu2",
        "outputId": "94733679-9dbd-49ff-b4d8-1af693b33fdb"
      },
      "execution_count": null,
      "outputs": [
        {
          "output_type": "execute_result",
          "data": {
            "text/plain": [
              "<tf.Tensor: shape=(2, 2), dtype=int32, numpy=\n",
              "array([[ 58,  64],\n",
              "       [139, 154]], dtype=int32)>"
            ]
          },
          "metadata": {},
          "execution_count": 91
        }
      ]
    },
    {
      "cell_type": "code",
      "source": [
        "tf.matmul(X, Y)"
      ],
      "metadata": {
        "colab": {
          "base_uri": "https://localhost:8080/"
        },
        "id": "ouFe3d2OuyKY",
        "outputId": "647a36f1-bca0-4674-89ef-a65a6a77f290"
      },
      "execution_count": null,
      "outputs": [
        {
          "output_type": "execute_result",
          "data": {
            "text/plain": [
              "<tf.Tensor: shape=(2, 2), dtype=int32, numpy=\n",
              "array([[ 58,  64],\n",
              "       [139, 154]], dtype=int32)>"
            ]
          },
          "metadata": {},
          "execution_count": 93
        }
      ]
    },
    {
      "cell_type": "code",
      "source": [
        "tf.reshape(X, shape=(6,1))"
      ],
      "metadata": {
        "colab": {
          "base_uri": "https://localhost:8080/"
        },
        "id": "e7WNr7bkuyye",
        "outputId": "ba931aeb-f374-4934-8d1d-99394e6ff0f4"
      },
      "execution_count": null,
      "outputs": [
        {
          "output_type": "execute_result",
          "data": {
            "text/plain": [
              "<tf.Tensor: shape=(6, 1), dtype=int32, numpy=\n",
              "array([[1],\n",
              "       [2],\n",
              "       [3],\n",
              "       [4],\n",
              "       [5],\n",
              "       [6]], dtype=int32)>"
            ]
          },
          "metadata": {},
          "execution_count": 94
        }
      ]
    },
    {
      "cell_type": "markdown",
      "source": [
        "## Chaning te data type of a tensor"
      ],
      "metadata": {
        "id": "cbKx0zuauzMA"
      }
    },
    {
      "cell_type": "code",
      "source": [
        "# Create a new tensor with default datatype (float32)\n",
        "B = tf.constant([1.2,3.5])\n",
        "\n",
        "# Create a new tensor with default datatype (float32)\n",
        "C = tf.constant([5,4])\n",
        "\n",
        "B,C"
      ],
      "metadata": {
        "colab": {
          "base_uri": "https://localhost:8080/"
        },
        "id": "7vNBkVGzwi2K",
        "outputId": "9f49afc3-3c8b-4250-fb0a-24ad42c7243f"
      },
      "execution_count": null,
      "outputs": [
        {
          "output_type": "execute_result",
          "data": {
            "text/plain": [
              "(<tf.Tensor: shape=(2,), dtype=float32, numpy=array([1.2, 3.5], dtype=float32)>,\n",
              " <tf.Tensor: shape=(2,), dtype=int32, numpy=array([5, 4], dtype=int32)>)"
            ]
          },
          "metadata": {},
          "execution_count": 95
        }
      ]
    },
    {
      "cell_type": "code",
      "source": [
        "# Change from float32 to float16 (reduced precision)\n",
        "B = tf.cast(B, dtype='float16')\n",
        "B"
      ],
      "metadata": {
        "colab": {
          "base_uri": "https://localhost:8080/"
        },
        "id": "8t7gZRIGwwDT",
        "outputId": "8f8ca900-a252-4fe2-e4e8-f05364fd0280"
      },
      "execution_count": null,
      "outputs": [
        {
          "output_type": "execute_result",
          "data": {
            "text/plain": [
              "<tf.Tensor: shape=(2,), dtype=float16, numpy=array([1.2, 3.5], dtype=float16)>"
            ]
          },
          "metadata": {},
          "execution_count": 97
        }
      ]
    },
    {
      "cell_type": "markdown",
      "source": [
        "## Getting the absolute error"
      ],
      "metadata": {
        "id": "fuXLIxAIw_6H"
      }
    },
    {
      "cell_type": "code",
      "source": [
        "D = tf.constant([-7,-10])\n",
        "tf.abs(D)"
      ],
      "metadata": {
        "colab": {
          "base_uri": "https://localhost:8080/"
        },
        "id": "RsptnRd-xNQq",
        "outputId": "00336c0d-dd1c-460c-db43-0e678745356a"
      },
      "execution_count": null,
      "outputs": [
        {
          "output_type": "execute_result",
          "data": {
            "text/plain": [
              "<tf.Tensor: shape=(2,), dtype=int32, numpy=array([ 7, 10], dtype=int32)>"
            ]
          },
          "metadata": {},
          "execution_count": 98
        }
      ]
    },
    {
      "cell_type": "markdown",
      "source": [
        "## Finding the min, max, mean, sum"
      ],
      "metadata": {
        "id": "LH1ym7RExQL6"
      }
    },
    {
      "cell_type": "code",
      "source": [
        "E = tf.constant(np.random.randint(low=0, high=100, size=50))\n",
        "E"
      ],
      "metadata": {
        "colab": {
          "base_uri": "https://localhost:8080/"
        },
        "id": "gq_Egs6uxTRw",
        "outputId": "4b17848f-babb-4673-82b4-f211695a0069"
      },
      "execution_count": null,
      "outputs": [
        {
          "output_type": "execute_result",
          "data": {
            "text/plain": [
              "<tf.Tensor: shape=(50,), dtype=int64, numpy=\n",
              "array([16, 64, 84, 62, 86, 15, 94, 41, 80, 51, 61, 39, 49, 20, 58, 86, 66,\n",
              "       83, 64, 82, 24, 60, 51, 19, 72, 57, 93, 39, 38, 20, 99, 72, 38, 34,\n",
              "       71, 39, 56, 69, 49,  8, 18, 43, 80, 87, 91,  9, 31, 63, 76, 92])>"
            ]
          },
          "metadata": {},
          "execution_count": 146
        }
      ]
    },
    {
      "cell_type": "markdown",
      "source": [
        "### 1-D"
      ],
      "metadata": {
        "id": "8Te063i15Go0"
      }
    },
    {
      "cell_type": "code",
      "source": [
        "tf.reduce_min(E)"
      ],
      "metadata": {
        "colab": {
          "base_uri": "https://localhost:8080/"
        },
        "id": "K2FgbJnIxZh5",
        "outputId": "f73332b8-1342-4673-be2e-fc1b6f49a900"
      },
      "execution_count": null,
      "outputs": [
        {
          "output_type": "execute_result",
          "data": {
            "text/plain": [
              "<tf.Tensor: shape=(), dtype=int64, numpy=8>"
            ]
          },
          "metadata": {},
          "execution_count": 147
        }
      ]
    },
    {
      "cell_type": "code",
      "source": [
        "tf.reduce_mean(E)"
      ],
      "metadata": {
        "colab": {
          "base_uri": "https://localhost:8080/"
        },
        "id": "BGxij5TaxgOQ",
        "outputId": "08946503-333e-4ae5-9995-225f2e237bc0"
      },
      "execution_count": null,
      "outputs": [
        {
          "output_type": "execute_result",
          "data": {
            "text/plain": [
              "<tf.Tensor: shape=(), dtype=int64, numpy=55>"
            ]
          },
          "metadata": {},
          "execution_count": 148
        }
      ]
    },
    {
      "cell_type": "code",
      "source": [
        "tf.reduce_max(E)"
      ],
      "metadata": {
        "colab": {
          "base_uri": "https://localhost:8080/"
        },
        "id": "I1Aj1vDAxiON",
        "outputId": "8425fcb6-df24-43f7-c8b7-ea0916a58608"
      },
      "execution_count": null,
      "outputs": [
        {
          "output_type": "execute_result",
          "data": {
            "text/plain": [
              "<tf.Tensor: shape=(), dtype=int64, numpy=99>"
            ]
          },
          "metadata": {},
          "execution_count": 149
        }
      ]
    },
    {
      "cell_type": "code",
      "source": [
        "tf.reduce_sum(E)"
      ],
      "metadata": {
        "colab": {
          "base_uri": "https://localhost:8080/"
        },
        "id": "MrVZYiL2xkOp",
        "outputId": "29793f91-4628-4cdc-9c18-2919318c670b"
      },
      "execution_count": null,
      "outputs": [
        {
          "output_type": "execute_result",
          "data": {
            "text/plain": [
              "<tf.Tensor: shape=(), dtype=int64, numpy=2799>"
            ]
          },
          "metadata": {},
          "execution_count": 150
        }
      ]
    },
    {
      "cell_type": "markdown",
      "source": [
        "### 2-D"
      ],
      "metadata": {
        "id": "8u4ZdjsK5SUP"
      }
    },
    {
      "cell_type": "code",
      "source": [
        "E = tf.constant(np.random.randint(low=0, high=100, size=50))\n",
        "E = tf.reshape(E, shape=(10,5))\n",
        "E = tf.cast(E, dtype='float64')\n",
        "E"
      ],
      "metadata": {
        "colab": {
          "base_uri": "https://localhost:8080/"
        },
        "id": "H2Tj58QZ5J1O",
        "outputId": "55b1de76-706b-4a3d-e8fb-3b35e8a14f0c"
      },
      "execution_count": null,
      "outputs": [
        {
          "output_type": "execute_result",
          "data": {
            "text/plain": [
              "<tf.Tensor: shape=(10, 5), dtype=float64, numpy=\n",
              "array([[49., 19., 40., 41., 25.],\n",
              "       [61., 64., 82., 80., 40.],\n",
              "       [32., 67., 56., 61., 15.],\n",
              "       [19., 57., 93., 14., 14.],\n",
              "       [38.,  2., 87., 45., 45.],\n",
              "       [14., 73., 95., 33., 21.],\n",
              "       [55., 79., 49., 43., 73.],\n",
              "       [59., 23., 65., 78., 14.],\n",
              "       [25., 31., 61., 79., 55.],\n",
              "       [82., 43., 24., 27., 27.]])>"
            ]
          },
          "metadata": {},
          "execution_count": 154
        }
      ]
    },
    {
      "cell_type": "code",
      "source": [
        "e_axis0 = tf.reduce_mean(E, axis=0)\n",
        "e_axis1 = tf.reduce_mean(E, axis=1)\n",
        "\n",
        "e_axis0, e_axis1"
      ],
      "metadata": {
        "colab": {
          "base_uri": "https://localhost:8080/"
        },
        "id": "9-tsegIFxrYZ",
        "outputId": "df5612e7-be31-4a4f-8c27-ea791d69fc1d"
      },
      "execution_count": null,
      "outputs": [
        {
          "output_type": "execute_result",
          "data": {
            "text/plain": [
              "(<tf.Tensor: shape=(5,), dtype=float64, numpy=array([43.4, 45.8, 65.2, 50.1, 32.9])>,\n",
              " <tf.Tensor: shape=(10,), dtype=float64, numpy=array([34.8, 65.4, 46.2, 39.4, 43.4, 47.2, 59.8, 47.8, 50.2, 40.6])>)"
            ]
          },
          "metadata": {},
          "execution_count": 155
        }
      ]
    },
    {
      "cell_type": "markdown",
      "source": [
        "### 3-D"
      ],
      "metadata": {
        "id": "VCbcAdzM5l7u"
      }
    },
    {
      "cell_type": "code",
      "source": [
        "E = tf.constant(np.random.randint(low=0, high=100, size=60))\n",
        "E = tf.cast(E, dtype=\"float64\")\n",
        "E = tf.reshape(E, shape=(3,5,4))\n",
        "E"
      ],
      "metadata": {
        "colab": {
          "base_uri": "https://localhost:8080/"
        },
        "id": "1m5RppaMxxYt",
        "outputId": "87ee9686-5052-4fbc-f268-db13f49e6597"
      },
      "execution_count": null,
      "outputs": [
        {
          "output_type": "execute_result",
          "data": {
            "text/plain": [
              "<tf.Tensor: shape=(3, 5, 4), dtype=float64, numpy=\n",
              "array([[[10., 69., 16., 73.],\n",
              "        [73., 61., 12., 75.],\n",
              "        [72., 28., 40.,  0.],\n",
              "        [73., 32., 43., 29.],\n",
              "        [ 4., 62., 35., 78.]],\n",
              "\n",
              "       [[20., 52.,  7., 16.],\n",
              "        [99., 12., 99., 59.],\n",
              "        [47., 36., 15.,  8.],\n",
              "        [10., 80., 45., 74.],\n",
              "        [24., 30.,  1.,  7.]],\n",
              "\n",
              "       [[35., 11., 87., 13.],\n",
              "        [ 7., 71., 55., 99.],\n",
              "        [96., 57., 21., 90.],\n",
              "        [78., 26.,  8., 87.],\n",
              "        [66., 13., 84., 47.]]])>"
            ]
          },
          "metadata": {},
          "execution_count": 156
        }
      ]
    },
    {
      "cell_type": "code",
      "source": [
        "E_axis0 = tf.reduce_mean(E, axis=0) # (18+11+22)/3\n",
        "E_axis1 = tf.reduce_mean(E, axis=1) # ()\n",
        "E_axis2 = tf.reduce_mean(E, axis=2)\n",
        "\n",
        "E_axis0, E_axis1, E_axis2"
      ],
      "metadata": {
        "colab": {
          "base_uri": "https://localhost:8080/"
        },
        "id": "kw4SF1RZ1Bor",
        "outputId": "4df5e016-8b36-4ba7-b3f8-e340a68e03be"
      },
      "execution_count": null,
      "outputs": [
        {
          "output_type": "execute_result",
          "data": {
            "text/plain": [
              "(<tf.Tensor: shape=(5, 4), dtype=float64, numpy=\n",
              " array([[21.66666667, 44.        , 36.66666667, 34.        ],\n",
              "        [59.66666667, 48.        , 55.33333333, 77.66666667],\n",
              "        [71.66666667, 40.33333333, 25.33333333, 32.66666667],\n",
              "        [53.66666667, 46.        , 32.        , 63.33333333],\n",
              "        [31.33333333, 35.        , 40.        , 44.        ]])>,\n",
              " <tf.Tensor: shape=(3, 4), dtype=float64, numpy=\n",
              " array([[46.4, 50.4, 29.2, 51. ],\n",
              "        [40. , 42. , 33.4, 32.8],\n",
              "        [56.4, 35.6, 51. , 67.2]])>,\n",
              " <tf.Tensor: shape=(3, 5), dtype=float64, numpy=\n",
              " array([[42.  , 55.25, 35.  , 44.25, 44.75],\n",
              "        [23.75, 67.25, 26.5 , 52.25, 15.5 ],\n",
              "        [36.5 , 58.  , 66.  , 49.75, 52.5 ]])>)"
            ]
          },
          "metadata": {},
          "execution_count": 157
        }
      ]
    },
    {
      "cell_type": "markdown",
      "source": [
        "## Finding the positional maximum and minimum\n"
      ],
      "metadata": {
        "id": "vDdkfmF91yEw"
      }
    },
    {
      "cell_type": "code",
      "source": [
        "F = tf.constant(np.random.random(50))\n",
        "F"
      ],
      "metadata": {
        "colab": {
          "base_uri": "https://localhost:8080/"
        },
        "id": "lOhP21vq6Qur",
        "outputId": "a1ceb22f-4296-45c6-ee76-5db48fbabdc4"
      },
      "execution_count": null,
      "outputs": [
        {
          "output_type": "execute_result",
          "data": {
            "text/plain": [
              "<tf.Tensor: shape=(50,), dtype=float64, numpy=\n",
              "array([0.16694846, 0.11246291, 0.2157042 , 0.85351103, 0.45343434,\n",
              "       0.44238408, 0.68007727, 0.13519493, 0.80283949, 0.79213434,\n",
              "       0.23541756, 0.41072797, 0.66816796, 0.42159491, 0.29797587,\n",
              "       0.43931116, 0.7184465 , 0.60154204, 0.16094442, 0.75917822,\n",
              "       0.2723495 , 0.34242086, 0.81204615, 0.6691134 , 0.86787867,\n",
              "       0.89318645, 0.15617942, 0.16567609, 0.47325248, 0.53754929,\n",
              "       0.9099251 , 0.29823386, 0.75767156, 0.1261189 , 0.37346231,\n",
              "       0.97969197, 0.53447504, 0.57946265, 0.39148165, 0.68626431,\n",
              "       0.62799923, 0.52195167, 0.05014026, 0.21812293, 0.59667739,\n",
              "       0.95262214, 0.20146776, 0.81030017, 0.67317155, 0.25511877])>"
            ]
          },
          "metadata": {},
          "execution_count": 158
        }
      ]
    },
    {
      "cell_type": "code",
      "source": [
        "tf.argmax(F)"
      ],
      "metadata": {
        "colab": {
          "base_uri": "https://localhost:8080/"
        },
        "id": "7runD5kh6VBJ",
        "outputId": "e52f58e8-de0e-4646-8733-1f732ceb2551"
      },
      "execution_count": null,
      "outputs": [
        {
          "output_type": "execute_result",
          "data": {
            "text/plain": [
              "<tf.Tensor: shape=(), dtype=int64, numpy=35>"
            ]
          },
          "metadata": {},
          "execution_count": 159
        }
      ]
    },
    {
      "cell_type": "code",
      "source": [
        "F = tf.reshape(F, shape=(10,5))\n",
        "F"
      ],
      "metadata": {
        "colab": {
          "base_uri": "https://localhost:8080/"
        },
        "id": "bdWyyyLJ6XAa",
        "outputId": "97efde81-29fc-4b64-e1ef-381313031c87"
      },
      "execution_count": null,
      "outputs": [
        {
          "output_type": "execute_result",
          "data": {
            "text/plain": [
              "<tf.Tensor: shape=(10, 5), dtype=float64, numpy=\n",
              "array([[0.16694846, 0.11246291, 0.2157042 , 0.85351103, 0.45343434],\n",
              "       [0.44238408, 0.68007727, 0.13519493, 0.80283949, 0.79213434],\n",
              "       [0.23541756, 0.41072797, 0.66816796, 0.42159491, 0.29797587],\n",
              "       [0.43931116, 0.7184465 , 0.60154204, 0.16094442, 0.75917822],\n",
              "       [0.2723495 , 0.34242086, 0.81204615, 0.6691134 , 0.86787867],\n",
              "       [0.89318645, 0.15617942, 0.16567609, 0.47325248, 0.53754929],\n",
              "       [0.9099251 , 0.29823386, 0.75767156, 0.1261189 , 0.37346231],\n",
              "       [0.97969197, 0.53447504, 0.57946265, 0.39148165, 0.68626431],\n",
              "       [0.62799923, 0.52195167, 0.05014026, 0.21812293, 0.59667739],\n",
              "       [0.95262214, 0.20146776, 0.81030017, 0.67317155, 0.25511877]])>"
            ]
          },
          "metadata": {},
          "execution_count": 162
        }
      ]
    },
    {
      "cell_type": "code",
      "source": [
        "tf.argmax(F, axis=0), tf.argmax(F, axis=1)"
      ],
      "metadata": {
        "colab": {
          "base_uri": "https://localhost:8080/"
        },
        "id": "8a4z4t8I6oZe",
        "outputId": "2c1e6462-397c-422d-e7f4-edbae8067aa0"
      },
      "execution_count": null,
      "outputs": [
        {
          "output_type": "execute_result",
          "data": {
            "text/plain": [
              "(<tf.Tensor: shape=(5,), dtype=int64, numpy=array([7, 3, 4, 0, 4])>,\n",
              " <tf.Tensor: shape=(10,), dtype=int64, numpy=array([3, 3, 2, 4, 4, 0, 0, 0, 0, 0])>)"
            ]
          },
          "metadata": {},
          "execution_count": 165
        }
      ]
    },
    {
      "cell_type": "code",
      "source": [
        "tf.argmin(F, axis=0), tf.argmin(F, axis=1)"
      ],
      "metadata": {
        "colab": {
          "base_uri": "https://localhost:8080/"
        },
        "id": "PWLUP1fb6xYl",
        "outputId": "f3d2e3dc-090c-4481-91b8-b3feb353bea0"
      },
      "execution_count": null,
      "outputs": [
        {
          "output_type": "execute_result",
          "data": {
            "text/plain": [
              "(<tf.Tensor: shape=(5,), dtype=int64, numpy=array([0, 0, 8, 6, 9])>,\n",
              " <tf.Tensor: shape=(10,), dtype=int64, numpy=array([1, 2, 0, 3, 0, 1, 3, 3, 2, 1])>)"
            ]
          },
          "metadata": {},
          "execution_count": 166
        }
      ]
    },
    {
      "cell_type": "code",
      "source": [
        "tf.argmax(F).numpy()"
      ],
      "metadata": {
        "colab": {
          "base_uri": "https://localhost:8080/"
        },
        "id": "bg2LqMo77CUn",
        "outputId": "e798b535-a014-4144-fc0f-de397f4bcfaa"
      },
      "execution_count": null,
      "outputs": [
        {
          "output_type": "execute_result",
          "data": {
            "text/plain": [
              "array([7, 3, 4, 0, 4])"
            ]
          },
          "metadata": {},
          "execution_count": 167
        }
      ]
    },
    {
      "cell_type": "code",
      "source": [
        "# Find the maximum element of position F\n",
        "print(f\"The maximum of F is at position {tf.argmax(F,axis=0).numpy()}\")\n",
        "print(f\"The maximum value of F is: {tf.reduce_max(F,axis=0)}\")"
      ],
      "metadata": {
        "colab": {
          "base_uri": "https://localhost:8080/"
        },
        "id": "ayIkoXGBL0lL",
        "outputId": "3061a90a-19e9-4407-d0a9-0128aee7162e"
      },
      "execution_count": null,
      "outputs": [
        {
          "output_type": "stream",
          "name": "stdout",
          "text": [
            "The maximum of F is at position [7 3 4 0 4]\n",
            "The maximum value of F is: [0.97969197 0.7184465  0.81204615 0.85351103 0.86787867]\n"
          ]
        }
      ]
    },
    {
      "cell_type": "code",
      "source": [
        "tf.reshape(F, shape=(1,50))"
      ],
      "metadata": {
        "colab": {
          "base_uri": "https://localhost:8080/"
        },
        "id": "IEGxiYdiMYk1",
        "outputId": "2aeef61c-15bb-4719-baa1-8b1b5e36f0db"
      },
      "execution_count": null,
      "outputs": [
        {
          "output_type": "execute_result",
          "data": {
            "text/plain": [
              "<tf.Tensor: shape=(1, 50), dtype=float64, numpy=\n",
              "array([[0.16694846, 0.11246291, 0.2157042 , 0.85351103, 0.45343434,\n",
              "        0.44238408, 0.68007727, 0.13519493, 0.80283949, 0.79213434,\n",
              "        0.23541756, 0.41072797, 0.66816796, 0.42159491, 0.29797587,\n",
              "        0.43931116, 0.7184465 , 0.60154204, 0.16094442, 0.75917822,\n",
              "        0.2723495 , 0.34242086, 0.81204615, 0.6691134 , 0.86787867,\n",
              "        0.89318645, 0.15617942, 0.16567609, 0.47325248, 0.53754929,\n",
              "        0.9099251 , 0.29823386, 0.75767156, 0.1261189 , 0.37346231,\n",
              "        0.97969197, 0.53447504, 0.57946265, 0.39148165, 0.68626431,\n",
              "        0.62799923, 0.52195167, 0.05014026, 0.21812293, 0.59667739,\n",
              "        0.95262214, 0.20146776, 0.81030017, 0.67317155, 0.25511877]])>"
            ]
          },
          "metadata": {},
          "execution_count": 175
        }
      ]
    },
    {
      "cell_type": "markdown",
      "source": [
        "## Squeezing a tensor"
      ],
      "metadata": {
        "id": "469M4raONBbY"
      }
    },
    {
      "cell_type": "code",
      "source": [
        "G = tf.constant(np.random.randint(low=0, high=100, size=50), shape=(1,1,1,1,50))\n",
        "G"
      ],
      "metadata": {
        "colab": {
          "base_uri": "https://localhost:8080/"
        },
        "id": "ttt_JYNTNUfm",
        "outputId": "37d7e47e-a464-48d2-c769-60f85d9bb14a"
      },
      "execution_count": null,
      "outputs": [
        {
          "output_type": "execute_result",
          "data": {
            "text/plain": [
              "<tf.Tensor: shape=(1, 1, 1, 1, 50), dtype=int64, numpy=\n",
              "array([[[[[98, 20, 79, 39, 39, 31, 75, 40, 34, 48,  2, 49, 56, 56, 90,\n",
              "           66, 36, 90, 32, 44, 90, 49, 47,  8, 81, 92, 37, 88, 92, 58,\n",
              "           32,  3, 99, 15, 47, 23, 87, 22, 61, 12, 46, 22, 99, 49, 63,\n",
              "           39, 33, 32, 27, 48]]]]])>"
            ]
          },
          "metadata": {},
          "execution_count": 209
        }
      ]
    },
    {
      "cell_type": "code",
      "source": [
        "# remove all dimension to 1\n",
        "G_squeezed = tf.squeeze(G)\n",
        "G_squeezed, G_squeezed.shape"
      ],
      "metadata": {
        "colab": {
          "base_uri": "https://localhost:8080/"
        },
        "id": "yJep3LHNNm9p",
        "outputId": "6e7036ab-9940-4d42-e0cb-81f6929f7c18"
      },
      "execution_count": null,
      "outputs": [
        {
          "output_type": "execute_result",
          "data": {
            "text/plain": [
              "(<tf.Tensor: shape=(50,), dtype=int64, numpy=\n",
              " array([98, 20, 79, 39, 39, 31, 75, 40, 34, 48,  2, 49, 56, 56, 90, 66, 36,\n",
              "        90, 32, 44, 90, 49, 47,  8, 81, 92, 37, 88, 92, 58, 32,  3, 99, 15,\n",
              "        47, 23, 87, 22, 61, 12, 46, 22, 99, 49, 63, 39, 33, 32, 27, 48])>,\n",
              " TensorShape([50]))"
            ]
          },
          "metadata": {},
          "execution_count": 210
        }
      ]
    },
    {
      "cell_type": "code",
      "source": [
        "G = tf.constant(np.random.randint(low=0, high=100, size=50), shape=(1,1,1,1,50))\n",
        "G = tf.reshape(G, -1)\n",
        "G, G.shape "
      ],
      "metadata": {
        "colab": {
          "base_uri": "https://localhost:8080/"
        },
        "id": "UKsNN7YZNvi4",
        "outputId": "fc0dd41b-2572-437e-b7c0-3b7b2d25677c"
      },
      "execution_count": null,
      "outputs": [
        {
          "output_type": "execute_result",
          "data": {
            "text/plain": [
              "(<tf.Tensor: shape=(50,), dtype=int64, numpy=\n",
              " array([60, 22, 60, 93, 54, 79, 70, 65, 89, 25, 42, 78, 82, 28, 28, 12, 97,\n",
              "        33, 77, 55, 51, 86, 69,  5, 96,  5, 86, 42, 51, 27, 74, 33, 41, 88,\n",
              "        95, 14, 38, 24, 93, 23, 41, 48, 21, 95,  9, 90, 31, 68,  2,  7])>,\n",
              " TensorShape([50]))"
            ]
          },
          "metadata": {},
          "execution_count": 212
        }
      ]
    },
    {
      "cell_type": "markdown",
      "source": [
        "## One-hot encoding"
      ],
      "metadata": {
        "id": "5tXJBoRgOT72"
      }
    },
    {
      "cell_type": "code",
      "source": [
        "some_list = [2,3,1,2]\n",
        "tf.one_hot(some_list, depth=4)"
      ],
      "metadata": {
        "colab": {
          "base_uri": "https://localhost:8080/"
        },
        "id": "3symZpjXRQtz",
        "outputId": "f46a6006-20c0-4adc-9ad8-168404983801"
      },
      "execution_count": null,
      "outputs": [
        {
          "output_type": "execute_result",
          "data": {
            "text/plain": [
              "<tf.Tensor: shape=(4, 4), dtype=float32, numpy=\n",
              "array([[0., 0., 1., 0.],\n",
              "       [0., 0., 0., 1.],\n",
              "       [0., 1., 0., 0.],\n",
              "       [0., 0., 1., 0.]], dtype=float32)>"
            ]
          },
          "metadata": {},
          "execution_count": 215
        }
      ]
    },
    {
      "cell_type": "code",
      "source": [
        "tf.one_hot(some_list, depth=4, on_value=\"we're live!\", off_value=\"offine\")"
      ],
      "metadata": {
        "colab": {
          "base_uri": "https://localhost:8080/"
        },
        "id": "iJ6Q8RqZRUPE",
        "outputId": "332f2ff4-a2de-4746-db85-1c84c28b75a6"
      },
      "execution_count": null,
      "outputs": [
        {
          "output_type": "execute_result",
          "data": {
            "text/plain": [
              "<tf.Tensor: shape=(4, 4), dtype=string, numpy=\n",
              "array([[b'offine', b'offine', b\"we're live!\", b'offine'],\n",
              "       [b'offine', b'offine', b'offine', b\"we're live!\"],\n",
              "       [b'offine', b\"we're live!\", b'offine', b'offine'],\n",
              "       [b'offine', b'offine', b\"we're live!\", b'offine']], dtype=object)>"
            ]
          },
          "metadata": {},
          "execution_count": 216
        }
      ]
    },
    {
      "cell_type": "markdown",
      "source": [
        "## Square root"
      ],
      "metadata": {
        "id": "owpmVcf8RocT"
      }
    },
    {
      "cell_type": "code",
      "source": [
        "H = tf.constant(np.arange(1,10))\n",
        "H"
      ],
      "metadata": {
        "colab": {
          "base_uri": "https://localhost:8080/"
        },
        "id": "0L2Yg-RGRvP_",
        "outputId": "61ee0133-1359-4be7-a8b7-f9813330e240"
      },
      "execution_count": null,
      "outputs": [
        {
          "output_type": "execute_result",
          "data": {
            "text/plain": [
              "<tf.Tensor: shape=(9,), dtype=int64, numpy=array([1, 2, 3, 4, 5, 6, 7, 8, 9])>"
            ]
          },
          "metadata": {},
          "execution_count": 228
        }
      ]
    },
    {
      "cell_type": "code",
      "source": [
        "tf.square(H)\n"
      ],
      "metadata": {
        "colab": {
          "base_uri": "https://localhost:8080/"
        },
        "id": "g28WMetVRyuS",
        "outputId": "af03eb89-a367-4d16-9569-df073eb34c75"
      },
      "execution_count": null,
      "outputs": [
        {
          "output_type": "execute_result",
          "data": {
            "text/plain": [
              "<tf.Tensor: shape=(9,), dtype=int64, numpy=array([ 1,  4,  9, 16, 25, 36, 49, 64, 81])>"
            ]
          },
          "metadata": {},
          "execution_count": 229
        }
      ]
    },
    {
      "cell_type": "code",
      "source": [
        "H = tf.cast(H, dtype=\"float64\")\n",
        "tf.sqrt(H)"
      ],
      "metadata": {
        "colab": {
          "base_uri": "https://localhost:8080/"
        },
        "id": "vnQVnbacSA6I",
        "outputId": "e1e2bc37-d2f2-4497-d7df-48e19772642a"
      },
      "execution_count": null,
      "outputs": [
        {
          "output_type": "execute_result",
          "data": {
            "text/plain": [
              "<tf.Tensor: shape=(9,), dtype=float64, numpy=\n",
              "array([1.        , 1.41421356, 1.73205081, 2.        , 2.23606798,\n",
              "       2.44948974, 2.64575131, 2.82842712, 3.        ])>"
            ]
          },
          "metadata": {},
          "execution_count": 232
        }
      ]
    },
    {
      "cell_type": "markdown",
      "source": [
        "# Exercise\n"
      ],
      "metadata": {
        "id": "CtFaV1dESCXK"
      }
    },
    {
      "cell_type": "code",
      "source": [
        "# 1. Create a vector, scalar, matrix\n",
        "vector = tf.constant([1])\n",
        "scalar = tf.constant([1,2])\n",
        "matrix = tf.constant([[1,2],[3,4]])\n",
        "\n",
        "vector, scalar, matrix"
      ],
      "metadata": {
        "colab": {
          "base_uri": "https://localhost:8080/"
        },
        "id": "ex1pq76ySk_d",
        "outputId": "d7f08941-c79b-4da0-cc5b-bd0b43f0b70d"
      },
      "execution_count": null,
      "outputs": [
        {
          "output_type": "execute_result",
          "data": {
            "text/plain": [
              "(<tf.Tensor: shape=(1,), dtype=int32, numpy=array([1], dtype=int32)>,\n",
              " <tf.Tensor: shape=(2,), dtype=int32, numpy=array([1, 2], dtype=int32)>,\n",
              " <tf.Tensor: shape=(2, 2), dtype=int32, numpy=\n",
              " array([[1, 2],\n",
              "        [3, 4]], dtype=int32)>)"
            ]
          },
          "metadata": {},
          "execution_count": 241
        }
      ]
    },
    {
      "cell_type": "code",
      "source": [
        "# 2. Find shape, rank, size\n",
        "vector.shape, scalar.ndim, tf.size(matrix)"
      ],
      "metadata": {
        "colab": {
          "base_uri": "https://localhost:8080/"
        },
        "id": "Cy1AMLNhSzye",
        "outputId": "cf85c16f-f33a-47a4-dfe6-857efcf6c596"
      },
      "execution_count": null,
      "outputs": [
        {
          "output_type": "execute_result",
          "data": {
            "text/plain": [
              "(TensorShape([1]), 1, <tf.Tensor: shape=(), dtype=int32, numpy=4>)"
            ]
          },
          "metadata": {},
          "execution_count": 242
        }
      ]
    },
    {
      "cell_type": "code",
      "source": [
        "vector.ndim, scalar.ndim, matrix.ndim"
      ],
      "metadata": {
        "colab": {
          "base_uri": "https://localhost:8080/"
        },
        "id": "XXHCPi8bTBXy",
        "outputId": "26c31708-ec28-4874-ebdc-b4068129127d"
      },
      "execution_count": null,
      "outputs": [
        {
          "output_type": "execute_result",
          "data": {
            "text/plain": [
              "(1, 1, 2)"
            ]
          },
          "metadata": {},
          "execution_count": 247
        }
      ]
    },
    {
      "cell_type": "code",
      "source": [
        "tf.size(vector), tf.size(scalar), tf.size(matrix)"
      ],
      "metadata": {
        "colab": {
          "base_uri": "https://localhost:8080/"
        },
        "id": "SjqVvqssTSLy",
        "outputId": "38409a27-5446-4fcd-ffd7-26ec8da0d495"
      },
      "execution_count": null,
      "outputs": [
        {
          "output_type": "execute_result",
          "data": {
            "text/plain": [
              "(<tf.Tensor: shape=(), dtype=int32, numpy=1>,\n",
              " <tf.Tensor: shape=(), dtype=int32, numpy=2>,\n",
              " <tf.Tensor: shape=(), dtype=int32, numpy=4>)"
            ]
          },
          "metadata": {},
          "execution_count": 245
        }
      ]
    },
    {
      "cell_type": "code",
      "source": [
        "# 3. Create two tensors containing random value between 0,1 with shape [5,300]\n",
        "a = tf.constant(np.random.rand(5,300))\n",
        "a, a.shape"
      ],
      "metadata": {
        "colab": {
          "base_uri": "https://localhost:8080/"
        },
        "id": "FGUMcGlETeSK",
        "outputId": "339be45f-c858-4ae9-b189-23a168082654"
      },
      "execution_count": null,
      "outputs": [
        {
          "output_type": "execute_result",
          "data": {
            "text/plain": [
              "(<tf.Tensor: shape=(5, 300), dtype=float64, numpy=\n",
              " array([[0.52856741, 0.60974023, 0.7038834 , ..., 0.81912485, 0.21029401,\n",
              "         0.99342345],\n",
              "        [0.67176742, 0.93997237, 0.04780383, ..., 0.99779281, 0.3489504 ,\n",
              "         0.95077694],\n",
              "        [0.60213919, 0.87600895, 0.88416478, ..., 0.3357351 , 0.83128303,\n",
              "         0.19538304],\n",
              "        [0.50189335, 0.75121687, 0.95135167, ..., 0.71857672, 0.88669128,\n",
              "         0.7536697 ],\n",
              "        [0.93582634, 0.92968822, 0.558018  , ..., 0.14722546, 0.31735673,\n",
              "         0.45383115]])>, TensorShape([5, 300]))"
            ]
          },
          "metadata": {},
          "execution_count": 252
        }
      ]
    },
    {
      "cell_type": "code",
      "source": [
        "# 6. Create a tensor with random values between 0 and 1 with shape [224,224,3]\n",
        "z = tf.constant(np.random.rand(224,224,3))\n",
        "z[0:10]"
      ],
      "metadata": {
        "colab": {
          "base_uri": "https://localhost:8080/"
        },
        "id": "KEDLxhUcU850",
        "outputId": "03897c5a-1bed-4efd-b5a1-896a91caddec"
      },
      "execution_count": null,
      "outputs": [
        {
          "output_type": "execute_result",
          "data": {
            "text/plain": [
              "<tf.Tensor: shape=(10, 224, 3), dtype=float64, numpy=\n",
              "array([[[0.32169825, 0.86773647, 0.28392285],\n",
              "        [0.37040961, 0.48648149, 0.9093998 ],\n",
              "        [0.44660866, 0.40307768, 0.1288615 ],\n",
              "        ...,\n",
              "        [0.03466701, 0.20051564, 0.60016472],\n",
              "        [0.99441051, 0.81157415, 0.22896624],\n",
              "        [0.55314549, 0.52558598, 0.95991399]],\n",
              "\n",
              "       [[0.95787374, 0.14887509, 0.31825795],\n",
              "        [0.72141881, 0.59207271, 0.01200287],\n",
              "        [0.71373551, 0.77024249, 0.37450545],\n",
              "        ...,\n",
              "        [0.20773759, 0.76625002, 0.70980482],\n",
              "        [0.78102957, 0.4086841 , 0.35169886],\n",
              "        [0.11747313, 0.42512098, 0.71125958]],\n",
              "\n",
              "       [[0.71132483, 0.13434274, 0.63691545],\n",
              "        [0.81897707, 0.74463082, 0.01246067],\n",
              "        [0.70283225, 0.55956801, 0.50671113],\n",
              "        ...,\n",
              "        [0.74272298, 0.24938272, 0.45463357],\n",
              "        [0.88607449, 0.40895892, 0.87491911],\n",
              "        [0.80287462, 0.70238652, 0.44410349]],\n",
              "\n",
              "       ...,\n",
              "\n",
              "       [[0.21540329, 0.43667639, 0.73742811],\n",
              "        [0.67935388, 0.74657955, 0.46256809],\n",
              "        [0.05639615, 0.55702163, 0.61800504],\n",
              "        ...,\n",
              "        [0.55755305, 0.86324067, 0.73947087],\n",
              "        [0.260973  , 0.49656077, 0.8892142 ],\n",
              "        [0.4316765 , 0.93431249, 0.90837723]],\n",
              "\n",
              "       [[0.89729873, 0.11345177, 0.12004969],\n",
              "        [0.84479082, 0.35059837, 0.38069357],\n",
              "        [0.57573218, 0.46172569, 0.9169012 ],\n",
              "        ...,\n",
              "        [0.63013602, 0.69945119, 0.47011239],\n",
              "        [0.09523452, 0.76318991, 0.60656507],\n",
              "        [0.82166199, 0.90665588, 0.54095646]],\n",
              "\n",
              "       [[0.33904807, 0.03817113, 0.48762339],\n",
              "        [0.04149428, 0.4084005 , 0.98335157],\n",
              "        [0.7165953 , 0.61587729, 0.53914878],\n",
              "        ...,\n",
              "        [0.43573388, 0.28281573, 0.8796579 ],\n",
              "        [0.0015837 , 0.41628588, 0.78563092],\n",
              "        [0.97441108, 0.07780877, 0.1902448 ]]])>"
            ]
          },
          "metadata": {},
          "execution_count": 272
        }
      ]
    },
    {
      "cell_type": "code",
      "source": [
        "tf.argmax(z, axis=1)"
      ],
      "metadata": {
        "colab": {
          "base_uri": "https://localhost:8080/"
        },
        "id": "BFtf0SZJV9Bd",
        "outputId": "58403fe4-bf37-4a14-d5f0-d62f9cdc2265"
      },
      "execution_count": null,
      "outputs": [
        {
          "output_type": "execute_result",
          "data": {
            "text/plain": [
              "<tf.Tensor: shape=(224, 3), dtype=int64, numpy=\n",
              "array([[222,  88,  57],\n",
              "       [ 16, 121, 142],\n",
              "       [150, 106,  97],\n",
              "       [159, 142, 203],\n",
              "       [137, 217,  50],\n",
              "       [ 55,  47,  53],\n",
              "       [ 70, 144,  60],\n",
              "       [ 11, 220, 146],\n",
              "       [127, 188, 105],\n",
              "       [168,  77, 190],\n",
              "       [ 22, 204,  81],\n",
              "       [115,   7,  89],\n",
              "       [  3, 131, 104],\n",
              "       [216, 214,  67],\n",
              "       [200, 164, 145],\n",
              "       [ 59, 164,  26],\n",
              "       [138,  13, 128],\n",
              "       [187,  53,  31],\n",
              "       [179, 130,  98],\n",
              "       [213,  37,  25],\n",
              "       [ 51,  56, 181],\n",
              "       [213, 215,  52],\n",
              "       [ 79,  40,  73],\n",
              "       [202,  31, 123],\n",
              "       [121,  43, 116],\n",
              "       [ 61, 159, 223],\n",
              "       [ 47,  55,  24],\n",
              "       [213,  34, 222],\n",
              "       [181,  18,  62],\n",
              "       [174,  83,   2],\n",
              "       [114,  18,  47],\n",
              "       [ 60,  61,  97],\n",
              "       [ 25,  85,  50],\n",
              "       [134, 111,  50],\n",
              "       [171, 194,   1],\n",
              "       [105, 149,  92],\n",
              "       [ 48,  13, 148],\n",
              "       [222,   2,  18],\n",
              "       [211,  86, 196],\n",
              "       [ 57, 181, 181],\n",
              "       [113, 114,  65],\n",
              "       [196, 110,  63],\n",
              "       [ 18,  51,   5],\n",
              "       [141, 123, 196],\n",
              "       [166,  58, 219],\n",
              "       [ 36, 191, 103],\n",
              "       [ 48,  61,  46],\n",
              "       [128, 171, 137],\n",
              "       [ 90, 122, 180],\n",
              "       [110,  97, 203],\n",
              "       [ 56,  63,  50],\n",
              "       [  4,  34,  79],\n",
              "       [ 51, 109, 212],\n",
              "       [137,  88,  36],\n",
              "       [158,  29, 205],\n",
              "       [ 37,  33,  41],\n",
              "       [ 19,  83, 113],\n",
              "       [106,  72, 119],\n",
              "       [186, 101, 201],\n",
              "       [173,  12,   5],\n",
              "       [131,  95,  58],\n",
              "       [127, 196,  53],\n",
              "       [ 40, 128,  90],\n",
              "       [117, 153, 120],\n",
              "       [156, 168,  41],\n",
              "       [ 43,  36,  32],\n",
              "       [ 99, 199, 103],\n",
              "       [145, 212,  97],\n",
              "       [ 90,  99, 146],\n",
              "       [116, 172, 149],\n",
              "       [ 44,  18, 172],\n",
              "       [121,  42, 178],\n",
              "       [222, 200,  42],\n",
              "       [171, 163, 161],\n",
              "       [ 46,  67,  80],\n",
              "       [130,  38, 118],\n",
              "       [163, 141, 138],\n",
              "       [201, 196,  27],\n",
              "       [166, 123, 153],\n",
              "       [ 95, 220, 106],\n",
              "       [158,  88, 105],\n",
              "       [ 83, 115, 115],\n",
              "       [115,  37, 110],\n",
              "       [ 73, 166, 131],\n",
              "       [ 66,  68, 158],\n",
              "       [ 80, 133, 125],\n",
              "       [219,  86,  72],\n",
              "       [ 90, 140,  31],\n",
              "       [188, 143,  12],\n",
              "       [ 38,   7, 222],\n",
              "       [ 45,  89, 213],\n",
              "       [221, 150, 186],\n",
              "       [ 30, 146,  84],\n",
              "       [188, 120, 170],\n",
              "       [168, 212,  58],\n",
              "       [ 31, 185, 194],\n",
              "       [145,  45, 179],\n",
              "       [ 64,   2, 128],\n",
              "       [151,  53,  12],\n",
              "       [ 28, 220, 170],\n",
              "       [ 93, 167, 132],\n",
              "       [ 67, 122, 103],\n",
              "       [121, 188,  91],\n",
              "       [186,  79, 175],\n",
              "       [109, 104,  89],\n",
              "       [ 48, 129, 173],\n",
              "       [218,   9, 177],\n",
              "       [ 12,  70, 221],\n",
              "       [  0,  92, 186],\n",
              "       [115,  50, 162],\n",
              "       [ 98, 161, 127],\n",
              "       [  5,  57, 193],\n",
              "       [121, 149,  70],\n",
              "       [ 53,  24, 167],\n",
              "       [200, 117,  20],\n",
              "       [141, 185,   8],\n",
              "       [185, 205, 116],\n",
              "       [ 81,  49, 180],\n",
              "       [167,  12,  95],\n",
              "       [210,  90, 111],\n",
              "       [ 36, 108, 167],\n",
              "       [160, 174,  48],\n",
              "       [ 27, 178, 175],\n",
              "       [ 44,  70,  42],\n",
              "       [  5,  55, 188],\n",
              "       [191, 119, 174],\n",
              "       [211, 143, 160],\n",
              "       [100,  82,  81],\n",
              "       [198,  90,   0],\n",
              "       [112, 105,  51],\n",
              "       [  7,  33, 165],\n",
              "       [104, 194,  98],\n",
              "       [ 23, 136, 102],\n",
              "       [141, 141, 204],\n",
              "       [191, 206,  83],\n",
              "       [188,  59,   7],\n",
              "       [163,  53, 180],\n",
              "       [151, 151,  21],\n",
              "       [195, 192, 148],\n",
              "       [ 74,  68, 157],\n",
              "       [ 64, 217,  75],\n",
              "       [ 73,  33,  42],\n",
              "       [186,  78, 136],\n",
              "       [172,  81, 194],\n",
              "       [178,  24,  94],\n",
              "       [ 90, 163, 130],\n",
              "       [ 77, 187, 137],\n",
              "       [151,  88,  12],\n",
              "       [154, 135,  63],\n",
              "       [183, 100, 111],\n",
              "       [181, 152, 159],\n",
              "       [171,   6, 135],\n",
              "       [193,  63,  84],\n",
              "       [ 98, 151,  60],\n",
              "       [177, 157,  32],\n",
              "       [ 65, 150,  31],\n",
              "       [184,   3,  42],\n",
              "       [ 52, 199,  31],\n",
              "       [112, 199, 184],\n",
              "       [157,  31, 203],\n",
              "       [214,   2, 100],\n",
              "       [205,  24, 126],\n",
              "       [130,  93,   2],\n",
              "       [150,  80, 127],\n",
              "       [183,  10,  77],\n",
              "       [162, 207, 175],\n",
              "       [223,  32, 159],\n",
              "       [ 68, 214,  11],\n",
              "       [  0, 163,  66],\n",
              "       [ 61, 196, 214],\n",
              "       [135,   7,  75],\n",
              "       [152,   5,  73],\n",
              "       [146, 128, 120],\n",
              "       [ 27,  70, 117],\n",
              "       [138, 201,  27],\n",
              "       [153,  97,  81],\n",
              "       [ 68, 215, 123],\n",
              "       [ 90,  30, 199],\n",
              "       [ 41,  44,  69],\n",
              "       [206,  68, 160],\n",
              "       [ 66, 147,  86],\n",
              "       [ 64,  70, 195],\n",
              "       [  9,  65, 168],\n",
              "       [135,  98,  11],\n",
              "       [134,  38,  72],\n",
              "       [194, 134, 207],\n",
              "       [150,  98,  12],\n",
              "       [156,   7, 196],\n",
              "       [ 40, 191,  95],\n",
              "       [114,   2, 175],\n",
              "       [ 91,  17, 131],\n",
              "       [ 78, 105,  76],\n",
              "       [141, 173,  77],\n",
              "       [107,  97, 189],\n",
              "       [169, 186, 196],\n",
              "       [ 65, 214,  19],\n",
              "       [158, 191,  15],\n",
              "       [ 79,  77, 170],\n",
              "       [208,  55, 148],\n",
              "       [ 75,  69, 198],\n",
              "       [135, 137,  21],\n",
              "       [ 71,  53, 104],\n",
              "       [221, 150,  38],\n",
              "       [188,   3,  55],\n",
              "       [ 22, 166,  20],\n",
              "       [213,  24, 158],\n",
              "       [117,  39,  35],\n",
              "       [ 86,  65, 191],\n",
              "       [ 69, 202,  30],\n",
              "       [ 13, 136, 185],\n",
              "       [138, 182, 127],\n",
              "       [177, 148,  66],\n",
              "       [149,  33, 104],\n",
              "       [129, 199, 220],\n",
              "       [215, 109,  51],\n",
              "       [135,  14, 164],\n",
              "       [ 69,   8, 204],\n",
              "       [137, 183, 107],\n",
              "       [158,  91, 133],\n",
              "       [106,  50, 115],\n",
              "       [223, 206,  13],\n",
              "       [195, 118,  87],\n",
              "       [155, 160,  28],\n",
              "       [159,  11,  34]])>"
            ]
          },
          "metadata": {},
          "execution_count": 277
        }
      ]
    },
    {
      "cell_type": "code",
      "source": [
        "# 8. Created a tensor with random value of shape [1, 224, 224, 3]\n",
        "a = tf.constant(np.random.randint(0, 100, 150528), shape=(1,224,224,3))\n",
        "tf.reshape(a, shape=(224,224,3))"
      ],
      "metadata": {
        "colab": {
          "base_uri": "https://localhost:8080/"
        },
        "id": "aNJJ9sjnTtxD",
        "outputId": "192c889e-b0ee-4612-bca5-5b44e815f6e6"
      },
      "execution_count": null,
      "outputs": [
        {
          "output_type": "execute_result",
          "data": {
            "text/plain": [
              "<tf.Tensor: shape=(224, 224, 3), dtype=int64, numpy=\n",
              "array([[[18, 12, 10],\n",
              "        [31, 31, 10],\n",
              "        [29, 76, 67],\n",
              "        ...,\n",
              "        [69, 56, 69],\n",
              "        [86, 30, 45],\n",
              "        [83, 53, 64]],\n",
              "\n",
              "       [[18, 21,  1],\n",
              "        [48, 59, 80],\n",
              "        [ 0, 72, 49],\n",
              "        ...,\n",
              "        [61, 27,  7],\n",
              "        [79, 90, 61],\n",
              "        [60, 50, 68]],\n",
              "\n",
              "       [[18, 73, 39],\n",
              "        [17, 98, 11],\n",
              "        [74, 73, 39],\n",
              "        ...,\n",
              "        [77, 65,  2],\n",
              "        [33, 96, 12],\n",
              "        [ 8,  1, 79]],\n",
              "\n",
              "       ...,\n",
              "\n",
              "       [[53,  1, 47],\n",
              "        [18, 77,  1],\n",
              "        [94, 57, 67],\n",
              "        ...,\n",
              "        [40, 86, 45],\n",
              "        [39, 15, 78],\n",
              "        [35, 81,  4]],\n",
              "\n",
              "       [[68,  1, 93],\n",
              "        [ 4, 30, 29],\n",
              "        [29, 53, 45],\n",
              "        ...,\n",
              "        [ 3, 55, 96],\n",
              "        [77, 30, 84],\n",
              "        [46, 63, 17]],\n",
              "\n",
              "       [[24, 33, 38],\n",
              "        [86, 30, 91],\n",
              "        [47, 34,  2],\n",
              "        ...,\n",
              "        [57, 14, 51],\n",
              "        [38, 94, 76],\n",
              "        [38, 35, 83]]])>"
            ]
          },
          "metadata": {},
          "execution_count": 257
        }
      ]
    },
    {
      "cell_type": "code",
      "source": [
        "squeeze_test = tf.constant([[[1,2],[3,4]],\n",
        "             [[5,6],[7,8]]])\n",
        "\n",
        "tf.expand_dims(squeeze_test, -1)"
      ],
      "metadata": {
        "id": "yyBvsLx-UTbf",
        "colab": {
          "base_uri": "https://localhost:8080/"
        },
        "outputId": "2733ae9c-d450-432c-c5ad-039a53b74aef"
      },
      "execution_count": null,
      "outputs": [
        {
          "output_type": "execute_result",
          "data": {
            "text/plain": [
              "<tf.Tensor: shape=(2, 2, 2, 1), dtype=int32, numpy=\n",
              "array([[[[1],\n",
              "         [2]],\n",
              "\n",
              "        [[3],\n",
              "         [4]]],\n",
              "\n",
              "\n",
              "       [[[5],\n",
              "         [6]],\n",
              "\n",
              "        [[7],\n",
              "         [8]]]], dtype=int32)>"
            ]
          },
          "metadata": {},
          "execution_count": 10
        }
      ]
    },
    {
      "cell_type": "code",
      "source": [],
      "metadata": {
        "id": "WUQEh9rHVA-C"
      },
      "execution_count": null,
      "outputs": []
    }
  ]
}