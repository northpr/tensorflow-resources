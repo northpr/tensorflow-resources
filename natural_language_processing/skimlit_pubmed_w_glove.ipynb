{
  "nbformat": 4,
  "nbformat_minor": 0,
  "metadata": {
    "colab": {
      "provenance": [],
      "collapsed_sections": [],
      "toc_visible": true,
      "authorship_tag": "ABX9TyONVpRWCLuC7tXrKOJSCqPc",
      "include_colab_link": true
    },
    "kernelspec": {
      "name": "python3",
      "display_name": "Python 3"
    },
    "language_info": {
      "name": "python"
    },
    "accelerator": "GPU",
    "gpuClass": "standard"
  },
  "cells": [
    {
      "cell_type": "markdown",
      "metadata": {
        "id": "view-in-github",
        "colab_type": "text"
      },
      "source": [
        "<a href=\"https://colab.research.google.com/github/northpr/tensorflow-resources/blob/main/natural_language_processing/skimlit_pubmed_w_glove.ipynb\" target=\"_parent\"><img src=\"https://colab.research.google.com/assets/colab-badge.svg\" alt=\"Open In Colab\"/></a>"
      ]
    },
    {
      "cell_type": "markdown",
      "source": [
        "## Skimlit with pretrained model (bert and glove)\n",
        "\n",
        "Source: [github](https://github.com/mrdbourke/tensorflow-deep-learning/blob/main/extras/solutions/%F0%9F%9B%A0_09_Milestone_Project_2_SkimLit_%F0%9F%93%84%F0%9F%94%A5_Exercise_Solutions.ipynb)"
      ],
      "metadata": {
        "id": "8RfV-tUU--sM"
      }
    },
    {
      "cell_type": "markdown",
      "source": [
        "# Download data and preprocess"
      ],
      "metadata": {
        "id": "6O2XK5yG_QjU"
      }
    },
    {
      "cell_type": "code",
      "source": [
        "!wget https://raw.githubusercontent.com/northpr/helper_function/master/tensorflow/helper_tensorflow.py"
      ],
      "metadata": {
        "colab": {
          "base_uri": "https://localhost:8080/"
        },
        "id": "Br3FB_Qj8BeY",
        "outputId": "c8628607-e731-4508-e7be-f13603c64e03"
      },
      "execution_count": 1,
      "outputs": [
        {
          "output_type": "stream",
          "name": "stdout",
          "text": [
            "--2022-10-09 20:28:44--  https://raw.githubusercontent.com/northpr/helper_function/master/tensorflow/helper_tensorflow.py\n",
            "Resolving raw.githubusercontent.com (raw.githubusercontent.com)... 185.199.108.133, 185.199.109.133, 185.199.110.133, ...\n",
            "Connecting to raw.githubusercontent.com (raw.githubusercontent.com)|185.199.108.133|:443... connected.\n",
            "HTTP request sent, awaiting response... 200 OK\n",
            "Length: 7159 (7.0K) [text/plain]\n",
            "Saving to: ‘helper_tensorflow.py’\n",
            "\n",
            "helper_tensorflow.p 100%[===================>]   6.99K  --.-KB/s    in 0s      \n",
            "\n",
            "2022-10-09 20:28:44 (78.1 MB/s) - ‘helper_tensorflow.py’ saved [7159/7159]\n",
            "\n"
          ]
        }
      ]
    },
    {
      "cell_type": "code",
      "source": [
        "import tensorflow as tf\n",
        "from tensorflow.keras import layers\n",
        "\n",
        "!git clone https://github.com/Franck-Dernoncourt/pubmed-rct.git\n",
        "!ls pubmed-rct"
      ],
      "metadata": {
        "colab": {
          "base_uri": "https://localhost:8080/"
        },
        "id": "-owomZ3W_Xp9",
        "outputId": "a07a0043-6659-4e94-b4a8-a6c3433877cc"
      },
      "execution_count": 2,
      "outputs": [
        {
          "output_type": "stream",
          "name": "stdout",
          "text": [
            "Cloning into 'pubmed-rct'...\n",
            "remote: Enumerating objects: 33, done.\u001b[K\n",
            "remote: Counting objects: 100% (8/8), done.\u001b[K\n",
            "remote: Compressing objects: 100% (3/3), done.\u001b[K\n",
            "remote: Total 33 (delta 5), reused 5 (delta 5), pack-reused 25\u001b[K\n",
            "Unpacking objects: 100% (33/33), done.\n",
            "PubMed_200k_RCT\n",
            "PubMed_200k_RCT_numbers_replaced_with_at_sign\n",
            "PubMed_20k_RCT\n",
            "PubMed_20k_RCT_numbers_replaced_with_at_sign\n",
            "README.md\n"
          ]
        }
      ]
    },
    {
      "cell_type": "code",
      "source": [
        "# Start by using the 20k dataset\n",
        "data_dir = \"pubmed-rct/PubMed_20k_RCT_numbers_replaced_with_at_sign/\"\n",
        "\n",
        "# Check all of the filenames in the target directory\n",
        "import os\n",
        "filenames = [data_dir + filename for filename in os.listdir(data_dir)]\n",
        "filenames"
      ],
      "metadata": {
        "colab": {
          "base_uri": "https://localhost:8080/"
        },
        "id": "I8JLGbIw_Z0w",
        "outputId": "4f0bd2f4-8846-4539-9708-07469f5fc720"
      },
      "execution_count": 3,
      "outputs": [
        {
          "output_type": "execute_result",
          "data": {
            "text/plain": [
              "['pubmed-rct/PubMed_20k_RCT_numbers_replaced_with_at_sign/train.txt',\n",
              " 'pubmed-rct/PubMed_20k_RCT_numbers_replaced_with_at_sign/test.txt',\n",
              " 'pubmed-rct/PubMed_20k_RCT_numbers_replaced_with_at_sign/dev.txt']"
            ]
          },
          "metadata": {},
          "execution_count": 3
        }
      ]
    },
    {
      "cell_type": "code",
      "source": [
        "# Create function to read the lines of a document\n",
        "def get_lines(filename):\n",
        "  with open(filename, \"r\") as f:\n",
        "    return f.readlines()\n",
        "\n",
        "    # Creating a preprocessing function that returns a dictionary\n",
        "def preprocess_text_with_line_numbers(filename):\n",
        "  \"\"\"Returns a list of dictionaries of abstract line data.\n",
        "\n",
        "  Takes in filename, reads its contents and sorts through each line,\n",
        "  extracting things like the target label, the text of the sentence,\n",
        "  how many sentences are in the current abstract and what sentence number\n",
        "  the target line is.\n",
        "\n",
        "  Args:\n",
        "      filename: a string of the target text file to read and extract line data\n",
        "      from.\n",
        "\n",
        "  Returns:\n",
        "      A list of dictionaries each containing a line from an abstract,\n",
        "      the lines label, the lines position in the abstract and the total number\n",
        "      of lines in the abstract where the line is from. For example:\n",
        "\n",
        "      [{\"target\": 'CONCLUSION',\n",
        "        \"text\": The study couldn't have gone better, turns out people are kinder than you think\",\n",
        "        \"line_number\": 8,\n",
        "        \"total_lines\": 8}]\n",
        "  \"\"\"\n",
        "  input_lines = get_lines(filename) # get all lines from filename\n",
        "  abstract_lines = \"\" # create an empty abstract\n",
        "  abstract_samples = [] # create an empty list of abstracts\n",
        "  \n",
        "  # Loop through each line in target file\n",
        "  for line in input_lines:\n",
        "    if line.startswith(\"###\"): # check to see if line is an ID line\n",
        "      abstract_id = line\n",
        "      abstract_lines = \"\" # reset abstract string\n",
        "    elif line.isspace(): # check to see if line is a new line\n",
        "      abstract_line_split = abstract_lines.splitlines() # split abstract into separate lines\n",
        "\n",
        "      # Iterate through each line in abstract and count them at the same time\n",
        "      for abstract_line_number, abstract_line in enumerate(abstract_line_split):\n",
        "        line_data = {} # create empty dict to store data from line\n",
        "        target_text_split = abstract_line.split(\"\\t\") # split target label from text\n",
        "        line_data[\"target\"] = target_text_split[0] # get target label\n",
        "        line_data[\"text\"] = target_text_split[1].lower() # get target text and lower it\n",
        "        line_data[\"line_number\"] = abstract_line_number # what number line does the line appear in the abstract?\n",
        "        line_data[\"total_lines\"] = len(abstract_line_split) - 1 # how many total lines are in the abstract? (start from 0)\n",
        "        abstract_samples.append(line_data) # add line data to abstract samples list\n",
        "    \n",
        "    else: # if the above conditions aren't fulfilled, the line contains a labelled sentence\n",
        "      abstract_lines += line\n",
        "  \n",
        "  return abstract_samples"
      ],
      "metadata": {
        "id": "m2WHXmrqAz-U"
      },
      "execution_count": 4,
      "outputs": []
    },
    {
      "cell_type": "code",
      "source": [
        "# Get data from file and preprocess it\n",
        "%%time\n",
        "train_samples = preprocess_text_with_line_numbers(data_dir + \"train.txt\")\n",
        "val_samples = preprocess_text_with_line_numbers(data_dir + \"dev.txt\") \n",
        "test_samples = preprocess_text_with_line_numbers(data_dir + \"test.txt\")\n",
        "\n",
        "len(train_samples), len(val_samples), len(test_samples)"
      ],
      "metadata": {
        "colab": {
          "base_uri": "https://localhost:8080/"
        },
        "id": "PuNSmERdA3MT",
        "outputId": "cc221729-da36-45cd-de39-ded21bb5cb8c"
      },
      "execution_count": 5,
      "outputs": [
        {
          "output_type": "stream",
          "name": "stdout",
          "text": [
            "CPU times: user 378 ms, sys: 99.4 ms, total: 478 ms\n",
            "Wall time: 491 ms\n"
          ]
        },
        {
          "output_type": "execute_result",
          "data": {
            "text/plain": [
              "(180040, 30212, 30135)"
            ]
          },
          "metadata": {},
          "execution_count": 5
        }
      ]
    },
    {
      "cell_type": "code",
      "source": [
        "# Loading our data into a dataframe\n",
        "import pandas as pd\n",
        "train_df = pd.DataFrame(train_samples)\n",
        "val_df = pd.DataFrame(val_samples)\n",
        "test_df = pd.DataFrame(test_samples)\n",
        "train_df.head(14)"
      ],
      "metadata": {
        "colab": {
          "base_uri": "https://localhost:8080/",
          "height": 488
        },
        "id": "kJRZiGKkA5Fu",
        "outputId": "f7f55519-1c4e-4b3c-9e65-78971165f017"
      },
      "execution_count": 6,
      "outputs": [
        {
          "output_type": "execute_result",
          "data": {
            "text/plain": [
              "         target                                               text  \\\n",
              "0     OBJECTIVE  to investigate the efficacy of @ weeks of dail...   \n",
              "1       METHODS  a total of @ patients with primary knee oa wer...   \n",
              "2       METHODS  outcome measures included pain reduction and i...   \n",
              "3       METHODS  pain was assessed using the visual analog pain...   \n",
              "4       METHODS  secondary outcome measures included the wester...   \n",
              "5       METHODS  serum levels of interleukin @ ( il-@ ) , il-@ ...   \n",
              "6       RESULTS  there was a clinically relevant reduction in t...   \n",
              "7       RESULTS  the mean difference between treatment arms ( @...   \n",
              "8       RESULTS  further , there was a clinically relevant redu...   \n",
              "9       RESULTS  these differences remained significant at @ we...   \n",
              "10      RESULTS  the outcome measures in rheumatology clinical ...   \n",
              "11  CONCLUSIONS  low-dose oral prednisolone had both a short-te...   \n",
              "12   BACKGROUND  emotional eating is associated with overeating...   \n",
              "13   BACKGROUND  yet , empirical evidence for individual ( trai...   \n",
              "\n",
              "    line_number  total_lines  \n",
              "0             0           11  \n",
              "1             1           11  \n",
              "2             2           11  \n",
              "3             3           11  \n",
              "4             4           11  \n",
              "5             5           11  \n",
              "6             6           11  \n",
              "7             7           11  \n",
              "8             8           11  \n",
              "9             9           11  \n",
              "10           10           11  \n",
              "11           11           11  \n",
              "12            0           10  \n",
              "13            1           10  "
            ],
            "text/html": [
              "\n",
              "  <div id=\"df-09ab0b7b-4a4b-4a2c-b6ea-e5b1c2558bbc\">\n",
              "    <div class=\"colab-df-container\">\n",
              "      <div>\n",
              "<style scoped>\n",
              "    .dataframe tbody tr th:only-of-type {\n",
              "        vertical-align: middle;\n",
              "    }\n",
              "\n",
              "    .dataframe tbody tr th {\n",
              "        vertical-align: top;\n",
              "    }\n",
              "\n",
              "    .dataframe thead th {\n",
              "        text-align: right;\n",
              "    }\n",
              "</style>\n",
              "<table border=\"1\" class=\"dataframe\">\n",
              "  <thead>\n",
              "    <tr style=\"text-align: right;\">\n",
              "      <th></th>\n",
              "      <th>target</th>\n",
              "      <th>text</th>\n",
              "      <th>line_number</th>\n",
              "      <th>total_lines</th>\n",
              "    </tr>\n",
              "  </thead>\n",
              "  <tbody>\n",
              "    <tr>\n",
              "      <th>0</th>\n",
              "      <td>OBJECTIVE</td>\n",
              "      <td>to investigate the efficacy of @ weeks of dail...</td>\n",
              "      <td>0</td>\n",
              "      <td>11</td>\n",
              "    </tr>\n",
              "    <tr>\n",
              "      <th>1</th>\n",
              "      <td>METHODS</td>\n",
              "      <td>a total of @ patients with primary knee oa wer...</td>\n",
              "      <td>1</td>\n",
              "      <td>11</td>\n",
              "    </tr>\n",
              "    <tr>\n",
              "      <th>2</th>\n",
              "      <td>METHODS</td>\n",
              "      <td>outcome measures included pain reduction and i...</td>\n",
              "      <td>2</td>\n",
              "      <td>11</td>\n",
              "    </tr>\n",
              "    <tr>\n",
              "      <th>3</th>\n",
              "      <td>METHODS</td>\n",
              "      <td>pain was assessed using the visual analog pain...</td>\n",
              "      <td>3</td>\n",
              "      <td>11</td>\n",
              "    </tr>\n",
              "    <tr>\n",
              "      <th>4</th>\n",
              "      <td>METHODS</td>\n",
              "      <td>secondary outcome measures included the wester...</td>\n",
              "      <td>4</td>\n",
              "      <td>11</td>\n",
              "    </tr>\n",
              "    <tr>\n",
              "      <th>5</th>\n",
              "      <td>METHODS</td>\n",
              "      <td>serum levels of interleukin @ ( il-@ ) , il-@ ...</td>\n",
              "      <td>5</td>\n",
              "      <td>11</td>\n",
              "    </tr>\n",
              "    <tr>\n",
              "      <th>6</th>\n",
              "      <td>RESULTS</td>\n",
              "      <td>there was a clinically relevant reduction in t...</td>\n",
              "      <td>6</td>\n",
              "      <td>11</td>\n",
              "    </tr>\n",
              "    <tr>\n",
              "      <th>7</th>\n",
              "      <td>RESULTS</td>\n",
              "      <td>the mean difference between treatment arms ( @...</td>\n",
              "      <td>7</td>\n",
              "      <td>11</td>\n",
              "    </tr>\n",
              "    <tr>\n",
              "      <th>8</th>\n",
              "      <td>RESULTS</td>\n",
              "      <td>further , there was a clinically relevant redu...</td>\n",
              "      <td>8</td>\n",
              "      <td>11</td>\n",
              "    </tr>\n",
              "    <tr>\n",
              "      <th>9</th>\n",
              "      <td>RESULTS</td>\n",
              "      <td>these differences remained significant at @ we...</td>\n",
              "      <td>9</td>\n",
              "      <td>11</td>\n",
              "    </tr>\n",
              "    <tr>\n",
              "      <th>10</th>\n",
              "      <td>RESULTS</td>\n",
              "      <td>the outcome measures in rheumatology clinical ...</td>\n",
              "      <td>10</td>\n",
              "      <td>11</td>\n",
              "    </tr>\n",
              "    <tr>\n",
              "      <th>11</th>\n",
              "      <td>CONCLUSIONS</td>\n",
              "      <td>low-dose oral prednisolone had both a short-te...</td>\n",
              "      <td>11</td>\n",
              "      <td>11</td>\n",
              "    </tr>\n",
              "    <tr>\n",
              "      <th>12</th>\n",
              "      <td>BACKGROUND</td>\n",
              "      <td>emotional eating is associated with overeating...</td>\n",
              "      <td>0</td>\n",
              "      <td>10</td>\n",
              "    </tr>\n",
              "    <tr>\n",
              "      <th>13</th>\n",
              "      <td>BACKGROUND</td>\n",
              "      <td>yet , empirical evidence for individual ( trai...</td>\n",
              "      <td>1</td>\n",
              "      <td>10</td>\n",
              "    </tr>\n",
              "  </tbody>\n",
              "</table>\n",
              "</div>\n",
              "      <button class=\"colab-df-convert\" onclick=\"convertToInteractive('df-09ab0b7b-4a4b-4a2c-b6ea-e5b1c2558bbc')\"\n",
              "              title=\"Convert this dataframe to an interactive table.\"\n",
              "              style=\"display:none;\">\n",
              "        \n",
              "  <svg xmlns=\"http://www.w3.org/2000/svg\" height=\"24px\"viewBox=\"0 0 24 24\"\n",
              "       width=\"24px\">\n",
              "    <path d=\"M0 0h24v24H0V0z\" fill=\"none\"/>\n",
              "    <path d=\"M18.56 5.44l.94 2.06.94-2.06 2.06-.94-2.06-.94-.94-2.06-.94 2.06-2.06.94zm-11 1L8.5 8.5l.94-2.06 2.06-.94-2.06-.94L8.5 2.5l-.94 2.06-2.06.94zm10 10l.94 2.06.94-2.06 2.06-.94-2.06-.94-.94-2.06-.94 2.06-2.06.94z\"/><path d=\"M17.41 7.96l-1.37-1.37c-.4-.4-.92-.59-1.43-.59-.52 0-1.04.2-1.43.59L10.3 9.45l-7.72 7.72c-.78.78-.78 2.05 0 2.83L4 21.41c.39.39.9.59 1.41.59.51 0 1.02-.2 1.41-.59l7.78-7.78 2.81-2.81c.8-.78.8-2.07 0-2.86zM5.41 20L4 18.59l7.72-7.72 1.47 1.35L5.41 20z\"/>\n",
              "  </svg>\n",
              "      </button>\n",
              "      \n",
              "  <style>\n",
              "    .colab-df-container {\n",
              "      display:flex;\n",
              "      flex-wrap:wrap;\n",
              "      gap: 12px;\n",
              "    }\n",
              "\n",
              "    .colab-df-convert {\n",
              "      background-color: #E8F0FE;\n",
              "      border: none;\n",
              "      border-radius: 50%;\n",
              "      cursor: pointer;\n",
              "      display: none;\n",
              "      fill: #1967D2;\n",
              "      height: 32px;\n",
              "      padding: 0 0 0 0;\n",
              "      width: 32px;\n",
              "    }\n",
              "\n",
              "    .colab-df-convert:hover {\n",
              "      background-color: #E2EBFA;\n",
              "      box-shadow: 0px 1px 2px rgba(60, 64, 67, 0.3), 0px 1px 3px 1px rgba(60, 64, 67, 0.15);\n",
              "      fill: #174EA6;\n",
              "    }\n",
              "\n",
              "    [theme=dark] .colab-df-convert {\n",
              "      background-color: #3B4455;\n",
              "      fill: #D2E3FC;\n",
              "    }\n",
              "\n",
              "    [theme=dark] .colab-df-convert:hover {\n",
              "      background-color: #434B5C;\n",
              "      box-shadow: 0px 1px 3px 1px rgba(0, 0, 0, 0.15);\n",
              "      filter: drop-shadow(0px 1px 2px rgba(0, 0, 0, 0.3));\n",
              "      fill: #FFFFFF;\n",
              "    }\n",
              "  </style>\n",
              "\n",
              "      <script>\n",
              "        const buttonEl =\n",
              "          document.querySelector('#df-09ab0b7b-4a4b-4a2c-b6ea-e5b1c2558bbc button.colab-df-convert');\n",
              "        buttonEl.style.display =\n",
              "          google.colab.kernel.accessAllowed ? 'block' : 'none';\n",
              "\n",
              "        async function convertToInteractive(key) {\n",
              "          const element = document.querySelector('#df-09ab0b7b-4a4b-4a2c-b6ea-e5b1c2558bbc');\n",
              "          const dataTable =\n",
              "            await google.colab.kernel.invokeFunction('convertToInteractive',\n",
              "                                                     [key], {});\n",
              "          if (!dataTable) return;\n",
              "\n",
              "          const docLinkHtml = 'Like what you see? Visit the ' +\n",
              "            '<a target=\"_blank\" href=https://colab.research.google.com/notebooks/data_table.ipynb>data table notebook</a>'\n",
              "            + ' to learn more about interactive tables.';\n",
              "          element.innerHTML = '';\n",
              "          dataTable['output_type'] = 'display_data';\n",
              "          await google.colab.output.renderOutput(dataTable, element);\n",
              "          const docLink = document.createElement('div');\n",
              "          docLink.innerHTML = docLinkHtml;\n",
              "          element.appendChild(docLink);\n",
              "        }\n",
              "      </script>\n",
              "    </div>\n",
              "  </div>\n",
              "  "
            ]
          },
          "metadata": {},
          "execution_count": 6
        }
      ]
    },
    {
      "cell_type": "code",
      "source": [
        "# Convert abstract text lines into lists \n",
        "train_sentences = train_df[\"text\"].tolist()\n",
        "val_sentences = val_df[\"text\"].tolist()\n",
        "test_sentences = test_df[\"text\"].tolist()\n",
        "len(train_sentences), len(val_sentences), len(test_sentences)"
      ],
      "metadata": {
        "colab": {
          "base_uri": "https://localhost:8080/"
        },
        "id": "JVOylFJiBXAI",
        "outputId": "4780d2f7-4ea3-439a-b9fd-635209bad254"
      },
      "execution_count": 7,
      "outputs": [
        {
          "output_type": "execute_result",
          "data": {
            "text/plain": [
              "(180040, 30212, 30135)"
            ]
          },
          "metadata": {},
          "execution_count": 7
        }
      ]
    },
    {
      "cell_type": "markdown",
      "source": [
        "## OneHotEncoder"
      ],
      "metadata": {
        "id": "_MTM1WWtDiYb"
      }
    },
    {
      "cell_type": "code",
      "source": [
        "\n",
        "# One hot encoding the labels \n",
        "from sklearn.preprocessing import OneHotEncoder\n",
        "one_hot_encoder = OneHotEncoder(sparse=False)\n",
        "\n",
        "train_labels_one_hot = one_hot_encoder.fit_transform(train_df[\"target\"].to_numpy().reshape(-1, 1))\n",
        "val_labels_one_hot = one_hot_encoder.transform(val_df[\"target\"].to_numpy().reshape(-1, 1))\n",
        "test_labels_one_hot = one_hot_encoder.transform(test_df[\"target\"].to_numpy().reshape(-1, 1))\n",
        "\n",
        "# Check what training labels look like\n",
        "train_labels_one_hot"
      ],
      "metadata": {
        "colab": {
          "base_uri": "https://localhost:8080/"
        },
        "id": "R_wYp4bVDfG6",
        "outputId": "bced367c-00b8-4dc5-c4be-83d31ae820c8"
      },
      "execution_count": 8,
      "outputs": [
        {
          "output_type": "execute_result",
          "data": {
            "text/plain": [
              "array([[0., 0., 0., 1., 0.],\n",
              "       [0., 0., 1., 0., 0.],\n",
              "       [0., 0., 1., 0., 0.],\n",
              "       ...,\n",
              "       [0., 0., 0., 0., 1.],\n",
              "       [0., 1., 0., 0., 0.],\n",
              "       [0., 1., 0., 0., 0.]])"
            ]
          },
          "metadata": {},
          "execution_count": 8
        }
      ]
    },
    {
      "cell_type": "markdown",
      "source": [
        "## LabelEncoder"
      ],
      "metadata": {
        "id": "qMivowzVDn-S"
      }
    },
    {
      "cell_type": "code",
      "source": [
        "# Extract labels and encoder them into integers \n",
        "from sklearn.preprocessing import LabelEncoder \n",
        "\n",
        "label_encoder = LabelEncoder() \n",
        "\n",
        "train_labels_encoded = label_encoder.fit_transform(train_df[\"target\"].to_numpy())\n",
        "val_labels_encoded = label_encoder.transform(val_df[\"target\"].to_numpy())\n",
        "test_labels_encoded = label_encoder.transform(test_df[\"target\"].to_numpy())\n",
        "\n",
        "# Check what training labels look like\n",
        "train_labels_encoded"
      ],
      "metadata": {
        "colab": {
          "base_uri": "https://localhost:8080/"
        },
        "id": "JVi7voM1DgH7",
        "outputId": "be7cc5f8-a879-449b-9881-faa1772c88b5"
      },
      "execution_count": 9,
      "outputs": [
        {
          "output_type": "execute_result",
          "data": {
            "text/plain": [
              "array([3, 2, 2, ..., 4, 1, 1])"
            ]
          },
          "metadata": {},
          "execution_count": 9
        }
      ]
    },
    {
      "cell_type": "code",
      "source": [
        "# Get class names and number of classes from LabelEncoder instance \n",
        "num_classes = len(label_encoder.classes_)\n",
        "class_names = label_encoder.classes_\n",
        "num_classes , class_names"
      ],
      "metadata": {
        "colab": {
          "base_uri": "https://localhost:8080/"
        },
        "id": "QcsKgcm5Dhif",
        "outputId": "73c90367-3c9c-407f-e717-6f7ac6fdd5bb"
      },
      "execution_count": 10,
      "outputs": [
        {
          "output_type": "execute_result",
          "data": {
            "text/plain": [
              "(5, array(['BACKGROUND', 'CONCLUSIONS', 'METHODS', 'OBJECTIVE', 'RESULTS'],\n",
              "       dtype=object))"
            ]
          },
          "metadata": {},
          "execution_count": 10
        }
      ]
    },
    {
      "cell_type": "markdown",
      "source": [
        "# Using Glove embeddings"
      ],
      "metadata": {
        "id": "qvchlvEYDr-A"
      }
    },
    {
      "cell_type": "code",
      "source": [
        "# Loading the pre-trained embeddings \n",
        "!wget http://nlp.stanford.edu/data/glove.6B.zip\n",
        "!unzip -q glove.6B.zip"
      ],
      "metadata": {
        "colab": {
          "base_uri": "https://localhost:8080/"
        },
        "id": "EuMlE9RHDudk",
        "outputId": "0f4822b1-3706-44b3-fabc-ec099470fef6"
      },
      "execution_count": 11,
      "outputs": [
        {
          "output_type": "stream",
          "name": "stdout",
          "text": [
            "--2022-10-09 20:29:11--  http://nlp.stanford.edu/data/glove.6B.zip\n",
            "Resolving nlp.stanford.edu (nlp.stanford.edu)... 171.64.67.140\n",
            "Connecting to nlp.stanford.edu (nlp.stanford.edu)|171.64.67.140|:80... connected.\n",
            "HTTP request sent, awaiting response... 302 Found\n",
            "Location: https://nlp.stanford.edu/data/glove.6B.zip [following]\n",
            "--2022-10-09 20:29:11--  https://nlp.stanford.edu/data/glove.6B.zip\n",
            "Connecting to nlp.stanford.edu (nlp.stanford.edu)|171.64.67.140|:443... connected.\n",
            "HTTP request sent, awaiting response... 301 Moved Permanently\n",
            "Location: https://downloads.cs.stanford.edu/nlp/data/glove.6B.zip [following]\n",
            "--2022-10-09 20:29:12--  https://downloads.cs.stanford.edu/nlp/data/glove.6B.zip\n",
            "Resolving downloads.cs.stanford.edu (downloads.cs.stanford.edu)... 171.64.64.22\n",
            "Connecting to downloads.cs.stanford.edu (downloads.cs.stanford.edu)|171.64.64.22|:443... connected.\n",
            "HTTP request sent, awaiting response... 200 OK\n",
            "Length: 862182613 (822M) [application/zip]\n",
            "Saving to: ‘glove.6B.zip’\n",
            "\n",
            "glove.6B.zip        100%[===================>] 822.24M  4.94MB/s    in 3m 8s   \n",
            "\n",
            "2022-10-09 20:32:20 (4.38 MB/s) - ‘glove.6B.zip’ saved [862182613/862182613]\n",
            "\n"
          ]
        }
      ]
    },
    {
      "cell_type": "code",
      "source": [
        "# Getting the path of the glove embedding (using 100D)\n",
        "import numpy as np \n",
        "glove_path = 'glove.6B.100d.txt'\n",
        "\n",
        "embedding_index = {}\n",
        "\n",
        "# Making dict of vector representtion of the words (s --> [8, 48......])\n",
        "with open(glove_path) as f:\n",
        "  for line in f:\n",
        "    \n",
        "    # Getting the words and coef in a variable \n",
        "    word , coefs = line.split(maxsplit = 1)\n",
        "    coefs = np.fromstring(coefs , 'f' , sep = ' ')\n",
        "    \n",
        "    # Adding the coefs to our embedding dict \n",
        "    embedding_index[word] = coefs\n",
        "\n",
        "print(f'Found {len(embedding_index)} word vectors')"
      ],
      "metadata": {
        "colab": {
          "base_uri": "https://localhost:8080/"
        },
        "id": "Rz9Bwh2mDwFY",
        "outputId": "f89f7f09-9c43-4f5a-c255-b2f330d9bf3e"
      },
      "execution_count": 12,
      "outputs": [
        {
          "output_type": "stream",
          "name": "stdout",
          "text": [
            "Found 400000 word vectors\n"
          ]
        }
      ]
    },
    {
      "cell_type": "code",
      "source": [
        "# Make function to split sentence into characters\n",
        "def split_chars(text):\n",
        "  return \" \".join(list(text))\n",
        "\n",
        "# Split sequence-level data splits into character-lelve data splits\n",
        "train_chars = [split_chars(sentence) for sentence in train_sentences]\n",
        "val_chars = [split_chars(sentence) for sentence in val_sentences]"
      ],
      "metadata": {
        "id": "7z2fMaljFSPi"
      },
      "execution_count": 13,
      "outputs": []
    },
    {
      "cell_type": "code",
      "source": [
        "# Creating a text vectorization layer (68k vocab size from the paper itself)\n",
        "from tensorflow.keras.layers import TextVectorization\n",
        "\n",
        "text_vectorizer = TextVectorization(max_tokens=68000,\n",
        "                                    output_sequence_length=56)\n",
        "\n",
        "# Adapt our text vectorizer to training sentences\n",
        "text_vectorizer.adapt(train_sentences)"
      ],
      "metadata": {
        "id": "WTM7ocRzFyCb"
      },
      "execution_count": 14,
      "outputs": []
    },
    {
      "cell_type": "code",
      "source": [
        "# Getting the vocabulary of the vectorizer\n",
        "text_vocab = text_vectorizer.get_vocabulary()\n",
        "len(text_vocab), text_vocab[0:20]"
      ],
      "metadata": {
        "colab": {
          "base_uri": "https://localhost:8080/"
        },
        "id": "cujLZ9iEF3T4",
        "outputId": "8929333f-9e51-4caa-d6c9-1063823f7ada"
      },
      "execution_count": 15,
      "outputs": [
        {
          "output_type": "execute_result",
          "data": {
            "text/plain": [
              "(64841,\n",
              " ['',\n",
              "  '[UNK]',\n",
              "  'the',\n",
              "  'and',\n",
              "  'of',\n",
              "  'in',\n",
              "  'to',\n",
              "  'with',\n",
              "  'a',\n",
              "  'were',\n",
              "  'was',\n",
              "  'for',\n",
              "  'patients',\n",
              "  'group',\n",
              "  'p',\n",
              "  'at',\n",
              "  'or',\n",
              "  'study',\n",
              "  'on',\n",
              "  'treatment'])"
            ]
          },
          "metadata": {},
          "execution_count": 15
        }
      ]
    },
    {
      "cell_type": "markdown",
      "source": [
        "### For glove embedding"
      ],
      "metadata": {
        "id": "UndUUkORHP-n"
      }
    },
    {
      "cell_type": "code",
      "source": [
        "# Getting the dict mapping word --> index \n",
        "word_index_text = dict(zip(text_vocab , range(len(text_vocab))))\n",
        "word_index_text"
      ],
      "metadata": {
        "colab": {
          "base_uri": "https://localhost:8080/"
        },
        "id": "Vl1iryULGpvb",
        "outputId": "0d7eaeb9-6619-4669-d862-e01ce82e7ad6"
      },
      "execution_count": 16,
      "outputs": [
        {
          "output_type": "execute_result",
          "data": {
            "text/plain": [
              "{'': 0,\n",
              " '[UNK]': 1,\n",
              " 'the': 2,\n",
              " 'and': 3,\n",
              " 'of': 4,\n",
              " 'in': 5,\n",
              " 'to': 6,\n",
              " 'with': 7,\n",
              " 'a': 8,\n",
              " 'were': 9,\n",
              " 'was': 10,\n",
              " 'for': 11,\n",
              " 'patients': 12,\n",
              " 'group': 13,\n",
              " 'p': 14,\n",
              " 'at': 15,\n",
              " 'or': 16,\n",
              " 'study': 17,\n",
              " 'on': 18,\n",
              " 'treatment': 19,\n",
              " 'is': 20,\n",
              " 'after': 21,\n",
              " 'by': 22,\n",
              " 'this': 23,\n",
              " 'groups': 24,\n",
              " 'as': 25,\n",
              " 'an': 26,\n",
              " 'from': 27,\n",
              " 'that': 28,\n",
              " 'randomized': 29,\n",
              " 'between': 30,\n",
              " 'not': 31,\n",
              " 'trial': 32,\n",
              " 'no': 33,\n",
              " 'compared': 34,\n",
              " 'control': 35,\n",
              " 'be': 36,\n",
              " 'significant': 37,\n",
              " 'intervention': 38,\n",
              " 'significantly': 39,\n",
              " 'n': 40,\n",
              " 'months': 41,\n",
              " 'than': 42,\n",
              " 'we': 43,\n",
              " 'vs': 44,\n",
              " 'rsb': 45,\n",
              " 'lsb': 46,\n",
              " 'clinical': 47,\n",
              " 'placebo': 48,\n",
              " 'baseline': 49,\n",
              " 'ci': 50,\n",
              " 'two': 51,\n",
              " 'during': 52,\n",
              " 'weeks': 53,\n",
              " 'both': 54,\n",
              " 'had': 55,\n",
              " 'primary': 56,\n",
              " 'mean': 57,\n",
              " 'are': 58,\n",
              " 'using': 59,\n",
              " 'participants': 60,\n",
              " 'there': 61,\n",
              " 'all': 62,\n",
              " 'time': 63,\n",
              " 'years': 64,\n",
              " 'pain': 65,\n",
              " 'therapy': 66,\n",
              " 'who': 67,\n",
              " 'mg': 68,\n",
              " 'more': 69,\n",
              " 'effect': 70,\n",
              " 'effects': 71,\n",
              " 'but': 72,\n",
              " 'risk': 73,\n",
              " 'difference': 74,\n",
              " 'outcomes': 75,\n",
              " 'total': 76,\n",
              " 'care': 77,\n",
              " 'rate': 78,\n",
              " 'efficacy': 79,\n",
              " 'received': 80,\n",
              " 'associated': 81,\n",
              " 'higher': 82,\n",
              " 'respectively': 83,\n",
              " 'days': 84,\n",
              " 'analysis': 85,\n",
              " 'outcome': 86,\n",
              " 'use': 87,\n",
              " 'one': 88,\n",
              " 'week': 89,\n",
              " 'women': 90,\n",
              " 'may': 91,\n",
              " 'randomly': 92,\n",
              " 'levels': 93,\n",
              " 'followup': 94,\n",
              " 'will': 95,\n",
              " 'increased': 96,\n",
              " 'health': 97,\n",
              " 'used': 98,\n",
              " 'have': 99,\n",
              " 'data': 100,\n",
              " 'score': 101,\n",
              " 'differences': 102,\n",
              " 'age': 103,\n",
              " 'subjects': 104,\n",
              " 'lower': 105,\n",
              " 'controlled': 106,\n",
              " 'blood': 107,\n",
              " 'day': 108,\n",
              " 'children': 109,\n",
              " 'versus': 110,\n",
              " 'these': 111,\n",
              " 'did': 112,\n",
              " 'assessed': 113,\n",
              " 'disease': 114,\n",
              " 'surgery': 115,\n",
              " 'among': 116,\n",
              " 'results': 117,\n",
              " 'adverse': 118,\n",
              " 'scores': 119,\n",
              " 'their': 120,\n",
              " 'included': 121,\n",
              " 'each': 122,\n",
              " 'assigned': 123,\n",
              " 'events': 124,\n",
              " 'those': 125,\n",
              " 'which': 126,\n",
              " 'patient': 127,\n",
              " 'test': 128,\n",
              " 'before': 129,\n",
              " 's': 130,\n",
              " 'dose': 131,\n",
              " 'either': 132,\n",
              " 'change': 133,\n",
              " 'three': 134,\n",
              " 'cancer': 135,\n",
              " 'safety': 136,\n",
              " 'effective': 137,\n",
              " 'also': 138,\n",
              " 'has': 139,\n",
              " 'however': 140,\n",
              " 'quality': 141,\n",
              " 'response': 142,\n",
              " 'into': 143,\n",
              " 'symptoms': 144,\n",
              " 'over': 145,\n",
              " 'changes': 146,\n",
              " 'showed': 147,\n",
              " 'observed': 148,\n",
              " 'function': 149,\n",
              " 'similar': 150,\n",
              " 'secondary': 151,\n",
              " 'first': 152,\n",
              " 'performed': 153,\n",
              " 'number': 154,\n",
              " 'training': 155,\n",
              " 'measured': 156,\n",
              " 'year': 157,\n",
              " 'scale': 158,\n",
              " 'without': 159,\n",
              " 'per': 160,\n",
              " 'daily': 161,\n",
              " 'rates': 162,\n",
              " 'postoperative': 163,\n",
              " 'evaluate': 164,\n",
              " 'standard': 165,\n",
              " 'ratio': 166,\n",
              " 'been': 167,\n",
              " 'other': 168,\n",
              " 'reduction': 169,\n",
              " 'improved': 170,\n",
              " 'can': 171,\n",
              " 'treated': 172,\n",
              " 'period': 173,\n",
              " 'weight': 174,\n",
              " 'receive': 175,\n",
              " 'nct': 176,\n",
              " 'exercise': 177,\n",
              " 'month': 178,\n",
              " 'increase': 179,\n",
              " 'whether': 180,\n",
              " 'high': 181,\n",
              " 'greater': 182,\n",
              " 'when': 183,\n",
              " 'evaluated': 184,\n",
              " 'it': 185,\n",
              " 'b': 186,\n",
              " 'd': 187,\n",
              " 'overall': 188,\n",
              " 'physical': 189,\n",
              " 'activity': 190,\n",
              " 'reduced': 191,\n",
              " 'only': 192,\n",
              " 'median': 193,\n",
              " 'improvement': 194,\n",
              " 'life': 195,\n",
              " 'h': 196,\n",
              " 'different': 197,\n",
              " 'conducted': 198,\n",
              " 'end': 199,\n",
              " 'pressure': 200,\n",
              " 'survival': 201,\n",
              " 'studies': 202,\n",
              " 'index': 203,\n",
              " 'level': 204,\n",
              " 'reported': 205,\n",
              " 't': 206,\n",
              " 'arm': 207,\n",
              " 'found': 208,\n",
              " 'phase': 209,\n",
              " 'randomised': 210,\n",
              " 'less': 211,\n",
              " 'decreased': 212,\n",
              " 'measures': 213,\n",
              " 'incidence': 214,\n",
              " 'most': 215,\n",
              " 'assess': 216,\n",
              " 'oral': 217,\n",
              " 'improve': 218,\n",
              " 'within': 219,\n",
              " 'low': 220,\n",
              " 'well': 221,\n",
              " 'interval': 222,\n",
              " 'diabetes': 223,\n",
              " 'early': 224,\n",
              " 'serum': 225,\n",
              " 'compare': 226,\n",
              " 'hours': 227,\n",
              " 'determine': 228,\n",
              " 'acute': 229,\n",
              " 'enrolled': 230,\n",
              " 'plus': 231,\n",
              " 'statistically': 232,\n",
              " 'trials': 233,\n",
              " 'mm': 234,\n",
              " 'confidence': 235,\n",
              " 'doubleblind': 236,\n",
              " 'hospital': 237,\n",
              " 'g': 238,\n",
              " 'body': 239,\n",
              " 'following': 240,\n",
              " 'prospective': 241,\n",
              " 'min': 242,\n",
              " 'c': 243,\n",
              " 'chronic': 244,\n",
              " 'receiving': 245,\n",
              " 'our': 246,\n",
              " 'healthy': 247,\n",
              " 'type': 248,\n",
              " 'plasma': 249,\n",
              " 'assessment': 250,\n",
              " 'including': 251,\n",
              " 'better': 252,\n",
              " 'completed': 253,\n",
              " 'factors': 254,\n",
              " 'depression': 255,\n",
              " 'program': 256,\n",
              " 'effectiveness': 257,\n",
              " 'while': 258,\n",
              " 'mortality': 259,\n",
              " 'heart': 260,\n",
              " 'based': 261,\n",
              " 'any': 262,\n",
              " 'cases': 263,\n",
              " 'loss': 264,\n",
              " 'interventions': 265,\n",
              " 'adults': 266,\n",
              " 'aim': 267,\n",
              " 'glucose': 268,\n",
              " 'combination': 269,\n",
              " 'reduce': 270,\n",
              " 'alone': 271,\n",
              " 'status': 272,\n",
              " 'hr': 273,\n",
              " 'medical': 274,\n",
              " 'clinicaltrialsgov': 275,\n",
              " 'stroke': 276,\n",
              " 'insulin': 277,\n",
              " 'population': 278,\n",
              " 'support': 279,\n",
              " 'positive': 280,\n",
              " 'could': 281,\n",
              " 'duration': 282,\n",
              " 'range': 283,\n",
              " 'followed': 284,\n",
              " 'research': 285,\n",
              " 'combined': 286,\n",
              " 'management': 287,\n",
              " 'administration': 288,\n",
              " 'severe': 289,\n",
              " 'visual': 290,\n",
              " 'analyses': 291,\n",
              " 'failure': 292,\n",
              " 'performance': 293,\n",
              " 'point': 294,\n",
              " 'undergoing': 295,\n",
              " 'complications': 296,\n",
              " 'four': 297,\n",
              " 'further': 298,\n",
              " 'evidence': 299,\n",
              " 'drug': 300,\n",
              " 'cognitive': 301,\n",
              " 'points': 302,\n",
              " 'up': 303,\n",
              " 'functional': 304,\n",
              " 'impact': 305,\n",
              " 'surgical': 306,\n",
              " 'aged': 307,\n",
              " 'its': 308,\n",
              " 'men': 309,\n",
              " 'findings': 310,\n",
              " 'although': 311,\n",
              " 'single': 312,\n",
              " 'through': 313,\n",
              " 'model': 314,\n",
              " 'parameters': 315,\n",
              " 'they': 316,\n",
              " 'common': 317,\n",
              " 'decrease': 318,\n",
              " 'new': 319,\n",
              " 'medication': 320,\n",
              " 'doses': 321,\n",
              " 'least': 322,\n",
              " 'cardiovascular': 323,\n",
              " 'if': 324,\n",
              " 'questionnaire': 325,\n",
              " 'volume': 326,\n",
              " 'active': 327,\n",
              " 'related': 328,\n",
              " 'placebocontrolled': 329,\n",
              " 'given': 330,\n",
              " 'investigate': 331,\n",
              " 'severity': 332,\n",
              " 'addition': 333,\n",
              " 'values': 334,\n",
              " 'longterm': 335,\n",
              " 'administered': 336,\n",
              " 'infants': 337,\n",
              " 'about': 338,\n",
              " 'death': 339,\n",
              " 'minutes': 340,\n",
              " 'concentrations': 341,\n",
              " 'cardiac': 342,\n",
              " 'potential': 343,\n",
              " 'occurred': 344,\n",
              " 'such': 345,\n",
              " 'coronary': 346,\n",
              " 'major': 347,\n",
              " 'individuals': 348,\n",
              " 'endpoint': 349,\n",
              " 'older': 350,\n",
              " 'general': 351,\n",
              " 'underwent': 352,\n",
              " 'under': 353,\n",
              " 'sleep': 354,\n",
              " 'system': 355,\n",
              " 'six': 356,\n",
              " 'sd': 357,\n",
              " 'm': 358,\n",
              " 'current': 359,\n",
              " 'infection': 360,\n",
              " 'times': 361,\n",
              " 'moderate': 362,\n",
              " 'method': 363,\n",
              " 'ml': 364,\n",
              " 'additional': 365,\n",
              " 'conventional': 366,\n",
              " 'objective': 367,\n",
              " 'muscle': 368,\n",
              " 'present': 369,\n",
              " 'usual': 370,\n",
              " 'demonstrated': 371,\n",
              " 'design': 372,\n",
              " 'acupuncture': 373,\n",
              " 'according': 374,\n",
              " 'size': 375,\n",
              " 'diet': 376,\n",
              " 'treatments': 377,\n",
              " 'ii': 378,\n",
              " 'allocated': 379,\n",
              " 'information': 380,\n",
              " 'evaluation': 381,\n",
              " 'recorded': 382,\n",
              " 'relative': 383,\n",
              " 'analyzed': 384,\n",
              " 'mass': 385,\n",
              " 'acid': 386,\n",
              " 'screening': 387,\n",
              " 'regression': 388,\n",
              " 'i': 389,\n",
              " 'injection': 390,\n",
              " 'criteria': 391,\n",
              " 'syndrome': 392,\n",
              " 'recovery': 393,\n",
              " 'registered': 394,\n",
              " 'characteristics': 395,\n",
              " 'protein': 396,\n",
              " 'measure': 397,\n",
              " 'benefit': 398,\n",
              " 'intake': 399,\n",
              " 'frequency': 400,\n",
              " 'stress': 401,\n",
              " 'protocol': 402,\n",
              " 'prevention': 403,\n",
              " 'recruited': 404,\n",
              " 'average': 405,\n",
              " 'should': 406,\n",
              " 'procedure': 407,\n",
              " 'improvements': 408,\n",
              " 'experimental': 409,\n",
              " 'bone': 410,\n",
              " 'adjusted': 411,\n",
              " 'vitamin': 412,\n",
              " 'breast': 413,\n",
              " 'provide': 414,\n",
              " 'chemotherapy': 415,\n",
              " 'sessions': 416,\n",
              " 'normal': 417,\n",
              " 'every': 418,\n",
              " 'consumption': 419,\n",
              " 'suggest': 420,\n",
              " 'comparison': 421,\n",
              " 'concentration': 422,\n",
              " 'association': 423,\n",
              " 'condition': 424,\n",
              " 'smoking': 425,\n",
              " 'hazard': 426,\n",
              " 'anxiety': 427,\n",
              " 'satisfaction': 428,\n",
              " 'adherence': 429,\n",
              " 'important': 430,\n",
              " 'same': 431,\n",
              " 'factor': 432,\n",
              " 'education': 433,\n",
              " 'due': 434,\n",
              " 'anesthesia': 435,\n",
              " 'whereas': 436,\n",
              " 'examined': 437,\n",
              " 'therapeutic': 438,\n",
              " 'once': 439,\n",
              " 'needed': 440,\n",
              " 'sample': 441,\n",
              " 'responses': 442,\n",
              " 'proportion': 443,\n",
              " 'collected': 444,\n",
              " 'grade': 445,\n",
              " 'investigated': 446,\n",
              " 'aimed': 447,\n",
              " 'symptom': 448,\n",
              " 'area': 449,\n",
              " 'practice': 450,\n",
              " 'reducing': 451,\n",
              " 'prior': 452,\n",
              " 'approach': 453,\n",
              " 'achieved': 454,\n",
              " 'exposure': 455,\n",
              " 'bmi': 456,\n",
              " 'social': 457,\n",
              " 'conditions': 458,\n",
              " 'controls': 459,\n",
              " 'il': 460,\n",
              " 'alcohol': 461,\n",
              " 'statistical': 462,\n",
              " 'clinically': 463,\n",
              " 'supplementation': 464,\n",
              " 'stimulation': 465,\n",
              " 'multiple': 466,\n",
              " 'percentage': 467,\n",
              " 'previous': 468,\n",
              " 'negative': 469,\n",
              " 'cohort': 470,\n",
              " 'divided': 471,\n",
              " 'defined': 472,\n",
              " 'initial': 473,\n",
              " 'renal': 474,\n",
              " 'technique': 475,\n",
              " 'models': 476,\n",
              " 'myocardial': 477,\n",
              " 'cd': 478,\n",
              " 'delivery': 479,\n",
              " 'second': 480,\n",
              " 'developed': 481,\n",
              " 'required': 482,\n",
              " 'need': 483,\n",
              " 'crossover': 484,\n",
              " 'provided': 485,\n",
              " 'mental': 486,\n",
              " 'five': 487,\n",
              " 'complete': 488,\n",
              " 'lung': 489,\n",
              " 'arms': 490,\n",
              " 'r': 491,\n",
              " 'target': 492,\n",
              " 'side': 493,\n",
              " 'knowledge': 494,\n",
              " 'would': 495,\n",
              " 'superior': 496,\n",
              " 'vaccine': 497,\n",
              " 'variables': 498,\n",
              " 'progression': 499,\n",
              " 'hiv': 500,\n",
              " 'development': 501,\n",
              " 'multicenter': 502,\n",
              " 'injury': 503,\n",
              " 'resistance': 504,\n",
              " 'determined': 505,\n",
              " 'bleeding': 506,\n",
              " 'cell': 507,\n",
              " 'out': 508,\n",
              " 'sensitivity': 509,\n",
              " 'kg': 510,\n",
              " 'intravenous': 511,\n",
              " 'shown': 512,\n",
              " 'samples': 513,\n",
              " 'safe': 514,\n",
              " 'students': 515,\n",
              " 'then': 516,\n",
              " 'knee': 517,\n",
              " 'eligible': 518,\n",
              " 'people': 519,\n",
              " 'cm': 520,\n",
              " 'small': 521,\n",
              " 'vas': 522,\n",
              " 'length': 523,\n",
              " 'main': 524,\n",
              " 'infusion': 525,\n",
              " 'identified': 526,\n",
              " 'obtained': 527,\n",
              " 'serious': 528,\n",
              " 'value': 529,\n",
              " 'rehabilitation': 530,\n",
              " 'stage': 531,\n",
              " 'likely': 532,\n",
              " 'mild': 533,\n",
              " 'examine': 534,\n",
              " 'considered': 535,\n",
              " 'diagnosis': 536,\n",
              " 'across': 537,\n",
              " 'skin': 538,\n",
              " 'regarding': 539,\n",
              " 'pregnancy': 540,\n",
              " 'strength': 541,\n",
              " 'because': 542,\n",
              " 'artery': 543,\n",
              " 'differ': 544,\n",
              " 'large': 545,\n",
              " 'role': 546,\n",
              " 'hundred': 547,\n",
              " 'home': 548,\n",
              " 'tests': 549,\n",
              " 'comparable': 550,\n",
              " 'applied': 551,\n",
              " 'recurrence': 552,\n",
              " 'increases': 553,\n",
              " 'iii': 554,\n",
              " 'twice': 555,\n",
              " 'independent': 556,\n",
              " 'improving': 557,\n",
              " 'block': 558,\n",
              " 'available': 559,\n",
              " 'designed': 560,\n",
              " 'disorder': 561,\n",
              " 'pulmonary': 562,\n",
              " 'odds': 563,\n",
              " 'male': 564,\n",
              " 'individual': 565,\n",
              " 'dietary': 566,\n",
              " 'tested': 567,\n",
              " 'resulted': 568,\n",
              " 'asthma': 569,\n",
              " 'openlabel': 570,\n",
              " 'being': 571,\n",
              " 'eyes': 572,\n",
              " 'cholesterol': 573,\n",
              " 'testing': 574,\n",
              " 'increasing': 575,\n",
              " 'regimen': 576,\n",
              " 'costs': 577,\n",
              " 'methods': 578,\n",
              " 'intensity': 579,\n",
              " 'tolerated': 580,\n",
              " 'experienced': 581,\n",
              " 'comparing': 582,\n",
              " 'longer': 583,\n",
              " 'some': 584,\n",
              " 'local': 585,\n",
              " 'cells': 586,\n",
              " 'blinded': 587,\n",
              " 'advanced': 588,\n",
              " 'respiratory': 589,\n",
              " 'fat': 590,\n",
              " 'measurements': 591,\n",
              " 'prostate': 592,\n",
              " 'benefits': 593,\n",
              " 'identifier': 594,\n",
              " 'randomization': 595,\n",
              " 'profile': 596,\n",
              " 'estimated': 597,\n",
              " 'via': 598,\n",
              " 'modified': 599,\n",
              " 'motor': 600,\n",
              " 'left': 601,\n",
              " 'adult': 602,\n",
              " 'stay': 603,\n",
              " 'liver': 604,\n",
              " 'interaction': 605,\n",
              " 'strategy': 606,\n",
              " 'monitoring': 607,\n",
              " 'cost': 608,\n",
              " 'qol': 609,\n",
              " 'continuous': 610,\n",
              " 'success': 611,\n",
              " 'disability': 612,\n",
              " 'community': 613,\n",
              " 'terms': 614,\n",
              " 'hbac': 615,\n",
              " 'urinary': 616,\n",
              " 'oxygen': 617,\n",
              " 'mgkg': 618,\n",
              " 'female': 619,\n",
              " 'visits': 620,\n",
              " 'growth': 621,\n",
              " 'saline': 622,\n",
              " 'brain': 623,\n",
              " 'post': 624,\n",
              " 'drugs': 625,\n",
              " 'reductions': 626,\n",
              " 'maintenance': 627,\n",
              " 'specific': 628,\n",
              " 'hour': 629,\n",
              " 'selected': 630,\n",
              " 'human': 631,\n",
              " 'weekly': 632,\n",
              " 'routine': 633,\n",
              " 'until': 634,\n",
              " 'maximum': 635,\n",
              " 'inflammation': 636,\n",
              " 'include': 637,\n",
              " 'lesions': 638,\n",
              " 'relationship': 639,\n",
              " 'might': 640,\n",
              " 'infarction': 641,\n",
              " 'intensive': 642,\n",
              " 'despite': 643,\n",
              " 'against': 644,\n",
              " 'endpoints': 645,\n",
              " 'influence': 646,\n",
              " 'global': 647,\n",
              " 'fatigue': 648,\n",
              " 'depressive': 649,\n",
              " 'prevalence': 650,\n",
              " 'iv': 651,\n",
              " 'future': 652,\n",
              " 'os': 653,\n",
              " 'short': 654,\n",
              " 'open': 655,\n",
              " 'course': 656,\n",
              " 'assessments': 657,\n",
              " 'sites': 658,\n",
              " 'hypertension': 659,\n",
              " 'previously': 660,\n",
              " 'food': 661,\n",
              " 'fasting': 662,\n",
              " 'ct': 663,\n",
              " 'bp': 664,\n",
              " 'limited': 665,\n",
              " 'larger': 666,\n",
              " 'strategies': 667,\n",
              " 'l': 668,\n",
              " 'tissue': 669,\n",
              " 'systemic': 670,\n",
              " 'metabolic': 671,\n",
              " 'eye': 672,\n",
              " 'analgesia': 673,\n",
              " 'site': 674,\n",
              " 'event': 675,\n",
              " 'setting': 676,\n",
              " 'parents': 677,\n",
              " 'arterial': 678,\n",
              " 'application': 679,\n",
              " 'systolic': 680,\n",
              " 'central': 681,\n",
              " 'known': 682,\n",
              " 'seen': 683,\n",
              " 'behavior': 684,\n",
              " 'studied': 685,\n",
              " 'inflammatory': 686,\n",
              " 'adolescents': 687,\n",
              " 'imaging': 688,\n",
              " 'pilot': 689,\n",
              " 'peak': 690,\n",
              " 'session': 691,\n",
              " 'result': 692,\n",
              " 'sex': 693,\n",
              " 'mmhg': 694,\n",
              " 'purpose': 695,\n",
              " 'discharge': 696,\n",
              " 'work': 697,\n",
              " 'th': 698,\n",
              " 'rating': 699,\n",
              " 'obese': 700,\n",
              " 'operation': 701,\n",
              " 'feasibility': 702,\n",
              " 'improves': 703,\n",
              " 'fewer': 704,\n",
              " 'procedures': 705,\n",
              " 'behavioral': 706,\n",
              " 'preoperative': 707,\n",
              " 'national': 708,\n",
              " 'therefore': 709,\n",
              " 'laser': 710,\n",
              " 'does': 711,\n",
              " 'diagnostic': 712,\n",
              " 'capacity': 713,\n",
              " 'expression': 714,\n",
              " 'identify': 715,\n",
              " 'poor': 716,\n",
              " 'kidney': 717,\n",
              " 'dysfunction': 718,\n",
              " 'skills': 719,\n",
              " 'detected': 720,\n",
              " 'postoperatively': 721,\n",
              " 'shorter': 722,\n",
              " 'laparoscopic': 723,\n",
              " 'tumor': 724,\n",
              " 'device': 725,\n",
              " 'history': 726,\n",
              " 'andor': 727,\n",
              " 'young': 728,\n",
              " 'stable': 729,\n",
              " 'recommended': 730,\n",
              " 'noninferiority': 731,\n",
              " 'part': 732,\n",
              " 'treat': 733,\n",
              " 'child': 734,\n",
              " 'university': 735,\n",
              " 'confirmed': 736,\n",
              " 'wound': 737,\n",
              " 'inhibitor': 738,\n",
              " 'composite': 739,\n",
              " 'ventilation': 740,\n",
              " 'novel': 741,\n",
              " 'affect': 742,\n",
              " 'abdominal': 743,\n",
              " 'mgday': 744,\n",
              " 'good': 745,\n",
              " 'receptor': 746,\n",
              " 'markers': 747,\n",
              " 'beneficial': 748,\n",
              " 'visit': 749,\n",
              " 'nasal': 750,\n",
              " 'disorders': 751,\n",
              " 'correlated': 752,\n",
              " 'consecutive': 753,\n",
              " 'implementation': 754,\n",
              " 'programme': 755,\n",
              " 'energy': 756,\n",
              " 'calculated': 757,\n",
              " 'vascular': 758,\n",
              " 'immediately': 759,\n",
              " 'eight': 760,\n",
              " 'ischemic': 761,\n",
              " 'copd': 762,\n",
              " 'upper': 763,\n",
              " 'sodium': 764,\n",
              " 'flow': 765,\n",
              " 'examination': 766,\n",
              " 'diagnosed': 767,\n",
              " 'center': 768,\n",
              " 'f': 769,\n",
              " 'birth': 770,\n",
              " 'volunteers': 771,\n",
              " 'mgdl': 772,\n",
              " 'ventricular': 773,\n",
              " 'linear': 774,\n",
              " 'alternative': 775,\n",
              " 'possible': 776,\n",
              " 'infections': 777,\n",
              " 'induction': 778,\n",
              " 'onset': 779,\n",
              " 'contrast': 780,\n",
              " 'sustained': 781,\n",
              " 'revealed': 782,\n",
              " 'hf': 783,\n",
              " 'often': 784,\n",
              " 'delivered': 785,\n",
              " 'sham': 786,\n",
              " 'report': 787,\n",
              " 'stent': 788,\n",
              " 'correlation': 789,\n",
              " 'functioning': 790,\n",
              " 'family': 791,\n",
              " 'remained': 792,\n",
              " 'obesity': 793,\n",
              " 'experience': 794,\n",
              " 'percent': 795,\n",
              " 'fluid': 796,\n",
              " 'presence': 797,\n",
              " 'impairment': 798,\n",
              " 'selfreported': 799,\n",
              " 'intentiontotreat': 800,\n",
              " 'problems': 801,\n",
              " 'auc': 802,\n",
              " 'traditional': 803,\n",
              " 'affected': 804,\n",
              " 'ability': 805,\n",
              " 'psychological': 806,\n",
              " 'morbidity': 807,\n",
              " 'indicated': 808,\n",
              " 'sexual': 809,\n",
              " 'stratified': 810,\n",
              " 'isrctn': 811,\n",
              " 'show': 812,\n",
              " 'perceived': 813,\n",
              " 'resection': 814,\n",
              " 'walking': 815,\n",
              " 'final': 816,\n",
              " 'power': 817,\n",
              " 'repeated': 818,\n",
              " 'practices': 819,\n",
              " 'participated': 820,\n",
              " 'access': 821,\n",
              " 'subjective': 822,\n",
              " 'maternal': 823,\n",
              " 'techniques': 824,\n",
              " 'case': 825,\n",
              " 'calcium': 826,\n",
              " 'reduces': 827,\n",
              " 'provides': 828,\n",
              " 'process': 829,\n",
              " 'predicted': 830,\n",
              " 'injections': 831,\n",
              " 'mixed': 832,\n",
              " 'tolerability': 833,\n",
              " 'observation': 834,\n",
              " 'unit': 835,\n",
              " 'elderly': 836,\n",
              " 'remission': 837,\n",
              " 'peripheral': 838,\n",
              " 'lifestyle': 839,\n",
              " 'airway': 840,\n",
              " 'spinal': 841,\n",
              " 'intraoperative': 842,\n",
              " 'hospitalization': 843,\n",
              " 'activities': 844,\n",
              " 'successful': 845,\n",
              " 'school': 846,\n",
              " 'intubation': 847,\n",
              " 'international': 848,\n",
              " 'very': 849,\n",
              " 'us': 850,\n",
              " 'taken': 851,\n",
              " 'subsequent': 852,\n",
              " 'subgroup': 853,\n",
              " 'shortterm': 854,\n",
              " 'hg': 855,\n",
              " 'chinese': 856,\n",
              " 'recurrent': 857,\n",
              " 'induced': 858,\n",
              " 'clinic': 859,\n",
              " 'mmoll': 860,\n",
              " 'many': 861,\n",
              " 'highly': 862,\n",
              " 'maintained': 863,\n",
              " 'lipid': 864,\n",
              " 'pfs': 865,\n",
              " 'containing': 866,\n",
              " 'prevent': 867,\n",
              " 'pd': 868,\n",
              " 'later': 869,\n",
              " 'ie': 870,\n",
              " 'drinking': 871,\n",
              " 'smokers': 872,\n",
              " 'significance': 873,\n",
              " 'sedation': 874,\n",
              " 'atrial': 875,\n",
              " 'remains': 876,\n",
              " 'feedback': 877,\n",
              " 'parallel': 878,\n",
              " 'predictive': 879,\n",
              " 'laboratory': 880,\n",
              " 'several': 881,\n",
              " 'iqr': 882,\n",
              " 'cervical': 883,\n",
              " 'symptomatic': 884,\n",
              " 'survey': 885,\n",
              " 'metformin': 886,\n",
              " 'cause': 887,\n",
              " 'thickness': 888,\n",
              " 'rr': 889,\n",
              " 'intervals': 890,\n",
              " 'random': 891,\n",
              " 'nerve': 892,\n",
              " 'ms': 893,\n",
              " 'explore': 894,\n",
              " 'memory': 895,\n",
              " 'hand': 896,\n",
              " 'centers': 897,\n",
              " 'how': 898,\n",
              " 'few': 899,\n",
              " 'balance': 900,\n",
              " 'curve': 901,\n",
              " 'ultrasound': 902,\n",
              " 'aes': 903,\n",
              " 'educational': 904,\n",
              " 'consistent': 905,\n",
              " 'pci': 906,\n",
              " 'ngml': 907,\n",
              " 'suggests': 908,\n",
              " 'help': 909,\n",
              " 'af': 910,\n",
              " 'throughout': 911,\n",
              " 'gastric': 912,\n",
              " 'questionnaires': 913,\n",
              " 'propofol': 914,\n",
              " 'dosing': 915,\n",
              " 'continued': 916,\n",
              " 'state': 917,\n",
              " 'radiation': 918,\n",
              " 'last': 919,\n",
              " 'form': 920,\n",
              " 'emergency': 921,\n",
              " 'solution': 922,\n",
              " 'order': 923,\n",
              " 'achieve': 924,\n",
              " 'elevated': 925,\n",
              " 'cessation': 926,\n",
              " 'thus': 927,\n",
              " 'seven': 928,\n",
              " 'minute': 929,\n",
              " 'hypothesis': 930,\n",
              " 'optimal': 931,\n",
              " 'neck': 932,\n",
              " 'st': 933,\n",
              " 'randomisation': 934,\n",
              " 'measurement': 935,\n",
              " 'costeffectiveness': 936,\n",
              " 'units': 937,\n",
              " 'frequent': 938,\n",
              " 'task': 939,\n",
              " 'recruitment': 940,\n",
              " 'medicine': 941,\n",
              " 'them': 942,\n",
              " 'urine': 943,\n",
              " 'lead': 944,\n",
              " 'services': 945,\n",
              " 'best': 946,\n",
              " 'free': 947,\n",
              " 'ed': 948,\n",
              " 'e': 949,\n",
              " 'analgesic': 950,\n",
              " 'amount': 951,\n",
              " 'regimens': 952,\n",
              " 'learning': 953,\n",
              " 'rct': 954,\n",
              " 'online': 955,\n",
              " 'having': 956,\n",
              " 'trend': 957,\n",
              " 'repair': 958,\n",
              " 'logistic': 959,\n",
              " 'brief': 960,\n",
              " 'morphine': 961,\n",
              " 'hip': 962,\n",
              " 'relevant': 963,\n",
              " 'mechanical': 964,\n",
              " 'gain': 965,\n",
              " 'physicians': 966,\n",
              " 'treating': 967,\n",
              " 'recent': 968,\n",
              " 'nausea': 969,\n",
              " 'multicentre': 970,\n",
              " 'cerebral': 971,\n",
              " 'biomarkers': 972,\n",
              " 'analog': 973,\n",
              " 'standardized': 974,\n",
              " 'mri': 975,\n",
              " 'healing': 976,\n",
              " 'programs': 977,\n",
              " 'late': 978,\n",
              " 'guidelines': 979,\n",
              " 'bowel': 980,\n",
              " 'simple': 981,\n",
              " 'direct': 982,\n",
              " 'even': 983,\n",
              " 'degree': 984,\n",
              " 'vaccination': 985,\n",
              " 'rapid': 986,\n",
              " 'behaviors': 987,\n",
              " 'immune': 988,\n",
              " 'detection': 989,\n",
              " 'third': 990,\n",
              " 'noted': 991,\n",
              " 'associations': 992,\n",
              " 'little': 993,\n",
              " 'count': 994,\n",
              " 'signs': 995,\n",
              " 'met': 996,\n",
              " 'toxicity': 997,\n",
              " 'useful': 998,\n",
              " 'involved': 999,\n",
              " ...}"
            ]
          },
          "metadata": {},
          "execution_count": 16
        }
      ]
    },
    {
      "cell_type": "code",
      "source": [
        "# Creating a function that will give us. a embedding matrix\n",
        "def get_glove_embedding_matrix(num_tokens, embedding_dim, word_index):\n",
        "\n",
        "  # Defining the hits and misses here\n",
        "  hits, misses = 0,0\n",
        "\n",
        "  # Prepare the embedding matrix\n",
        "  embedding_matrix = np.zeros((num_tokens, embedding_dim))\n",
        "  for word, i in word_index.items():\n",
        "    embedding_vector = embedding_index.get(word)\n",
        "    if embedding_vector is not None:\n",
        "      embedding_matrix[i] = embedding_vector\n",
        "      hits += 1\n",
        "    else:\n",
        "      misses += 1\n",
        "\n",
        "  return embedding_matrix, hits, misses"
      ],
      "metadata": {
        "id": "X_nDf3epG6IT"
      },
      "execution_count": 17,
      "outputs": []
    },
    {
      "cell_type": "code",
      "source": [
        "num_tokens_text = len(text_vocab)+2 # All number of the words\n",
        "embedding_dim = 100\n",
        "\n",
        "sentence_embedding_matrix , hits_ , misses_ = get_glove_embedding_matrix(num_tokens_text , embedding_dim, word_index_text)\n",
        "\n",
        "print(f'Hits: {hits_} and Misses: {misses_} for the sentence embedding matrix')\n"
      ],
      "metadata": {
        "colab": {
          "base_uri": "https://localhost:8080/"
        },
        "id": "mVjfBrjoHhuU",
        "outputId": "b2d0edbd-2365-4c63-bdcd-01cf49e1d9b1"
      },
      "execution_count": 18,
      "outputs": [
        {
          "output_type": "stream",
          "name": "stdout",
          "text": [
            "Hits: 29730 and Misses: 35111 for the sentence embedding matrix\n"
          ]
        }
      ]
    },
    {
      "cell_type": "code",
      "source": [
        "# Adding the embedding matrix to our Embedding layer (Sentence and characters)\n",
        "from tensorflow.keras.layers import Embedding\n",
        "\n",
        "sen_embedding_layer = Embedding(num_tokens_text , \n",
        "                            embedding_dim , \n",
        "                            embeddings_initializer = tf.keras.initializers.Constant(sentence_embedding_matrix) , \n",
        "                            trainable = False,\n",
        "                            name=\"glove_embedding\")"
      ],
      "metadata": {
        "id": "7sFGwKWAMgNn"
      },
      "execution_count": 19,
      "outputs": []
    },
    {
      "cell_type": "code",
      "source": [
        "# Checking the sentence before and after all the vectorization and embedding\n",
        "import random\n",
        "\n",
        "random_sentence = random.choice(train_sentences)\n",
        "\n",
        "print(f\"Example of train sentence:\\n{random_sentence}\")\n",
        "\n",
        "print(\"=======\\n\")\n",
        "print(f\"Text vectorization:\\n{text_vectorizer(random_sentence)}\")\n",
        "print(f\"Text vectorization shape: {text_vectorizer(random_sentence).shape}\")\n",
        "\n",
        "print(\"=======\\n\")\n",
        "print(f\"Embedded Text:\\n{sen_embedding_layer(text_vectorizer(random_sentence))}\\n\")\n",
        "print(f\"Embedded text shape: {sen_embedding_layer(text_vectorizer(random_sentence)).shape}\")\n"
      ],
      "metadata": {
        "colab": {
          "base_uri": "https://localhost:8080/"
        },
        "id": "3dWfojCd9GON",
        "outputId": "c8973125-2680-412a-fa5f-a468a066af36"
      },
      "execution_count": 37,
      "outputs": [
        {
          "output_type": "stream",
          "name": "stdout",
          "text": [
            "Example of train sentence:\n",
            "two important implications of these findings are that wisdom entails an appreciation of life and its experiences , especially the growth opportunities that may result from negative events , and that there may be substantial differences between male and female pathways to wisdom .\n",
            "=======\n",
            "\n",
            "Text vectorization:\n",
            "[   51   430  1946     4   111   310    58    28 12856 17238    26 14242\n",
            "     4   195     3   308  2124  1006     2   621  4064    28    91   692\n",
            "    27   469   124     3    28    61    91    36  1492   102    30   564\n",
            "     3   619  2819     6 12856     0     0     0     0     0     0     0\n",
            "     0     0     0     0     0     0     0     0]\n",
            "Text vectorization shape: (56,)\n",
            "=======\n",
            "\n",
            "Embedded Text:\n",
            "[[-2.0154e-01  3.2739e-01  4.7580e-04 ...  2.3054e-02  5.4016e-01\n",
            "  -8.0331e-02]\n",
            " [-5.5556e-01  2.7332e-01  9.8191e-02 ... -1.0519e+00  3.4562e-01\n",
            "   1.1396e+00]\n",
            " [ 2.3927e-01  3.3944e-01  6.0325e-01 ... -2.3648e-01  3.9020e-01\n",
            "   6.3559e-01]\n",
            " ...\n",
            " [ 0.0000e+00  0.0000e+00  0.0000e+00 ...  0.0000e+00  0.0000e+00\n",
            "   0.0000e+00]\n",
            " [ 0.0000e+00  0.0000e+00  0.0000e+00 ...  0.0000e+00  0.0000e+00\n",
            "   0.0000e+00]\n",
            " [ 0.0000e+00  0.0000e+00  0.0000e+00 ...  0.0000e+00  0.0000e+00\n",
            "   0.0000e+00]]\n",
            "\n",
            "Embedded text shape: (56, 100)\n"
          ]
        }
      ]
    },
    {
      "cell_type": "code",
      "source": [
        "# Creating the datasets for our both sentences and chars  \n",
        "\n",
        "train_sen_vectors = text_vectorizer(np.array([[sen] for sen in train_sentences])).numpy()\n",
        "val_sen_vectors = text_vectorizer(np.array([[sen] for sen in val_sentences])).numpy()\n",
        "\n",
        "# Training and validation dataset \n",
        "train_ds = tf.data.Dataset.from_tensor_slices((train_sen_vectors , train_labels_encoded)) # For model 1\n",
        "val_ds = tf.data.Dataset.from_tensor_slices((val_sen_vectors , val_labels_encoded))\n",
        "\n",
        "\n",
        "# Applying the batch size and prefetching (performance optimization )\n",
        "train_ds = train_ds.batch(32).prefetch(tf.data.AUTOTUNE)\n",
        "val_ds = val_ds.batch(32).prefetch(tf.data.AUTOTUNE)\n",
        "\n",
        "\n",
        "train_ds,  val_ds"
      ],
      "metadata": {
        "colab": {
          "base_uri": "https://localhost:8080/"
        },
        "id": "4twA5EwwMscr",
        "outputId": "8454612a-6cf9-409e-df25-37cb983e87ef"
      },
      "execution_count": 21,
      "outputs": [
        {
          "output_type": "execute_result",
          "data": {
            "text/plain": [
              "(<PrefetchDataset element_spec=(TensorSpec(shape=(None, 56), dtype=tf.int64, name=None), TensorSpec(shape=(None,), dtype=tf.int64, name=None))>,\n",
              " <PrefetchDataset element_spec=(TensorSpec(shape=(None, 56), dtype=tf.int64, name=None), TensorSpec(shape=(None,), dtype=tf.int64, name=None))>)"
            ]
          },
          "metadata": {},
          "execution_count": 21
        }
      ]
    },
    {
      "cell_type": "code",
      "source": [
        "# Check the shape of the input\n",
        "train_sen_vectors.shape"
      ],
      "metadata": {
        "colab": {
          "base_uri": "https://localhost:8080/"
        },
        "id": "DfxdGbakM0L8",
        "outputId": "ec23973f-3440-42db-c061-7d6c0ec2e5c4"
      },
      "execution_count": 22,
      "outputs": [
        {
          "output_type": "execute_result",
          "data": {
            "text/plain": [
              "(180040, 56)"
            ]
          },
          "metadata": {},
          "execution_count": 22
        }
      ]
    },
    {
      "cell_type": "code",
      "source": [
        "train_sen_vectors[0].shape"
      ],
      "metadata": {
        "colab": {
          "base_uri": "https://localhost:8080/"
        },
        "id": "tLlgrUvfPbLo",
        "outputId": "b0365dcc-622b-4281-fac7-3bc0aec8a040"
      },
      "execution_count": 23,
      "outputs": [
        {
          "output_type": "execute_result",
          "data": {
            "text/plain": [
              "(56,)"
            ]
          },
          "metadata": {},
          "execution_count": 23
        }
      ]
    },
    {
      "cell_type": "markdown",
      "source": [
        "### Model 0: Glove embedding test with sentences"
      ],
      "metadata": {
        "id": "nGyxZvZTAKC7"
      }
    },
    {
      "cell_type": "code",
      "source": [
        "train_dataset = tf.data.Dataset.from_tensor_slices((train_sentences, train_labels_one_hot))\n",
        "valid_dataset = tf.data.Dataset.from_tensor_slices((val_sentences, val_labels_one_hot))\n",
        "\n",
        "train_dataset = train_dataset.batch(32).prefetch(tf.data.AUTOTUNE)\n",
        "valid_dataset = valid_dataset.batch(32).prefetch(tf.data.AUTOTUNE)"
      ],
      "metadata": {
        "id": "c5Kp0YV6GCCp"
      },
      "execution_count": 24,
      "outputs": []
    },
    {
      "cell_type": "code",
      "source": [
        "len(train_sentences), len(train_labels_one_hot)"
      ],
      "metadata": {
        "colab": {
          "base_uri": "https://localhost:8080/"
        },
        "id": "fSh9lM2iIzAj",
        "outputId": "8933cf62-ea6c-4886-9200-8eee3a251af0"
      },
      "execution_count": 25,
      "outputs": [
        {
          "output_type": "execute_result",
          "data": {
            "text/plain": [
              "(180040, 180040)"
            ]
          },
          "metadata": {},
          "execution_count": 25
        }
      ]
    },
    {
      "cell_type": "code",
      "source": [
        "tf.random.set_seed(123)\n",
        "\n",
        "# Sample\n",
        "inputs = layers.Input(shape= (1,), dtype=\"string\")\n",
        "text_vector = text_vectorizer(inputs)\n",
        "glove_emb = sen_embedding_layer(text_vector)\n",
        "x = layers.Conv1D(128, 5, activation=\"relu\", padding=\"same\")(glove_emb)\n",
        "x = layers.AveragePooling1D(5, padding=\"same\")(x)\n",
        "x = layers.Conv1D(64, 5, activation=\"relu\", padding=\"same\")(x)\n",
        "x = layers.AveragePooling1D(5, padding=\"same\")(x)\n",
        "x = layers.Conv1D(32, 5, activation=\"relu\", padding=\"same\")(x)\n",
        "x = layers.GlobalAveragePooling1D()(x)\n",
        "x = layers.Dense(128, activation=\"relu\")(x)\n",
        "x = layers.Dropout(0.5)(x)\n",
        "outputs = layers.Dense(len(class_names), activation=\"softmax\")(x)\n",
        "\n",
        "model_0 = tf.keras.Model(inputs, outputs, name=\"conv1d_global_average_pooling\")\n",
        "model_0.summary()"
      ],
      "metadata": {
        "colab": {
          "base_uri": "https://localhost:8080/"
        },
        "id": "adUtUtlZAOje",
        "outputId": "7d430913-c068-4ab2-85ec-50dbe32d91c5"
      },
      "execution_count": 26,
      "outputs": [
        {
          "output_type": "stream",
          "name": "stdout",
          "text": [
            "Model: \"conv1d_global_average_pooling\"\n",
            "_________________________________________________________________\n",
            " Layer (type)                Output Shape              Param #   \n",
            "=================================================================\n",
            " input_1 (InputLayer)        [(None, 1)]               0         \n",
            "                                                                 \n",
            " text_vectorization (TextVec  (None, 56)               0         \n",
            " torization)                                                     \n",
            "                                                                 \n",
            " glove_embedding (Embedding)  (None, 56, 100)          6484300   \n",
            "                                                                 \n",
            " conv1d (Conv1D)             (None, 56, 128)           64128     \n",
            "                                                                 \n",
            " average_pooling1d (AverageP  (None, 12, 128)          0         \n",
            " ooling1D)                                                       \n",
            "                                                                 \n",
            " conv1d_1 (Conv1D)           (None, 12, 64)            41024     \n",
            "                                                                 \n",
            " average_pooling1d_1 (Averag  (None, 3, 64)            0         \n",
            " ePooling1D)                                                     \n",
            "                                                                 \n",
            " conv1d_2 (Conv1D)           (None, 3, 32)             10272     \n",
            "                                                                 \n",
            " global_average_pooling1d (G  (None, 32)               0         \n",
            " lobalAveragePooling1D)                                          \n",
            "                                                                 \n",
            " dense (Dense)               (None, 128)               4224      \n",
            "                                                                 \n",
            " dropout (Dropout)           (None, 128)               0         \n",
            "                                                                 \n",
            " dense_1 (Dense)             (None, 5)                 645       \n",
            "                                                                 \n",
            "=================================================================\n",
            "Total params: 6,604,593\n",
            "Trainable params: 120,293\n",
            "Non-trainable params: 6,484,300\n",
            "_________________________________________________________________\n"
          ]
        }
      ]
    },
    {
      "cell_type": "code",
      "source": [
        "model_0.compile(loss=tf.keras.losses.CategoricalCrossentropy(),\n",
        "                    optimizer=tf.keras.optimizers.Adam(),\n",
        "                    metrics=[\"accuracy\"])\n",
        "\n",
        "model_0.fit(train_dataset,\n",
        "            epochs=5,\n",
        "            validation_data=valid_dataset)"
      ],
      "metadata": {
        "colab": {
          "base_uri": "https://localhost:8080/"
        },
        "id": "2EhvOHwiFcrp",
        "outputId": "f05708db-afa0-43d0-9c83-599f0dc38399"
      },
      "execution_count": 27,
      "outputs": [
        {
          "output_type": "stream",
          "name": "stdout",
          "text": [
            "Epoch 1/5\n",
            "5627/5627 [==============================] - 39s 5ms/step - loss: 0.6639 - accuracy: 0.7522 - val_loss: 0.5265 - val_accuracy: 0.8051\n",
            "Epoch 2/5\n",
            "5627/5627 [==============================] - 29s 5ms/step - loss: 0.5244 - accuracy: 0.8106 - val_loss: 0.5059 - val_accuracy: 0.8138\n",
            "Epoch 3/5\n",
            "5627/5627 [==============================] - 29s 5ms/step - loss: 0.4768 - accuracy: 0.8280 - val_loss: 0.5043 - val_accuracy: 0.8149\n",
            "Epoch 4/5\n",
            "5627/5627 [==============================] - 30s 5ms/step - loss: 0.4404 - accuracy: 0.8413 - val_loss: 0.5209 - val_accuracy: 0.8140\n",
            "Epoch 5/5\n",
            "5627/5627 [==============================] - 29s 5ms/step - loss: 0.4128 - accuracy: 0.8501 - val_loss: 0.5727 - val_accuracy: 0.8054\n"
          ]
        },
        {
          "output_type": "execute_result",
          "data": {
            "text/plain": [
              "<keras.callbacks.History at 0x7f9c200f3250>"
            ]
          },
          "metadata": {},
          "execution_count": 27
        }
      ]
    },
    {
      "cell_type": "code",
      "source": [
        "evaluate_0 = model_0.evaluate(valid_dataset)"
      ],
      "metadata": {
        "colab": {
          "base_uri": "https://localhost:8080/"
        },
        "id": "FnFx27VuLSeJ",
        "outputId": "51b2fa0e-be85-4098-c3c7-1a1c6267b76e"
      },
      "execution_count": 28,
      "outputs": [
        {
          "output_type": "stream",
          "name": "stdout",
          "text": [
            "945/945 [==============================] - 3s 3ms/step - loss: 0.5727 - accuracy: 0.8054\n"
          ]
        }
      ]
    },
    {
      "cell_type": "markdown",
      "source": [
        "### Model 1: Glove embedding with GlobalAveragePooling"
      ],
      "metadata": {
        "id": "nb-HJfux_c-M"
      }
    },
    {
      "cell_type": "code",
      "source": [
        "tf.random.set_seed(123)\n",
        "\n",
        "# Sample\n",
        "inputs = layers.Input(shape= (None,), dtype=\"int64\") # Data is already `int64` because we already vectorize it.\n",
        "glove_emb = sen_embedding_layer(inputs)\n",
        "x = layers.Conv1D(128, 5, activation=\"relu\", padding=\"same\")(glove_emb)\n",
        "x = layers.AveragePooling1D(5, padding=\"same\")(x)\n",
        "x = layers.Conv1D(64, 5, activation=\"relu\", padding=\"same\")(x)\n",
        "x = layers.GlobalAveragePooling1D()(x)\n",
        "x = layers.Dense(128, activation=\"relu\")(x)\n",
        "x = layers.Dense(32, activation=\"relu\")(x)\n",
        "x = layers.Dropout(0.5)(x)\n",
        "outputs = layers.Dense(len(class_names), activation=\"softmax\")(x)\n",
        "\n",
        "model_1 = tf.keras.Model(inputs, outputs, name=\"conv1d_global_average_pooling\")\n",
        "model_1.summary()"
      ],
      "metadata": {
        "colab": {
          "base_uri": "https://localhost:8080/"
        },
        "id": "FoUVRi2aNPHR",
        "outputId": "0a24d4db-6c6a-4ea1-edf7-916378b2f6df"
      },
      "execution_count": 43,
      "outputs": [
        {
          "output_type": "stream",
          "name": "stdout",
          "text": [
            "Model: \"conv1d_global_average_pooling\"\n",
            "_________________________________________________________________\n",
            " Layer (type)                Output Shape              Param #   \n",
            "=================================================================\n",
            " input_4 (InputLayer)        [(None, None)]            0         \n",
            "                                                                 \n",
            " glove_embedding (Embedding)  multiple                 6484300   \n",
            "                                                                 \n",
            " conv1d_9 (Conv1D)           (None, None, 128)         64128     \n",
            "                                                                 \n",
            " average_pooling1d_4 (Averag  (None, None, 128)        0         \n",
            " ePooling1D)                                                     \n",
            "                                                                 \n",
            " conv1d_10 (Conv1D)          (None, None, 64)          41024     \n",
            "                                                                 \n",
            " global_average_pooling1d_2   (None, 64)               0         \n",
            " (GlobalAveragePooling1D)                                        \n",
            "                                                                 \n",
            " dense_6 (Dense)             (None, 128)               8320      \n",
            "                                                                 \n",
            " dropout_3 (Dropout)         (None, 128)               0         \n",
            "                                                                 \n",
            " dense_7 (Dense)             (None, 5)                 645       \n",
            "                                                                 \n",
            "=================================================================\n",
            "Total params: 6,598,417\n",
            "Trainable params: 114,117\n",
            "Non-trainable params: 6,484,300\n",
            "_________________________________________________________________\n"
          ]
        }
      ]
    },
    {
      "cell_type": "code",
      "source": [
        "model_1.compile(loss=tf.keras.losses.SparseCategoricalCrossentropy(),\n",
        "                    optimizer=tf.keras.optimizers.Adam(),\n",
        "                    metrics=[\"accuracy\"])\n",
        "\n",
        "model_1.fit(train_ds,\n",
        "            epochs=5,   \n",
        "            validation_data = val_ds)"
      ],
      "metadata": {
        "colab": {
          "base_uri": "https://localhost:8080/"
        },
        "id": "K-L_KGUW25xL",
        "outputId": "17d5bb68-a768-4a67-9e0e-e648642e8ad2"
      },
      "execution_count": 44,
      "outputs": [
        {
          "output_type": "stream",
          "name": "stdout",
          "text": [
            "Epoch 1/5\n",
            "5627/5627 [==============================] - 27s 5ms/step - loss: 0.6674 - accuracy: 0.7519 - val_loss: 0.5334 - val_accuracy: 0.8027\n",
            "Epoch 2/5\n",
            "5627/5627 [==============================] - 23s 4ms/step - loss: 0.5270 - accuracy: 0.8080 - val_loss: 0.5103 - val_accuracy: 0.8120\n",
            "Epoch 3/5\n",
            "5627/5627 [==============================] - 25s 4ms/step - loss: 0.4832 - accuracy: 0.8244 - val_loss: 0.4937 - val_accuracy: 0.8202\n",
            "Epoch 4/5\n",
            "5627/5627 [==============================] - 23s 4ms/step - loss: 0.4501 - accuracy: 0.8364 - val_loss: 0.5056 - val_accuracy: 0.8171\n",
            "Epoch 5/5\n",
            "5627/5627 [==============================] - 25s 4ms/step - loss: 0.4226 - accuracy: 0.8453 - val_loss: 0.5098 - val_accuracy: 0.8170\n"
          ]
        },
        {
          "output_type": "execute_result",
          "data": {
            "text/plain": [
              "<keras.callbacks.History at 0x7f9c36d06dd0>"
            ]
          },
          "metadata": {},
          "execution_count": 44
        }
      ]
    },
    {
      "cell_type": "code",
      "source": [
        "evaluate_1 = model_1.evaluate(val_ds)"
      ],
      "metadata": {
        "colab": {
          "base_uri": "https://localhost:8080/"
        },
        "id": "iOLk-N4N4J1A",
        "outputId": "761daac4-8c06-4a2e-835d-9c3bc24593d2"
      },
      "execution_count": 45,
      "outputs": [
        {
          "output_type": "stream",
          "name": "stdout",
          "text": [
            "945/945 [==============================] - 2s 2ms/step - loss: 0.5098 - accuracy: 0.8170\n"
          ]
        }
      ]
    },
    {
      "cell_type": "markdown",
      "source": [
        "### Model 2: Glove embedding with MaxPooling"
      ],
      "metadata": {
        "id": "B6Rxzo4-AsIn"
      }
    },
    {
      "cell_type": "code",
      "source": [
        "tf.random.set_seed(123)\n",
        "\n",
        "# Sample\n",
        "inputs = layers.Input(shape= (None,), dtype=\"int64\") # Data is already `int64` because we already vectorize it.\n",
        "glove_emb = sen_embedding_layer(inputs)\n",
        "x = layers.Conv1D(128, 5, activation=\"relu\", padding=\"same\")(glove_emb)\n",
        "x = layers.MaxPooling1D(5, padding=\"same\")(x)\n",
        "x = layers.Conv1D(32, 5, activation=\"relu\", padding=\"same\")(x)\n",
        "x = layers.GlobalMaxPooling1D()(x)\n",
        "x = layers.Dense(128, activation=\"relu\")(x)\n",
        "x = layers.Dense(32, activation=\"relu\")(x)\n",
        "x = layers.Dropout(0.5)(x)\n",
        "outputs = layers.Dense(len(class_names), activation=\"softmax\")(x)\n",
        "\n",
        "model_2 = tf.keras.Model(inputs, outputs, name=\"conv1d_global_average_pooling\")\n",
        "model_2.summary()"
      ],
      "metadata": {
        "colab": {
          "base_uri": "https://localhost:8080/"
        },
        "id": "Ss3_AdRG8QkB",
        "outputId": "54a49d43-b0c9-4c4a-f3d7-2c29440fcfe1"
      },
      "execution_count": 48,
      "outputs": [
        {
          "output_type": "stream",
          "name": "stdout",
          "text": [
            "Model: \"conv1d_global_average_pooling\"\n",
            "_________________________________________________________________\n",
            " Layer (type)                Output Shape              Param #   \n",
            "=================================================================\n",
            " input_6 (InputLayer)        [(None, None)]            0         \n",
            "                                                                 \n",
            " glove_embedding (Embedding)  multiple                 6484300   \n",
            "                                                                 \n",
            " conv1d_14 (Conv1D)          (None, None, 128)         64128     \n",
            "                                                                 \n",
            " max_pooling1d_4 (MaxPooling  (None, None, 128)        0         \n",
            " 1D)                                                             \n",
            "                                                                 \n",
            " conv1d_15 (Conv1D)          (None, None, 32)          20512     \n",
            "                                                                 \n",
            " global_max_pooling1d_2 (Glo  (None, 32)               0         \n",
            " balMaxPooling1D)                                                \n",
            "                                                                 \n",
            " dense_10 (Dense)            (None, 128)               4224      \n",
            "                                                                 \n",
            " dense_11 (Dense)            (None, 32)                4128      \n",
            "                                                                 \n",
            " dropout_5 (Dropout)         (None, 32)                0         \n",
            "                                                                 \n",
            " dense_12 (Dense)            (None, 5)                 165       \n",
            "                                                                 \n",
            "=================================================================\n",
            "Total params: 6,577,457\n",
            "Trainable params: 93,157\n",
            "Non-trainable params: 6,484,300\n",
            "_________________________________________________________________\n"
          ]
        }
      ]
    },
    {
      "cell_type": "code",
      "source": [
        "model_2.compile(loss=tf.keras.losses.SparseCategoricalCrossentropy(),\n",
        "                    optimizer=tf.keras.optimizers.Adam(),\n",
        "                    metrics=[\"accuracy\"])\n",
        "\n",
        "model_2.fit(train_ds,\n",
        "            epochs=5,   \n",
        "            validation_data = val_ds)"
      ],
      "metadata": {
        "colab": {
          "base_uri": "https://localhost:8080/"
        },
        "id": "lyAMSWlKAyCR",
        "outputId": "bc6b6cc7-4382-40c0-e5fb-21f39753700a"
      },
      "execution_count": 49,
      "outputs": [
        {
          "output_type": "stream",
          "name": "stdout",
          "text": [
            "Epoch 1/5\n",
            "5627/5627 [==============================] - 24s 4ms/step - loss: 0.7469 - accuracy: 0.7232 - val_loss: 0.6091 - val_accuracy: 0.7770\n",
            "Epoch 2/5\n",
            "5627/5627 [==============================] - 23s 4ms/step - loss: 0.5976 - accuracy: 0.7890 - val_loss: 0.5399 - val_accuracy: 0.8023\n",
            "Epoch 3/5\n",
            "5627/5627 [==============================] - 23s 4ms/step - loss: 0.5473 - accuracy: 0.8063 - val_loss: 0.5628 - val_accuracy: 0.8017\n",
            "Epoch 4/5\n",
            "5627/5627 [==============================] - 35s 6ms/step - loss: 0.5174 - accuracy: 0.8167 - val_loss: 0.5805 - val_accuracy: 0.8007\n",
            "Epoch 5/5\n",
            "5627/5627 [==============================] - 30s 5ms/step - loss: 0.4917 - accuracy: 0.8246 - val_loss: 0.5631 - val_accuracy: 0.8035\n"
          ]
        },
        {
          "output_type": "execute_result",
          "data": {
            "text/plain": [
              "<keras.callbacks.History at 0x7f9c396bc710>"
            ]
          },
          "metadata": {},
          "execution_count": 49
        }
      ]
    },
    {
      "cell_type": "code",
      "source": [
        "evaluate_2 = model_2.evaluate(val_ds)"
      ],
      "metadata": {
        "colab": {
          "base_uri": "https://localhost:8080/"
        },
        "id": "pJlrLaSHEheb",
        "outputId": "6c136004-d34e-4063-8205-d2929cbb935c"
      },
      "execution_count": 50,
      "outputs": [
        {
          "output_type": "stream",
          "name": "stdout",
          "text": [
            "945/945 [==============================] - 2s 2ms/step - loss: 0.5631 - accuracy: 0.8035\n"
          ]
        }
      ]
    },
    {
      "cell_type": "markdown",
      "source": [
        "## Create a character-level vectorization and embedding"
      ],
      "metadata": {
        "id": "snAD8vYWEoZY"
      }
    },
    {
      "cell_type": "code",
      "source": [
        "# Make function to split sentences into characters\n",
        "def split_chars(text):\n",
        "  return \" \".join(list(text))\n",
        "\n",
        "# Test splitting non-character-level sequence into characters\n",
        "random_sentence = random.choice(train_sentences)\n",
        "split_chars(random_sentence)"
      ],
      "metadata": {
        "colab": {
          "base_uri": "https://localhost:8080/",
          "height": 70
        },
        "id": "kHGhAzTdcOj-",
        "outputId": "e26eb8e4-ba92-4f27-c71e-a91ee2d1e39f"
      },
      "execution_count": 35,
      "outputs": [
        {
          "output_type": "execute_result",
          "data": {
            "text/plain": [
              "'a f t e r   t r e a t m e n t   ,   t h e   t i m e s   o f   u r i n e   l e a k a g e   ,   m a x i m u m   u r i n e   o u t p u t   ,   b l a d d e r   c a p a c i t y   a n d   r e s i d u a l   u r i n e   w e r e   a l l   i m p r o v e d   i n   t w o   g r o u p s   (   a l l   p   <   @   )   .'"
            ],
            "application/vnd.google.colaboratory.intrinsic+json": {
              "type": "string"
            }
          },
          "metadata": {},
          "execution_count": 35
        }
      ]
    },
    {
      "cell_type": "code",
      "source": [
        "# Spit all the sentence in train sentences to char-level\n",
        "train_chars = [split_chars(sentence) for sentence in train_sentences]\n",
        "val_chars = [split_chars(sentence) for sentence in val_sentences]\n",
        "test_chars = [split_chars(sentence) for sentence in test_sentences]\n",
        "train_chars[0]"
      ],
      "metadata": {
        "colab": {
          "base_uri": "https://localhost:8080/",
          "height": 105
        },
        "id": "xEXN9UP_fH5R",
        "outputId": "db9a66bf-634b-4a5d-e0cc-e5eb801d63e4"
      },
      "execution_count": 38,
      "outputs": [
        {
          "output_type": "execute_result",
          "data": {
            "text/plain": [
              "'t o   i n v e s t i g a t e   t h e   e f f i c a c y   o f   @   w e e k s   o f   d a i l y   l o w - d o s e   o r a l   p r e d n i s o l o n e   i n   i m p r o v i n g   p a i n   ,   m o b i l i t y   ,   a n d   s y s t e m i c   l o w - g r a d e   i n f l a m m a t i o n   i n   t h e   s h o r t   t e r m   a n d   w h e t h e r   t h e   e f f e c t   w o u l d   b e   s u s t a i n e d   a t   @   w e e k s   i n   o l d e r   a d u l t s   w i t h   m o d e r a t e   t o   s e v e r e   k n e e   o s t e o a r t h r i t i s   (   o a   )   .'"
            ],
            "application/vnd.google.colaboratory.intrinsic+json": {
              "type": "string"
            }
          },
          "metadata": {},
          "execution_count": 38
        }
      ]
    },
    {
      "cell_type": "code",
      "source": [
        "# Finding most of the character length in a sentence\n",
        "char_lens = [len(sentence) for sentence in train_sentences]\n",
        "np.mean(char_lens)"
      ],
      "metadata": {
        "colab": {
          "base_uri": "https://localhost:8080/"
        },
        "id": "fJhzze2OfpnU",
        "outputId": "939697ba-d8bd-4d0f-b30e-ff3afe1e1751"
      },
      "execution_count": 51,
      "outputs": [
        {
          "output_type": "execute_result",
          "data": {
            "text/plain": [
              "149.3662574983337"
            ]
          },
          "metadata": {},
          "execution_count": 51
        }
      ]
    },
    {
      "cell_type": "code",
      "source": [
        "# Find 95% of the character length\n",
        "output_seq_char_len = int(np.percentile(char_lens,95))\n",
        "output_seq_char_len"
      ],
      "metadata": {
        "colab": {
          "base_uri": "https://localhost:8080/"
        },
        "id": "yeu40hdThLP1",
        "outputId": "5f38ee37-75a5-4d5e-c5b1-232c6d8e0fc0"
      },
      "execution_count": 52,
      "outputs": [
        {
          "output_type": "execute_result",
          "data": {
            "text/plain": [
              "290"
            ]
          },
          "metadata": {},
          "execution_count": 52
        }
      ]
    },
    {
      "cell_type": "code",
      "source": [
        "# Get all keyboard characters for char-level embedding (for text-vectorization)\n",
        "import string\n",
        "alphabet = string.ascii_lowercase + string.digits + string.punctuation\n",
        "alphabet"
      ],
      "metadata": {
        "colab": {
          "base_uri": "https://localhost:8080/",
          "height": 36
        },
        "id": "q1EdTMflhS3y",
        "outputId": "7e8651d3-f470-4f74-98b8-563c242cd9ca"
      },
      "execution_count": 53,
      "outputs": [
        {
          "output_type": "execute_result",
          "data": {
            "text/plain": [
              "'abcdefghijklmnopqrstuvwxyz0123456789!\"#$%&\\'()*+,-./:;<=>?@[\\\\]^_`{|}~'"
            ],
            "application/vnd.google.colaboratory.intrinsic+json": {
              "type": "string"
            }
          },
          "metadata": {},
          "execution_count": 53
        }
      ]
    },
    {
      "cell_type": "markdown",
      "source": [
        "### Char-level text vectorization"
      ],
      "metadata": {
        "id": "6EdPR1_jhg4g"
      }
    },
    {
      "cell_type": "code",
      "source": [
        "# Create char-level token vectorizer instance\n",
        "NUM_CHAR_TOKENS = len(alphabet) + 2 # num characters in alphabet + space + OOV token\n",
        "char_vectorizer = TextVectorization(max_tokens=NUM_CHAR_TOKENS+2,\n",
        "                                    output_sequence_length=output_seq_char_len,\n",
        "                                    standardize=\"lower_and_strip_punctuation\",\n",
        "                                    name=\"char_vectorizer\")\n",
        "\n",
        "# Adapt character vectorizer to the data\n",
        "char_vectorizer.adapt(train_chars)"
      ],
      "metadata": {
        "id": "_qOSd8B5hpDm"
      },
      "execution_count": 62,
      "outputs": []
    },
    {
      "cell_type": "code",
      "source": [
        "# Try vectorization on the random set of characters\n",
        "random_train_chars = random.choice(train_chars)\n",
        "\n",
        "random_train_chars, char_vectorizer(random_train_chars), char_vectorizer(random_train_chars).shape"
      ],
      "metadata": {
        "colab": {
          "base_uri": "https://localhost:8080/"
        },
        "id": "WtEziKfmipDH",
        "outputId": "50b31433-2760-48db-b4ce-76e32f847132"
      },
      "execution_count": 63,
      "outputs": [
        {
          "output_type": "execute_result",
          "data": {
            "text/plain": [
              "('e v e n t - f r e e   s u r v i v a l   a t   @   (   @   )   m o n t h s   w a s   o b s e r v e d   i n   @   %   (   @   %   )   o f   p a t i e n t s   r a n d o m i z e d   t o   a   m i d - s e p t a l   a n d   i n   @   %   (   @   %   )   o f   p a t i e n t s   r a n d o m i z e d   t o   a n   a p i c a l   l e a d   p o s i t i o n   ,   p   =   @   (   p   =   @   )   .',\n",
              " <tf.Tensor: shape=(290,), dtype=int64, numpy=\n",
              " array([ 2, 21,  2,  6,  3, 17,  8,  2,  2,  9, 16,  8, 21,  4, 21,  5, 12,\n",
              "         5,  3, 15,  7,  6,  3, 13,  9, 20,  5,  9,  7, 22,  9,  2,  8, 21,\n",
              "         2, 10,  4,  6,  7, 17, 14,  5,  3,  4,  2,  6,  3,  9,  8,  5,  6,\n",
              "        10,  7, 15,  4, 25,  2, 10,  3,  7,  5, 15,  4, 10,  9,  2, 14,  3,\n",
              "         5, 12,  5,  6, 10,  4,  6,  7, 17, 14,  5,  3,  4,  2,  6,  3,  9,\n",
              "         8,  5,  6, 10,  7, 15,  4, 25,  2, 10,  3,  7,  5,  6,  5, 14,  4,\n",
              "        11,  5, 12, 12,  2,  5, 10, 14,  7,  9,  4,  3,  4,  7,  6, 14, 14,\n",
              "         0,  0,  0,  0,  0,  0,  0,  0,  0,  0,  0,  0,  0,  0,  0,  0,  0,\n",
              "         0,  0,  0,  0,  0,  0,  0,  0,  0,  0,  0,  0,  0,  0,  0,  0,  0,\n",
              "         0,  0,  0,  0,  0,  0,  0,  0,  0,  0,  0,  0,  0,  0,  0,  0,  0,\n",
              "         0,  0,  0,  0,  0,  0,  0,  0,  0,  0,  0,  0,  0,  0,  0,  0,  0,\n",
              "         0,  0,  0,  0,  0,  0,  0,  0,  0,  0,  0,  0,  0,  0,  0,  0,  0,\n",
              "         0,  0,  0,  0,  0,  0,  0,  0,  0,  0,  0,  0,  0,  0,  0,  0,  0,\n",
              "         0,  0,  0,  0,  0,  0,  0,  0,  0,  0,  0,  0,  0,  0,  0,  0,  0,\n",
              "         0,  0,  0,  0,  0,  0,  0,  0,  0,  0,  0,  0,  0,  0,  0,  0,  0,\n",
              "         0,  0,  0,  0,  0,  0,  0,  0,  0,  0,  0,  0,  0,  0,  0,  0,  0,\n",
              "         0,  0,  0,  0,  0,  0,  0,  0,  0,  0,  0,  0,  0,  0,  0,  0,  0,\n",
              "         0])>,\n",
              " TensorShape([290]))"
            ]
          },
          "metadata": {},
          "execution_count": 63
        }
      ]
    },
    {
      "cell_type": "code",
      "source": [
        "char_vocab = char_vectorizer.get_vocabulary()\n",
        "print(f\"Number of different characters in character vocab: {len(char_vocab)}\")\n",
        "print(f\"5 most common characters: {char_vocab[:5]}\")\n",
        "print(f\"5 least common characters: {char_vocab[-5:]}\")"
      ],
      "metadata": {
        "colab": {
          "base_uri": "https://localhost:8080/"
        },
        "id": "7CRFzN4UiyYQ",
        "outputId": "94ba09e4-ac2d-4ab5-c2b2-8b9959beefaa"
      },
      "execution_count": 64,
      "outputs": [
        {
          "output_type": "stream",
          "name": "stdout",
          "text": [
            "Number of different characters in character vocab: 28\n",
            "5 most common characters: ['', '[UNK]', 'e', 't', 'i']\n",
            "5 least common characters: ['k', 'x', 'z', 'q', 'j']\n"
          ]
        }
      ]
    },
    {
      "cell_type": "markdown",
      "source": [
        "### Char-level text embedding"
      ],
      "metadata": {
        "id": "kmG1CtSfjsGf"
      }
    },
    {
      "cell_type": "code",
      "source": [
        "char_embedder = layers.Embedding(input_dim=NUM_CHAR_TOKENS,\n",
        "                 output_dim=40,\n",
        "                 name=\"char_embed\")"
      ],
      "metadata": {
        "id": "AEThoAsumhuD"
      },
      "execution_count": 77,
      "outputs": []
    },
    {
      "cell_type": "code",
      "source": [
        "# Test out character embedding layer\n",
        "random_chars = random.choice(train_chars)\n",
        "print(f\"Random sentence to character level:\\n {random_chars}\")\n",
        "print(\"===========\")\n",
        "print(f\"Sentence after text vectorization:\\n {char_vectorizer(random_chars)}\")\n",
        "print(\"===========\")\n",
        "print(f\"Sentence after text embedding:\\n{char_embedding(char_vectorizer(random_chars))}\")\n",
        "print(\"===========\\n\")\n",
        "\n",
        "print(f\"Shape of text vectorization: {char_vectorizer(random_chars).shape}\")\n",
        "print(f\"Shape of text embedding: {char_embedding(char_vectorizer(random_chars)).shape}\")"
      ],
      "metadata": {
        "colab": {
          "base_uri": "https://localhost:8080/"
        },
        "id": "QcHxZFeWoCEA",
        "outputId": "c36fdcc2-56f9-4f30-a927-d5cdfda89841"
      },
      "execution_count": 78,
      "outputs": [
        {
          "output_type": "stream",
          "name": "stdout",
          "text": [
            "Random sentence to character level:\n",
            " b o t h   t h e   g r o u p s   e x h i b i t e d   s i g n i f i c a n t l y - i m p r o v e d   a r e a r a t i o - t o t a l   v a l u e   a n d   i n s i g n i f i c a n t l y   d e t e r i o r a t e d   a r e a r a t i o - h o   v a l u e   t h r o u g h o u t   t h e   p o s t o p e r a t i v e   p e r i o d   .\n",
            "===========\n",
            "Sentence after text vectorization:\n",
            " [22  7  3 13  3 13  2 18  8  7 16 14  9  2 24 13  4 22  4  3  2 10  9  4\n",
            " 18  6  4 17  4 11  5  6  3 12 19  4 15 14  8  7 21  2 10  5  8  2  5  8\n",
            "  5  3  4  7  3  7  3  5 12 21  5 12 16  2  5  6 10  4  6  9  4 18  6  4\n",
            " 17  4 11  5  6  3 12 19 10  2  3  2  8  4  7  8  5  3  2 10  5  8  2  5\n",
            "  8  5  3  4  7 13  7 21  5 12 16  2  3 13  8  7 16 18 13  7 16  3  3 13\n",
            "  2 14  7  9  3  7 14  2  8  5  3  4 21  2 14  2  8  4  7 10  0  0  0  0\n",
            "  0  0  0  0  0  0  0  0  0  0  0  0  0  0  0  0  0  0  0  0  0  0  0  0\n",
            "  0  0  0  0  0  0  0  0  0  0  0  0  0  0  0  0  0  0  0  0  0  0  0  0\n",
            "  0  0  0  0  0  0  0  0  0  0  0  0  0  0  0  0  0  0  0  0  0  0  0  0\n",
            "  0  0  0  0  0  0  0  0  0  0  0  0  0  0  0  0  0  0  0  0  0  0  0  0\n",
            "  0  0  0  0  0  0  0  0  0  0  0  0  0  0  0  0  0  0  0  0  0  0  0  0\n",
            "  0  0  0  0  0  0  0  0  0  0  0  0  0  0  0  0  0  0  0  0  0  0  0  0\n",
            "  0  0]\n",
            "===========\n",
            "Sentence after text embedding:\n",
            "[[-0.00202372  0.04537294 -0.04554725 ... -0.03186416 -0.01192671\n",
            "  -0.01724144]\n",
            " [-0.01226574 -0.04798508 -0.02974325 ... -0.02326211 -0.02534065\n",
            "   0.01130683]\n",
            " [-0.03785819 -0.01202924  0.02687241 ...  0.02692647 -0.01375426\n",
            "   0.01199601]\n",
            " ...\n",
            " [ 0.00045379  0.03001885 -0.04334227 ...  0.0274708   0.0472677\n",
            "  -0.01912366]\n",
            " [ 0.00045379  0.03001885 -0.04334227 ...  0.0274708   0.0472677\n",
            "  -0.01912366]\n",
            " [ 0.00045379  0.03001885 -0.04334227 ...  0.0274708   0.0472677\n",
            "  -0.01912366]]\n",
            "===========\n",
            "\n",
            "Shape of text vectorization: (290,)\n",
            "Shape of text embedding: (290, 40)\n"
          ]
        }
      ]
    },
    {
      "cell_type": "markdown",
      "source": [
        "## Model 3: Combined AveragePoolingLayer with Chars embedding"
      ],
      "metadata": {
        "id": "CMLHjSyMoj9Q"
      }
    },
    {
      "cell_type": "code",
      "source": [
        "tf.random.set_seed(123)\n",
        "\n",
        "# 1. Setup glove embedding test AveragePooling\n",
        "glove_inputs = layers.Input(shape= (1,), dtype=\"string\", name=\"glove_inputs\")\n",
        "text_vector = text_vectorizer(glove_inputs)\n",
        "glove_emb = sen_embedding_layer(text_vector)\n",
        "x = layers.Conv1D(128, 5, activation=\"relu\", padding=\"same\")(glove_emb)\n",
        "x = layers.AveragePooling1D(5, padding=\"same\")(x)\n",
        "x = layers.Conv1D(64, 5, activation=\"relu\", padding=\"same\")(x)\n",
        "x = layers.AveragePooling1D(5, padding=\"same\")(x)\n",
        "x = layers.Conv1D(32, 5, activation=\"relu\", padding=\"same\")(x)\n",
        "x = layers.GlobalAveragePooling1D()(x)\n",
        "# print(x.shape)\n",
        "glove_embedding_outputs = layers.Dense(128, activation=\"relu\")(x)\n",
        "glove_model = tf.keras.Model(inputs=glove_inputs,\n",
        "                             outputs=glove_embedding_outputs)\n",
        "\n",
        "# 2. Setup char model\n",
        "char_inputs = layers.Input(shape=(1,), dtype=\"string\", name=\"char_inputs\")\n",
        "char_vectors = char_vectorizer(char_inputs)\n",
        "char_embedding = char_embedder(char_vectors)\n",
        "char_bi_lstm = layers.Bidirectional(layers.LSTM(25))(char_embedding)\n",
        "# print(char_bi_lstm.shape) # To check the shape for debugging\n",
        "char_model = tf.keras.Model(inputs=char_inputs,\n",
        "                            outputs=char_bi_lstm)\n",
        "\n",
        "# 3. Concatenate token and char inputs\n",
        "glove_char_concat = layers.Concatenate(name=\"glove_char_hybrid\")([glove_model.output,\n",
        "                                                                  char_model.output])\n",
        "\n",
        "# 4. Create outer layers and dropout\n",
        "combined_dropout = layers.Dropout(0.5)(glove_char_concat)\n",
        "final_layers = layers.Dense(128, activation=\"relu\")(combined_dropout)\n",
        "final_layers = layers.Dense(32, activation=\"relu\")(final_layers)\n",
        "final_layers = layers.Dropout(0.3)(final_layers)\n",
        "output_layer = layers.Dense(num_classes, activation=\"softmax\")(final_layers)\n",
        "\n",
        "# 5. Construct model\n",
        "model_3 = tf.keras.Model(inputs=[glove_model.input, char_model.input],\n",
        "                         outputs=output_layer,\n",
        "                         name=\"model_3_glove_char_embedding\")\n",
        "\n",
        "model_3.summary()"
      ],
      "metadata": {
        "colab": {
          "base_uri": "https://localhost:8080/"
        },
        "id": "q63e28GSpilU",
        "outputId": "472f29f4-c0f6-46ce-d037-9963a8e32133"
      },
      "execution_count": 124,
      "outputs": [
        {
          "output_type": "stream",
          "name": "stdout",
          "text": [
            "Model: \"model_3_glove_char_embedding\"\n",
            "__________________________________________________________________________________________________\n",
            " Layer (type)                   Output Shape         Param #     Connected to                     \n",
            "==================================================================================================\n",
            " glove_inputs (InputLayer)      [(None, 1)]          0           []                               \n",
            "                                                                                                  \n",
            " text_vectorization (TextVector  (None, 56)          0           ['glove_inputs[0][0]']           \n",
            " ization)                                                                                         \n",
            "                                                                                                  \n",
            " glove_embedding (Embedding)    multiple             6484300     ['text_vectorization[14][0]']    \n",
            "                                                                                                  \n",
            " conv1d_47 (Conv1D)             (None, 56, 128)      64128       ['glove_embedding[21][0]']       \n",
            "                                                                                                  \n",
            " average_pooling1d_21 (AverageP  (None, 12, 128)     0           ['conv1d_47[0][0]']              \n",
            " ooling1D)                                                                                        \n",
            "                                                                                                  \n",
            " conv1d_48 (Conv1D)             (None, 12, 64)       41024       ['average_pooling1d_21[0][0]']   \n",
            "                                                                                                  \n",
            " average_pooling1d_22 (AverageP  (None, 3, 64)       0           ['conv1d_48[0][0]']              \n",
            " ooling1D)                                                                                        \n",
            "                                                                                                  \n",
            " char_inputs (InputLayer)       [(None, 1)]          0           []                               \n",
            "                                                                                                  \n",
            " conv1d_49 (Conv1D)             (None, 3, 32)        10272       ['average_pooling1d_22[0][0]']   \n",
            "                                                                                                  \n",
            " char_vectorizer (TextVectoriza  (None, 290)         0           ['char_inputs[0][0]']            \n",
            " tion)                                                                                            \n",
            "                                                                                                  \n",
            " global_average_pooling1d_18 (G  (None, 32)          0           ['conv1d_49[0][0]']              \n",
            " lobalAveragePooling1D)                                                                           \n",
            "                                                                                                  \n",
            " char_embed (Embedding)         (None, 290, 40)      2800        ['char_vectorizer[11][0]']       \n",
            "                                                                                                  \n",
            " dense_43 (Dense)               (None, 128)          4224        ['global_average_pooling1d_18[0][\n",
            "                                                                 0]']                             \n",
            "                                                                                                  \n",
            " bidirectional_11 (Bidirectiona  (None, 50)          13200       ['char_embed[11][0]']            \n",
            " l)                                                                                               \n",
            "                                                                                                  \n",
            " glove_char_hybrid (Concatenate  (None, 178)         0           ['dense_43[0][0]',               \n",
            " )                                                                'bidirectional_11[0][0]']       \n",
            "                                                                                                  \n",
            " dropout_16 (Dropout)           (None, 178)          0           ['glove_char_hybrid[0][0]']      \n",
            "                                                                                                  \n",
            " dense_44 (Dense)               (None, 128)          22912       ['dropout_16[0][0]']             \n",
            "                                                                                                  \n",
            " dense_45 (Dense)               (None, 32)           4128        ['dense_44[0][0]']               \n",
            "                                                                                                  \n",
            " dropout_17 (Dropout)           (None, 32)           0           ['dense_45[0][0]']               \n",
            "                                                                                                  \n",
            " dense_46 (Dense)               (None, 5)            165         ['dropout_17[0][0]']             \n",
            "                                                                                                  \n",
            "==================================================================================================\n",
            "Total params: 6,647,153\n",
            "Trainable params: 162,853\n",
            "Non-trainable params: 6,484,300\n",
            "__________________________________________________________________________________________________\n"
          ]
        }
      ]
    },
    {
      "cell_type": "code",
      "source": [
        "from tensorflow.keras.utils import plot_model\n",
        "plot_model(model_3, show_shapes=True, show_layer_activations=True)"
      ],
      "metadata": {
        "colab": {
          "base_uri": "https://localhost:8080/",
          "height": 1000
        },
        "id": "k8JYRyFCqAmp",
        "outputId": "fa79f6be-b1b4-4bee-d2cc-aec3f3f1728b"
      },
      "execution_count": 110,
      "outputs": [
        {
          "output_type": "execute_result",
          "data": {
            "image/png": "[encoded data removed]",
            "text/plain": [
              "<IPython.core.display.Image object>"
            ]
          },
          "metadata": {},
          "execution_count": 110
        }
      ]
    },
    {
      "cell_type": "markdown",
      "source": [
        "### Prepare the data for model 3"
      ],
      "metadata": {
        "id": "m7V69svxwmpF"
      }
    },
    {
      "cell_type": "code",
      "source": [
        "train_sentences[0], train_chars[0]"
      ],
      "metadata": {
        "colab": {
          "base_uri": "https://localhost:8080/"
        },
        "id": "xfmiVjzT00Pi",
        "outputId": "d2712d60-41f9-4b8e-ec3f-3cee3cd67c1f"
      },
      "execution_count": 105,
      "outputs": [
        {
          "output_type": "execute_result",
          "data": {
            "text/plain": [
              "('to investigate the efficacy of @ weeks of daily low-dose oral prednisolone in improving pain , mobility , and systemic low-grade inflammation in the short term and whether the effect would be sustained at @ weeks in older adults with moderate to severe knee osteoarthritis ( oa ) .',\n",
              " 't o   i n v e s t i g a t e   t h e   e f f i c a c y   o f   @   w e e k s   o f   d a i l y   l o w - d o s e   o r a l   p r e d n i s o l o n e   i n   i m p r o v i n g   p a i n   ,   m o b i l i t y   ,   a n d   s y s t e m i c   l o w - g r a d e   i n f l a m m a t i o n   i n   t h e   s h o r t   t e r m   a n d   w h e t h e r   t h e   e f f e c t   w o u l d   b e   s u s t a i n e d   a t   @   w e e k s   i n   o l d e r   a d u l t s   w i t h   m o d e r a t e   t o   s e v e r e   k n e e   o s t e o a r t h r i t i s   (   o a   )   .')"
            ]
          },
          "metadata": {},
          "execution_count": 105
        }
      ]
    },
    {
      "cell_type": "code",
      "source": [
        "# # Combine chars and tokens into a dataset\n",
        "# train_sen_char_data = tf.data.Dataset.from_tensor_slices((train_sentences,train_chars))\n",
        "# train_sen_char_labels = tf.data.Dataset.from_tensor_slices((train_labels_one_hot))\n",
        "# train_sen_char_dataset = tf.data.Dataset.zip((train_sen_char_data, train_sen_char_labels))\n",
        "\n",
        "# # Prefetch and batch train data\n",
        "# train_char_token_dataset = train_sen_char_dataset.batch(32).prefetch(tf.data.AUTOTUNE)\n",
        "\n",
        "# # Repeat same steps to validation data\n",
        "# val_sen_char_data = tf.data.Dataset.from_tensor_slices((val_sentences,val_chars))\n",
        "# val_sen_char_labels = tf.data.Dataset.from_tensor_slices((val_labels_one_hot))\n",
        "# val_sen_char_dataset = tf.data.Dataset.zip((val_sen_char_data, val_sen_char_labels))\n",
        "# val_char_token_dataset = val_sen_char_dataset.batch(32).prefetch(tf.data.AUTOTUNE)\n",
        "\n",
        "\n",
        "# Combine chars and tokens into a dataset\n",
        "train_char_token_data = tf.data.Dataset.from_tensor_slices((train_sentences, train_chars)) # make data\n",
        "train_char_token_labels = tf.data.Dataset.from_tensor_slices(train_labels_one_hot) # make labels\n",
        "train_char_token_dataset = tf.data.Dataset.zip((train_char_token_data, train_char_token_labels)) # combine data and labels\n",
        "\n",
        "# Prefetch and batch train data\n",
        "train_char_token_dataset = train_char_token_dataset.batch(32).prefetch(tf.data.AUTOTUNE) \n",
        "\n",
        "# Repeat same steps validation data\n",
        "val_char_token_data = tf.data.Dataset.from_tensor_slices((val_sentences, val_chars))\n",
        "val_char_token_labels = tf.data.Dataset.from_tensor_slices(val_labels_one_hot)\n",
        "val_char_token_dataset = tf.data.Dataset.zip((val_char_token_data, val_char_token_labels))\n",
        "val_char_token_dataset = val_char_token_dataset.batch(32).prefetch(tf.data.AUTOTUNE)"
      ],
      "metadata": {
        "id": "3W1pk-ifvfEx"
      },
      "execution_count": 106,
      "outputs": []
    },
    {
      "cell_type": "markdown",
      "source": [
        "### Compile and fit"
      ],
      "metadata": {
        "id": "QZ2KQy01xV9z"
      }
    },
    {
      "cell_type": "code",
      "source": [
        "# Compile the model\n",
        "model_3.compile(loss=tf.keras.losses.CategoricalCrossentropy(),\n",
        "                optimizer=tf.keras.optimizers.Adam(),\n",
        "                metrics=[\"accuracy\"])"
      ],
      "metadata": {
        "id": "LgmMUD8MxDr1"
      },
      "execution_count": 115,
      "outputs": []
    },
    {
      "cell_type": "code",
      "source": [
        "model_3.fit(train_char_token_dataset,\n",
        "            epochs=5,\n",
        "            validation_data=val_char_token_dataset)"
      ],
      "metadata": {
        "colab": {
          "base_uri": "https://localhost:8080/"
        },
        "id": "ZHiHUhiTxX83",
        "outputId": "dd343e8f-0d77-4acd-c5b9-a1b72410806a"
      },
      "execution_count": 117,
      "outputs": [
        {
          "output_type": "stream",
          "name": "stdout",
          "text": [
            "Epoch 1/5\n",
            "5627/5627 [==============================] - 139s 25ms/step - loss: 0.6722 - accuracy: 0.7549 - val_loss: 0.5429 - val_accuracy: 0.8034\n",
            "Epoch 2/5\n",
            "5627/5627 [==============================] - 136s 24ms/step - loss: 0.5557 - accuracy: 0.8027 - val_loss: 0.5194 - val_accuracy: 0.8132\n",
            "Epoch 3/5\n",
            "5627/5627 [==============================] - 136s 24ms/step - loss: 0.5095 - accuracy: 0.8196 - val_loss: 0.5410 - val_accuracy: 0.8094\n",
            "Epoch 4/5\n",
            "5627/5627 [==============================] - 136s 24ms/step - loss: 0.4795 - accuracy: 0.8308 - val_loss: 0.5320 - val_accuracy: 0.8148\n",
            "Epoch 5/5\n",
            "5627/5627 [==============================] - 136s 24ms/step - loss: 0.4526 - accuracy: 0.8399 - val_loss: 0.5317 - val_accuracy: 0.8152\n"
          ]
        },
        {
          "output_type": "execute_result",
          "data": {
            "text/plain": [
              "<keras.callbacks.History at 0x7f9af8de3a10>"
            ]
          },
          "metadata": {},
          "execution_count": 117
        }
      ]
    },
    {
      "cell_type": "code",
      "source": [
        "evaluate_3 = model_3.evaluate(val_char_token_dataset)"
      ],
      "metadata": {
        "colab": {
          "base_uri": "https://localhost:8080/"
        },
        "id": "2IQeIX0AxmvZ",
        "outputId": "f2c62cee-5232-485b-d997-997a8d297f05"
      },
      "execution_count": 120,
      "outputs": [
        {
          "output_type": "stream",
          "name": "stdout",
          "text": [
            "945/945 [==============================] - 14s 15ms/step - loss: 0.5317 - accuracy: 0.8152\n"
          ]
        }
      ]
    },
    {
      "cell_type": "code",
      "source": [
        "evaluate_2"
      ],
      "metadata": {
        "colab": {
          "base_uri": "https://localhost:8080/"
        },
        "id": "EXaUmFix5GsJ",
        "outputId": "3cbdbb7c-11b1-4315-80b8-df01cef5d8f4"
      },
      "execution_count": 121,
      "outputs": [
        {
          "output_type": "execute_result",
          "data": {
            "text/plain": [
              "[0.5631232857704163, 0.8034555912017822]"
            ]
          },
          "metadata": {},
          "execution_count": 121
        }
      ]
    },
    {
      "cell_type": "code",
      "source": [
        "evaluate_1"
      ],
      "metadata": {
        "colab": {
          "base_uri": "https://localhost:8080/"
        },
        "id": "mwaxEXbM5fBi",
        "outputId": "467a9f4f-49ac-4837-da2e-5f7392fabf99"
      },
      "execution_count": 122,
      "outputs": [
        {
          "output_type": "execute_result",
          "data": {
            "text/plain": [
              "[0.509758710861206, 0.8170263767242432]"
            ]
          },
          "metadata": {},
          "execution_count": 122
        }
      ]
    },
    {
      "cell_type": "code",
      "source": [],
      "metadata": {
        "id": "cLUX89g05icr"
      },
      "execution_count": null,
      "outputs": []
    }
  ]
}